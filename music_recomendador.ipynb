{
 "cells": [
  {
   "cell_type": "markdown",
   "metadata": {},
   "source": [
    "# Dicionário de dados"
   ]
  },
  {
   "cell_type": "markdown",
   "metadata": {},
   "source": [
    "1. **Acousticness/Acústica:** Variável numérica, medida de confiança de 0,0 a 1,0 se a faixa é acústica. 1.0 representa alta confiança de que a faixa é acústica.\n",
    "\n",
    "2. **Danceability/Dançabilidade:** Variável numérica, a dançabilidade descreve o quão adequada uma faixa é para dançar com base em uma combinação de elementos musicais, incluindo tempo, estabilidade do ritmo, força da batida e regularidade geral. Um valor de 0,0 é o menos dançável e 1,0 é o mais dançável.\n",
    "\n",
    "3. **Duration_ms:** Variável numérica, a duração da trilha em milissegundos.\n",
    "\n",
    "4. **Duration_min:** Variável numérica, a duração da faixa em minutos.\n",
    "\n",
    "5. **Energy/Energia:** Variável numérica, Energia é uma medida de 0,0 a 1,0 e representa uma medida perceptiva de intensidade e atividade. Normalmente, as faixas energéticas parecem rápidas, altas e barulhentas. Por exemplo, o death metal tem alta energia, enquanto um prelúdio de Bach tem uma pontuação baixa na escala. As características perceptivas que contribuem para este atributo incluem faixa dinâmica, intensidade percebida, timbre, taxa de início e entropia geral.\n",
    "\n",
    "6. **Explicit/Explícito:** Variável categórica, se a faixa tem ou não letras explícitas (verdadeiro = sim (1); falso = não(0), não OU desconhecido).\n",
    "\n",
    "7. **Id:** O ID do Spotify para a faixa.\n",
    "\n",
    "8. **Instrumentalness/Instrumentalidade:** Variável numérica, prevê se uma faixa não contém vocais. Os sons “Ooh” e “aah” são tratados como instrumentais neste contexto. Faixas de rap ou de palavras faladas são claramente “vocais”. Quanto mais próximo o valor de instrumentalidade estiver de 1,0, maior a probabilidade de a faixa não conter conteúdo vocal. Valores acima de 0,5 destinam-se a representar faixas instrumentais, mas a confiança é maior à medida que o valor se aproxima de 1,0.\n",
    "\n",
    "9. **Key/Chave:** Variável numérica, a chave geral estimada da faixa. Os inteiros são mapeados para pitchs usando a notação padrão de Pitch Class. Por exemplo. 0 = C, 1 = C#/Db, 2 = D, e assim por diante. Se nenhuma chave foi detectada, o valor é -1.\n",
    "\n",
    "10. **Liveness/Ao vivo:** Variável numérica, detecta a presença de um público na gravação. Valores mais altos de vivacidade representam uma probabilidade maior de que a faixa tenha sido executada ao vivo. Um valor acima de 0,8 fornece uma forte probabilidade de que a faixa esteja ativa.\n",
    "\n",
    "11. **Loudness/Volume em dB:** Variável numérica, volume geral de uma faixa em decibéis (dB). Os valores de volume são calculados em média em toda a faixa e são úteis para comparar o volume relativo das faixas. A sonoridade é a qualidade de um som que é o principal correlato psicológico da força física (amplitude). Os valores típicos variam entre -60 e 0 db.\n",
    "\n",
    "12. **Mode/ Modo:** Variável numérica, o modo indica a modalidade (maior ou menor) de uma faixa, o tipo de escala da qual seu conteúdo melódico é derivado. Maior é representado por 1 e menor é 0.\n",
    "\n",
    "13. **Popularity/Popularidade:** Variável numérica, a popularidade de uma faixa é um valor entre 0 e 100, sendo 100 o mais popular. A popularidade é calculada por algoritmo e é baseada, em grande parte, no número total de execuções que a faixa teve e quão recentes são essas execuções.\n",
    "\n",
    "14. **Speechiness/Fala:** Variável numérica, a fala detecta a presença de palavras faladas em uma faixa. Quanto mais exclusivamente falada a gravação (por exemplo, talk show, audiolivro, poesia), mais próximo de 1,0 o valor do atributo. Valores acima de 0,66 descrevem faixas que provavelmente são feitas inteiramente de palavras faladas. Valores entre 0,33 e 0,66 descrevem faixas que podem conter música e fala, seja em seções ou em camadas, incluindo casos como música rap. Os valores abaixo de 0,33 provavelmente representam músicas e outras faixas que não são de fala.\n",
    "\n",
    "15. **Tempo:** Variável numérica, Tempo estimado geral de uma faixa em batidas por minuto (BPM). Na terminologia musical, tempo é a velocidade ou ritmo de uma determinada peça e deriva diretamente da duração média da batida.\n",
    "\n",
    "16. **Valence/Valência:** Variável numérica, Medida de 0,0 a 1,0 descrevendo a positividade musical transmitida por uma faixa. Faixas com alta valência soam mais positivas (por exemplo, feliz, alegre, eufórica), enquanto faixas com baixa valência soam mais negativas (por exemplo, triste, deprimida, irritada).\n",
    "\n",
    "17. **Year/Ano:** Ano em que a música foi lançada.\n"
   ]
  },
  {
   "cell_type": "markdown",
   "metadata": {},
   "source": [
    "# Imports"
   ]
  },
  {
   "cell_type": "code",
   "execution_count": 41,
   "metadata": {},
   "outputs": [],
   "source": [
    "import pandas as pd\n",
    "import numpy as np\n",
    "\n",
    "import plotly.express as px\n",
    "import plotly.graph_objects as go\n",
    "\n",
    "from sklearn.pipeline import Pipeline\n",
    "from sklearn.preprocessing import StandardScaler\n",
    "from sklearn.decomposition import PCA\n",
    "\n",
    "from sklearn.cluster import KMeans"
   ]
  },
  {
   "cell_type": "markdown",
   "metadata": {},
   "source": [
    "# Get Data"
   ]
  },
  {
   "cell_type": "code",
   "execution_count": 42,
   "metadata": {},
   "outputs": [],
   "source": [
    "dados = pd.read_csv('https://raw.githubusercontent.com/sthemonica/music-clustering/main/Dados/Dados_totais.csv')\n",
    "dados_generos = pd.read_csv('https://raw.githubusercontent.com/sthemonica/music-clustering/main/Dados/data_by_genres.csv')\n",
    "dados_anos = pd.read_csv('https://raw.githubusercontent.com/sthemonica/music-clustering/main/Dados/data_by_year.csv')"
   ]
  },
  {
   "cell_type": "markdown",
   "metadata": {},
   "source": [
    "# Data Cleaning"
   ]
  },
  {
   "cell_type": "markdown",
   "metadata": {},
   "source": [
    "## dados"
   ]
  },
  {
   "cell_type": "code",
   "execution_count": 43,
   "metadata": {},
   "outputs": [
    {
     "data": {
      "text/html": [
       "<div>\n",
       "<style scoped>\n",
       "    .dataframe tbody tr th:only-of-type {\n",
       "        vertical-align: middle;\n",
       "    }\n",
       "\n",
       "    .dataframe tbody tr th {\n",
       "        vertical-align: top;\n",
       "    }\n",
       "\n",
       "    .dataframe thead th {\n",
       "        text-align: right;\n",
       "    }\n",
       "</style>\n",
       "<table border=\"1\" class=\"dataframe\">\n",
       "  <thead>\n",
       "    <tr style=\"text-align: right;\">\n",
       "      <th></th>\n",
       "      <th>valence</th>\n",
       "      <th>year</th>\n",
       "      <th>acousticness</th>\n",
       "      <th>artists</th>\n",
       "      <th>danceability</th>\n",
       "      <th>duration_ms</th>\n",
       "      <th>energy</th>\n",
       "      <th>explicit</th>\n",
       "      <th>id</th>\n",
       "      <th>instrumentalness</th>\n",
       "      <th>key</th>\n",
       "      <th>liveness</th>\n",
       "      <th>loudness</th>\n",
       "      <th>mode</th>\n",
       "      <th>name</th>\n",
       "      <th>popularity</th>\n",
       "      <th>speechiness</th>\n",
       "      <th>tempo</th>\n",
       "      <th>artists_song</th>\n",
       "    </tr>\n",
       "  </thead>\n",
       "  <tbody>\n",
       "    <tr>\n",
       "      <th>0</th>\n",
       "      <td>0.285</td>\n",
       "      <td>2000</td>\n",
       "      <td>0.00239</td>\n",
       "      <td>Coldplay</td>\n",
       "      <td>0.429</td>\n",
       "      <td>266773</td>\n",
       "      <td>0.661</td>\n",
       "      <td>0</td>\n",
       "      <td>3AJwUDP919kvQ9QcozQPxg</td>\n",
       "      <td>0.000121</td>\n",
       "      <td>11</td>\n",
       "      <td>0.2340</td>\n",
       "      <td>-7.227</td>\n",
       "      <td>1</td>\n",
       "      <td>Yellow</td>\n",
       "      <td>84</td>\n",
       "      <td>0.0281</td>\n",
       "      <td>173.372</td>\n",
       "      <td>Coldplay - Yellow</td>\n",
       "    </tr>\n",
       "    <tr>\n",
       "      <th>1</th>\n",
       "      <td>0.613</td>\n",
       "      <td>2000</td>\n",
       "      <td>0.14300</td>\n",
       "      <td>OutKast</td>\n",
       "      <td>0.843</td>\n",
       "      <td>270507</td>\n",
       "      <td>0.806</td>\n",
       "      <td>1</td>\n",
       "      <td>0I3q5fE6wg7LIfHGngUTnV</td>\n",
       "      <td>0.000000</td>\n",
       "      <td>4</td>\n",
       "      <td>0.0771</td>\n",
       "      <td>-5.946</td>\n",
       "      <td>0</td>\n",
       "      <td>Ms. Jackson</td>\n",
       "      <td>80</td>\n",
       "      <td>0.2690</td>\n",
       "      <td>94.948</td>\n",
       "      <td>OutKast - Ms. Jackson</td>\n",
       "    </tr>\n",
       "    <tr>\n",
       "      <th>2</th>\n",
       "      <td>0.400</td>\n",
       "      <td>2000</td>\n",
       "      <td>0.00958</td>\n",
       "      <td>Linkin Park</td>\n",
       "      <td>0.556</td>\n",
       "      <td>216880</td>\n",
       "      <td>0.864</td>\n",
       "      <td>0</td>\n",
       "      <td>60a0Rd6pjrkxjPbaKzXjfq</td>\n",
       "      <td>0.000000</td>\n",
       "      <td>3</td>\n",
       "      <td>0.2090</td>\n",
       "      <td>-5.870</td>\n",
       "      <td>0</td>\n",
       "      <td>In the End</td>\n",
       "      <td>84</td>\n",
       "      <td>0.0584</td>\n",
       "      <td>105.143</td>\n",
       "      <td>Linkin Park - In the End</td>\n",
       "    </tr>\n",
       "    <tr>\n",
       "      <th>3</th>\n",
       "      <td>0.543</td>\n",
       "      <td>2000</td>\n",
       "      <td>0.00664</td>\n",
       "      <td>3 Doors Down</td>\n",
       "      <td>0.545</td>\n",
       "      <td>233933</td>\n",
       "      <td>0.865</td>\n",
       "      <td>0</td>\n",
       "      <td>6ZOBP3NvffbU4SZcrnt1k6</td>\n",
       "      <td>0.000011</td>\n",
       "      <td>11</td>\n",
       "      <td>0.1680</td>\n",
       "      <td>-5.708</td>\n",
       "      <td>0</td>\n",
       "      <td>Kryptonite</td>\n",
       "      <td>78</td>\n",
       "      <td>0.0286</td>\n",
       "      <td>99.009</td>\n",
       "      <td>3 Doors Down - Kryptonite</td>\n",
       "    </tr>\n",
       "    <tr>\n",
       "      <th>4</th>\n",
       "      <td>0.760</td>\n",
       "      <td>2000</td>\n",
       "      <td>0.03020</td>\n",
       "      <td>Eminem</td>\n",
       "      <td>0.949</td>\n",
       "      <td>284200</td>\n",
       "      <td>0.661</td>\n",
       "      <td>1</td>\n",
       "      <td>3yfqSUWxFvZELEM4PmlwIR</td>\n",
       "      <td>0.000000</td>\n",
       "      <td>5</td>\n",
       "      <td>0.0454</td>\n",
       "      <td>-4.244</td>\n",
       "      <td>0</td>\n",
       "      <td>The Real Slim Shady</td>\n",
       "      <td>80</td>\n",
       "      <td>0.0572</td>\n",
       "      <td>104.504</td>\n",
       "      <td>Eminem - The Real Slim Shady</td>\n",
       "    </tr>\n",
       "  </tbody>\n",
       "</table>\n",
       "</div>"
      ],
      "text/plain": [
       "   valence  year  acousticness       artists  danceability  duration_ms  \\\n",
       "0    0.285  2000       0.00239      Coldplay         0.429       266773   \n",
       "1    0.613  2000       0.14300       OutKast         0.843       270507   \n",
       "2    0.400  2000       0.00958   Linkin Park         0.556       216880   \n",
       "3    0.543  2000       0.00664  3 Doors Down         0.545       233933   \n",
       "4    0.760  2000       0.03020        Eminem         0.949       284200   \n",
       "\n",
       "   energy  explicit                      id  instrumentalness  key  liveness  \\\n",
       "0   0.661         0  3AJwUDP919kvQ9QcozQPxg          0.000121   11    0.2340   \n",
       "1   0.806         1  0I3q5fE6wg7LIfHGngUTnV          0.000000    4    0.0771   \n",
       "2   0.864         0  60a0Rd6pjrkxjPbaKzXjfq          0.000000    3    0.2090   \n",
       "3   0.865         0  6ZOBP3NvffbU4SZcrnt1k6          0.000011   11    0.1680   \n",
       "4   0.661         1  3yfqSUWxFvZELEM4PmlwIR          0.000000    5    0.0454   \n",
       "\n",
       "   loudness  mode                 name  popularity  speechiness    tempo  \\\n",
       "0    -7.227     1               Yellow          84       0.0281  173.372   \n",
       "1    -5.946     0          Ms. Jackson          80       0.2690   94.948   \n",
       "2    -5.870     0           In the End          84       0.0584  105.143   \n",
       "3    -5.708     0           Kryptonite          78       0.0286   99.009   \n",
       "4    -4.244     0  The Real Slim Shady          80       0.0572  104.504   \n",
       "\n",
       "                   artists_song  \n",
       "0             Coldplay - Yellow  \n",
       "1         OutKast - Ms. Jackson  \n",
       "2      Linkin Park - In the End  \n",
       "3     3 Doors Down - Kryptonite  \n",
       "4  Eminem - The Real Slim Shady  "
      ]
     },
     "execution_count": 43,
     "metadata": {},
     "output_type": "execute_result"
    }
   ],
   "source": [
    "dados.head()"
   ]
  },
  {
   "cell_type": "code",
   "execution_count": 44,
   "metadata": {},
   "outputs": [
    {
     "data": {
      "text/plain": [
       "(20311, 19)"
      ]
     },
     "execution_count": 44,
     "metadata": {},
     "output_type": "execute_result"
    }
   ],
   "source": [
    "dados.shape"
   ]
  },
  {
   "cell_type": "code",
   "execution_count": 45,
   "metadata": {},
   "outputs": [
    {
     "data": {
      "text/plain": [
       "array([2000, 2001, 2002, 2003, 2004, 2005, 2006, 2007, 2008, 2009, 2010,\n",
       "       2011, 2012, 2013, 2014, 2015, 2016, 2017, 2018, 2019, 2020],\n",
       "      dtype=int64)"
      ]
     },
     "execution_count": 45,
     "metadata": {},
     "output_type": "execute_result"
    }
   ],
   "source": [
    "dados['year'].unique()"
   ]
  },
  {
   "cell_type": "code",
   "execution_count": 46,
   "metadata": {},
   "outputs": [],
   "source": [
    "dados = dados.drop(columns = ['explicit', 'key', 'mode'], axis = 1)"
   ]
  },
  {
   "cell_type": "code",
   "execution_count": 47,
   "metadata": {},
   "outputs": [
    {
     "data": {
      "text/html": [
       "<div>\n",
       "<style scoped>\n",
       "    .dataframe tbody tr th:only-of-type {\n",
       "        vertical-align: middle;\n",
       "    }\n",
       "\n",
       "    .dataframe tbody tr th {\n",
       "        vertical-align: top;\n",
       "    }\n",
       "\n",
       "    .dataframe thead th {\n",
       "        text-align: right;\n",
       "    }\n",
       "</style>\n",
       "<table border=\"1\" class=\"dataframe\">\n",
       "  <thead>\n",
       "    <tr style=\"text-align: right;\">\n",
       "      <th></th>\n",
       "      <th>valence</th>\n",
       "      <th>year</th>\n",
       "      <th>acousticness</th>\n",
       "      <th>artists</th>\n",
       "      <th>danceability</th>\n",
       "      <th>duration_ms</th>\n",
       "      <th>energy</th>\n",
       "      <th>id</th>\n",
       "      <th>instrumentalness</th>\n",
       "      <th>liveness</th>\n",
       "      <th>loudness</th>\n",
       "      <th>name</th>\n",
       "      <th>popularity</th>\n",
       "      <th>speechiness</th>\n",
       "      <th>tempo</th>\n",
       "      <th>artists_song</th>\n",
       "    </tr>\n",
       "  </thead>\n",
       "  <tbody>\n",
       "    <tr>\n",
       "      <th>0</th>\n",
       "      <td>0.285</td>\n",
       "      <td>2000</td>\n",
       "      <td>0.00239</td>\n",
       "      <td>Coldplay</td>\n",
       "      <td>0.429</td>\n",
       "      <td>266773</td>\n",
       "      <td>0.661</td>\n",
       "      <td>3AJwUDP919kvQ9QcozQPxg</td>\n",
       "      <td>0.000121</td>\n",
       "      <td>0.2340</td>\n",
       "      <td>-7.227</td>\n",
       "      <td>Yellow</td>\n",
       "      <td>84</td>\n",
       "      <td>0.0281</td>\n",
       "      <td>173.372</td>\n",
       "      <td>Coldplay - Yellow</td>\n",
       "    </tr>\n",
       "    <tr>\n",
       "      <th>1</th>\n",
       "      <td>0.613</td>\n",
       "      <td>2000</td>\n",
       "      <td>0.14300</td>\n",
       "      <td>OutKast</td>\n",
       "      <td>0.843</td>\n",
       "      <td>270507</td>\n",
       "      <td>0.806</td>\n",
       "      <td>0I3q5fE6wg7LIfHGngUTnV</td>\n",
       "      <td>0.000000</td>\n",
       "      <td>0.0771</td>\n",
       "      <td>-5.946</td>\n",
       "      <td>Ms. Jackson</td>\n",
       "      <td>80</td>\n",
       "      <td>0.2690</td>\n",
       "      <td>94.948</td>\n",
       "      <td>OutKast - Ms. Jackson</td>\n",
       "    </tr>\n",
       "    <tr>\n",
       "      <th>2</th>\n",
       "      <td>0.400</td>\n",
       "      <td>2000</td>\n",
       "      <td>0.00958</td>\n",
       "      <td>Linkin Park</td>\n",
       "      <td>0.556</td>\n",
       "      <td>216880</td>\n",
       "      <td>0.864</td>\n",
       "      <td>60a0Rd6pjrkxjPbaKzXjfq</td>\n",
       "      <td>0.000000</td>\n",
       "      <td>0.2090</td>\n",
       "      <td>-5.870</td>\n",
       "      <td>In the End</td>\n",
       "      <td>84</td>\n",
       "      <td>0.0584</td>\n",
       "      <td>105.143</td>\n",
       "      <td>Linkin Park - In the End</td>\n",
       "    </tr>\n",
       "    <tr>\n",
       "      <th>3</th>\n",
       "      <td>0.543</td>\n",
       "      <td>2000</td>\n",
       "      <td>0.00664</td>\n",
       "      <td>3 Doors Down</td>\n",
       "      <td>0.545</td>\n",
       "      <td>233933</td>\n",
       "      <td>0.865</td>\n",
       "      <td>6ZOBP3NvffbU4SZcrnt1k6</td>\n",
       "      <td>0.000011</td>\n",
       "      <td>0.1680</td>\n",
       "      <td>-5.708</td>\n",
       "      <td>Kryptonite</td>\n",
       "      <td>78</td>\n",
       "      <td>0.0286</td>\n",
       "      <td>99.009</td>\n",
       "      <td>3 Doors Down - Kryptonite</td>\n",
       "    </tr>\n",
       "    <tr>\n",
       "      <th>4</th>\n",
       "      <td>0.760</td>\n",
       "      <td>2000</td>\n",
       "      <td>0.03020</td>\n",
       "      <td>Eminem</td>\n",
       "      <td>0.949</td>\n",
       "      <td>284200</td>\n",
       "      <td>0.661</td>\n",
       "      <td>3yfqSUWxFvZELEM4PmlwIR</td>\n",
       "      <td>0.000000</td>\n",
       "      <td>0.0454</td>\n",
       "      <td>-4.244</td>\n",
       "      <td>The Real Slim Shady</td>\n",
       "      <td>80</td>\n",
       "      <td>0.0572</td>\n",
       "      <td>104.504</td>\n",
       "      <td>Eminem - The Real Slim Shady</td>\n",
       "    </tr>\n",
       "  </tbody>\n",
       "</table>\n",
       "</div>"
      ],
      "text/plain": [
       "   valence  year  acousticness       artists  danceability  duration_ms  \\\n",
       "0    0.285  2000       0.00239      Coldplay         0.429       266773   \n",
       "1    0.613  2000       0.14300       OutKast         0.843       270507   \n",
       "2    0.400  2000       0.00958   Linkin Park         0.556       216880   \n",
       "3    0.543  2000       0.00664  3 Doors Down         0.545       233933   \n",
       "4    0.760  2000       0.03020        Eminem         0.949       284200   \n",
       "\n",
       "   energy                      id  instrumentalness  liveness  loudness  \\\n",
       "0   0.661  3AJwUDP919kvQ9QcozQPxg          0.000121    0.2340    -7.227   \n",
       "1   0.806  0I3q5fE6wg7LIfHGngUTnV          0.000000    0.0771    -5.946   \n",
       "2   0.864  60a0Rd6pjrkxjPbaKzXjfq          0.000000    0.2090    -5.870   \n",
       "3   0.865  6ZOBP3NvffbU4SZcrnt1k6          0.000011    0.1680    -5.708   \n",
       "4   0.661  3yfqSUWxFvZELEM4PmlwIR          0.000000    0.0454    -4.244   \n",
       "\n",
       "                  name  popularity  speechiness    tempo  \\\n",
       "0               Yellow          84       0.0281  173.372   \n",
       "1          Ms. Jackson          80       0.2690   94.948   \n",
       "2           In the End          84       0.0584  105.143   \n",
       "3           Kryptonite          78       0.0286   99.009   \n",
       "4  The Real Slim Shady          80       0.0572  104.504   \n",
       "\n",
       "                   artists_song  \n",
       "0             Coldplay - Yellow  \n",
       "1         OutKast - Ms. Jackson  \n",
       "2      Linkin Park - In the End  \n",
       "3     3 Doors Down - Kryptonite  \n",
       "4  Eminem - The Real Slim Shady  "
      ]
     },
     "execution_count": 47,
     "metadata": {},
     "output_type": "execute_result"
    }
   ],
   "source": [
    "dados.head()"
   ]
  },
  {
   "cell_type": "code",
   "execution_count": 48,
   "metadata": {},
   "outputs": [
    {
     "data": {
      "text/plain": [
       "(20311, 16)"
      ]
     },
     "execution_count": 48,
     "metadata": {},
     "output_type": "execute_result"
    }
   ],
   "source": [
    "dados.shape"
   ]
  },
  {
   "cell_type": "code",
   "execution_count": 49,
   "metadata": {},
   "outputs": [
    {
     "data": {
      "text/plain": [
       "valence             0\n",
       "year                0\n",
       "acousticness        0\n",
       "artists             0\n",
       "danceability        0\n",
       "duration_ms         0\n",
       "energy              0\n",
       "id                  0\n",
       "instrumentalness    0\n",
       "liveness            0\n",
       "loudness            0\n",
       "name                0\n",
       "popularity          0\n",
       "speechiness         0\n",
       "tempo               0\n",
       "artists_song        0\n",
       "dtype: int64"
      ]
     },
     "execution_count": 49,
     "metadata": {},
     "output_type": "execute_result"
    }
   ],
   "source": [
    "dados.isnull().sum()"
   ]
  },
  {
   "cell_type": "code",
   "execution_count": 50,
   "metadata": {},
   "outputs": [],
   "source": [
    "dados = dados.dropna()"
   ]
  },
  {
   "cell_type": "code",
   "execution_count": 51,
   "metadata": {},
   "outputs": [
    {
     "data": {
      "text/plain": [
       "valence             0\n",
       "year                0\n",
       "acousticness        0\n",
       "artists             0\n",
       "danceability        0\n",
       "duration_ms         0\n",
       "energy              0\n",
       "id                  0\n",
       "instrumentalness    0\n",
       "liveness            0\n",
       "loudness            0\n",
       "name                0\n",
       "popularity          0\n",
       "speechiness         0\n",
       "tempo               0\n",
       "artists_song        0\n",
       "dtype: int64"
      ]
     },
     "execution_count": 51,
     "metadata": {},
     "output_type": "execute_result"
    }
   ],
   "source": [
    "dados.isna().sum()"
   ]
  },
  {
   "cell_type": "code",
   "execution_count": 52,
   "metadata": {},
   "outputs": [
    {
     "data": {
      "text/html": [
       "<div>\n",
       "<style scoped>\n",
       "    .dataframe tbody tr th:only-of-type {\n",
       "        vertical-align: middle;\n",
       "    }\n",
       "\n",
       "    .dataframe tbody tr th {\n",
       "        vertical-align: top;\n",
       "    }\n",
       "\n",
       "    .dataframe thead th {\n",
       "        text-align: right;\n",
       "    }\n",
       "</style>\n",
       "<table border=\"1\" class=\"dataframe\">\n",
       "  <thead>\n",
       "    <tr style=\"text-align: right;\">\n",
       "      <th></th>\n",
       "      <th>valence</th>\n",
       "      <th>year</th>\n",
       "      <th>acousticness</th>\n",
       "      <th>artists</th>\n",
       "      <th>danceability</th>\n",
       "      <th>duration_ms</th>\n",
       "      <th>energy</th>\n",
       "      <th>id</th>\n",
       "      <th>instrumentalness</th>\n",
       "      <th>liveness</th>\n",
       "      <th>loudness</th>\n",
       "      <th>name</th>\n",
       "      <th>popularity</th>\n",
       "      <th>speechiness</th>\n",
       "      <th>tempo</th>\n",
       "      <th>artists_song</th>\n",
       "    </tr>\n",
       "  </thead>\n",
       "  <tbody>\n",
       "    <tr>\n",
       "      <th>0</th>\n",
       "      <td>0.285</td>\n",
       "      <td>2000</td>\n",
       "      <td>0.00239</td>\n",
       "      <td>Coldplay</td>\n",
       "      <td>0.429</td>\n",
       "      <td>266773</td>\n",
       "      <td>0.661</td>\n",
       "      <td>3AJwUDP919kvQ9QcozQPxg</td>\n",
       "      <td>0.000121</td>\n",
       "      <td>0.2340</td>\n",
       "      <td>-7.227</td>\n",
       "      <td>Yellow</td>\n",
       "      <td>84</td>\n",
       "      <td>0.0281</td>\n",
       "      <td>173.372</td>\n",
       "      <td>Coldplay - Yellow</td>\n",
       "    </tr>\n",
       "    <tr>\n",
       "      <th>1</th>\n",
       "      <td>0.613</td>\n",
       "      <td>2000</td>\n",
       "      <td>0.14300</td>\n",
       "      <td>OutKast</td>\n",
       "      <td>0.843</td>\n",
       "      <td>270507</td>\n",
       "      <td>0.806</td>\n",
       "      <td>0I3q5fE6wg7LIfHGngUTnV</td>\n",
       "      <td>0.000000</td>\n",
       "      <td>0.0771</td>\n",
       "      <td>-5.946</td>\n",
       "      <td>Ms. Jackson</td>\n",
       "      <td>80</td>\n",
       "      <td>0.2690</td>\n",
       "      <td>94.948</td>\n",
       "      <td>OutKast - Ms. Jackson</td>\n",
       "    </tr>\n",
       "    <tr>\n",
       "      <th>2</th>\n",
       "      <td>0.400</td>\n",
       "      <td>2000</td>\n",
       "      <td>0.00958</td>\n",
       "      <td>Linkin Park</td>\n",
       "      <td>0.556</td>\n",
       "      <td>216880</td>\n",
       "      <td>0.864</td>\n",
       "      <td>60a0Rd6pjrkxjPbaKzXjfq</td>\n",
       "      <td>0.000000</td>\n",
       "      <td>0.2090</td>\n",
       "      <td>-5.870</td>\n",
       "      <td>In the End</td>\n",
       "      <td>84</td>\n",
       "      <td>0.0584</td>\n",
       "      <td>105.143</td>\n",
       "      <td>Linkin Park - In the End</td>\n",
       "    </tr>\n",
       "    <tr>\n",
       "      <th>3</th>\n",
       "      <td>0.543</td>\n",
       "      <td>2000</td>\n",
       "      <td>0.00664</td>\n",
       "      <td>3 Doors Down</td>\n",
       "      <td>0.545</td>\n",
       "      <td>233933</td>\n",
       "      <td>0.865</td>\n",
       "      <td>6ZOBP3NvffbU4SZcrnt1k6</td>\n",
       "      <td>0.000011</td>\n",
       "      <td>0.1680</td>\n",
       "      <td>-5.708</td>\n",
       "      <td>Kryptonite</td>\n",
       "      <td>78</td>\n",
       "      <td>0.0286</td>\n",
       "      <td>99.009</td>\n",
       "      <td>3 Doors Down - Kryptonite</td>\n",
       "    </tr>\n",
       "    <tr>\n",
       "      <th>4</th>\n",
       "      <td>0.760</td>\n",
       "      <td>2000</td>\n",
       "      <td>0.03020</td>\n",
       "      <td>Eminem</td>\n",
       "      <td>0.949</td>\n",
       "      <td>284200</td>\n",
       "      <td>0.661</td>\n",
       "      <td>3yfqSUWxFvZELEM4PmlwIR</td>\n",
       "      <td>0.000000</td>\n",
       "      <td>0.0454</td>\n",
       "      <td>-4.244</td>\n",
       "      <td>The Real Slim Shady</td>\n",
       "      <td>80</td>\n",
       "      <td>0.0572</td>\n",
       "      <td>104.504</td>\n",
       "      <td>Eminem - The Real Slim Shady</td>\n",
       "    </tr>\n",
       "  </tbody>\n",
       "</table>\n",
       "</div>"
      ],
      "text/plain": [
       "   valence  year  acousticness       artists  danceability  duration_ms  \\\n",
       "0    0.285  2000       0.00239      Coldplay         0.429       266773   \n",
       "1    0.613  2000       0.14300       OutKast         0.843       270507   \n",
       "2    0.400  2000       0.00958   Linkin Park         0.556       216880   \n",
       "3    0.543  2000       0.00664  3 Doors Down         0.545       233933   \n",
       "4    0.760  2000       0.03020        Eminem         0.949       284200   \n",
       "\n",
       "   energy                      id  instrumentalness  liveness  loudness  \\\n",
       "0   0.661  3AJwUDP919kvQ9QcozQPxg          0.000121    0.2340    -7.227   \n",
       "1   0.806  0I3q5fE6wg7LIfHGngUTnV          0.000000    0.0771    -5.946   \n",
       "2   0.864  60a0Rd6pjrkxjPbaKzXjfq          0.000000    0.2090    -5.870   \n",
       "3   0.865  6ZOBP3NvffbU4SZcrnt1k6          0.000011    0.1680    -5.708   \n",
       "4   0.661  3yfqSUWxFvZELEM4PmlwIR          0.000000    0.0454    -4.244   \n",
       "\n",
       "                  name  popularity  speechiness    tempo  \\\n",
       "0               Yellow          84       0.0281  173.372   \n",
       "1          Ms. Jackson          80       0.2690   94.948   \n",
       "2           In the End          84       0.0584  105.143   \n",
       "3           Kryptonite          78       0.0286   99.009   \n",
       "4  The Real Slim Shady          80       0.0572  104.504   \n",
       "\n",
       "                   artists_song  \n",
       "0             Coldplay - Yellow  \n",
       "1         OutKast - Ms. Jackson  \n",
       "2      Linkin Park - In the End  \n",
       "3     3 Doors Down - Kryptonite  \n",
       "4  Eminem - The Real Slim Shady  "
      ]
     },
     "execution_count": 52,
     "metadata": {},
     "output_type": "execute_result"
    }
   ],
   "source": [
    "dados.head()"
   ]
  },
  {
   "cell_type": "markdown",
   "metadata": {},
   "source": [
    "## dados_generos"
   ]
  },
  {
   "cell_type": "code",
   "execution_count": 53,
   "metadata": {},
   "outputs": [
    {
     "data": {
      "text/html": [
       "<div>\n",
       "<style scoped>\n",
       "    .dataframe tbody tr th:only-of-type {\n",
       "        vertical-align: middle;\n",
       "    }\n",
       "\n",
       "    .dataframe tbody tr th {\n",
       "        vertical-align: top;\n",
       "    }\n",
       "\n",
       "    .dataframe thead th {\n",
       "        text-align: right;\n",
       "    }\n",
       "</style>\n",
       "<table border=\"1\" class=\"dataframe\">\n",
       "  <thead>\n",
       "    <tr style=\"text-align: right;\">\n",
       "      <th></th>\n",
       "      <th>mode</th>\n",
       "      <th>genres</th>\n",
       "      <th>acousticness</th>\n",
       "      <th>danceability</th>\n",
       "      <th>duration_ms</th>\n",
       "      <th>energy</th>\n",
       "      <th>instrumentalness</th>\n",
       "      <th>liveness</th>\n",
       "      <th>loudness</th>\n",
       "      <th>speechiness</th>\n",
       "      <th>tempo</th>\n",
       "      <th>valence</th>\n",
       "      <th>popularity</th>\n",
       "      <th>key</th>\n",
       "    </tr>\n",
       "  </thead>\n",
       "  <tbody>\n",
       "    <tr>\n",
       "      <th>0</th>\n",
       "      <td>1</td>\n",
       "      <td>21st century classical</td>\n",
       "      <td>0.979333</td>\n",
       "      <td>0.162883</td>\n",
       "      <td>1.602977e+05</td>\n",
       "      <td>0.071317</td>\n",
       "      <td>0.606834</td>\n",
       "      <td>0.361600</td>\n",
       "      <td>-31.514333</td>\n",
       "      <td>0.040567</td>\n",
       "      <td>75.336500</td>\n",
       "      <td>0.103783</td>\n",
       "      <td>27.833333</td>\n",
       "      <td>6</td>\n",
       "    </tr>\n",
       "    <tr>\n",
       "      <th>1</th>\n",
       "      <td>1</td>\n",
       "      <td>432hz</td>\n",
       "      <td>0.494780</td>\n",
       "      <td>0.299333</td>\n",
       "      <td>1.048887e+06</td>\n",
       "      <td>0.450678</td>\n",
       "      <td>0.477762</td>\n",
       "      <td>0.131000</td>\n",
       "      <td>-16.854000</td>\n",
       "      <td>0.076817</td>\n",
       "      <td>120.285667</td>\n",
       "      <td>0.221750</td>\n",
       "      <td>52.500000</td>\n",
       "      <td>5</td>\n",
       "    </tr>\n",
       "    <tr>\n",
       "      <th>2</th>\n",
       "      <td>1</td>\n",
       "      <td>8-bit</td>\n",
       "      <td>0.762000</td>\n",
       "      <td>0.712000</td>\n",
       "      <td>1.151770e+05</td>\n",
       "      <td>0.818000</td>\n",
       "      <td>0.876000</td>\n",
       "      <td>0.126000</td>\n",
       "      <td>-9.180000</td>\n",
       "      <td>0.047000</td>\n",
       "      <td>133.444000</td>\n",
       "      <td>0.975000</td>\n",
       "      <td>48.000000</td>\n",
       "      <td>7</td>\n",
       "    </tr>\n",
       "    <tr>\n",
       "      <th>3</th>\n",
       "      <td>1</td>\n",
       "      <td>[]</td>\n",
       "      <td>0.651417</td>\n",
       "      <td>0.529093</td>\n",
       "      <td>2.328809e+05</td>\n",
       "      <td>0.419146</td>\n",
       "      <td>0.205309</td>\n",
       "      <td>0.218696</td>\n",
       "      <td>-12.288965</td>\n",
       "      <td>0.107872</td>\n",
       "      <td>112.857352</td>\n",
       "      <td>0.513604</td>\n",
       "      <td>20.859882</td>\n",
       "      <td>7</td>\n",
       "    </tr>\n",
       "    <tr>\n",
       "      <th>4</th>\n",
       "      <td>1</td>\n",
       "      <td>a cappella</td>\n",
       "      <td>0.676557</td>\n",
       "      <td>0.538961</td>\n",
       "      <td>1.906285e+05</td>\n",
       "      <td>0.316434</td>\n",
       "      <td>0.003003</td>\n",
       "      <td>0.172254</td>\n",
       "      <td>-12.479387</td>\n",
       "      <td>0.082851</td>\n",
       "      <td>112.110362</td>\n",
       "      <td>0.448249</td>\n",
       "      <td>45.820071</td>\n",
       "      <td>7</td>\n",
       "    </tr>\n",
       "  </tbody>\n",
       "</table>\n",
       "</div>"
      ],
      "text/plain": [
       "   mode                  genres  acousticness  danceability   duration_ms  \\\n",
       "0     1  21st century classical      0.979333      0.162883  1.602977e+05   \n",
       "1     1                   432hz      0.494780      0.299333  1.048887e+06   \n",
       "2     1                   8-bit      0.762000      0.712000  1.151770e+05   \n",
       "3     1                      []      0.651417      0.529093  2.328809e+05   \n",
       "4     1              a cappella      0.676557      0.538961  1.906285e+05   \n",
       "\n",
       "     energy  instrumentalness  liveness   loudness  speechiness       tempo  \\\n",
       "0  0.071317          0.606834  0.361600 -31.514333     0.040567   75.336500   \n",
       "1  0.450678          0.477762  0.131000 -16.854000     0.076817  120.285667   \n",
       "2  0.818000          0.876000  0.126000  -9.180000     0.047000  133.444000   \n",
       "3  0.419146          0.205309  0.218696 -12.288965     0.107872  112.857352   \n",
       "4  0.316434          0.003003  0.172254 -12.479387     0.082851  112.110362   \n",
       "\n",
       "    valence  popularity  key  \n",
       "0  0.103783   27.833333    6  \n",
       "1  0.221750   52.500000    5  \n",
       "2  0.975000   48.000000    7  \n",
       "3  0.513604   20.859882    7  \n",
       "4  0.448249   45.820071    7  "
      ]
     },
     "execution_count": 53,
     "metadata": {},
     "output_type": "execute_result"
    }
   ],
   "source": [
    "dados_generos.head()"
   ]
  },
  {
   "cell_type": "code",
   "execution_count": 54,
   "metadata": {},
   "outputs": [],
   "source": [
    "dados_generos = dados_generos.drop(columns = ['key', 'mode'], axis = 1)"
   ]
  },
  {
   "cell_type": "code",
   "execution_count": 55,
   "metadata": {},
   "outputs": [
    {
     "data": {
      "text/html": [
       "<div>\n",
       "<style scoped>\n",
       "    .dataframe tbody tr th:only-of-type {\n",
       "        vertical-align: middle;\n",
       "    }\n",
       "\n",
       "    .dataframe tbody tr th {\n",
       "        vertical-align: top;\n",
       "    }\n",
       "\n",
       "    .dataframe thead th {\n",
       "        text-align: right;\n",
       "    }\n",
       "</style>\n",
       "<table border=\"1\" class=\"dataframe\">\n",
       "  <thead>\n",
       "    <tr style=\"text-align: right;\">\n",
       "      <th></th>\n",
       "      <th>genres</th>\n",
       "      <th>acousticness</th>\n",
       "      <th>danceability</th>\n",
       "      <th>duration_ms</th>\n",
       "      <th>energy</th>\n",
       "      <th>instrumentalness</th>\n",
       "      <th>liveness</th>\n",
       "      <th>loudness</th>\n",
       "      <th>speechiness</th>\n",
       "      <th>tempo</th>\n",
       "      <th>valence</th>\n",
       "      <th>popularity</th>\n",
       "    </tr>\n",
       "  </thead>\n",
       "  <tbody>\n",
       "    <tr>\n",
       "      <th>0</th>\n",
       "      <td>21st century classical</td>\n",
       "      <td>0.979333</td>\n",
       "      <td>0.162883</td>\n",
       "      <td>1.602977e+05</td>\n",
       "      <td>0.071317</td>\n",
       "      <td>0.606834</td>\n",
       "      <td>0.361600</td>\n",
       "      <td>-31.514333</td>\n",
       "      <td>0.040567</td>\n",
       "      <td>75.336500</td>\n",
       "      <td>0.103783</td>\n",
       "      <td>27.833333</td>\n",
       "    </tr>\n",
       "    <tr>\n",
       "      <th>1</th>\n",
       "      <td>432hz</td>\n",
       "      <td>0.494780</td>\n",
       "      <td>0.299333</td>\n",
       "      <td>1.048887e+06</td>\n",
       "      <td>0.450678</td>\n",
       "      <td>0.477762</td>\n",
       "      <td>0.131000</td>\n",
       "      <td>-16.854000</td>\n",
       "      <td>0.076817</td>\n",
       "      <td>120.285667</td>\n",
       "      <td>0.221750</td>\n",
       "      <td>52.500000</td>\n",
       "    </tr>\n",
       "    <tr>\n",
       "      <th>2</th>\n",
       "      <td>8-bit</td>\n",
       "      <td>0.762000</td>\n",
       "      <td>0.712000</td>\n",
       "      <td>1.151770e+05</td>\n",
       "      <td>0.818000</td>\n",
       "      <td>0.876000</td>\n",
       "      <td>0.126000</td>\n",
       "      <td>-9.180000</td>\n",
       "      <td>0.047000</td>\n",
       "      <td>133.444000</td>\n",
       "      <td>0.975000</td>\n",
       "      <td>48.000000</td>\n",
       "    </tr>\n",
       "    <tr>\n",
       "      <th>3</th>\n",
       "      <td>[]</td>\n",
       "      <td>0.651417</td>\n",
       "      <td>0.529093</td>\n",
       "      <td>2.328809e+05</td>\n",
       "      <td>0.419146</td>\n",
       "      <td>0.205309</td>\n",
       "      <td>0.218696</td>\n",
       "      <td>-12.288965</td>\n",
       "      <td>0.107872</td>\n",
       "      <td>112.857352</td>\n",
       "      <td>0.513604</td>\n",
       "      <td>20.859882</td>\n",
       "    </tr>\n",
       "    <tr>\n",
       "      <th>4</th>\n",
       "      <td>a cappella</td>\n",
       "      <td>0.676557</td>\n",
       "      <td>0.538961</td>\n",
       "      <td>1.906285e+05</td>\n",
       "      <td>0.316434</td>\n",
       "      <td>0.003003</td>\n",
       "      <td>0.172254</td>\n",
       "      <td>-12.479387</td>\n",
       "      <td>0.082851</td>\n",
       "      <td>112.110362</td>\n",
       "      <td>0.448249</td>\n",
       "      <td>45.820071</td>\n",
       "    </tr>\n",
       "  </tbody>\n",
       "</table>\n",
       "</div>"
      ],
      "text/plain": [
       "                   genres  acousticness  danceability   duration_ms    energy  \\\n",
       "0  21st century classical      0.979333      0.162883  1.602977e+05  0.071317   \n",
       "1                   432hz      0.494780      0.299333  1.048887e+06  0.450678   \n",
       "2                   8-bit      0.762000      0.712000  1.151770e+05  0.818000   \n",
       "3                      []      0.651417      0.529093  2.328809e+05  0.419146   \n",
       "4              a cappella      0.676557      0.538961  1.906285e+05  0.316434   \n",
       "\n",
       "   instrumentalness  liveness   loudness  speechiness       tempo   valence  \\\n",
       "0          0.606834  0.361600 -31.514333     0.040567   75.336500  0.103783   \n",
       "1          0.477762  0.131000 -16.854000     0.076817  120.285667  0.221750   \n",
       "2          0.876000  0.126000  -9.180000     0.047000  133.444000  0.975000   \n",
       "3          0.205309  0.218696 -12.288965     0.107872  112.857352  0.513604   \n",
       "4          0.003003  0.172254 -12.479387     0.082851  112.110362  0.448249   \n",
       "\n",
       "   popularity  \n",
       "0   27.833333  \n",
       "1   52.500000  \n",
       "2   48.000000  \n",
       "3   20.859882  \n",
       "4   45.820071  "
      ]
     },
     "execution_count": 55,
     "metadata": {},
     "output_type": "execute_result"
    }
   ],
   "source": [
    "dados_generos.head()"
   ]
  },
  {
   "cell_type": "code",
   "execution_count": 56,
   "metadata": {},
   "outputs": [
    {
     "data": {
      "text/plain": [
       "(2973, 12)"
      ]
     },
     "execution_count": 56,
     "metadata": {},
     "output_type": "execute_result"
    }
   ],
   "source": [
    "dados_generos.shape"
   ]
  },
  {
   "cell_type": "code",
   "execution_count": 57,
   "metadata": {},
   "outputs": [
    {
     "data": {
      "text/plain": [
       "genres              0\n",
       "acousticness        0\n",
       "danceability        0\n",
       "duration_ms         0\n",
       "energy              0\n",
       "instrumentalness    0\n",
       "liveness            0\n",
       "loudness            0\n",
       "speechiness         0\n",
       "tempo               0\n",
       "valence             0\n",
       "popularity          0\n",
       "dtype: int64"
      ]
     },
     "execution_count": 57,
     "metadata": {},
     "output_type": "execute_result"
    }
   ],
   "source": [
    "dados_generos.isnull().sum()"
   ]
  },
  {
   "cell_type": "code",
   "execution_count": 58,
   "metadata": {},
   "outputs": [
    {
     "data": {
      "text/plain": [
       "genres              0\n",
       "acousticness        0\n",
       "danceability        0\n",
       "duration_ms         0\n",
       "energy              0\n",
       "instrumentalness    0\n",
       "liveness            0\n",
       "loudness            0\n",
       "speechiness         0\n",
       "tempo               0\n",
       "valence             0\n",
       "popularity          0\n",
       "dtype: int64"
      ]
     },
     "execution_count": 58,
     "metadata": {},
     "output_type": "execute_result"
    }
   ],
   "source": [
    "dados_generos.isna().sum()"
   ]
  },
  {
   "cell_type": "markdown",
   "metadata": {},
   "source": [
    "## dados_anos"
   ]
  },
  {
   "cell_type": "code",
   "execution_count": 59,
   "metadata": {},
   "outputs": [
    {
     "data": {
      "text/html": [
       "<div>\n",
       "<style scoped>\n",
       "    .dataframe tbody tr th:only-of-type {\n",
       "        vertical-align: middle;\n",
       "    }\n",
       "\n",
       "    .dataframe tbody tr th {\n",
       "        vertical-align: top;\n",
       "    }\n",
       "\n",
       "    .dataframe thead th {\n",
       "        text-align: right;\n",
       "    }\n",
       "</style>\n",
       "<table border=\"1\" class=\"dataframe\">\n",
       "  <thead>\n",
       "    <tr style=\"text-align: right;\">\n",
       "      <th></th>\n",
       "      <th>mode</th>\n",
       "      <th>year</th>\n",
       "      <th>acousticness</th>\n",
       "      <th>danceability</th>\n",
       "      <th>duration_ms</th>\n",
       "      <th>energy</th>\n",
       "      <th>instrumentalness</th>\n",
       "      <th>liveness</th>\n",
       "      <th>loudness</th>\n",
       "      <th>speechiness</th>\n",
       "      <th>tempo</th>\n",
       "      <th>valence</th>\n",
       "      <th>popularity</th>\n",
       "      <th>key</th>\n",
       "    </tr>\n",
       "  </thead>\n",
       "  <tbody>\n",
       "    <tr>\n",
       "      <th>0</th>\n",
       "      <td>1</td>\n",
       "      <td>1921</td>\n",
       "      <td>0.886896</td>\n",
       "      <td>0.418597</td>\n",
       "      <td>260537.166667</td>\n",
       "      <td>0.231815</td>\n",
       "      <td>0.344878</td>\n",
       "      <td>0.205710</td>\n",
       "      <td>-17.048667</td>\n",
       "      <td>0.073662</td>\n",
       "      <td>101.531493</td>\n",
       "      <td>0.379327</td>\n",
       "      <td>0.653333</td>\n",
       "      <td>2</td>\n",
       "    </tr>\n",
       "    <tr>\n",
       "      <th>1</th>\n",
       "      <td>1</td>\n",
       "      <td>1922</td>\n",
       "      <td>0.938592</td>\n",
       "      <td>0.482042</td>\n",
       "      <td>165469.746479</td>\n",
       "      <td>0.237815</td>\n",
       "      <td>0.434195</td>\n",
       "      <td>0.240720</td>\n",
       "      <td>-19.275282</td>\n",
       "      <td>0.116655</td>\n",
       "      <td>100.884521</td>\n",
       "      <td>0.535549</td>\n",
       "      <td>0.140845</td>\n",
       "      <td>10</td>\n",
       "    </tr>\n",
       "    <tr>\n",
       "      <th>2</th>\n",
       "      <td>1</td>\n",
       "      <td>1923</td>\n",
       "      <td>0.957247</td>\n",
       "      <td>0.577341</td>\n",
       "      <td>177942.362162</td>\n",
       "      <td>0.262406</td>\n",
       "      <td>0.371733</td>\n",
       "      <td>0.227462</td>\n",
       "      <td>-14.129211</td>\n",
       "      <td>0.093949</td>\n",
       "      <td>114.010730</td>\n",
       "      <td>0.625492</td>\n",
       "      <td>5.389189</td>\n",
       "      <td>0</td>\n",
       "    </tr>\n",
       "    <tr>\n",
       "      <th>3</th>\n",
       "      <td>1</td>\n",
       "      <td>1924</td>\n",
       "      <td>0.940200</td>\n",
       "      <td>0.549894</td>\n",
       "      <td>191046.707627</td>\n",
       "      <td>0.344347</td>\n",
       "      <td>0.581701</td>\n",
       "      <td>0.235219</td>\n",
       "      <td>-14.231343</td>\n",
       "      <td>0.092089</td>\n",
       "      <td>120.689572</td>\n",
       "      <td>0.663725</td>\n",
       "      <td>0.661017</td>\n",
       "      <td>10</td>\n",
       "    </tr>\n",
       "    <tr>\n",
       "      <th>4</th>\n",
       "      <td>1</td>\n",
       "      <td>1925</td>\n",
       "      <td>0.962607</td>\n",
       "      <td>0.573863</td>\n",
       "      <td>184986.924460</td>\n",
       "      <td>0.278594</td>\n",
       "      <td>0.418297</td>\n",
       "      <td>0.237668</td>\n",
       "      <td>-14.146414</td>\n",
       "      <td>0.111918</td>\n",
       "      <td>115.521921</td>\n",
       "      <td>0.621929</td>\n",
       "      <td>2.604317</td>\n",
       "      <td>5</td>\n",
       "    </tr>\n",
       "  </tbody>\n",
       "</table>\n",
       "</div>"
      ],
      "text/plain": [
       "   mode  year  acousticness  danceability    duration_ms    energy  \\\n",
       "0     1  1921      0.886896      0.418597  260537.166667  0.231815   \n",
       "1     1  1922      0.938592      0.482042  165469.746479  0.237815   \n",
       "2     1  1923      0.957247      0.577341  177942.362162  0.262406   \n",
       "3     1  1924      0.940200      0.549894  191046.707627  0.344347   \n",
       "4     1  1925      0.962607      0.573863  184986.924460  0.278594   \n",
       "\n",
       "   instrumentalness  liveness   loudness  speechiness       tempo   valence  \\\n",
       "0          0.344878  0.205710 -17.048667     0.073662  101.531493  0.379327   \n",
       "1          0.434195  0.240720 -19.275282     0.116655  100.884521  0.535549   \n",
       "2          0.371733  0.227462 -14.129211     0.093949  114.010730  0.625492   \n",
       "3          0.581701  0.235219 -14.231343     0.092089  120.689572  0.663725   \n",
       "4          0.418297  0.237668 -14.146414     0.111918  115.521921  0.621929   \n",
       "\n",
       "   popularity  key  \n",
       "0    0.653333    2  \n",
       "1    0.140845   10  \n",
       "2    5.389189    0  \n",
       "3    0.661017   10  \n",
       "4    2.604317    5  "
      ]
     },
     "execution_count": 59,
     "metadata": {},
     "output_type": "execute_result"
    }
   ],
   "source": [
    "dados_anos.head()"
   ]
  },
  {
   "cell_type": "code",
   "execution_count": 60,
   "metadata": {},
   "outputs": [],
   "source": [
    "dados_anos = dados_anos.drop(columns = ['key', 'mode'], axis = 1)"
   ]
  },
  {
   "cell_type": "code",
   "execution_count": 61,
   "metadata": {},
   "outputs": [
    {
     "data": {
      "text/html": [
       "<div>\n",
       "<style scoped>\n",
       "    .dataframe tbody tr th:only-of-type {\n",
       "        vertical-align: middle;\n",
       "    }\n",
       "\n",
       "    .dataframe tbody tr th {\n",
       "        vertical-align: top;\n",
       "    }\n",
       "\n",
       "    .dataframe thead th {\n",
       "        text-align: right;\n",
       "    }\n",
       "</style>\n",
       "<table border=\"1\" class=\"dataframe\">\n",
       "  <thead>\n",
       "    <tr style=\"text-align: right;\">\n",
       "      <th></th>\n",
       "      <th>year</th>\n",
       "      <th>acousticness</th>\n",
       "      <th>danceability</th>\n",
       "      <th>duration_ms</th>\n",
       "      <th>energy</th>\n",
       "      <th>instrumentalness</th>\n",
       "      <th>liveness</th>\n",
       "      <th>loudness</th>\n",
       "      <th>speechiness</th>\n",
       "      <th>tempo</th>\n",
       "      <th>valence</th>\n",
       "      <th>popularity</th>\n",
       "    </tr>\n",
       "  </thead>\n",
       "  <tbody>\n",
       "    <tr>\n",
       "      <th>0</th>\n",
       "      <td>1921</td>\n",
       "      <td>0.886896</td>\n",
       "      <td>0.418597</td>\n",
       "      <td>260537.166667</td>\n",
       "      <td>0.231815</td>\n",
       "      <td>0.344878</td>\n",
       "      <td>0.205710</td>\n",
       "      <td>-17.048667</td>\n",
       "      <td>0.073662</td>\n",
       "      <td>101.531493</td>\n",
       "      <td>0.379327</td>\n",
       "      <td>0.653333</td>\n",
       "    </tr>\n",
       "    <tr>\n",
       "      <th>1</th>\n",
       "      <td>1922</td>\n",
       "      <td>0.938592</td>\n",
       "      <td>0.482042</td>\n",
       "      <td>165469.746479</td>\n",
       "      <td>0.237815</td>\n",
       "      <td>0.434195</td>\n",
       "      <td>0.240720</td>\n",
       "      <td>-19.275282</td>\n",
       "      <td>0.116655</td>\n",
       "      <td>100.884521</td>\n",
       "      <td>0.535549</td>\n",
       "      <td>0.140845</td>\n",
       "    </tr>\n",
       "    <tr>\n",
       "      <th>2</th>\n",
       "      <td>1923</td>\n",
       "      <td>0.957247</td>\n",
       "      <td>0.577341</td>\n",
       "      <td>177942.362162</td>\n",
       "      <td>0.262406</td>\n",
       "      <td>0.371733</td>\n",
       "      <td>0.227462</td>\n",
       "      <td>-14.129211</td>\n",
       "      <td>0.093949</td>\n",
       "      <td>114.010730</td>\n",
       "      <td>0.625492</td>\n",
       "      <td>5.389189</td>\n",
       "    </tr>\n",
       "    <tr>\n",
       "      <th>3</th>\n",
       "      <td>1924</td>\n",
       "      <td>0.940200</td>\n",
       "      <td>0.549894</td>\n",
       "      <td>191046.707627</td>\n",
       "      <td>0.344347</td>\n",
       "      <td>0.581701</td>\n",
       "      <td>0.235219</td>\n",
       "      <td>-14.231343</td>\n",
       "      <td>0.092089</td>\n",
       "      <td>120.689572</td>\n",
       "      <td>0.663725</td>\n",
       "      <td>0.661017</td>\n",
       "    </tr>\n",
       "    <tr>\n",
       "      <th>4</th>\n",
       "      <td>1925</td>\n",
       "      <td>0.962607</td>\n",
       "      <td>0.573863</td>\n",
       "      <td>184986.924460</td>\n",
       "      <td>0.278594</td>\n",
       "      <td>0.418297</td>\n",
       "      <td>0.237668</td>\n",
       "      <td>-14.146414</td>\n",
       "      <td>0.111918</td>\n",
       "      <td>115.521921</td>\n",
       "      <td>0.621929</td>\n",
       "      <td>2.604317</td>\n",
       "    </tr>\n",
       "  </tbody>\n",
       "</table>\n",
       "</div>"
      ],
      "text/plain": [
       "   year  acousticness  danceability    duration_ms    energy  \\\n",
       "0  1921      0.886896      0.418597  260537.166667  0.231815   \n",
       "1  1922      0.938592      0.482042  165469.746479  0.237815   \n",
       "2  1923      0.957247      0.577341  177942.362162  0.262406   \n",
       "3  1924      0.940200      0.549894  191046.707627  0.344347   \n",
       "4  1925      0.962607      0.573863  184986.924460  0.278594   \n",
       "\n",
       "   instrumentalness  liveness   loudness  speechiness       tempo   valence  \\\n",
       "0          0.344878  0.205710 -17.048667     0.073662  101.531493  0.379327   \n",
       "1          0.434195  0.240720 -19.275282     0.116655  100.884521  0.535549   \n",
       "2          0.371733  0.227462 -14.129211     0.093949  114.010730  0.625492   \n",
       "3          0.581701  0.235219 -14.231343     0.092089  120.689572  0.663725   \n",
       "4          0.418297  0.237668 -14.146414     0.111918  115.521921  0.621929   \n",
       "\n",
       "   popularity  \n",
       "0    0.653333  \n",
       "1    0.140845  \n",
       "2    5.389189  \n",
       "3    0.661017  \n",
       "4    2.604317  "
      ]
     },
     "execution_count": 61,
     "metadata": {},
     "output_type": "execute_result"
    }
   ],
   "source": [
    "dados_anos.head()"
   ]
  },
  {
   "cell_type": "code",
   "execution_count": 62,
   "metadata": {},
   "outputs": [
    {
     "data": {
      "text/plain": [
       "year                0\n",
       "acousticness        0\n",
       "danceability        0\n",
       "duration_ms         0\n",
       "energy              0\n",
       "instrumentalness    0\n",
       "liveness            0\n",
       "loudness            0\n",
       "speechiness         0\n",
       "tempo               0\n",
       "valence             0\n",
       "popularity          0\n",
       "dtype: int64"
      ]
     },
     "execution_count": 62,
     "metadata": {},
     "output_type": "execute_result"
    }
   ],
   "source": [
    "dados_anos.isnull().sum()"
   ]
  },
  {
   "cell_type": "code",
   "execution_count": 63,
   "metadata": {},
   "outputs": [
    {
     "data": {
      "text/plain": [
       "year                0\n",
       "acousticness        0\n",
       "danceability        0\n",
       "duration_ms         0\n",
       "energy              0\n",
       "instrumentalness    0\n",
       "liveness            0\n",
       "loudness            0\n",
       "speechiness         0\n",
       "tempo               0\n",
       "valence             0\n",
       "popularity          0\n",
       "dtype: int64"
      ]
     },
     "execution_count": 63,
     "metadata": {},
     "output_type": "execute_result"
    }
   ],
   "source": [
    "dados_anos.isna().sum()"
   ]
  },
  {
   "cell_type": "code",
   "execution_count": 64,
   "metadata": {},
   "outputs": [
    {
     "data": {
      "text/plain": [
       "(100, 12)"
      ]
     },
     "execution_count": 64,
     "metadata": {},
     "output_type": "execute_result"
    }
   ],
   "source": [
    "dados_anos.shape"
   ]
  },
  {
   "cell_type": "markdown",
   "metadata": {},
   "source": [
    "## Análise Gráfica"
   ]
  },
  {
   "cell_type": "markdown",
   "metadata": {},
   "source": [
    "## Loudness"
   ]
  },
  {
   "cell_type": "code",
   "execution_count": 65,
   "metadata": {},
   "outputs": [
    {
     "data": {
      "application/vnd.plotly.v1+json": {
       "config": {
        "plotlyServerURL": "https://plot.ly"
       },
       "data": [
        {
         "hovertemplate": "year=%{x}<br>loudness=%{y}<extra></extra>",
         "legendgroup": "",
         "line": {
          "color": "#636efa",
          "dash": "solid"
         },
         "marker": {
          "symbol": "circle"
         },
         "mode": "markers+lines",
         "name": "",
         "orientation": "v",
         "showlegend": false,
         "type": "scatter",
         "x": [
          1921,
          1922,
          1923,
          1924,
          1925,
          1926,
          1927,
          1928,
          1929,
          1930,
          1931,
          1932,
          1933,
          1934,
          1935,
          1936,
          1937,
          1938,
          1939,
          1940,
          1941,
          1942,
          1943,
          1944,
          1945,
          1946,
          1947,
          1948,
          1949,
          1950,
          1951,
          1952,
          1953,
          1954,
          1955,
          1956,
          1957,
          1958,
          1959,
          1960,
          1961,
          1962,
          1963,
          1964,
          1965,
          1966,
          1967,
          1968,
          1969,
          1970,
          1971,
          1972,
          1973,
          1974,
          1975,
          1976,
          1977,
          1978,
          1979,
          1980,
          1981,
          1982,
          1983,
          1984,
          1985,
          1986,
          1987,
          1988,
          1989,
          1990,
          1991,
          1992,
          1993,
          1994,
          1995,
          1996,
          1997,
          1998,
          1999,
          2000,
          2001,
          2002,
          2003,
          2004,
          2005,
          2006,
          2007,
          2008,
          2009,
          2010,
          2011,
          2012,
          2013,
          2014,
          2015,
          2016,
          2017,
          2018,
          2019,
          2020
         ],
         "xaxis": "x",
         "y": [
          -17.04866666666665,
          -19.275281690140844,
          -14.129210810810813,
          -14.231343220338989,
          -14.14641366906474,
          -18.492538461538462,
          -14.422373983739831,
          -17.191982553528927,
          -16.530376050420152,
          -12.869221413721428,
          -16.51609420289853,
          -13.364055776892426,
          -13.06900868306802,
          -14.756875432525954,
          -15.41474967061924,
          -14.612999090909067,
          -13.11514307458143,
          -14.290582381729198,
          -13.900570000000004,
          -13.684048000000017,
          -15.755536458333326,
          -15.02903210463735,
          -13.60212535211268,
          -14.58205585106382,
          -16.9814715,
          -16.921774361948952,
          -14.377607878787892,
          -15.505407368421029,
          -15.525844999999984,
          -13.863834499999962,
          -15.812066000000032,
          -15.95886600000001,
          -15.499134871794872,
          -15.408004500000024,
          -13.842262000000035,
          -14.175195500000006,
          -14.124848717948735,
          -14.16517100000002,
          -14.460136923076943,
          -13.814102702702725,
          -14.171330526315783,
          -13.177364210526294,
          -13.670647000000017,
          -13.048075897435869,
          -11.888213333333338,
          -11.356919500000007,
          -11.708829414707358,
          -12.043861999999995,
          -12.062166000000008,
          -11.772557999999997,
          -12.079936000000007,
          -11.773563499999996,
          -11.260197000000012,
          -11.816489000000018,
          -11.48593899999998,
          -11.114236999999996,
          -11.077354499999998,
          -10.891867999999995,
          -10.977513500000004,
          -10.700942051282045,
          -10.924404499999977,
          -10.9331225,
          -11.200171000000024,
          -11.523238499999987,
          -11.360688499999991,
          -11.10399500000002,
          -11.623467179487175,
          -11.519821025641036,
          -11.38413000000001,
          -11.32747949999998,
          -10.955768717948724,
          -10.575404499999976,
          -10.882701000000026,
          -10.282273000000004,
          -10.119450000000008,
          -9.44381849999999,
          -9.200875500000018,
          -8.971167999999997,
          -8.266409533572531,
          -8.247765848670758,
          -8.305095261845384,
          -7.686639500000013,
          -7.485545035823955,
          -7.601655137334684,
          -7.46615897435897,
          -7.265500512820514,
          -7.044535897435892,
          -6.8438040920716166,
          -7.0460147959183645,
          -6.9099042658730125,
          -7.574986117997006,
          -7.260549614395888,
          -7.472039473684207,
          -7.06743990024938,
          -7.625639311043569,
          -8.061056204785759,
          -8.31262951807228,
          -7.168785068949124,
          -7.722191893278596,
          -6.595066995073878
         ],
         "yaxis": "y"
        }
       ],
       "layout": {
        "font": {
         "color": "White",
         "family": "Arial"
        },
        "legend": {
         "tracegroupgap": 0
        },
        "margin": {
         "t": 60
        },
        "template": {
         "data": {
          "bar": [
           {
            "error_x": {
             "color": "#f2f5fa"
            },
            "error_y": {
             "color": "#f2f5fa"
            },
            "marker": {
             "line": {
              "color": "rgb(17,17,17)",
              "width": 0.5
             },
             "pattern": {
              "fillmode": "overlay",
              "size": 10,
              "solidity": 0.2
             }
            },
            "type": "bar"
           }
          ],
          "barpolar": [
           {
            "marker": {
             "line": {
              "color": "rgb(17,17,17)",
              "width": 0.5
             },
             "pattern": {
              "fillmode": "overlay",
              "size": 10,
              "solidity": 0.2
             }
            },
            "type": "barpolar"
           }
          ],
          "carpet": [
           {
            "aaxis": {
             "endlinecolor": "#A2B1C6",
             "gridcolor": "#506784",
             "linecolor": "#506784",
             "minorgridcolor": "#506784",
             "startlinecolor": "#A2B1C6"
            },
            "baxis": {
             "endlinecolor": "#A2B1C6",
             "gridcolor": "#506784",
             "linecolor": "#506784",
             "minorgridcolor": "#506784",
             "startlinecolor": "#A2B1C6"
            },
            "type": "carpet"
           }
          ],
          "choropleth": [
           {
            "colorbar": {
             "outlinewidth": 0,
             "ticks": ""
            },
            "type": "choropleth"
           }
          ],
          "contour": [
           {
            "colorbar": {
             "outlinewidth": 0,
             "ticks": ""
            },
            "colorscale": [
             [
              0,
              "#0d0887"
             ],
             [
              0.1111111111111111,
              "#46039f"
             ],
             [
              0.2222222222222222,
              "#7201a8"
             ],
             [
              0.3333333333333333,
              "#9c179e"
             ],
             [
              0.4444444444444444,
              "#bd3786"
             ],
             [
              0.5555555555555556,
              "#d8576b"
             ],
             [
              0.6666666666666666,
              "#ed7953"
             ],
             [
              0.7777777777777778,
              "#fb9f3a"
             ],
             [
              0.8888888888888888,
              "#fdca26"
             ],
             [
              1,
              "#f0f921"
             ]
            ],
            "type": "contour"
           }
          ],
          "contourcarpet": [
           {
            "colorbar": {
             "outlinewidth": 0,
             "ticks": ""
            },
            "type": "contourcarpet"
           }
          ],
          "heatmap": [
           {
            "colorbar": {
             "outlinewidth": 0,
             "ticks": ""
            },
            "colorscale": [
             [
              0,
              "#0d0887"
             ],
             [
              0.1111111111111111,
              "#46039f"
             ],
             [
              0.2222222222222222,
              "#7201a8"
             ],
             [
              0.3333333333333333,
              "#9c179e"
             ],
             [
              0.4444444444444444,
              "#bd3786"
             ],
             [
              0.5555555555555556,
              "#d8576b"
             ],
             [
              0.6666666666666666,
              "#ed7953"
             ],
             [
              0.7777777777777778,
              "#fb9f3a"
             ],
             [
              0.8888888888888888,
              "#fdca26"
             ],
             [
              1,
              "#f0f921"
             ]
            ],
            "type": "heatmap"
           }
          ],
          "heatmapgl": [
           {
            "colorbar": {
             "outlinewidth": 0,
             "ticks": ""
            },
            "colorscale": [
             [
              0,
              "#0d0887"
             ],
             [
              0.1111111111111111,
              "#46039f"
             ],
             [
              0.2222222222222222,
              "#7201a8"
             ],
             [
              0.3333333333333333,
              "#9c179e"
             ],
             [
              0.4444444444444444,
              "#bd3786"
             ],
             [
              0.5555555555555556,
              "#d8576b"
             ],
             [
              0.6666666666666666,
              "#ed7953"
             ],
             [
              0.7777777777777778,
              "#fb9f3a"
             ],
             [
              0.8888888888888888,
              "#fdca26"
             ],
             [
              1,
              "#f0f921"
             ]
            ],
            "type": "heatmapgl"
           }
          ],
          "histogram": [
           {
            "marker": {
             "pattern": {
              "fillmode": "overlay",
              "size": 10,
              "solidity": 0.2
             }
            },
            "type": "histogram"
           }
          ],
          "histogram2d": [
           {
            "colorbar": {
             "outlinewidth": 0,
             "ticks": ""
            },
            "colorscale": [
             [
              0,
              "#0d0887"
             ],
             [
              0.1111111111111111,
              "#46039f"
             ],
             [
              0.2222222222222222,
              "#7201a8"
             ],
             [
              0.3333333333333333,
              "#9c179e"
             ],
             [
              0.4444444444444444,
              "#bd3786"
             ],
             [
              0.5555555555555556,
              "#d8576b"
             ],
             [
              0.6666666666666666,
              "#ed7953"
             ],
             [
              0.7777777777777778,
              "#fb9f3a"
             ],
             [
              0.8888888888888888,
              "#fdca26"
             ],
             [
              1,
              "#f0f921"
             ]
            ],
            "type": "histogram2d"
           }
          ],
          "histogram2dcontour": [
           {
            "colorbar": {
             "outlinewidth": 0,
             "ticks": ""
            },
            "colorscale": [
             [
              0,
              "#0d0887"
             ],
             [
              0.1111111111111111,
              "#46039f"
             ],
             [
              0.2222222222222222,
              "#7201a8"
             ],
             [
              0.3333333333333333,
              "#9c179e"
             ],
             [
              0.4444444444444444,
              "#bd3786"
             ],
             [
              0.5555555555555556,
              "#d8576b"
             ],
             [
              0.6666666666666666,
              "#ed7953"
             ],
             [
              0.7777777777777778,
              "#fb9f3a"
             ],
             [
              0.8888888888888888,
              "#fdca26"
             ],
             [
              1,
              "#f0f921"
             ]
            ],
            "type": "histogram2dcontour"
           }
          ],
          "mesh3d": [
           {
            "colorbar": {
             "outlinewidth": 0,
             "ticks": ""
            },
            "type": "mesh3d"
           }
          ],
          "parcoords": [
           {
            "line": {
             "colorbar": {
              "outlinewidth": 0,
              "ticks": ""
             }
            },
            "type": "parcoords"
           }
          ],
          "pie": [
           {
            "automargin": true,
            "type": "pie"
           }
          ],
          "scatter": [
           {
            "marker": {
             "line": {
              "color": "#283442"
             }
            },
            "type": "scatter"
           }
          ],
          "scatter3d": [
           {
            "line": {
             "colorbar": {
              "outlinewidth": 0,
              "ticks": ""
             }
            },
            "marker": {
             "colorbar": {
              "outlinewidth": 0,
              "ticks": ""
             }
            },
            "type": "scatter3d"
           }
          ],
          "scattercarpet": [
           {
            "marker": {
             "colorbar": {
              "outlinewidth": 0,
              "ticks": ""
             }
            },
            "type": "scattercarpet"
           }
          ],
          "scattergeo": [
           {
            "marker": {
             "colorbar": {
              "outlinewidth": 0,
              "ticks": ""
             }
            },
            "type": "scattergeo"
           }
          ],
          "scattergl": [
           {
            "marker": {
             "line": {
              "color": "#283442"
             }
            },
            "type": "scattergl"
           }
          ],
          "scattermapbox": [
           {
            "marker": {
             "colorbar": {
              "outlinewidth": 0,
              "ticks": ""
             }
            },
            "type": "scattermapbox"
           }
          ],
          "scatterpolar": [
           {
            "marker": {
             "colorbar": {
              "outlinewidth": 0,
              "ticks": ""
             }
            },
            "type": "scatterpolar"
           }
          ],
          "scatterpolargl": [
           {
            "marker": {
             "colorbar": {
              "outlinewidth": 0,
              "ticks": ""
             }
            },
            "type": "scatterpolargl"
           }
          ],
          "scatterternary": [
           {
            "marker": {
             "colorbar": {
              "outlinewidth": 0,
              "ticks": ""
             }
            },
            "type": "scatterternary"
           }
          ],
          "surface": [
           {
            "colorbar": {
             "outlinewidth": 0,
             "ticks": ""
            },
            "colorscale": [
             [
              0,
              "#0d0887"
             ],
             [
              0.1111111111111111,
              "#46039f"
             ],
             [
              0.2222222222222222,
              "#7201a8"
             ],
             [
              0.3333333333333333,
              "#9c179e"
             ],
             [
              0.4444444444444444,
              "#bd3786"
             ],
             [
              0.5555555555555556,
              "#d8576b"
             ],
             [
              0.6666666666666666,
              "#ed7953"
             ],
             [
              0.7777777777777778,
              "#fb9f3a"
             ],
             [
              0.8888888888888888,
              "#fdca26"
             ],
             [
              1,
              "#f0f921"
             ]
            ],
            "type": "surface"
           }
          ],
          "table": [
           {
            "cells": {
             "fill": {
              "color": "#506784"
             },
             "line": {
              "color": "rgb(17,17,17)"
             }
            },
            "header": {
             "fill": {
              "color": "#2a3f5f"
             },
             "line": {
              "color": "rgb(17,17,17)"
             }
            },
            "type": "table"
           }
          ]
         },
         "layout": {
          "annotationdefaults": {
           "arrowcolor": "#f2f5fa",
           "arrowhead": 0,
           "arrowwidth": 1
          },
          "autotypenumbers": "strict",
          "coloraxis": {
           "colorbar": {
            "outlinewidth": 0,
            "ticks": ""
           }
          },
          "colorscale": {
           "diverging": [
            [
             0,
             "#8e0152"
            ],
            [
             0.1,
             "#c51b7d"
            ],
            [
             0.2,
             "#de77ae"
            ],
            [
             0.3,
             "#f1b6da"
            ],
            [
             0.4,
             "#fde0ef"
            ],
            [
             0.5,
             "#f7f7f7"
            ],
            [
             0.6,
             "#e6f5d0"
            ],
            [
             0.7,
             "#b8e186"
            ],
            [
             0.8,
             "#7fbc41"
            ],
            [
             0.9,
             "#4d9221"
            ],
            [
             1,
             "#276419"
            ]
           ],
           "sequential": [
            [
             0,
             "#0d0887"
            ],
            [
             0.1111111111111111,
             "#46039f"
            ],
            [
             0.2222222222222222,
             "#7201a8"
            ],
            [
             0.3333333333333333,
             "#9c179e"
            ],
            [
             0.4444444444444444,
             "#bd3786"
            ],
            [
             0.5555555555555556,
             "#d8576b"
            ],
            [
             0.6666666666666666,
             "#ed7953"
            ],
            [
             0.7777777777777778,
             "#fb9f3a"
            ],
            [
             0.8888888888888888,
             "#fdca26"
            ],
            [
             1,
             "#f0f921"
            ]
           ],
           "sequentialminus": [
            [
             0,
             "#0d0887"
            ],
            [
             0.1111111111111111,
             "#46039f"
            ],
            [
             0.2222222222222222,
             "#7201a8"
            ],
            [
             0.3333333333333333,
             "#9c179e"
            ],
            [
             0.4444444444444444,
             "#bd3786"
            ],
            [
             0.5555555555555556,
             "#d8576b"
            ],
            [
             0.6666666666666666,
             "#ed7953"
            ],
            [
             0.7777777777777778,
             "#fb9f3a"
            ],
            [
             0.8888888888888888,
             "#fdca26"
            ],
            [
             1,
             "#f0f921"
            ]
           ]
          },
          "colorway": [
           "#636efa",
           "#EF553B",
           "#00cc96",
           "#ab63fa",
           "#FFA15A",
           "#19d3f3",
           "#FF6692",
           "#B6E880",
           "#FF97FF",
           "#FECB52"
          ],
          "font": {
           "color": "#f2f5fa"
          },
          "geo": {
           "bgcolor": "rgb(17,17,17)",
           "lakecolor": "rgb(17,17,17)",
           "landcolor": "rgb(17,17,17)",
           "showlakes": true,
           "showland": true,
           "subunitcolor": "#506784"
          },
          "hoverlabel": {
           "align": "left"
          },
          "hovermode": "closest",
          "mapbox": {
           "style": "dark"
          },
          "paper_bgcolor": "rgb(17,17,17)",
          "plot_bgcolor": "rgb(17,17,17)",
          "polar": {
           "angularaxis": {
            "gridcolor": "#506784",
            "linecolor": "#506784",
            "ticks": ""
           },
           "bgcolor": "rgb(17,17,17)",
           "radialaxis": {
            "gridcolor": "#506784",
            "linecolor": "#506784",
            "ticks": ""
           }
          },
          "scene": {
           "xaxis": {
            "backgroundcolor": "rgb(17,17,17)",
            "gridcolor": "#506784",
            "gridwidth": 2,
            "linecolor": "#506784",
            "showbackground": true,
            "ticks": "",
            "zerolinecolor": "#C8D4E3"
           },
           "yaxis": {
            "backgroundcolor": "rgb(17,17,17)",
            "gridcolor": "#506784",
            "gridwidth": 2,
            "linecolor": "#506784",
            "showbackground": true,
            "ticks": "",
            "zerolinecolor": "#C8D4E3"
           },
           "zaxis": {
            "backgroundcolor": "rgb(17,17,17)",
            "gridcolor": "#506784",
            "gridwidth": 2,
            "linecolor": "#506784",
            "showbackground": true,
            "ticks": "",
            "zerolinecolor": "#C8D4E3"
           }
          },
          "shapedefaults": {
           "line": {
            "color": "#f2f5fa"
           }
          },
          "sliderdefaults": {
           "bgcolor": "#C8D4E3",
           "bordercolor": "rgb(17,17,17)",
           "borderwidth": 1,
           "tickwidth": 0
          },
          "ternary": {
           "aaxis": {
            "gridcolor": "#506784",
            "linecolor": "#506784",
            "ticks": ""
           },
           "baxis": {
            "gridcolor": "#506784",
            "linecolor": "#506784",
            "ticks": ""
           },
           "bgcolor": "rgb(17,17,17)",
           "caxis": {
            "gridcolor": "#506784",
            "linecolor": "#506784",
            "ticks": ""
           }
          },
          "title": {
           "x": 0.05
          },
          "updatemenudefaults": {
           "bgcolor": "#506784",
           "borderwidth": 0
          },
          "xaxis": {
           "automargin": true,
           "gridcolor": "#283442",
           "linecolor": "#506784",
           "ticks": "",
           "title": {
            "standoff": 15
           },
           "zerolinecolor": "#283442",
           "zerolinewidth": 2
          },
          "yaxis": {
           "automargin": true,
           "gridcolor": "#283442",
           "linecolor": "#506784",
           "ticks": "",
           "title": {
            "standoff": 15
           },
           "zerolinecolor": "#283442",
           "zerolinewidth": 2
          }
         }
        },
        "title": {
         "font": {
          "color": "White",
          "family": "Arial"
         },
         "text": "Loudness per years"
        },
        "xaxis": {
         "anchor": "y",
         "domain": [
          0,
          1
         ],
         "title": {
          "text": "Years"
         }
        },
        "yaxis": {
         "anchor": "x",
         "domain": [
          0,
          1
         ],
         "title": {
          "text": "Loudness"
         }
        }
       }
      }
     },
     "metadata": {},
     "output_type": "display_data"
    }
   ],
   "source": [
    "fig = px.line(data_frame = dados_anos, x = 'year', y = 'loudness', markers = True,\n",
    "template = 'plotly_dark')\n",
    "\n",
    "fig.update_layout(\n",
    "    title = {\n",
    "        'text': 'Loudness per years'},\n",
    "    yaxis_title = 'Loudness',\n",
    "    xaxis_title = 'Years',\n",
    "    font_family=\"Arial\",\n",
    "    font_color=\"White\",\n",
    "    title_font_family=\"Arial\",\n",
    "    title_font_color= \"White\")\n",
    "\n",
    "fig.show()"
   ]
  },
  {
   "cell_type": "code",
   "execution_count": 66,
   "metadata": {},
   "outputs": [
    {
     "data": {
      "application/vnd.plotly.v1+json": {
       "config": {
        "plotlyServerURL": "https://plot.ly"
       },
       "data": [
        {
         "hovertemplate": "variable=acousticness<br>year=%{x}<br>value=%{y}<extra></extra>",
         "legendgroup": "acousticness",
         "line": {
          "color": "#636efa",
          "dash": "solid"
         },
         "marker": {
          "symbol": "circle"
         },
         "mode": "lines",
         "name": "acousticness",
         "orientation": "v",
         "showlegend": true,
         "type": "scatter",
         "x": [
          1921,
          1922,
          1923,
          1924,
          1925,
          1926,
          1927,
          1928,
          1929,
          1930,
          1931,
          1932,
          1933,
          1934,
          1935,
          1936,
          1937,
          1938,
          1939,
          1940,
          1941,
          1942,
          1943,
          1944,
          1945,
          1946,
          1947,
          1948,
          1949,
          1950,
          1951,
          1952,
          1953,
          1954,
          1955,
          1956,
          1957,
          1958,
          1959,
          1960,
          1961,
          1962,
          1963,
          1964,
          1965,
          1966,
          1967,
          1968,
          1969,
          1970,
          1971,
          1972,
          1973,
          1974,
          1975,
          1976,
          1977,
          1978,
          1979,
          1980,
          1981,
          1982,
          1983,
          1984,
          1985,
          1986,
          1987,
          1988,
          1989,
          1990,
          1991,
          1992,
          1993,
          1994,
          1995,
          1996,
          1997,
          1998,
          1999,
          2000,
          2001,
          2002,
          2003,
          2004,
          2005,
          2006,
          2007,
          2008,
          2009,
          2010,
          2011,
          2012,
          2013,
          2014,
          2015,
          2016,
          2017,
          2018,
          2019,
          2020
         ],
         "xaxis": "x",
         "y": [
          0.8868960000000005,
          0.9385915492957748,
          0.9572467913513516,
          0.940199860169493,
          0.9626070503597138,
          0.660817216981134,
          0.9361794552845558,
          0.9386165035685952,
          0.6014265861344558,
          0.936714937370057,
          0.8330399585921336,
          0.9357705179282878,
          0.899897909117222,
          0.8911487501730107,
          0.7783855599472987,
          0.7723120800000008,
          0.8654357853881286,
          0.9192803908646014,
          0.9087381000000004,
          0.8476440499999951,
          0.8957376562500025,
          0.8529343703923857,
          0.9027523185915528,
          0.9076531914893636,
          0.7096568630000005,
          0.9199445823665852,
          0.9139650224242392,
          0.9221549999999956,
          0.9075328949999956,
          0.8539413005999965,
          0.9022971956499974,
          0.8743009244999965,
          0.8909223502564074,
          0.8650197272999992,
          0.8405510069999986,
          0.8230569899999975,
          0.7928023589743608,
          0.7796118650000005,
          0.7793927897435907,
          0.7671814843243259,
          0.7519038684210535,
          0.720607806842106,
          0.7227048300000004,
          0.6941005307692291,
          0.6099113295384619,
          0.5248094599699997,
          0.5296103243521767,
          0.4937702403500001,
          0.4488463039999994,
          0.4600571139500007,
          0.4583362981000009,
          0.4600428051999994,
          0.4165241889999992,
          0.4472074226000001,
          0.4337738871950005,
          0.3614706321099993,
          0.3393025333750004,
          0.3289685734499993,
          0.29593224063,
          0.284955397635897,
          0.3012042267400006,
          0.2895800382050001,
          0.2947778916300001,
          0.2877095803450008,
          0.2965709032099995,
          0.2850806564249999,
          0.3116640663948722,
          0.322009946512821,
          0.3133512518150009,
          0.3328699505850001,
          0.3327652916307699,
          0.3208087638250009,
          0.3090685537400004,
          0.3062343630899999,
          0.3025118061200004,
          0.3010268798000006,
          0.3067156934549995,
          0.2914894615700001,
          0.2715901110661201,
          0.2893227005163599,
          0.2868424748428934,
          0.282624289885001,
          0.2564705181729783,
          0.2805589466225845,
          0.2557635068666665,
          0.2799863520256408,
          0.2540809575538463,
          0.2491917627212275,
          0.261928619096939,
          0.2426866435515872,
          0.2731826625185919,
          0.2499530443804624,
          0.2574880859564779,
          0.249312645880299,
          0.2539522577102332,
          0.2841710299554814,
          0.2860990665261043,
          0.2676329907750836,
          0.2782985863365824,
          0.2199308880935964
         ],
         "yaxis": "y"
        },
        {
         "hovertemplate": "variable=valence<br>year=%{x}<br>value=%{y}<extra></extra>",
         "legendgroup": "valence",
         "line": {
          "color": "#EF553B",
          "dash": "solid"
         },
         "marker": {
          "symbol": "circle"
         },
         "mode": "lines",
         "name": "valence",
         "orientation": "v",
         "showlegend": true,
         "type": "scatter",
         "x": [
          1921,
          1922,
          1923,
          1924,
          1925,
          1926,
          1927,
          1928,
          1929,
          1930,
          1931,
          1932,
          1933,
          1934,
          1935,
          1936,
          1937,
          1938,
          1939,
          1940,
          1941,
          1942,
          1943,
          1944,
          1945,
          1946,
          1947,
          1948,
          1949,
          1950,
          1951,
          1952,
          1953,
          1954,
          1955,
          1956,
          1957,
          1958,
          1959,
          1960,
          1961,
          1962,
          1963,
          1964,
          1965,
          1966,
          1967,
          1968,
          1969,
          1970,
          1971,
          1972,
          1973,
          1974,
          1975,
          1976,
          1977,
          1978,
          1979,
          1980,
          1981,
          1982,
          1983,
          1984,
          1985,
          1986,
          1987,
          1988,
          1989,
          1990,
          1991,
          1992,
          1993,
          1994,
          1995,
          1996,
          1997,
          1998,
          1999,
          2000,
          2001,
          2002,
          2003,
          2004,
          2005,
          2006,
          2007,
          2008,
          2009,
          2010,
          2011,
          2012,
          2013,
          2014,
          2015,
          2016,
          2017,
          2018,
          2019,
          2020
         ],
         "xaxis": "x",
         "y": [
          0.3793266666666666,
          0.5355492957746479,
          0.6254924324324328,
          0.6637254237288139,
          0.6219287769784171,
          0.4369104571843251,
          0.6597004878048782,
          0.4957126883425853,
          0.6365298319327733,
          0.6162376299376306,
          0.5131170807453418,
          0.5881599601593626,
          0.5994099855282197,
          0.5588046712802772,
          0.5455777997364957,
          0.5640635454545455,
          0.5857894977168944,
          0.5149111092985317,
          0.5599248999999992,
          0.6167094700000009,
          0.4794560416666661,
          0.4774088585017848,
          0.4954545070422531,
          0.5406954787234041,
          0.4913613500000002,
          0.3982538283062647,
          0.5082125454545455,
          0.4621423684210526,
          0.4304195000000001,
          0.5516497000000001,
          0.44134755,
          0.4431349620499994,
          0.4291420512820513,
          0.4523410500000002,
          0.4724154999999997,
          0.5084230500000003,
          0.5110101538461542,
          0.4976614999999994,
          0.4784156410256422,
          0.5239316756756759,
          0.5128512105263155,
          0.5477920526315792,
          0.5415274500000008,
          0.55726042051282,
          0.5809506666666668,
          0.5801445499999996,
          0.5507916958479243,
          0.5659936500000002,
          0.5547452849999999,
          0.5720753999999992,
          0.5749132500000002,
          0.5956881500000009,
          0.5921162000000004,
          0.5812744000000009,
          0.5694151500000002,
          0.5807332499999998,
          0.58524655,
          0.5895352500000014,
          0.6099818000000005,
          0.5980580512820513,
          0.5829518500000006,
          0.5864384500000001,
          0.5721198999999989,
          0.5516387100000003,
          0.5655964500000001,
          0.5509485500000019,
          0.5414511794871785,
          0.5464853897435901,
          0.5483329000000007,
          0.5265268499999999,
          0.5486552307692295,
          0.5590983000000014,
          0.5555684500000001,
          0.5266491500000006,
          0.5302466999999994,
          0.5608732500000001,
          0.5485525000000002,
          0.5377209,
          0.5564528446950284,
          0.5594754601226991,
          0.541479107231919,
          0.5423971500000008,
          0.5305042476970324,
          0.5244885554425227,
          0.5325309230769236,
          0.5200283076923078,
          0.5167938461538473,
          0.5275418925831203,
          0.5071696617346935,
          0.5208951587301589,
          0.4724536787307882,
          0.4627090128534706,
          0.4547411943319834,
          0.4630487780548628,
          0.4320983687943254,
          0.4315320589872012,
          0.4164763112449793,
          0.4479212743699474,
          0.4588176295536167,
          0.5010478078817729
         ],
         "yaxis": "y"
        },
        {
         "hovertemplate": "variable=danceability<br>year=%{x}<br>value=%{y}<extra></extra>",
         "legendgroup": "danceability",
         "line": {
          "color": "#00cc96",
          "dash": "solid"
         },
         "marker": {
          "symbol": "circle"
         },
         "mode": "lines",
         "name": "danceability",
         "orientation": "v",
         "showlegend": true,
         "type": "scatter",
         "x": [
          1921,
          1922,
          1923,
          1924,
          1925,
          1926,
          1927,
          1928,
          1929,
          1930,
          1931,
          1932,
          1933,
          1934,
          1935,
          1936,
          1937,
          1938,
          1939,
          1940,
          1941,
          1942,
          1943,
          1944,
          1945,
          1946,
          1947,
          1948,
          1949,
          1950,
          1951,
          1952,
          1953,
          1954,
          1955,
          1956,
          1957,
          1958,
          1959,
          1960,
          1961,
          1962,
          1963,
          1964,
          1965,
          1966,
          1967,
          1968,
          1969,
          1970,
          1971,
          1972,
          1973,
          1974,
          1975,
          1976,
          1977,
          1978,
          1979,
          1980,
          1981,
          1982,
          1983,
          1984,
          1985,
          1986,
          1987,
          1988,
          1989,
          1990,
          1991,
          1992,
          1993,
          1994,
          1995,
          1996,
          1997,
          1998,
          1999,
          2000,
          2001,
          2002,
          2003,
          2004,
          2005,
          2006,
          2007,
          2008,
          2009,
          2010,
          2011,
          2012,
          2013,
          2014,
          2015,
          2016,
          2017,
          2018,
          2019,
          2020
         ],
         "xaxis": "x",
         "y": [
          0.4185973333333336,
          0.4820422535211267,
          0.5773405405405401,
          0.5498940677966102,
          0.5738633093525181,
          0.5998802612481859,
          0.6482682926829262,
          0.5342878667724027,
          0.6476698529411761,
          0.5181758835758836,
          0.5952217391304357,
          0.5577976095617526,
          0.57029030390738,
          0.528705882352941,
          0.5558691699604746,
          0.5580055454545453,
          0.5421572298325723,
          0.479977977161501,
          0.5126828,
          0.52189235,
          0.4804813541666676,
          0.4646338882282997,
          0.4551456338028168,
          0.5001744680851068,
          0.5191431500000011,
          0.4144450116009276,
          0.4713208484848491,
          0.4633694736842109,
          0.4421993999999996,
          0.5042531000000008,
          0.4624800999999999,
          0.4570322000000001,
          0.4374260512820513,
          0.4656388999999994,
          0.4881312,
          0.4878145000000007,
          0.5034812307692305,
          0.4800213999999995,
          0.4821143076923083,
          0.4860292432432435,
          0.4891655789473678,
          0.4931643684210523,
          0.48162135,
          0.5041769743589742,
          0.5034505641025638,
          0.5070204999999981,
          0.4926885942971483,
          0.5010080999999997,
          0.4880977999999999,
          0.5063075000000004,
          0.5042738499999999,
          0.5209994499999997,
          0.5154494500000005,
          0.51533975,
          0.5209980000000007,
          0.5297624999999999,
          0.5333237000000017,
          0.5407746000000005,
          0.5620453000000001,
          0.5561523589743594,
          0.5421846999999999,
          0.5642594000000005,
          0.5456292999999998,
          0.5303089499999987,
          0.5556424000000012,
          0.5409334000000001,
          0.5410193333333342,
          0.5404594358974372,
          0.5472274499999988,
          0.5352986500000001,
          0.5558243589743591,
          0.5550648499999989,
          0.5698781500000001,
          0.5528299500000016,
          0.5590457500000001,
          0.5878306000000001,
          0.5768138499999994,
          0.5862116499999998,
          0.5821579190158892,
          0.590918047034764,
          0.5833178553615969,
          0.5761602999999997,
          0.5757633060388944,
          0.5676803662258397,
          0.5722805641025652,
          0.5682301538461539,
          0.5634143589743592,
          0.5791928388746803,
          0.5641903571428577,
          0.5724883432539687,
          0.5528669806643526,
          0.5708818508997433,
          0.5711480263157896,
          0.5899476807980057,
          0.5937740628166152,
          0.6002023928770179,
          0.6122170180722886,
          0.6635004755111744,
          0.6448141097998967,
          0.6929043349753701
         ],
         "yaxis": "y"
        },
        {
         "hovertemplate": "variable=energy<br>year=%{x}<br>value=%{y}<extra></extra>",
         "legendgroup": "energy",
         "line": {
          "color": "#ab63fa",
          "dash": "solid"
         },
         "marker": {
          "symbol": "circle"
         },
         "mode": "lines",
         "name": "energy",
         "orientation": "v",
         "showlegend": true,
         "type": "scatter",
         "x": [
          1921,
          1922,
          1923,
          1924,
          1925,
          1926,
          1927,
          1928,
          1929,
          1930,
          1931,
          1932,
          1933,
          1934,
          1935,
          1936,
          1937,
          1938,
          1939,
          1940,
          1941,
          1942,
          1943,
          1944,
          1945,
          1946,
          1947,
          1948,
          1949,
          1950,
          1951,
          1952,
          1953,
          1954,
          1955,
          1956,
          1957,
          1958,
          1959,
          1960,
          1961,
          1962,
          1963,
          1964,
          1965,
          1966,
          1967,
          1968,
          1969,
          1970,
          1971,
          1972,
          1973,
          1974,
          1975,
          1976,
          1977,
          1978,
          1979,
          1980,
          1981,
          1982,
          1983,
          1984,
          1985,
          1986,
          1987,
          1988,
          1989,
          1990,
          1991,
          1992,
          1993,
          1994,
          1995,
          1996,
          1997,
          1998,
          1999,
          2000,
          2001,
          2002,
          2003,
          2004,
          2005,
          2006,
          2007,
          2008,
          2009,
          2010,
          2011,
          2012,
          2013,
          2014,
          2015,
          2016,
          2017,
          2018,
          2019,
          2020
         ],
         "xaxis": "x",
         "y": [
          0.2318151333333333,
          0.2378153521126759,
          0.2624064864864865,
          0.3443466101694912,
          0.2785935251798561,
          0.2114670907111756,
          0.2643213008130081,
          0.2079477954004757,
          0.2418007352941172,
          0.3335239189189189,
          0.2344967732919257,
          0.3020677290836656,
          0.2798994211287988,
          0.2621313148788928,
          0.2463669762845848,
          0.3083886092727274,
          0.3110482952815827,
          0.2809812398042416,
          0.2826715000000002,
          0.3108928949999999,
          0.2656431979166666,
          0.2560794708680144,
          0.2799900422535211,
          0.2534414494680852,
          0.2260444155,
          0.2221723085846866,
          0.2635512000000002,
          0.242464841052632,
          0.2461146149999996,
          0.3140711950000003,
          0.254665655,
          0.2536260100000002,
          0.2661968307692306,
          0.264347385,
          0.2950963400000001,
          0.3047611200000001,
          0.2952791333333324,
          0.3087957550000006,
          0.3109944051282049,
          0.3411423783783781,
          0.3395318673684203,
          0.3710257,
          0.3653538849999999,
          0.394438825641026,
          0.4490272461538461,
          0.482208465,
          0.4468238319159585,
          0.4569696500000004,
          0.4876251299999994,
          0.495633050000001,
          0.4963612550000003,
          0.5045261799999999,
          0.5361382499999989,
          0.5147236550000011,
          0.5232085050000003,
          0.5538432500000001,
          0.560287959000001,
          0.5614288650000007,
          0.5910127149999996,
          0.5977773948717964,
          0.5993827249999998,
          0.5909193894999996,
          0.6014252350000012,
          0.5910916750000013,
          0.6015154800000013,
          0.6149545999999998,
          0.5798395538461533,
          0.5856792461538458,
          0.584046375000001,
          0.5715913950000007,
          0.5594023641025635,
          0.5828642050000001,
          0.5625599100000002,
          0.578772685000001,
          0.5785795100000009,
          0.5860684750000011,
          0.5986987151000001,
          0.6051975050000015,
          0.6375226022552535,
          0.6254128323108387,
          0.6269855221945144,
          0.6412697960000012,
          0.6601652610030712,
          0.6488679450661226,
          0.653208511282051,
          0.6503262820512825,
          0.6683047743589737,
          0.6714608207672623,
          0.6707487551020408,
          0.6817778026289684,
          0.6483008934060499,
          0.6565714601542408,
          0.6455968914473688,
          0.6487954437905223,
          0.6270642715298895,
          0.5928552316082347,
          0.5904210208835337,
          0.6024346220161672,
          0.5932240360184717,
          0.6312316354679793
         ],
         "yaxis": "y"
        },
        {
         "hovertemplate": "variable=instrumentalness<br>year=%{x}<br>value=%{y}<extra></extra>",
         "legendgroup": "instrumentalness",
         "line": {
          "color": "#FFA15A",
          "dash": "solid"
         },
         "marker": {
          "symbol": "circle"
         },
         "mode": "lines",
         "name": "instrumentalness",
         "orientation": "v",
         "showlegend": true,
         "type": "scatter",
         "x": [
          1921,
          1922,
          1923,
          1924,
          1925,
          1926,
          1927,
          1928,
          1929,
          1930,
          1931,
          1932,
          1933,
          1934,
          1935,
          1936,
          1937,
          1938,
          1939,
          1940,
          1941,
          1942,
          1943,
          1944,
          1945,
          1946,
          1947,
          1948,
          1949,
          1950,
          1951,
          1952,
          1953,
          1954,
          1955,
          1956,
          1957,
          1958,
          1959,
          1960,
          1961,
          1962,
          1963,
          1964,
          1965,
          1966,
          1967,
          1968,
          1969,
          1970,
          1971,
          1972,
          1973,
          1974,
          1975,
          1976,
          1977,
          1978,
          1979,
          1980,
          1981,
          1982,
          1983,
          1984,
          1985,
          1986,
          1987,
          1988,
          1989,
          1990,
          1991,
          1992,
          1993,
          1994,
          1995,
          1996,
          1997,
          1998,
          1999,
          2000,
          2001,
          2002,
          2003,
          2004,
          2005,
          2006,
          2007,
          2008,
          2009,
          2010,
          2011,
          2012,
          2013,
          2014,
          2015,
          2016,
          2017,
          2018,
          2019,
          2020
         ],
         "xaxis": "x",
         "y": [
          0.3448780588666665,
          0.4341948697183099,
          0.371732725027027,
          0.5817009136440677,
          0.4182973612230215,
          0.3330931111175616,
          0.3913284986504065,
          0.4948354801348136,
          0.2152040310609246,
          0.3522059281652805,
          0.2214196416149072,
          0.2263565791633467,
          0.1839489396816208,
          0.276382266643599,
          0.2258732980895915,
          0.2571099957181816,
          0.3270876216438359,
          0.3784246349265906,
          0.2776824694100001,
          0.3168486998649998,
          0.4449516393124999,
          0.392882047871581,
          0.4098969234647892,
          0.4492919654122334,
          0.2758942570149996,
          0.4861264096461711,
          0.3475934179090908,
          0.3554848223842104,
          0.2977615361899994,
          0.245000820015,
          0.3084378555850002,
          0.2884126469300002,
          0.3183223943230766,
          0.2974400082799999,
          0.2166044216900002,
          0.2387634177800001,
          0.1945206161692309,
          0.1812411100599998,
          0.1881481940615383,
          0.1765021594216216,
          0.2646232531421054,
          0.1714715509421054,
          0.18543231468,
          0.1595978017794872,
          0.1183659460923078,
          0.1151259555649999,
          0.1189468546723362,
          0.112776949285,
          0.1594527081650001,
          0.1275670030849998,
          0.12501788923,
          0.1148803337599997,
          0.0996802232299999,
          0.11636098351,
          0.1113220337449999,
          0.12162904398,
          0.1277210319449999,
          0.1003812145099999,
          0.1157513720150001,
          0.1287510612717948,
          0.1468379466199998,
          0.100016383,
          0.1454105232900004,
          0.1451730397350004,
          0.1137385580749998,
          0.1099408543649999,
          0.1019745174666666,
          0.117190380220513,
          0.1131825446149999,
          0.1258262680949997,
          0.1150923397999999,
          0.1006900830649998,
          0.11529396538,
          0.1118857599499999,
          0.1232687960699999,
          0.0950528120350001,
          0.1046901786199999,
          0.1113257503499999,
          0.0940681410661199,
          0.1011677687934559,
          0.1072140189925186,
          0.0880483503149999,
          0.0830492746673491,
          0.0779340349084435,
          0.0901943611846154,
          0.0777014718769231,
          0.0729572680512819,
          0.0636620903171356,
          0.0758720736836735,
          0.0829805682192461,
          0.103772332166584,
          0.0852055206786631,
          0.0983650539170038,
          0.0765695548379051,
          0.1067868780547114,
          0.0939843871174179,
          0.0970906090662649,
          0.0542171216690441,
          0.0776402469728064,
          0.0163755243054187
         ],
         "yaxis": "y"
        },
        {
         "hovertemplate": "variable=liveness<br>year=%{x}<br>value=%{y}<extra></extra>",
         "legendgroup": "liveness",
         "line": {
          "color": "#19d3f3",
          "dash": "solid"
         },
         "marker": {
          "symbol": "circle"
         },
         "mode": "lines",
         "name": "liveness",
         "orientation": "v",
         "showlegend": true,
         "type": "scatter",
         "x": [
          1921,
          1922,
          1923,
          1924,
          1925,
          1926,
          1927,
          1928,
          1929,
          1930,
          1931,
          1932,
          1933,
          1934,
          1935,
          1936,
          1937,
          1938,
          1939,
          1940,
          1941,
          1942,
          1943,
          1944,
          1945,
          1946,
          1947,
          1948,
          1949,
          1950,
          1951,
          1952,
          1953,
          1954,
          1955,
          1956,
          1957,
          1958,
          1959,
          1960,
          1961,
          1962,
          1963,
          1964,
          1965,
          1966,
          1967,
          1968,
          1969,
          1970,
          1971,
          1972,
          1973,
          1974,
          1975,
          1976,
          1977,
          1978,
          1979,
          1980,
          1981,
          1982,
          1983,
          1984,
          1985,
          1986,
          1987,
          1988,
          1989,
          1990,
          1991,
          1992,
          1993,
          1994,
          1995,
          1996,
          1997,
          1998,
          1999,
          2000,
          2001,
          2002,
          2003,
          2004,
          2005,
          2006,
          2007,
          2008,
          2009,
          2010,
          2011,
          2012,
          2013,
          2014,
          2015,
          2016,
          2017,
          2018,
          2019,
          2020
         ],
         "xaxis": "x",
         "y": [
          0.20571,
          0.2407197183098592,
          0.2274621621621621,
          0.2352190677966101,
          0.2376679856115108,
          0.2323695936139332,
          0.1684502439024389,
          0.1752893735130848,
          0.2360002100840333,
          0.2213108627858629,
          0.2274279503105589,
          0.2324962151394422,
          0.2090719247467437,
          0.2134525951557092,
          0.2292998682476943,
          0.2214382727272726,
          0.2259677321156773,
          0.237111092985318,
          0.2391015999999999,
          0.2643351000000004,
          0.2018398958333331,
          0.2128784185493456,
          0.2392107042253524,
          0.2387719414893616,
          0.2030099500000001,
          0.2108183294663576,
          0.2238293939393936,
          0.2196935789473678,
          0.2088585500000004,
          0.2169584000000004,
          0.2177773999999999,
          0.2329722999999998,
          0.221734051282051,
          0.2178411499999996,
          0.2214353500000001,
          0.1822571500000002,
          0.1827485641025636,
          0.2058408500000003,
          0.1918429230769232,
          0.2078637297297298,
          0.2089125789473681,
          0.2018957368421054,
          0.2037453000000002,
          0.2172323589743596,
          0.2138391282051284,
          0.2180930999999999,
          0.190917658829415,
          0.2173509500000005,
          0.2069658999999999,
          0.2122688000000002,
          0.2149145500000001,
          0.2069549500000001,
          0.2013747499999997,
          0.2093463499999996,
          0.2154413500000002,
          0.2490321999999999,
          0.2232140500000004,
          0.2180709499999994,
          0.2134431000000002,
          0.2037541025641026,
          0.2250998999999999,
          0.20100675,
          0.1989224500000002,
          0.1977062,
          0.1992064499999998,
          0.2118794500000001,
          0.202018102564103,
          0.207707538461538,
          0.1990802,
          0.1909609,
          0.1886289230769235,
          0.2002455000000007,
          0.1949322500000003,
          0.1921651000000001,
          0.2013737000000004,
          0.1986863000000002,
          0.1984788000000003,
          0.1937308999999996,
          0.206308047155305,
          0.1976860429447853,
          0.1870256359102248,
          0.1939111999999998,
          0.196976305015353,
          0.2021994404883014,
          0.1900816256410258,
          0.1882892820512821,
          0.1961265641025642,
          0.1984314066496162,
          0.2052522959183674,
          0.1997006448412699,
          0.2033088249876056,
          0.1897330077120824,
          0.1996308198380571,
          0.1918215960099752,
          0.1888564336372847,
          0.181169894268225,
          0.1917126004016064,
          0.1763255349500711,
          0.1726164186762446,
          0.1785354187192117
         ],
         "yaxis": "y"
        },
        {
         "hovertemplate": "variable=speechiness<br>year=%{x}<br>value=%{y}<extra></extra>",
         "legendgroup": "speechiness",
         "line": {
          "color": "#FF6692",
          "dash": "solid"
         },
         "marker": {
          "symbol": "circle"
         },
         "mode": "lines",
         "name": "speechiness",
         "orientation": "v",
         "showlegend": true,
         "type": "scatter",
         "x": [
          1921,
          1922,
          1923,
          1924,
          1925,
          1926,
          1927,
          1928,
          1929,
          1930,
          1931,
          1932,
          1933,
          1934,
          1935,
          1936,
          1937,
          1938,
          1939,
          1940,
          1941,
          1942,
          1943,
          1944,
          1945,
          1946,
          1947,
          1948,
          1949,
          1950,
          1951,
          1952,
          1953,
          1954,
          1955,
          1956,
          1957,
          1958,
          1959,
          1960,
          1961,
          1962,
          1963,
          1964,
          1965,
          1966,
          1967,
          1968,
          1969,
          1970,
          1971,
          1972,
          1973,
          1974,
          1975,
          1976,
          1977,
          1978,
          1979,
          1980,
          1981,
          1982,
          1983,
          1984,
          1985,
          1986,
          1987,
          1988,
          1989,
          1990,
          1991,
          1992,
          1993,
          1994,
          1995,
          1996,
          1997,
          1998,
          1999,
          2000,
          2001,
          2002,
          2003,
          2004,
          2005,
          2006,
          2007,
          2008,
          2009,
          2010,
          2011,
          2012,
          2013,
          2014,
          2015,
          2016,
          2017,
          2018,
          2019,
          2020
         ],
         "xaxis": "x",
         "y": [
          0.073662,
          0.1166549295774648,
          0.0939486486486487,
          0.0920894067796609,
          0.1119179856115108,
          0.4837036284470243,
          0.113609593495935,
          0.1599114988104679,
          0.4900007352941176,
          0.1199096673596674,
          0.4536189440993791,
          0.1390073705179282,
          0.0911231548480463,
          0.1024569204152248,
          0.3539123847167326,
          0.2790293636363637,
          0.0856788432267884,
          0.095957259380098,
          0.1284626999999999,
          0.2429576500000001,
          0.0913652083333335,
          0.0836783590963139,
          0.1057195774647887,
          0.1732832446808509,
          0.3050972999999997,
          0.0880059164733179,
          0.1005638181818182,
          0.1643593157894739,
          0.1029921,
          0.1534527499999999,
          0.1085066499999999,
          0.1373617999999998,
          0.0900882564102564,
          0.1048132999999999,
          0.0895582,
          0.0623123499999999,
          0.0643531282051282,
          0.0569992999999999,
          0.0678743076923077,
          0.0657835135135136,
          0.0594759473684209,
          0.0577398421052631,
          0.0520361499999999,
          0.0665944615384614,
          0.0575564615384614,
          0.05596405,
          0.0490983991995996,
          0.0589884999999999,
          0.0549749999999999,
          0.0516814999999999,
          0.0594224,
          0.0548712499999999,
          0.05782575,
          0.0573193499999999,
          0.06109845,
          0.0627499499999999,
          0.0608545499999999,
          0.0627574,
          0.0690585999999999,
          0.0592486153846154,
          0.0579159999999999,
          0.06585305,
          0.066886,
          0.0592648000000001,
          0.0584648,
          0.0648160999999999,
          0.057789641025641,
          0.0660998974358974,
          0.0639392499999999,
          0.0643452999999999,
          0.0711015897435898,
          0.0730623,
          0.0763505499999999,
          0.0760493500000001,
          0.0837544499999998,
          0.08607765,
          0.0885060500000001,
          0.09173105,
          0.094407175807278,
          0.0892054192229039,
          0.0891822942643391,
          0.0843075999999999,
          0.0939257420675538,
          0.0942388097660224,
          0.093333692307692,
          0.0858467692307692,
          0.0843473333333333,
          0.077356368286445,
          0.0854578061224489,
          0.0810314980158731,
          0.087479276152702,
          0.081742467866324,
          0.0938488866396761,
          0.0840605486284289,
          0.0967792299898684,
          0.1043132999443518,
          0.1105364959839356,
          0.1271755587256302,
          0.1210433555669573,
          0.1413836945812805
         ],
         "yaxis": "y"
        }
       ],
       "layout": {
        "font": {
         "color": "White",
         "family": "Arial"
        },
        "legend": {
         "title": {
          "text": "variable"
         },
         "tracegroupgap": 0
        },
        "margin": {
         "t": 60
        },
        "template": {
         "data": {
          "bar": [
           {
            "error_x": {
             "color": "#f2f5fa"
            },
            "error_y": {
             "color": "#f2f5fa"
            },
            "marker": {
             "line": {
              "color": "rgb(17,17,17)",
              "width": 0.5
             },
             "pattern": {
              "fillmode": "overlay",
              "size": 10,
              "solidity": 0.2
             }
            },
            "type": "bar"
           }
          ],
          "barpolar": [
           {
            "marker": {
             "line": {
              "color": "rgb(17,17,17)",
              "width": 0.5
             },
             "pattern": {
              "fillmode": "overlay",
              "size": 10,
              "solidity": 0.2
             }
            },
            "type": "barpolar"
           }
          ],
          "carpet": [
           {
            "aaxis": {
             "endlinecolor": "#A2B1C6",
             "gridcolor": "#506784",
             "linecolor": "#506784",
             "minorgridcolor": "#506784",
             "startlinecolor": "#A2B1C6"
            },
            "baxis": {
             "endlinecolor": "#A2B1C6",
             "gridcolor": "#506784",
             "linecolor": "#506784",
             "minorgridcolor": "#506784",
             "startlinecolor": "#A2B1C6"
            },
            "type": "carpet"
           }
          ],
          "choropleth": [
           {
            "colorbar": {
             "outlinewidth": 0,
             "ticks": ""
            },
            "type": "choropleth"
           }
          ],
          "contour": [
           {
            "colorbar": {
             "outlinewidth": 0,
             "ticks": ""
            },
            "colorscale": [
             [
              0,
              "#0d0887"
             ],
             [
              0.1111111111111111,
              "#46039f"
             ],
             [
              0.2222222222222222,
              "#7201a8"
             ],
             [
              0.3333333333333333,
              "#9c179e"
             ],
             [
              0.4444444444444444,
              "#bd3786"
             ],
             [
              0.5555555555555556,
              "#d8576b"
             ],
             [
              0.6666666666666666,
              "#ed7953"
             ],
             [
              0.7777777777777778,
              "#fb9f3a"
             ],
             [
              0.8888888888888888,
              "#fdca26"
             ],
             [
              1,
              "#f0f921"
             ]
            ],
            "type": "contour"
           }
          ],
          "contourcarpet": [
           {
            "colorbar": {
             "outlinewidth": 0,
             "ticks": ""
            },
            "type": "contourcarpet"
           }
          ],
          "heatmap": [
           {
            "colorbar": {
             "outlinewidth": 0,
             "ticks": ""
            },
            "colorscale": [
             [
              0,
              "#0d0887"
             ],
             [
              0.1111111111111111,
              "#46039f"
             ],
             [
              0.2222222222222222,
              "#7201a8"
             ],
             [
              0.3333333333333333,
              "#9c179e"
             ],
             [
              0.4444444444444444,
              "#bd3786"
             ],
             [
              0.5555555555555556,
              "#d8576b"
             ],
             [
              0.6666666666666666,
              "#ed7953"
             ],
             [
              0.7777777777777778,
              "#fb9f3a"
             ],
             [
              0.8888888888888888,
              "#fdca26"
             ],
             [
              1,
              "#f0f921"
             ]
            ],
            "type": "heatmap"
           }
          ],
          "heatmapgl": [
           {
            "colorbar": {
             "outlinewidth": 0,
             "ticks": ""
            },
            "colorscale": [
             [
              0,
              "#0d0887"
             ],
             [
              0.1111111111111111,
              "#46039f"
             ],
             [
              0.2222222222222222,
              "#7201a8"
             ],
             [
              0.3333333333333333,
              "#9c179e"
             ],
             [
              0.4444444444444444,
              "#bd3786"
             ],
             [
              0.5555555555555556,
              "#d8576b"
             ],
             [
              0.6666666666666666,
              "#ed7953"
             ],
             [
              0.7777777777777778,
              "#fb9f3a"
             ],
             [
              0.8888888888888888,
              "#fdca26"
             ],
             [
              1,
              "#f0f921"
             ]
            ],
            "type": "heatmapgl"
           }
          ],
          "histogram": [
           {
            "marker": {
             "pattern": {
              "fillmode": "overlay",
              "size": 10,
              "solidity": 0.2
             }
            },
            "type": "histogram"
           }
          ],
          "histogram2d": [
           {
            "colorbar": {
             "outlinewidth": 0,
             "ticks": ""
            },
            "colorscale": [
             [
              0,
              "#0d0887"
             ],
             [
              0.1111111111111111,
              "#46039f"
             ],
             [
              0.2222222222222222,
              "#7201a8"
             ],
             [
              0.3333333333333333,
              "#9c179e"
             ],
             [
              0.4444444444444444,
              "#bd3786"
             ],
             [
              0.5555555555555556,
              "#d8576b"
             ],
             [
              0.6666666666666666,
              "#ed7953"
             ],
             [
              0.7777777777777778,
              "#fb9f3a"
             ],
             [
              0.8888888888888888,
              "#fdca26"
             ],
             [
              1,
              "#f0f921"
             ]
            ],
            "type": "histogram2d"
           }
          ],
          "histogram2dcontour": [
           {
            "colorbar": {
             "outlinewidth": 0,
             "ticks": ""
            },
            "colorscale": [
             [
              0,
              "#0d0887"
             ],
             [
              0.1111111111111111,
              "#46039f"
             ],
             [
              0.2222222222222222,
              "#7201a8"
             ],
             [
              0.3333333333333333,
              "#9c179e"
             ],
             [
              0.4444444444444444,
              "#bd3786"
             ],
             [
              0.5555555555555556,
              "#d8576b"
             ],
             [
              0.6666666666666666,
              "#ed7953"
             ],
             [
              0.7777777777777778,
              "#fb9f3a"
             ],
             [
              0.8888888888888888,
              "#fdca26"
             ],
             [
              1,
              "#f0f921"
             ]
            ],
            "type": "histogram2dcontour"
           }
          ],
          "mesh3d": [
           {
            "colorbar": {
             "outlinewidth": 0,
             "ticks": ""
            },
            "type": "mesh3d"
           }
          ],
          "parcoords": [
           {
            "line": {
             "colorbar": {
              "outlinewidth": 0,
              "ticks": ""
             }
            },
            "type": "parcoords"
           }
          ],
          "pie": [
           {
            "automargin": true,
            "type": "pie"
           }
          ],
          "scatter": [
           {
            "marker": {
             "line": {
              "color": "#283442"
             }
            },
            "type": "scatter"
           }
          ],
          "scatter3d": [
           {
            "line": {
             "colorbar": {
              "outlinewidth": 0,
              "ticks": ""
             }
            },
            "marker": {
             "colorbar": {
              "outlinewidth": 0,
              "ticks": ""
             }
            },
            "type": "scatter3d"
           }
          ],
          "scattercarpet": [
           {
            "marker": {
             "colorbar": {
              "outlinewidth": 0,
              "ticks": ""
             }
            },
            "type": "scattercarpet"
           }
          ],
          "scattergeo": [
           {
            "marker": {
             "colorbar": {
              "outlinewidth": 0,
              "ticks": ""
             }
            },
            "type": "scattergeo"
           }
          ],
          "scattergl": [
           {
            "marker": {
             "line": {
              "color": "#283442"
             }
            },
            "type": "scattergl"
           }
          ],
          "scattermapbox": [
           {
            "marker": {
             "colorbar": {
              "outlinewidth": 0,
              "ticks": ""
             }
            },
            "type": "scattermapbox"
           }
          ],
          "scatterpolar": [
           {
            "marker": {
             "colorbar": {
              "outlinewidth": 0,
              "ticks": ""
             }
            },
            "type": "scatterpolar"
           }
          ],
          "scatterpolargl": [
           {
            "marker": {
             "colorbar": {
              "outlinewidth": 0,
              "ticks": ""
             }
            },
            "type": "scatterpolargl"
           }
          ],
          "scatterternary": [
           {
            "marker": {
             "colorbar": {
              "outlinewidth": 0,
              "ticks": ""
             }
            },
            "type": "scatterternary"
           }
          ],
          "surface": [
           {
            "colorbar": {
             "outlinewidth": 0,
             "ticks": ""
            },
            "colorscale": [
             [
              0,
              "#0d0887"
             ],
             [
              0.1111111111111111,
              "#46039f"
             ],
             [
              0.2222222222222222,
              "#7201a8"
             ],
             [
              0.3333333333333333,
              "#9c179e"
             ],
             [
              0.4444444444444444,
              "#bd3786"
             ],
             [
              0.5555555555555556,
              "#d8576b"
             ],
             [
              0.6666666666666666,
              "#ed7953"
             ],
             [
              0.7777777777777778,
              "#fb9f3a"
             ],
             [
              0.8888888888888888,
              "#fdca26"
             ],
             [
              1,
              "#f0f921"
             ]
            ],
            "type": "surface"
           }
          ],
          "table": [
           {
            "cells": {
             "fill": {
              "color": "#506784"
             },
             "line": {
              "color": "rgb(17,17,17)"
             }
            },
            "header": {
             "fill": {
              "color": "#2a3f5f"
             },
             "line": {
              "color": "rgb(17,17,17)"
             }
            },
            "type": "table"
           }
          ]
         },
         "layout": {
          "annotationdefaults": {
           "arrowcolor": "#f2f5fa",
           "arrowhead": 0,
           "arrowwidth": 1
          },
          "autotypenumbers": "strict",
          "coloraxis": {
           "colorbar": {
            "outlinewidth": 0,
            "ticks": ""
           }
          },
          "colorscale": {
           "diverging": [
            [
             0,
             "#8e0152"
            ],
            [
             0.1,
             "#c51b7d"
            ],
            [
             0.2,
             "#de77ae"
            ],
            [
             0.3,
             "#f1b6da"
            ],
            [
             0.4,
             "#fde0ef"
            ],
            [
             0.5,
             "#f7f7f7"
            ],
            [
             0.6,
             "#e6f5d0"
            ],
            [
             0.7,
             "#b8e186"
            ],
            [
             0.8,
             "#7fbc41"
            ],
            [
             0.9,
             "#4d9221"
            ],
            [
             1,
             "#276419"
            ]
           ],
           "sequential": [
            [
             0,
             "#0d0887"
            ],
            [
             0.1111111111111111,
             "#46039f"
            ],
            [
             0.2222222222222222,
             "#7201a8"
            ],
            [
             0.3333333333333333,
             "#9c179e"
            ],
            [
             0.4444444444444444,
             "#bd3786"
            ],
            [
             0.5555555555555556,
             "#d8576b"
            ],
            [
             0.6666666666666666,
             "#ed7953"
            ],
            [
             0.7777777777777778,
             "#fb9f3a"
            ],
            [
             0.8888888888888888,
             "#fdca26"
            ],
            [
             1,
             "#f0f921"
            ]
           ],
           "sequentialminus": [
            [
             0,
             "#0d0887"
            ],
            [
             0.1111111111111111,
             "#46039f"
            ],
            [
             0.2222222222222222,
             "#7201a8"
            ],
            [
             0.3333333333333333,
             "#9c179e"
            ],
            [
             0.4444444444444444,
             "#bd3786"
            ],
            [
             0.5555555555555556,
             "#d8576b"
            ],
            [
             0.6666666666666666,
             "#ed7953"
            ],
            [
             0.7777777777777778,
             "#fb9f3a"
            ],
            [
             0.8888888888888888,
             "#fdca26"
            ],
            [
             1,
             "#f0f921"
            ]
           ]
          },
          "colorway": [
           "#636efa",
           "#EF553B",
           "#00cc96",
           "#ab63fa",
           "#FFA15A",
           "#19d3f3",
           "#FF6692",
           "#B6E880",
           "#FF97FF",
           "#FECB52"
          ],
          "font": {
           "color": "#f2f5fa"
          },
          "geo": {
           "bgcolor": "rgb(17,17,17)",
           "lakecolor": "rgb(17,17,17)",
           "landcolor": "rgb(17,17,17)",
           "showlakes": true,
           "showland": true,
           "subunitcolor": "#506784"
          },
          "hoverlabel": {
           "align": "left"
          },
          "hovermode": "closest",
          "mapbox": {
           "style": "dark"
          },
          "paper_bgcolor": "rgb(17,17,17)",
          "plot_bgcolor": "rgb(17,17,17)",
          "polar": {
           "angularaxis": {
            "gridcolor": "#506784",
            "linecolor": "#506784",
            "ticks": ""
           },
           "bgcolor": "rgb(17,17,17)",
           "radialaxis": {
            "gridcolor": "#506784",
            "linecolor": "#506784",
            "ticks": ""
           }
          },
          "scene": {
           "xaxis": {
            "backgroundcolor": "rgb(17,17,17)",
            "gridcolor": "#506784",
            "gridwidth": 2,
            "linecolor": "#506784",
            "showbackground": true,
            "ticks": "",
            "zerolinecolor": "#C8D4E3"
           },
           "yaxis": {
            "backgroundcolor": "rgb(17,17,17)",
            "gridcolor": "#506784",
            "gridwidth": 2,
            "linecolor": "#506784",
            "showbackground": true,
            "ticks": "",
            "zerolinecolor": "#C8D4E3"
           },
           "zaxis": {
            "backgroundcolor": "rgb(17,17,17)",
            "gridcolor": "#506784",
            "gridwidth": 2,
            "linecolor": "#506784",
            "showbackground": true,
            "ticks": "",
            "zerolinecolor": "#C8D4E3"
           }
          },
          "shapedefaults": {
           "line": {
            "color": "#f2f5fa"
           }
          },
          "sliderdefaults": {
           "bgcolor": "#C8D4E3",
           "bordercolor": "rgb(17,17,17)",
           "borderwidth": 1,
           "tickwidth": 0
          },
          "ternary": {
           "aaxis": {
            "gridcolor": "#506784",
            "linecolor": "#506784",
            "ticks": ""
           },
           "baxis": {
            "gridcolor": "#506784",
            "linecolor": "#506784",
            "ticks": ""
           },
           "bgcolor": "rgb(17,17,17)",
           "caxis": {
            "gridcolor": "#506784",
            "linecolor": "#506784",
            "ticks": ""
           }
          },
          "title": {
           "x": 0.05
          },
          "updatemenudefaults": {
           "bgcolor": "#506784",
           "borderwidth": 0
          },
          "xaxis": {
           "automargin": true,
           "gridcolor": "#283442",
           "linecolor": "#506784",
           "ticks": "",
           "title": {
            "standoff": 15
           },
           "zerolinecolor": "#283442",
           "zerolinewidth": 2
          },
          "yaxis": {
           "automargin": true,
           "gridcolor": "#283442",
           "linecolor": "#506784",
           "ticks": "",
           "title": {
            "standoff": 15
           },
           "zerolinecolor": "#283442",
           "zerolinewidth": 2
          }
         }
        },
        "title": {
         "font": {
          "color": "White",
          "family": "Arial"
         },
         "text": "Variables per years"
        },
        "xaxis": {
         "anchor": "y",
         "domain": [
          0,
          1
         ],
         "title": {
          "text": "Years"
         }
        },
        "yaxis": {
         "anchor": "x",
         "domain": [
          0,
          1
         ],
         "title": {
          "text": "Variables"
         }
        }
       }
      }
     },
     "metadata": {},
     "output_type": "display_data"
    }
   ],
   "source": [
    "fig = px.line(data_frame = dados_anos, x = 'year', y = ['acousticness', 'valence', 'danceability', 'energy', 'instrumentalness', 'liveness', 'speechiness'], markers = False,\n",
    "template = 'plotly_dark')\n",
    "\n",
    "fig.update_layout(\n",
    "    title = {\n",
    "        'text': 'Variables per years'},\n",
    "    xaxis_title = 'Years',\n",
    "    yaxis_title = 'Variables',\n",
    "    font_family=\"Arial\",\n",
    "    font_color=\"White\",\n",
    "    title_font_family=\"Arial\",\n",
    "    title_font_color= \"White\")\n",
    "\n",
    "fig.show()"
   ]
  },
  {
   "cell_type": "code",
   "execution_count": 67,
   "metadata": {},
   "outputs": [
    {
     "data": {
      "application/vnd.plotly.v1+json": {
       "config": {
        "plotlyServerURL": "https://plot.ly"
       },
       "data": [
        {
         "coloraxis": "coloraxis",
         "hovertemplate": "x: %{x}<br>y: %{y}<br>color: %{z}<extra></extra>",
         "name": "0",
         "texttemplate": "%{z}",
         "type": "heatmap",
         "x": [
          "valence",
          "year",
          "acousticness",
          "danceability",
          "duration_ms",
          "energy",
          "instrumentalness",
          "liveness",
          "loudness",
          "popularity",
          "speechiness",
          "tempo"
         ],
         "xaxis": "x",
         "y": [
          "valence",
          "year",
          "acousticness",
          "danceability",
          "duration_ms",
          "energy",
          "instrumentalness",
          "liveness",
          "loudness",
          "popularity",
          "speechiness",
          "tempo"
         ],
         "yaxis": "y",
         "z": [
          [
           1,
           -0.11,
           -0.18,
           0.47,
           -0.19,
           0.35,
           -0.26,
           0.02,
           0.34,
           -0.03,
           0.08,
           0.07
          ],
          [
           -0.11,
           1,
           -0.01,
           0.17,
           -0.15,
           -0.07,
           -0.13,
           -0.04,
           0.05,
           0.55,
           0.12,
           0.02
          ],
          [
           -0.18,
           -0.01,
           1,
           -0.18,
           -0.06,
           -0.71,
           0.3,
           -0.1,
           -0.6,
           -0.03,
           -0.12,
           -0.15
          ],
          [
           0.47,
           0.17,
           -0.18,
           1,
           -0.16,
           0.09,
           -0.31,
           -0.07,
           0.27,
           0.18,
           0.23,
           -0.09
          ],
          [
           -0.19,
           -0.15,
           -0.06,
           -0.16,
           1,
           0.01,
           0.07,
           0.05,
           -0.02,
           -0.11,
           -0.03,
           -0.03
          ],
          [
           0.35,
           -0.07,
           -0.71,
           0.09,
           0.01,
           1,
           -0.32,
           0.17,
           0.76,
           -0.03,
           0.11,
           0.19
          ],
          [
           -0.26,
           -0.13,
           0.3,
           -0.31,
           0.07,
           -0.32,
           1,
           -0.06,
           -0.56,
           -0.13,
           -0.14,
           -0.09
          ],
          [
           0.02,
           -0.04,
           -0.1,
           -0.07,
           0.05,
           0.17,
           -0.06,
           1,
           0.09,
           -0.07,
           0.12,
           0.01
          ],
          [
           0.34,
           0.05,
           -0.6,
           0.27,
           -0.02,
           0.76,
           -0.56,
           0.09,
           1,
           0.09,
           0.08,
           0.18
          ],
          [
           -0.03,
           0.55,
           -0.03,
           0.18,
           -0.11,
           -0.03,
           -0.13,
           -0.07,
           0.09,
           1,
           0.06,
           0
          ],
          [
           0.08,
           0.12,
           -0.12,
           0.23,
           -0.03,
           0.11,
           -0.14,
           0.12,
           0.08,
           0.06,
           1,
           0.04
          ],
          [
           0.07,
           0.02,
           -0.15,
           -0.09,
           -0.03,
           0.19,
           -0.09,
           0.01,
           0.18,
           0,
           0.04,
           1
          ]
         ]
        }
       ],
       "layout": {
        "coloraxis": {
         "colorscale": [
          [
           0,
           "#0d0887"
          ],
          [
           0.1111111111111111,
           "#46039f"
          ],
          [
           0.2222222222222222,
           "#7201a8"
          ],
          [
           0.3333333333333333,
           "#9c179e"
          ],
          [
           0.4444444444444444,
           "#bd3786"
          ],
          [
           0.5555555555555556,
           "#d8576b"
          ],
          [
           0.6666666666666666,
           "#ed7953"
          ],
          [
           0.7777777777777778,
           "#fb9f3a"
          ],
          [
           0.8888888888888888,
           "#fdca26"
          ],
          [
           1,
           "#f0f921"
          ]
         ]
        },
        "template": {
         "data": {
          "bar": [
           {
            "error_x": {
             "color": "#f2f5fa"
            },
            "error_y": {
             "color": "#f2f5fa"
            },
            "marker": {
             "line": {
              "color": "rgb(17,17,17)",
              "width": 0.5
             },
             "pattern": {
              "fillmode": "overlay",
              "size": 10,
              "solidity": 0.2
             }
            },
            "type": "bar"
           }
          ],
          "barpolar": [
           {
            "marker": {
             "line": {
              "color": "rgb(17,17,17)",
              "width": 0.5
             },
             "pattern": {
              "fillmode": "overlay",
              "size": 10,
              "solidity": 0.2
             }
            },
            "type": "barpolar"
           }
          ],
          "carpet": [
           {
            "aaxis": {
             "endlinecolor": "#A2B1C6",
             "gridcolor": "#506784",
             "linecolor": "#506784",
             "minorgridcolor": "#506784",
             "startlinecolor": "#A2B1C6"
            },
            "baxis": {
             "endlinecolor": "#A2B1C6",
             "gridcolor": "#506784",
             "linecolor": "#506784",
             "minorgridcolor": "#506784",
             "startlinecolor": "#A2B1C6"
            },
            "type": "carpet"
           }
          ],
          "choropleth": [
           {
            "colorbar": {
             "outlinewidth": 0,
             "ticks": ""
            },
            "type": "choropleth"
           }
          ],
          "contour": [
           {
            "colorbar": {
             "outlinewidth": 0,
             "ticks": ""
            },
            "colorscale": [
             [
              0,
              "#0d0887"
             ],
             [
              0.1111111111111111,
              "#46039f"
             ],
             [
              0.2222222222222222,
              "#7201a8"
             ],
             [
              0.3333333333333333,
              "#9c179e"
             ],
             [
              0.4444444444444444,
              "#bd3786"
             ],
             [
              0.5555555555555556,
              "#d8576b"
             ],
             [
              0.6666666666666666,
              "#ed7953"
             ],
             [
              0.7777777777777778,
              "#fb9f3a"
             ],
             [
              0.8888888888888888,
              "#fdca26"
             ],
             [
              1,
              "#f0f921"
             ]
            ],
            "type": "contour"
           }
          ],
          "contourcarpet": [
           {
            "colorbar": {
             "outlinewidth": 0,
             "ticks": ""
            },
            "type": "contourcarpet"
           }
          ],
          "heatmap": [
           {
            "colorbar": {
             "outlinewidth": 0,
             "ticks": ""
            },
            "colorscale": [
             [
              0,
              "#0d0887"
             ],
             [
              0.1111111111111111,
              "#46039f"
             ],
             [
              0.2222222222222222,
              "#7201a8"
             ],
             [
              0.3333333333333333,
              "#9c179e"
             ],
             [
              0.4444444444444444,
              "#bd3786"
             ],
             [
              0.5555555555555556,
              "#d8576b"
             ],
             [
              0.6666666666666666,
              "#ed7953"
             ],
             [
              0.7777777777777778,
              "#fb9f3a"
             ],
             [
              0.8888888888888888,
              "#fdca26"
             ],
             [
              1,
              "#f0f921"
             ]
            ],
            "type": "heatmap"
           }
          ],
          "heatmapgl": [
           {
            "colorbar": {
             "outlinewidth": 0,
             "ticks": ""
            },
            "colorscale": [
             [
              0,
              "#0d0887"
             ],
             [
              0.1111111111111111,
              "#46039f"
             ],
             [
              0.2222222222222222,
              "#7201a8"
             ],
             [
              0.3333333333333333,
              "#9c179e"
             ],
             [
              0.4444444444444444,
              "#bd3786"
             ],
             [
              0.5555555555555556,
              "#d8576b"
             ],
             [
              0.6666666666666666,
              "#ed7953"
             ],
             [
              0.7777777777777778,
              "#fb9f3a"
             ],
             [
              0.8888888888888888,
              "#fdca26"
             ],
             [
              1,
              "#f0f921"
             ]
            ],
            "type": "heatmapgl"
           }
          ],
          "histogram": [
           {
            "marker": {
             "pattern": {
              "fillmode": "overlay",
              "size": 10,
              "solidity": 0.2
             }
            },
            "type": "histogram"
           }
          ],
          "histogram2d": [
           {
            "colorbar": {
             "outlinewidth": 0,
             "ticks": ""
            },
            "colorscale": [
             [
              0,
              "#0d0887"
             ],
             [
              0.1111111111111111,
              "#46039f"
             ],
             [
              0.2222222222222222,
              "#7201a8"
             ],
             [
              0.3333333333333333,
              "#9c179e"
             ],
             [
              0.4444444444444444,
              "#bd3786"
             ],
             [
              0.5555555555555556,
              "#d8576b"
             ],
             [
              0.6666666666666666,
              "#ed7953"
             ],
             [
              0.7777777777777778,
              "#fb9f3a"
             ],
             [
              0.8888888888888888,
              "#fdca26"
             ],
             [
              1,
              "#f0f921"
             ]
            ],
            "type": "histogram2d"
           }
          ],
          "histogram2dcontour": [
           {
            "colorbar": {
             "outlinewidth": 0,
             "ticks": ""
            },
            "colorscale": [
             [
              0,
              "#0d0887"
             ],
             [
              0.1111111111111111,
              "#46039f"
             ],
             [
              0.2222222222222222,
              "#7201a8"
             ],
             [
              0.3333333333333333,
              "#9c179e"
             ],
             [
              0.4444444444444444,
              "#bd3786"
             ],
             [
              0.5555555555555556,
              "#d8576b"
             ],
             [
              0.6666666666666666,
              "#ed7953"
             ],
             [
              0.7777777777777778,
              "#fb9f3a"
             ],
             [
              0.8888888888888888,
              "#fdca26"
             ],
             [
              1,
              "#f0f921"
             ]
            ],
            "type": "histogram2dcontour"
           }
          ],
          "mesh3d": [
           {
            "colorbar": {
             "outlinewidth": 0,
             "ticks": ""
            },
            "type": "mesh3d"
           }
          ],
          "parcoords": [
           {
            "line": {
             "colorbar": {
              "outlinewidth": 0,
              "ticks": ""
             }
            },
            "type": "parcoords"
           }
          ],
          "pie": [
           {
            "automargin": true,
            "type": "pie"
           }
          ],
          "scatter": [
           {
            "marker": {
             "line": {
              "color": "#283442"
             }
            },
            "type": "scatter"
           }
          ],
          "scatter3d": [
           {
            "line": {
             "colorbar": {
              "outlinewidth": 0,
              "ticks": ""
             }
            },
            "marker": {
             "colorbar": {
              "outlinewidth": 0,
              "ticks": ""
             }
            },
            "type": "scatter3d"
           }
          ],
          "scattercarpet": [
           {
            "marker": {
             "colorbar": {
              "outlinewidth": 0,
              "ticks": ""
             }
            },
            "type": "scattercarpet"
           }
          ],
          "scattergeo": [
           {
            "marker": {
             "colorbar": {
              "outlinewidth": 0,
              "ticks": ""
             }
            },
            "type": "scattergeo"
           }
          ],
          "scattergl": [
           {
            "marker": {
             "line": {
              "color": "#283442"
             }
            },
            "type": "scattergl"
           }
          ],
          "scattermapbox": [
           {
            "marker": {
             "colorbar": {
              "outlinewidth": 0,
              "ticks": ""
             }
            },
            "type": "scattermapbox"
           }
          ],
          "scatterpolar": [
           {
            "marker": {
             "colorbar": {
              "outlinewidth": 0,
              "ticks": ""
             }
            },
            "type": "scatterpolar"
           }
          ],
          "scatterpolargl": [
           {
            "marker": {
             "colorbar": {
              "outlinewidth": 0,
              "ticks": ""
             }
            },
            "type": "scatterpolargl"
           }
          ],
          "scatterternary": [
           {
            "marker": {
             "colorbar": {
              "outlinewidth": 0,
              "ticks": ""
             }
            },
            "type": "scatterternary"
           }
          ],
          "surface": [
           {
            "colorbar": {
             "outlinewidth": 0,
             "ticks": ""
            },
            "colorscale": [
             [
              0,
              "#0d0887"
             ],
             [
              0.1111111111111111,
              "#46039f"
             ],
             [
              0.2222222222222222,
              "#7201a8"
             ],
             [
              0.3333333333333333,
              "#9c179e"
             ],
             [
              0.4444444444444444,
              "#bd3786"
             ],
             [
              0.5555555555555556,
              "#d8576b"
             ],
             [
              0.6666666666666666,
              "#ed7953"
             ],
             [
              0.7777777777777778,
              "#fb9f3a"
             ],
             [
              0.8888888888888888,
              "#fdca26"
             ],
             [
              1,
              "#f0f921"
             ]
            ],
            "type": "surface"
           }
          ],
          "table": [
           {
            "cells": {
             "fill": {
              "color": "#506784"
             },
             "line": {
              "color": "rgb(17,17,17)"
             }
            },
            "header": {
             "fill": {
              "color": "#2a3f5f"
             },
             "line": {
              "color": "rgb(17,17,17)"
             }
            },
            "type": "table"
           }
          ]
         },
         "layout": {
          "annotationdefaults": {
           "arrowcolor": "#f2f5fa",
           "arrowhead": 0,
           "arrowwidth": 1
          },
          "autotypenumbers": "strict",
          "coloraxis": {
           "colorbar": {
            "outlinewidth": 0,
            "ticks": ""
           }
          },
          "colorscale": {
           "diverging": [
            [
             0,
             "#8e0152"
            ],
            [
             0.1,
             "#c51b7d"
            ],
            [
             0.2,
             "#de77ae"
            ],
            [
             0.3,
             "#f1b6da"
            ],
            [
             0.4,
             "#fde0ef"
            ],
            [
             0.5,
             "#f7f7f7"
            ],
            [
             0.6,
             "#e6f5d0"
            ],
            [
             0.7,
             "#b8e186"
            ],
            [
             0.8,
             "#7fbc41"
            ],
            [
             0.9,
             "#4d9221"
            ],
            [
             1,
             "#276419"
            ]
           ],
           "sequential": [
            [
             0,
             "#0d0887"
            ],
            [
             0.1111111111111111,
             "#46039f"
            ],
            [
             0.2222222222222222,
             "#7201a8"
            ],
            [
             0.3333333333333333,
             "#9c179e"
            ],
            [
             0.4444444444444444,
             "#bd3786"
            ],
            [
             0.5555555555555556,
             "#d8576b"
            ],
            [
             0.6666666666666666,
             "#ed7953"
            ],
            [
             0.7777777777777778,
             "#fb9f3a"
            ],
            [
             0.8888888888888888,
             "#fdca26"
            ],
            [
             1,
             "#f0f921"
            ]
           ],
           "sequentialminus": [
            [
             0,
             "#0d0887"
            ],
            [
             0.1111111111111111,
             "#46039f"
            ],
            [
             0.2222222222222222,
             "#7201a8"
            ],
            [
             0.3333333333333333,
             "#9c179e"
            ],
            [
             0.4444444444444444,
             "#bd3786"
            ],
            [
             0.5555555555555556,
             "#d8576b"
            ],
            [
             0.6666666666666666,
             "#ed7953"
            ],
            [
             0.7777777777777778,
             "#fb9f3a"
            ],
            [
             0.8888888888888888,
             "#fdca26"
            ],
            [
             1,
             "#f0f921"
            ]
           ]
          },
          "colorway": [
           "#636efa",
           "#EF553B",
           "#00cc96",
           "#ab63fa",
           "#FFA15A",
           "#19d3f3",
           "#FF6692",
           "#B6E880",
           "#FF97FF",
           "#FECB52"
          ],
          "font": {
           "color": "#f2f5fa"
          },
          "geo": {
           "bgcolor": "rgb(17,17,17)",
           "lakecolor": "rgb(17,17,17)",
           "landcolor": "rgb(17,17,17)",
           "showlakes": true,
           "showland": true,
           "subunitcolor": "#506784"
          },
          "hoverlabel": {
           "align": "left"
          },
          "hovermode": "closest",
          "mapbox": {
           "style": "dark"
          },
          "paper_bgcolor": "rgb(17,17,17)",
          "plot_bgcolor": "rgb(17,17,17)",
          "polar": {
           "angularaxis": {
            "gridcolor": "#506784",
            "linecolor": "#506784",
            "ticks": ""
           },
           "bgcolor": "rgb(17,17,17)",
           "radialaxis": {
            "gridcolor": "#506784",
            "linecolor": "#506784",
            "ticks": ""
           }
          },
          "scene": {
           "xaxis": {
            "backgroundcolor": "rgb(17,17,17)",
            "gridcolor": "#506784",
            "gridwidth": 2,
            "linecolor": "#506784",
            "showbackground": true,
            "ticks": "",
            "zerolinecolor": "#C8D4E3"
           },
           "yaxis": {
            "backgroundcolor": "rgb(17,17,17)",
            "gridcolor": "#506784",
            "gridwidth": 2,
            "linecolor": "#506784",
            "showbackground": true,
            "ticks": "",
            "zerolinecolor": "#C8D4E3"
           },
           "zaxis": {
            "backgroundcolor": "rgb(17,17,17)",
            "gridcolor": "#506784",
            "gridwidth": 2,
            "linecolor": "#506784",
            "showbackground": true,
            "ticks": "",
            "zerolinecolor": "#C8D4E3"
           }
          },
          "shapedefaults": {
           "line": {
            "color": "#f2f5fa"
           }
          },
          "sliderdefaults": {
           "bgcolor": "#C8D4E3",
           "bordercolor": "rgb(17,17,17)",
           "borderwidth": 1,
           "tickwidth": 0
          },
          "ternary": {
           "aaxis": {
            "gridcolor": "#506784",
            "linecolor": "#506784",
            "ticks": ""
           },
           "baxis": {
            "gridcolor": "#506784",
            "linecolor": "#506784",
            "ticks": ""
           },
           "bgcolor": "rgb(17,17,17)",
           "caxis": {
            "gridcolor": "#506784",
            "linecolor": "#506784",
            "ticks": ""
           }
          },
          "title": {
           "x": 0.05
          },
          "updatemenudefaults": {
           "bgcolor": "#506784",
           "borderwidth": 0
          },
          "xaxis": {
           "automargin": true,
           "gridcolor": "#283442",
           "linecolor": "#506784",
           "ticks": "",
           "title": {
            "standoff": 15
           },
           "zerolinecolor": "#283442",
           "zerolinewidth": 2
          },
          "yaxis": {
           "automargin": true,
           "gridcolor": "#283442",
           "linecolor": "#506784",
           "ticks": "",
           "title": {
            "standoff": 15
           },
           "zerolinecolor": "#283442",
           "zerolinewidth": 2
          }
         }
        },
        "title": {
         "text": "Heatmap"
        },
        "xaxis": {
         "anchor": "y",
         "constrain": "domain",
         "domain": [
          0,
          1
         ],
         "scaleanchor": "y"
        },
        "yaxis": {
         "anchor": "x",
         "autorange": "reversed",
         "constrain": "domain",
         "domain": [
          0,
          1
         ]
        }
       }
      }
     },
     "metadata": {},
     "output_type": "display_data"
    }
   ],
   "source": [
    "fig = px.imshow(dados.corr().round(2), text_auto = True, template = 'plotly_dark', title = 'Heatmap')\n",
    "\n",
    "fig.show()"
   ]
  },
  {
   "cell_type": "markdown",
   "metadata": {},
   "source": [
    "# Clusterização por gênero"
   ]
  },
  {
   "cell_type": "code",
   "execution_count": 68,
   "metadata": {},
   "outputs": [
    {
     "data": {
      "text/html": [
       "<div>\n",
       "<style scoped>\n",
       "    .dataframe tbody tr th:only-of-type {\n",
       "        vertical-align: middle;\n",
       "    }\n",
       "\n",
       "    .dataframe tbody tr th {\n",
       "        vertical-align: top;\n",
       "    }\n",
       "\n",
       "    .dataframe thead th {\n",
       "        text-align: right;\n",
       "    }\n",
       "</style>\n",
       "<table border=\"1\" class=\"dataframe\">\n",
       "  <thead>\n",
       "    <tr style=\"text-align: right;\">\n",
       "      <th></th>\n",
       "      <th>genres</th>\n",
       "      <th>acousticness</th>\n",
       "      <th>danceability</th>\n",
       "      <th>duration_ms</th>\n",
       "      <th>energy</th>\n",
       "      <th>instrumentalness</th>\n",
       "      <th>liveness</th>\n",
       "      <th>loudness</th>\n",
       "      <th>speechiness</th>\n",
       "      <th>tempo</th>\n",
       "      <th>valence</th>\n",
       "      <th>popularity</th>\n",
       "    </tr>\n",
       "  </thead>\n",
       "  <tbody>\n",
       "    <tr>\n",
       "      <th>0</th>\n",
       "      <td>21st century classical</td>\n",
       "      <td>0.979333</td>\n",
       "      <td>0.162883</td>\n",
       "      <td>1.602977e+05</td>\n",
       "      <td>0.071317</td>\n",
       "      <td>0.606834</td>\n",
       "      <td>0.361600</td>\n",
       "      <td>-31.514333</td>\n",
       "      <td>0.040567</td>\n",
       "      <td>75.336500</td>\n",
       "      <td>0.103783</td>\n",
       "      <td>27.833333</td>\n",
       "    </tr>\n",
       "    <tr>\n",
       "      <th>1</th>\n",
       "      <td>432hz</td>\n",
       "      <td>0.494780</td>\n",
       "      <td>0.299333</td>\n",
       "      <td>1.048887e+06</td>\n",
       "      <td>0.450678</td>\n",
       "      <td>0.477762</td>\n",
       "      <td>0.131000</td>\n",
       "      <td>-16.854000</td>\n",
       "      <td>0.076817</td>\n",
       "      <td>120.285667</td>\n",
       "      <td>0.221750</td>\n",
       "      <td>52.500000</td>\n",
       "    </tr>\n",
       "    <tr>\n",
       "      <th>2</th>\n",
       "      <td>8-bit</td>\n",
       "      <td>0.762000</td>\n",
       "      <td>0.712000</td>\n",
       "      <td>1.151770e+05</td>\n",
       "      <td>0.818000</td>\n",
       "      <td>0.876000</td>\n",
       "      <td>0.126000</td>\n",
       "      <td>-9.180000</td>\n",
       "      <td>0.047000</td>\n",
       "      <td>133.444000</td>\n",
       "      <td>0.975000</td>\n",
       "      <td>48.000000</td>\n",
       "    </tr>\n",
       "    <tr>\n",
       "      <th>3</th>\n",
       "      <td>[]</td>\n",
       "      <td>0.651417</td>\n",
       "      <td>0.529093</td>\n",
       "      <td>2.328809e+05</td>\n",
       "      <td>0.419146</td>\n",
       "      <td>0.205309</td>\n",
       "      <td>0.218696</td>\n",
       "      <td>-12.288965</td>\n",
       "      <td>0.107872</td>\n",
       "      <td>112.857352</td>\n",
       "      <td>0.513604</td>\n",
       "      <td>20.859882</td>\n",
       "    </tr>\n",
       "    <tr>\n",
       "      <th>4</th>\n",
       "      <td>a cappella</td>\n",
       "      <td>0.676557</td>\n",
       "      <td>0.538961</td>\n",
       "      <td>1.906285e+05</td>\n",
       "      <td>0.316434</td>\n",
       "      <td>0.003003</td>\n",
       "      <td>0.172254</td>\n",
       "      <td>-12.479387</td>\n",
       "      <td>0.082851</td>\n",
       "      <td>112.110362</td>\n",
       "      <td>0.448249</td>\n",
       "      <td>45.820071</td>\n",
       "    </tr>\n",
       "    <tr>\n",
       "      <th>...</th>\n",
       "      <td>...</td>\n",
       "      <td>...</td>\n",
       "      <td>...</td>\n",
       "      <td>...</td>\n",
       "      <td>...</td>\n",
       "      <td>...</td>\n",
       "      <td>...</td>\n",
       "      <td>...</td>\n",
       "      <td>...</td>\n",
       "      <td>...</td>\n",
       "      <td>...</td>\n",
       "      <td>...</td>\n",
       "    </tr>\n",
       "    <tr>\n",
       "      <th>2968</th>\n",
       "      <td>zolo</td>\n",
       "      <td>0.222625</td>\n",
       "      <td>0.547082</td>\n",
       "      <td>2.580991e+05</td>\n",
       "      <td>0.610240</td>\n",
       "      <td>0.143872</td>\n",
       "      <td>0.204206</td>\n",
       "      <td>-11.295878</td>\n",
       "      <td>0.061088</td>\n",
       "      <td>125.494919</td>\n",
       "      <td>0.596155</td>\n",
       "      <td>33.778943</td>\n",
       "    </tr>\n",
       "    <tr>\n",
       "      <th>2969</th>\n",
       "      <td>zouglou</td>\n",
       "      <td>0.161000</td>\n",
       "      <td>0.863000</td>\n",
       "      <td>2.063200e+05</td>\n",
       "      <td>0.909000</td>\n",
       "      <td>0.000000</td>\n",
       "      <td>0.108000</td>\n",
       "      <td>-5.985000</td>\n",
       "      <td>0.081300</td>\n",
       "      <td>119.038000</td>\n",
       "      <td>0.845000</td>\n",
       "      <td>58.000000</td>\n",
       "    </tr>\n",
       "    <tr>\n",
       "      <th>2970</th>\n",
       "      <td>zouk</td>\n",
       "      <td>0.263261</td>\n",
       "      <td>0.748889</td>\n",
       "      <td>3.060728e+05</td>\n",
       "      <td>0.622444</td>\n",
       "      <td>0.257227</td>\n",
       "      <td>0.089678</td>\n",
       "      <td>-10.289222</td>\n",
       "      <td>0.038778</td>\n",
       "      <td>101.965222</td>\n",
       "      <td>0.824111</td>\n",
       "      <td>46.666667</td>\n",
       "    </tr>\n",
       "    <tr>\n",
       "      <th>2971</th>\n",
       "      <td>zurich indie</td>\n",
       "      <td>0.993000</td>\n",
       "      <td>0.705667</td>\n",
       "      <td>1.984173e+05</td>\n",
       "      <td>0.172667</td>\n",
       "      <td>0.468633</td>\n",
       "      <td>0.179667</td>\n",
       "      <td>-11.453333</td>\n",
       "      <td>0.348667</td>\n",
       "      <td>91.278000</td>\n",
       "      <td>0.739000</td>\n",
       "      <td>0.000000</td>\n",
       "    </tr>\n",
       "    <tr>\n",
       "      <th>2972</th>\n",
       "      <td>zydeco</td>\n",
       "      <td>0.421038</td>\n",
       "      <td>0.629409</td>\n",
       "      <td>1.716717e+05</td>\n",
       "      <td>0.609369</td>\n",
       "      <td>0.019248</td>\n",
       "      <td>0.255877</td>\n",
       "      <td>-9.854825</td>\n",
       "      <td>0.050491</td>\n",
       "      <td>126.366087</td>\n",
       "      <td>0.808544</td>\n",
       "      <td>30.261905</td>\n",
       "    </tr>\n",
       "  </tbody>\n",
       "</table>\n",
       "<p>2973 rows × 12 columns</p>\n",
       "</div>"
      ],
      "text/plain": [
       "                      genres  acousticness  danceability   duration_ms  \\\n",
       "0     21st century classical      0.979333      0.162883  1.602977e+05   \n",
       "1                      432hz      0.494780      0.299333  1.048887e+06   \n",
       "2                      8-bit      0.762000      0.712000  1.151770e+05   \n",
       "3                         []      0.651417      0.529093  2.328809e+05   \n",
       "4                 a cappella      0.676557      0.538961  1.906285e+05   \n",
       "...                      ...           ...           ...           ...   \n",
       "2968                    zolo      0.222625      0.547082  2.580991e+05   \n",
       "2969                 zouglou      0.161000      0.863000  2.063200e+05   \n",
       "2970                    zouk      0.263261      0.748889  3.060728e+05   \n",
       "2971            zurich indie      0.993000      0.705667  1.984173e+05   \n",
       "2972                  zydeco      0.421038      0.629409  1.716717e+05   \n",
       "\n",
       "        energy  instrumentalness  liveness   loudness  speechiness  \\\n",
       "0     0.071317          0.606834  0.361600 -31.514333     0.040567   \n",
       "1     0.450678          0.477762  0.131000 -16.854000     0.076817   \n",
       "2     0.818000          0.876000  0.126000  -9.180000     0.047000   \n",
       "3     0.419146          0.205309  0.218696 -12.288965     0.107872   \n",
       "4     0.316434          0.003003  0.172254 -12.479387     0.082851   \n",
       "...        ...               ...       ...        ...          ...   \n",
       "2968  0.610240          0.143872  0.204206 -11.295878     0.061088   \n",
       "2969  0.909000          0.000000  0.108000  -5.985000     0.081300   \n",
       "2970  0.622444          0.257227  0.089678 -10.289222     0.038778   \n",
       "2971  0.172667          0.468633  0.179667 -11.453333     0.348667   \n",
       "2972  0.609369          0.019248  0.255877  -9.854825     0.050491   \n",
       "\n",
       "           tempo   valence  popularity  \n",
       "0      75.336500  0.103783   27.833333  \n",
       "1     120.285667  0.221750   52.500000  \n",
       "2     133.444000  0.975000   48.000000  \n",
       "3     112.857352  0.513604   20.859882  \n",
       "4     112.110362  0.448249   45.820071  \n",
       "...          ...       ...         ...  \n",
       "2968  125.494919  0.596155   33.778943  \n",
       "2969  119.038000  0.845000   58.000000  \n",
       "2970  101.965222  0.824111   46.666667  \n",
       "2971   91.278000  0.739000    0.000000  \n",
       "2972  126.366087  0.808544   30.261905  \n",
       "\n",
       "[2973 rows x 12 columns]"
      ]
     },
     "execution_count": 68,
     "metadata": {},
     "output_type": "execute_result"
    }
   ],
   "source": [
    "dados_generos"
   ]
  },
  {
   "cell_type": "code",
   "execution_count": 69,
   "metadata": {},
   "outputs": [
    {
     "data": {
      "text/plain": [
       "2973"
      ]
     },
     "execution_count": 69,
     "metadata": {},
     "output_type": "execute_result"
    }
   ],
   "source": [
    "dados_generos['genres'].value_counts().sum()"
   ]
  },
  {
   "cell_type": "markdown",
   "metadata": {},
   "source": [
    "Cada linha é um tipo de gênero."
   ]
  },
  {
   "cell_type": "code",
   "execution_count": 70,
   "metadata": {},
   "outputs": [],
   "source": [
    "dados_generos_1 = dados_generos.drop('genres', axis = 1)"
   ]
  },
  {
   "cell_type": "code",
   "execution_count": 71,
   "metadata": {},
   "outputs": [
    {
     "data": {
      "text/html": [
       "<div>\n",
       "<style scoped>\n",
       "    .dataframe tbody tr th:only-of-type {\n",
       "        vertical-align: middle;\n",
       "    }\n",
       "\n",
       "    .dataframe tbody tr th {\n",
       "        vertical-align: top;\n",
       "    }\n",
       "\n",
       "    .dataframe thead th {\n",
       "        text-align: right;\n",
       "    }\n",
       "</style>\n",
       "<table border=\"1\" class=\"dataframe\">\n",
       "  <thead>\n",
       "    <tr style=\"text-align: right;\">\n",
       "      <th></th>\n",
       "      <th>acousticness</th>\n",
       "      <th>danceability</th>\n",
       "      <th>duration_ms</th>\n",
       "      <th>energy</th>\n",
       "      <th>instrumentalness</th>\n",
       "      <th>liveness</th>\n",
       "      <th>loudness</th>\n",
       "      <th>speechiness</th>\n",
       "      <th>tempo</th>\n",
       "      <th>valence</th>\n",
       "      <th>popularity</th>\n",
       "    </tr>\n",
       "  </thead>\n",
       "  <tbody>\n",
       "    <tr>\n",
       "      <th>0</th>\n",
       "      <td>0.979333</td>\n",
       "      <td>0.162883</td>\n",
       "      <td>1.602977e+05</td>\n",
       "      <td>0.071317</td>\n",
       "      <td>0.606834</td>\n",
       "      <td>0.361600</td>\n",
       "      <td>-31.514333</td>\n",
       "      <td>0.040567</td>\n",
       "      <td>75.336500</td>\n",
       "      <td>0.103783</td>\n",
       "      <td>27.833333</td>\n",
       "    </tr>\n",
       "    <tr>\n",
       "      <th>1</th>\n",
       "      <td>0.494780</td>\n",
       "      <td>0.299333</td>\n",
       "      <td>1.048887e+06</td>\n",
       "      <td>0.450678</td>\n",
       "      <td>0.477762</td>\n",
       "      <td>0.131000</td>\n",
       "      <td>-16.854000</td>\n",
       "      <td>0.076817</td>\n",
       "      <td>120.285667</td>\n",
       "      <td>0.221750</td>\n",
       "      <td>52.500000</td>\n",
       "    </tr>\n",
       "    <tr>\n",
       "      <th>2</th>\n",
       "      <td>0.762000</td>\n",
       "      <td>0.712000</td>\n",
       "      <td>1.151770e+05</td>\n",
       "      <td>0.818000</td>\n",
       "      <td>0.876000</td>\n",
       "      <td>0.126000</td>\n",
       "      <td>-9.180000</td>\n",
       "      <td>0.047000</td>\n",
       "      <td>133.444000</td>\n",
       "      <td>0.975000</td>\n",
       "      <td>48.000000</td>\n",
       "    </tr>\n",
       "    <tr>\n",
       "      <th>3</th>\n",
       "      <td>0.651417</td>\n",
       "      <td>0.529093</td>\n",
       "      <td>2.328809e+05</td>\n",
       "      <td>0.419146</td>\n",
       "      <td>0.205309</td>\n",
       "      <td>0.218696</td>\n",
       "      <td>-12.288965</td>\n",
       "      <td>0.107872</td>\n",
       "      <td>112.857352</td>\n",
       "      <td>0.513604</td>\n",
       "      <td>20.859882</td>\n",
       "    </tr>\n",
       "    <tr>\n",
       "      <th>4</th>\n",
       "      <td>0.676557</td>\n",
       "      <td>0.538961</td>\n",
       "      <td>1.906285e+05</td>\n",
       "      <td>0.316434</td>\n",
       "      <td>0.003003</td>\n",
       "      <td>0.172254</td>\n",
       "      <td>-12.479387</td>\n",
       "      <td>0.082851</td>\n",
       "      <td>112.110362</td>\n",
       "      <td>0.448249</td>\n",
       "      <td>45.820071</td>\n",
       "    </tr>\n",
       "    <tr>\n",
       "      <th>...</th>\n",
       "      <td>...</td>\n",
       "      <td>...</td>\n",
       "      <td>...</td>\n",
       "      <td>...</td>\n",
       "      <td>...</td>\n",
       "      <td>...</td>\n",
       "      <td>...</td>\n",
       "      <td>...</td>\n",
       "      <td>...</td>\n",
       "      <td>...</td>\n",
       "      <td>...</td>\n",
       "    </tr>\n",
       "    <tr>\n",
       "      <th>2968</th>\n",
       "      <td>0.222625</td>\n",
       "      <td>0.547082</td>\n",
       "      <td>2.580991e+05</td>\n",
       "      <td>0.610240</td>\n",
       "      <td>0.143872</td>\n",
       "      <td>0.204206</td>\n",
       "      <td>-11.295878</td>\n",
       "      <td>0.061088</td>\n",
       "      <td>125.494919</td>\n",
       "      <td>0.596155</td>\n",
       "      <td>33.778943</td>\n",
       "    </tr>\n",
       "    <tr>\n",
       "      <th>2969</th>\n",
       "      <td>0.161000</td>\n",
       "      <td>0.863000</td>\n",
       "      <td>2.063200e+05</td>\n",
       "      <td>0.909000</td>\n",
       "      <td>0.000000</td>\n",
       "      <td>0.108000</td>\n",
       "      <td>-5.985000</td>\n",
       "      <td>0.081300</td>\n",
       "      <td>119.038000</td>\n",
       "      <td>0.845000</td>\n",
       "      <td>58.000000</td>\n",
       "    </tr>\n",
       "    <tr>\n",
       "      <th>2970</th>\n",
       "      <td>0.263261</td>\n",
       "      <td>0.748889</td>\n",
       "      <td>3.060728e+05</td>\n",
       "      <td>0.622444</td>\n",
       "      <td>0.257227</td>\n",
       "      <td>0.089678</td>\n",
       "      <td>-10.289222</td>\n",
       "      <td>0.038778</td>\n",
       "      <td>101.965222</td>\n",
       "      <td>0.824111</td>\n",
       "      <td>46.666667</td>\n",
       "    </tr>\n",
       "    <tr>\n",
       "      <th>2971</th>\n",
       "      <td>0.993000</td>\n",
       "      <td>0.705667</td>\n",
       "      <td>1.984173e+05</td>\n",
       "      <td>0.172667</td>\n",
       "      <td>0.468633</td>\n",
       "      <td>0.179667</td>\n",
       "      <td>-11.453333</td>\n",
       "      <td>0.348667</td>\n",
       "      <td>91.278000</td>\n",
       "      <td>0.739000</td>\n",
       "      <td>0.000000</td>\n",
       "    </tr>\n",
       "    <tr>\n",
       "      <th>2972</th>\n",
       "      <td>0.421038</td>\n",
       "      <td>0.629409</td>\n",
       "      <td>1.716717e+05</td>\n",
       "      <td>0.609369</td>\n",
       "      <td>0.019248</td>\n",
       "      <td>0.255877</td>\n",
       "      <td>-9.854825</td>\n",
       "      <td>0.050491</td>\n",
       "      <td>126.366087</td>\n",
       "      <td>0.808544</td>\n",
       "      <td>30.261905</td>\n",
       "    </tr>\n",
       "  </tbody>\n",
       "</table>\n",
       "<p>2973 rows × 11 columns</p>\n",
       "</div>"
      ],
      "text/plain": [
       "      acousticness  danceability   duration_ms    energy  instrumentalness  \\\n",
       "0         0.979333      0.162883  1.602977e+05  0.071317          0.606834   \n",
       "1         0.494780      0.299333  1.048887e+06  0.450678          0.477762   \n",
       "2         0.762000      0.712000  1.151770e+05  0.818000          0.876000   \n",
       "3         0.651417      0.529093  2.328809e+05  0.419146          0.205309   \n",
       "4         0.676557      0.538961  1.906285e+05  0.316434          0.003003   \n",
       "...            ...           ...           ...       ...               ...   \n",
       "2968      0.222625      0.547082  2.580991e+05  0.610240          0.143872   \n",
       "2969      0.161000      0.863000  2.063200e+05  0.909000          0.000000   \n",
       "2970      0.263261      0.748889  3.060728e+05  0.622444          0.257227   \n",
       "2971      0.993000      0.705667  1.984173e+05  0.172667          0.468633   \n",
       "2972      0.421038      0.629409  1.716717e+05  0.609369          0.019248   \n",
       "\n",
       "      liveness   loudness  speechiness       tempo   valence  popularity  \n",
       "0     0.361600 -31.514333     0.040567   75.336500  0.103783   27.833333  \n",
       "1     0.131000 -16.854000     0.076817  120.285667  0.221750   52.500000  \n",
       "2     0.126000  -9.180000     0.047000  133.444000  0.975000   48.000000  \n",
       "3     0.218696 -12.288965     0.107872  112.857352  0.513604   20.859882  \n",
       "4     0.172254 -12.479387     0.082851  112.110362  0.448249   45.820071  \n",
       "...        ...        ...          ...         ...       ...         ...  \n",
       "2968  0.204206 -11.295878     0.061088  125.494919  0.596155   33.778943  \n",
       "2969  0.108000  -5.985000     0.081300  119.038000  0.845000   58.000000  \n",
       "2970  0.089678 -10.289222     0.038778  101.965222  0.824111   46.666667  \n",
       "2971  0.179667 -11.453333     0.348667   91.278000  0.739000    0.000000  \n",
       "2972  0.255877  -9.854825     0.050491  126.366087  0.808544   30.261905  \n",
       "\n",
       "[2973 rows x 11 columns]"
      ]
     },
     "execution_count": 71,
     "metadata": {},
     "output_type": "execute_result"
    }
   ],
   "source": [
    "dados_generos_1"
   ]
  },
  {
   "cell_type": "code",
   "execution_count": 72,
   "metadata": {},
   "outputs": [],
   "source": [
    "SEED = 4002\n",
    "np.random.seed(4002)"
   ]
  },
  {
   "cell_type": "code",
   "execution_count": 73,
   "metadata": {},
   "outputs": [],
   "source": [
    "pca_pipeline = Pipeline([('scaler', StandardScaler()), ('PCA', PCA(n_components = 2, random_state = SEED))])"
   ]
  },
  {
   "cell_type": "code",
   "execution_count": 74,
   "metadata": {},
   "outputs": [],
   "source": [
    "genre_embedding_pca = pca_pipeline.fit_transform(dados_generos_1)\n",
    "projection = pd.DataFrame(columns = ['x', 'y'], data = genre_embedding_pca)"
   ]
  },
  {
   "cell_type": "code",
   "execution_count": 75,
   "metadata": {},
   "outputs": [
    {
     "data": {
      "text/html": [
       "<div>\n",
       "<style scoped>\n",
       "    .dataframe tbody tr th:only-of-type {\n",
       "        vertical-align: middle;\n",
       "    }\n",
       "\n",
       "    .dataframe tbody tr th {\n",
       "        vertical-align: top;\n",
       "    }\n",
       "\n",
       "    .dataframe thead th {\n",
       "        text-align: right;\n",
       "    }\n",
       "</style>\n",
       "<table border=\"1\" class=\"dataframe\">\n",
       "  <thead>\n",
       "    <tr style=\"text-align: right;\">\n",
       "      <th></th>\n",
       "      <th>x</th>\n",
       "      <th>y</th>\n",
       "    </tr>\n",
       "  </thead>\n",
       "  <tbody>\n",
       "    <tr>\n",
       "      <th>0</th>\n",
       "      <td>5.910268</td>\n",
       "      <td>-0.011146</td>\n",
       "    </tr>\n",
       "    <tr>\n",
       "      <th>1</th>\n",
       "      <td>2.787093</td>\n",
       "      <td>4.498483</td>\n",
       "    </tr>\n",
       "    <tr>\n",
       "      <th>2</th>\n",
       "      <td>-0.757538</td>\n",
       "      <td>-1.258495</td>\n",
       "    </tr>\n",
       "    <tr>\n",
       "      <th>3</th>\n",
       "      <td>1.020521</td>\n",
       "      <td>-0.931690</td>\n",
       "    </tr>\n",
       "    <tr>\n",
       "      <th>4</th>\n",
       "      <td>0.753911</td>\n",
       "      <td>-0.999861</td>\n",
       "    </tr>\n",
       "    <tr>\n",
       "      <th>...</th>\n",
       "      <td>...</td>\n",
       "      <td>...</td>\n",
       "    </tr>\n",
       "    <tr>\n",
       "      <th>2968</th>\n",
       "      <td>-0.475136</td>\n",
       "      <td>-0.017126</td>\n",
       "    </tr>\n",
       "    <tr>\n",
       "      <th>2969</th>\n",
       "      <td>-3.026756</td>\n",
       "      <td>-1.304983</td>\n",
       "    </tr>\n",
       "    <tr>\n",
       "      <th>2970</th>\n",
       "      <td>-0.832511</td>\n",
       "      <td>-1.089726</td>\n",
       "    </tr>\n",
       "    <tr>\n",
       "      <th>2971</th>\n",
       "      <td>1.774790</td>\n",
       "      <td>-3.695233</td>\n",
       "    </tr>\n",
       "    <tr>\n",
       "      <th>2972</th>\n",
       "      <td>-1.028069</td>\n",
       "      <td>-1.390709</td>\n",
       "    </tr>\n",
       "  </tbody>\n",
       "</table>\n",
       "<p>2973 rows × 2 columns</p>\n",
       "</div>"
      ],
      "text/plain": [
       "             x         y\n",
       "0     5.910268 -0.011146\n",
       "1     2.787093  4.498483\n",
       "2    -0.757538 -1.258495\n",
       "3     1.020521 -0.931690\n",
       "4     0.753911 -0.999861\n",
       "...        ...       ...\n",
       "2968 -0.475136 -0.017126\n",
       "2969 -3.026756 -1.304983\n",
       "2970 -0.832511 -1.089726\n",
       "2971  1.774790 -3.695233\n",
       "2972 -1.028069 -1.390709\n",
       "\n",
       "[2973 rows x 2 columns]"
      ]
     },
     "execution_count": 75,
     "metadata": {},
     "output_type": "execute_result"
    }
   ],
   "source": [
    "projection"
   ]
  },
  {
   "cell_type": "markdown",
   "metadata": {},
   "source": [
    "# KMeans"
   ]
  },
  {
   "cell_type": "code",
   "execution_count": 76,
   "metadata": {},
   "outputs": [],
   "source": [
    "kmeans_pca = KMeans(n_clusters = 5, verbose = True, random_state = SEED)"
   ]
  },
  {
   "cell_type": "code",
   "execution_count": 77,
   "metadata": {},
   "outputs": [
    {
     "name": "stdout",
     "output_type": "stream",
     "text": [
      "Initialization complete\n",
      "Iteration 0, inertia 6430.9718839286.\n",
      "Iteration 1, inertia 4742.735633199604.\n",
      "Iteration 2, inertia 4081.0751211222764.\n",
      "Iteration 3, inertia 3803.9079741571713.\n",
      "Iteration 4, inertia 3673.792424331314.\n",
      "Iteration 5, inertia 3605.7987276063095.\n",
      "Iteration 6, inertia 3570.410665874937.\n",
      "Iteration 7, inertia 3556.0256456298507.\n",
      "Iteration 8, inertia 3544.272352470188.\n",
      "Iteration 9, inertia 3529.8063397940778.\n",
      "Iteration 10, inertia 3520.236714351035.\n",
      "Iteration 11, inertia 3516.770825079086.\n",
      "Iteration 12, inertia 3514.467879712425.\n",
      "Iteration 13, inertia 3511.4917106703224.\n",
      "Iteration 14, inertia 3508.110145470243.\n",
      "Iteration 15, inertia 3503.930245308151.\n",
      "Iteration 16, inertia 3502.263498958704.\n",
      "Iteration 17, inertia 3501.37169522962.\n",
      "Iteration 18, inertia 3500.9240057265188.\n",
      "Converged at iteration 18: center shift 0.00019873694339036125 within tolerance 0.0002709886847099651.\n",
      "Initialization complete\n",
      "Iteration 0, inertia 5090.46459081405.\n",
      "Iteration 1, inertia 3762.4959774337863.\n",
      "Iteration 2, inertia 3623.9978563577442.\n",
      "Iteration 3, inertia 3579.2418235336004.\n",
      "Iteration 4, inertia 3561.811326627336.\n",
      "Iteration 5, inertia 3554.7971594705805.\n",
      "Iteration 6, inertia 3551.3329354374464.\n",
      "Iteration 7, inertia 3549.2291740086093.\n",
      "Iteration 8, inertia 3548.1931775179287.\n",
      "Iteration 9, inertia 3547.736555560953.\n",
      "Iteration 10, inertia 3547.3771591763657.\n",
      "Iteration 11, inertia 3547.023250170686.\n",
      "Iteration 12, inertia 3546.289991022233.\n",
      "Iteration 13, inertia 3545.411068049181.\n",
      "Iteration 14, inertia 3544.895820988964.\n",
      "Iteration 15, inertia 3544.339840845232.\n",
      "Iteration 16, inertia 3544.068047181504.\n",
      "Converged at iteration 16: center shift 7.891423631685592e-05 within tolerance 0.0002709886847099651.\n",
      "Initialization complete\n",
      "Iteration 0, inertia 4679.131447537199.\n",
      "Iteration 1, inertia 3722.0373340640126.\n",
      "Iteration 2, inertia 3611.9473345696338.\n",
      "Iteration 3, inertia 3567.4547990289893.\n",
      "Iteration 4, inertia 3541.796614657426.\n",
      "Iteration 5, inertia 3526.864368181773.\n",
      "Iteration 6, inertia 3521.1365023041226.\n",
      "Iteration 7, inertia 3517.6458208462727.\n",
      "Iteration 8, inertia 3514.9550916143294.\n",
      "Iteration 9, inertia 3513.866532237913.\n",
      "Iteration 10, inertia 3513.273240309859.\n",
      "Converged at iteration 10: center shift 0.000239013389975611 within tolerance 0.0002709886847099651.\n",
      "Initialization complete\n",
      "Iteration 0, inertia 4519.7445843444075.\n",
      "Iteration 1, inertia 3807.8636750236537.\n",
      "Iteration 2, inertia 3661.9844754671485.\n",
      "Iteration 3, inertia 3592.6143896843414.\n",
      "Iteration 4, inertia 3555.0887524060536.\n",
      "Iteration 5, inertia 3535.4118717135875.\n",
      "Iteration 6, inertia 3527.538588341675.\n",
      "Iteration 7, inertia 3523.621138835299.\n",
      "Iteration 8, inertia 3521.1822089774246.\n",
      "Iteration 9, inertia 3519.794298674524.\n",
      "Iteration 10, inertia 3518.729875108713.\n",
      "Iteration 11, inertia 3517.937235169683.\n",
      "Iteration 12, inertia 3517.4779229735304.\n",
      "Iteration 13, inertia 3517.164237387037.\n",
      "Converged at iteration 13: center shift 0.0001830135942702594 within tolerance 0.0002709886847099651.\n",
      "Initialization complete\n",
      "Iteration 0, inertia 4318.826481414572.\n",
      "Iteration 1, inertia 3952.743900740456.\n",
      "Iteration 2, inertia 3746.6177963970426.\n",
      "Iteration 3, inertia 3642.590859048364.\n",
      "Iteration 4, inertia 3601.6837353504156.\n",
      "Iteration 5, inertia 3590.284910221688.\n",
      "Iteration 6, inertia 3584.5563391796936.\n",
      "Iteration 7, inertia 3581.7525040982387.\n",
      "Iteration 8, inertia 3578.3984966216995.\n",
      "Iteration 9, inertia 3575.158700042.\n",
      "Iteration 10, inertia 3573.9477532039346.\n",
      "Iteration 11, inertia 3573.218493905928.\n",
      "Iteration 12, inertia 3572.4707246756884.\n",
      "Iteration 13, inertia 3571.280748973715.\n",
      "Iteration 14, inertia 3569.938227203581.\n",
      "Iteration 15, inertia 3568.1780663400104.\n",
      "Iteration 16, inertia 3566.8273642101294.\n",
      "Iteration 17, inertia 3565.9386949293944.\n",
      "Iteration 18, inertia 3565.2496255112987.\n",
      "Iteration 19, inertia 3564.3956871075825.\n",
      "Iteration 20, inertia 3563.2817590396508.\n",
      "Iteration 21, inertia 3561.965910353934.\n",
      "Iteration 22, inertia 3560.749663011667.\n",
      "Iteration 23, inertia 3560.0214170765153.\n",
      "Iteration 24, inertia 3559.084531968564.\n",
      "Iteration 25, inertia 3558.0447604677.\n",
      "Iteration 26, inertia 3556.954933236845.\n",
      "Iteration 27, inertia 3556.434890535169.\n",
      "Iteration 28, inertia 3555.859938594787.\n",
      "Iteration 29, inertia 3555.0390285128155.\n",
      "Iteration 30, inertia 3553.672248049075.\n",
      "Iteration 31, inertia 3553.0183561922386.\n",
      "Iteration 32, inertia 3552.0337828573447.\n",
      "Iteration 33, inertia 3550.266355981481.\n",
      "Iteration 34, inertia 3547.934496028808.\n",
      "Iteration 35, inertia 3544.4968913543457.\n",
      "Iteration 36, inertia 3542.0504958808606.\n",
      "Iteration 37, inertia 3540.07454809175.\n",
      "Iteration 38, inertia 3537.7857897519343.\n",
      "Iteration 39, inertia 3534.4787973927755.\n",
      "Iteration 40, inertia 3532.015143589295.\n",
      "Iteration 41, inertia 3528.7428193514743.\n",
      "Iteration 42, inertia 3525.717713301617.\n",
      "Iteration 43, inertia 3523.582182678021.\n",
      "Iteration 44, inertia 3521.8244531961773.\n",
      "Iteration 45, inertia 3520.362256644159.\n",
      "Iteration 46, inertia 3519.648228339802.\n",
      "Iteration 47, inertia 3518.8846414248624.\n",
      "Iteration 48, inertia 3518.1826392012717.\n",
      "Iteration 49, inertia 3517.78639605797.\n",
      "Converged at iteration 49: center shift 0.0001405895223473731 within tolerance 0.0002709886847099651.\n",
      "Initialization complete\n",
      "Iteration 0, inertia 4301.339818228925.\n",
      "Iteration 1, inertia 3660.2318399298797.\n",
      "Iteration 2, inertia 3572.8270116540375.\n",
      "Iteration 3, inertia 3539.953726546821.\n",
      "Iteration 4, inertia 3528.042663596462.\n",
      "Iteration 5, inertia 3522.5135656875846.\n",
      "Iteration 6, inertia 3520.040414560192.\n",
      "Iteration 7, inertia 3516.9504921340344.\n",
      "Iteration 8, inertia 3516.0048472767967.\n",
      "Iteration 9, inertia 3515.402806596084.\n",
      "Iteration 10, inertia 3514.9206305414195.\n",
      "Iteration 11, inertia 3514.619253175927.\n",
      "Converged at iteration 11: center shift 0.00019761627900910153 within tolerance 0.0002709886847099651.\n",
      "Initialization complete\n",
      "Iteration 0, inertia 5289.671312714264.\n",
      "Iteration 1, inertia 4334.310455373579.\n",
      "Iteration 2, inertia 4060.508587586245.\n",
      "Iteration 3, inertia 3851.144873877881.\n",
      "Iteration 4, inertia 3710.079168181638.\n",
      "Iteration 5, inertia 3632.707361218035.\n",
      "Iteration 6, inertia 3591.5809292685435.\n",
      "Iteration 7, inertia 3572.031914680546.\n",
      "Iteration 8, inertia 3559.4650311180794.\n",
      "Iteration 9, inertia 3553.4454113125144.\n",
      "Iteration 10, inertia 3549.7293717840967.\n",
      "Iteration 11, inertia 3548.058708582546.\n",
      "Iteration 12, inertia 3547.397476360522.\n",
      "Iteration 13, inertia 3546.821033221753.\n",
      "Iteration 14, inertia 3546.23262613701.\n",
      "Converged at iteration 14: center shift 0.00021260349529973727 within tolerance 0.0002709886847099651.\n",
      "Initialization complete\n",
      "Iteration 0, inertia 3999.53432362795.\n",
      "Iteration 1, inertia 3582.6673005045395.\n",
      "Iteration 2, inertia 3527.8661768695642.\n",
      "Iteration 3, inertia 3515.016890358092.\n",
      "Iteration 4, inertia 3509.36626150946.\n",
      "Iteration 5, inertia 3506.6875105821637.\n",
      "Iteration 6, inertia 3505.333696867285.\n",
      "Iteration 7, inertia 3503.8320206341014.\n",
      "Iteration 8, inertia 3502.5690934521026.\n",
      "Iteration 9, inertia 3501.6622192738396.\n",
      "Iteration 10, inertia 3501.0858619936575.\n",
      "Converged at iteration 10: center shift 0.00013126261908023797 within tolerance 0.0002709886847099651.\n",
      "Initialization complete\n",
      "Iteration 0, inertia 4193.825387701209.\n",
      "Iteration 1, inertia 3804.3875426254153.\n",
      "Iteration 2, inertia 3689.400469911222.\n",
      "Iteration 3, inertia 3627.3094328325637.\n",
      "Iteration 4, inertia 3593.861259278218.\n",
      "Iteration 5, inertia 3574.8233688702817.\n",
      "Iteration 6, inertia 3557.9327515277214.\n",
      "Iteration 7, inertia 3542.3613748001053.\n",
      "Iteration 8, inertia 3529.4459746462253.\n",
      "Iteration 9, inertia 3522.6567975992466.\n",
      "Iteration 10, inertia 3516.7476660136217.\n",
      "Iteration 11, inertia 3513.171360204524.\n",
      "Iteration 12, inertia 3509.886947586339.\n",
      "Iteration 13, inertia 3507.6349819656175.\n",
      "Iteration 14, inertia 3505.9034838109164.\n",
      "Iteration 15, inertia 3504.7594982356063.\n",
      "Iteration 16, inertia 3504.4836063357507.\n",
      "Converged at iteration 16: center shift 0.00011650934506338693 within tolerance 0.0002709886847099651.\n",
      "Initialization complete\n",
      "Iteration 0, inertia 4716.962957087476.\n",
      "Iteration 1, inertia 3752.766822356557.\n",
      "Iteration 2, inertia 3626.5328531094406.\n",
      "Iteration 3, inertia 3582.051197226936.\n",
      "Iteration 4, inertia 3563.568086937351.\n",
      "Iteration 5, inertia 3554.1395926319824.\n",
      "Iteration 6, inertia 3545.890325778499.\n",
      "Iteration 7, inertia 3538.622104388928.\n",
      "Iteration 8, inertia 3532.724765557915.\n",
      "Iteration 9, inertia 3526.9442403286243.\n",
      "Iteration 10, inertia 3520.7165856080155.\n",
      "Iteration 11, inertia 3517.024307808759.\n",
      "Iteration 12, inertia 3515.2797515050606.\n",
      "Iteration 13, inertia 3512.748047867655.\n",
      "Iteration 14, inertia 3510.458688905812.\n",
      "Iteration 15, inertia 3508.7456541854253.\n",
      "Iteration 16, inertia 3507.5328182733533.\n",
      "Iteration 17, inertia 3506.2051687817257.\n",
      "Iteration 18, inertia 3505.1561352604035.\n",
      "Iteration 19, inertia 3504.5886395888324.\n",
      "Converged at iteration 19: center shift 0.0001115778815046828 within tolerance 0.0002709886847099651.\n"
     ]
    },
    {
     "data": {
      "text/html": [
       "<style>#sk-container-id-2 {color: black;background-color: white;}#sk-container-id-2 pre{padding: 0;}#sk-container-id-2 div.sk-toggleable {background-color: white;}#sk-container-id-2 label.sk-toggleable__label {cursor: pointer;display: block;width: 100%;margin-bottom: 0;padding: 0.3em;box-sizing: border-box;text-align: center;}#sk-container-id-2 label.sk-toggleable__label-arrow:before {content: \"▸\";float: left;margin-right: 0.25em;color: #696969;}#sk-container-id-2 label.sk-toggleable__label-arrow:hover:before {color: black;}#sk-container-id-2 div.sk-estimator:hover label.sk-toggleable__label-arrow:before {color: black;}#sk-container-id-2 div.sk-toggleable__content {max-height: 0;max-width: 0;overflow: hidden;text-align: left;background-color: #f0f8ff;}#sk-container-id-2 div.sk-toggleable__content pre {margin: 0.2em;color: black;border-radius: 0.25em;background-color: #f0f8ff;}#sk-container-id-2 input.sk-toggleable__control:checked~div.sk-toggleable__content {max-height: 200px;max-width: 100%;overflow: auto;}#sk-container-id-2 input.sk-toggleable__control:checked~label.sk-toggleable__label-arrow:before {content: \"▾\";}#sk-container-id-2 div.sk-estimator input.sk-toggleable__control:checked~label.sk-toggleable__label {background-color: #d4ebff;}#sk-container-id-2 div.sk-label input.sk-toggleable__control:checked~label.sk-toggleable__label {background-color: #d4ebff;}#sk-container-id-2 input.sk-hidden--visually {border: 0;clip: rect(1px 1px 1px 1px);clip: rect(1px, 1px, 1px, 1px);height: 1px;margin: -1px;overflow: hidden;padding: 0;position: absolute;width: 1px;}#sk-container-id-2 div.sk-estimator {font-family: monospace;background-color: #f0f8ff;border: 1px dotted black;border-radius: 0.25em;box-sizing: border-box;margin-bottom: 0.5em;}#sk-container-id-2 div.sk-estimator:hover {background-color: #d4ebff;}#sk-container-id-2 div.sk-parallel-item::after {content: \"\";width: 100%;border-bottom: 1px solid gray;flex-grow: 1;}#sk-container-id-2 div.sk-label:hover label.sk-toggleable__label {background-color: #d4ebff;}#sk-container-id-2 div.sk-serial::before {content: \"\";position: absolute;border-left: 1px solid gray;box-sizing: border-box;top: 0;bottom: 0;left: 50%;z-index: 0;}#sk-container-id-2 div.sk-serial {display: flex;flex-direction: column;align-items: center;background-color: white;padding-right: 0.2em;padding-left: 0.2em;position: relative;}#sk-container-id-2 div.sk-item {position: relative;z-index: 1;}#sk-container-id-2 div.sk-parallel {display: flex;align-items: stretch;justify-content: center;background-color: white;position: relative;}#sk-container-id-2 div.sk-item::before, #sk-container-id-2 div.sk-parallel-item::before {content: \"\";position: absolute;border-left: 1px solid gray;box-sizing: border-box;top: 0;bottom: 0;left: 50%;z-index: -1;}#sk-container-id-2 div.sk-parallel-item {display: flex;flex-direction: column;z-index: 1;position: relative;background-color: white;}#sk-container-id-2 div.sk-parallel-item:first-child::after {align-self: flex-end;width: 50%;}#sk-container-id-2 div.sk-parallel-item:last-child::after {align-self: flex-start;width: 50%;}#sk-container-id-2 div.sk-parallel-item:only-child::after {width: 0;}#sk-container-id-2 div.sk-dashed-wrapped {border: 1px dashed gray;margin: 0 0.4em 0.5em 0.4em;box-sizing: border-box;padding-bottom: 0.4em;background-color: white;}#sk-container-id-2 div.sk-label label {font-family: monospace;font-weight: bold;display: inline-block;line-height: 1.2em;}#sk-container-id-2 div.sk-label-container {text-align: center;}#sk-container-id-2 div.sk-container {/* jupyter's `normalize.less` sets `[hidden] { display: none; }` but bootstrap.min.css set `[hidden] { display: none !important; }` so we also need the `!important` here to be able to override the default hidden behavior on the sphinx rendered scikit-learn.org. See: https://github.com/scikit-learn/scikit-learn/issues/21755 */display: inline-block !important;position: relative;}#sk-container-id-2 div.sk-text-repr-fallback {display: none;}</style><div id=\"sk-container-id-2\" class=\"sk-top-container\"><div class=\"sk-text-repr-fallback\"><pre>KMeans(n_clusters=5, random_state=4002, verbose=True)</pre><b>In a Jupyter environment, please rerun this cell to show the HTML representation or trust the notebook. <br />On GitHub, the HTML representation is unable to render, please try loading this page with nbviewer.org.</b></div><div class=\"sk-container\" hidden><div class=\"sk-item\"><div class=\"sk-estimator sk-toggleable\"><input class=\"sk-toggleable__control sk-hidden--visually\" id=\"sk-estimator-id-2\" type=\"checkbox\" checked><label for=\"sk-estimator-id-2\" class=\"sk-toggleable__label sk-toggleable__label-arrow\">KMeans</label><div class=\"sk-toggleable__content\"><pre>KMeans(n_clusters=5, random_state=4002, verbose=True)</pre></div></div></div></div></div>"
      ],
      "text/plain": [
       "KMeans(n_clusters=5, random_state=4002, verbose=True)"
      ]
     },
     "execution_count": 77,
     "metadata": {},
     "output_type": "execute_result"
    }
   ],
   "source": [
    "kmeans_pca.fit(projection)"
   ]
  },
  {
   "cell_type": "code",
   "execution_count": 78,
   "metadata": {},
   "outputs": [],
   "source": [
    "dados_generos['cluster_pca'] = kmeans_pca.predict(projection)\n",
    "projection['cluster_pca'] = kmeans_pca.predict(projection)"
   ]
  },
  {
   "cell_type": "code",
   "execution_count": 79,
   "metadata": {},
   "outputs": [
    {
     "data": {
      "text/html": [
       "<div>\n",
       "<style scoped>\n",
       "    .dataframe tbody tr th:only-of-type {\n",
       "        vertical-align: middle;\n",
       "    }\n",
       "\n",
       "    .dataframe tbody tr th {\n",
       "        vertical-align: top;\n",
       "    }\n",
       "\n",
       "    .dataframe thead th {\n",
       "        text-align: right;\n",
       "    }\n",
       "</style>\n",
       "<table border=\"1\" class=\"dataframe\">\n",
       "  <thead>\n",
       "    <tr style=\"text-align: right;\">\n",
       "      <th></th>\n",
       "      <th>x</th>\n",
       "      <th>y</th>\n",
       "      <th>cluster_pca</th>\n",
       "    </tr>\n",
       "  </thead>\n",
       "  <tbody>\n",
       "    <tr>\n",
       "      <th>0</th>\n",
       "      <td>5.910268</td>\n",
       "      <td>-0.011146</td>\n",
       "      <td>4</td>\n",
       "    </tr>\n",
       "    <tr>\n",
       "      <th>1</th>\n",
       "      <td>2.787093</td>\n",
       "      <td>4.498483</td>\n",
       "      <td>4</td>\n",
       "    </tr>\n",
       "    <tr>\n",
       "      <th>2</th>\n",
       "      <td>-0.757538</td>\n",
       "      <td>-1.258495</td>\n",
       "      <td>2</td>\n",
       "    </tr>\n",
       "    <tr>\n",
       "      <th>3</th>\n",
       "      <td>1.020521</td>\n",
       "      <td>-0.931690</td>\n",
       "      <td>3</td>\n",
       "    </tr>\n",
       "    <tr>\n",
       "      <th>4</th>\n",
       "      <td>0.753911</td>\n",
       "      <td>-0.999861</td>\n",
       "      <td>3</td>\n",
       "    </tr>\n",
       "    <tr>\n",
       "      <th>...</th>\n",
       "      <td>...</td>\n",
       "      <td>...</td>\n",
       "      <td>...</td>\n",
       "    </tr>\n",
       "    <tr>\n",
       "      <th>2968</th>\n",
       "      <td>-0.475136</td>\n",
       "      <td>-0.017126</td>\n",
       "      <td>0</td>\n",
       "    </tr>\n",
       "    <tr>\n",
       "      <th>2969</th>\n",
       "      <td>-3.026756</td>\n",
       "      <td>-1.304983</td>\n",
       "      <td>2</td>\n",
       "    </tr>\n",
       "    <tr>\n",
       "      <th>2970</th>\n",
       "      <td>-0.832511</td>\n",
       "      <td>-1.089726</td>\n",
       "      <td>2</td>\n",
       "    </tr>\n",
       "    <tr>\n",
       "      <th>2971</th>\n",
       "      <td>1.774790</td>\n",
       "      <td>-3.695233</td>\n",
       "      <td>3</td>\n",
       "    </tr>\n",
       "    <tr>\n",
       "      <th>2972</th>\n",
       "      <td>-1.028069</td>\n",
       "      <td>-1.390709</td>\n",
       "      <td>2</td>\n",
       "    </tr>\n",
       "  </tbody>\n",
       "</table>\n",
       "<p>2973 rows × 3 columns</p>\n",
       "</div>"
      ],
      "text/plain": [
       "             x         y  cluster_pca\n",
       "0     5.910268 -0.011146            4\n",
       "1     2.787093  4.498483            4\n",
       "2    -0.757538 -1.258495            2\n",
       "3     1.020521 -0.931690            3\n",
       "4     0.753911 -0.999861            3\n",
       "...        ...       ...          ...\n",
       "2968 -0.475136 -0.017126            0\n",
       "2969 -3.026756 -1.304983            2\n",
       "2970 -0.832511 -1.089726            2\n",
       "2971  1.774790 -3.695233            3\n",
       "2972 -1.028069 -1.390709            2\n",
       "\n",
       "[2973 rows x 3 columns]"
      ]
     },
     "execution_count": 79,
     "metadata": {},
     "output_type": "execute_result"
    }
   ],
   "source": [
    "projection"
   ]
  },
  {
   "cell_type": "code",
   "execution_count": 80,
   "metadata": {},
   "outputs": [],
   "source": [
    "projection['generos'] = dados_generos['genres']"
   ]
  },
  {
   "cell_type": "code",
   "execution_count": 81,
   "metadata": {},
   "outputs": [
    {
     "data": {
      "text/html": [
       "<div>\n",
       "<style scoped>\n",
       "    .dataframe tbody tr th:only-of-type {\n",
       "        vertical-align: middle;\n",
       "    }\n",
       "\n",
       "    .dataframe tbody tr th {\n",
       "        vertical-align: top;\n",
       "    }\n",
       "\n",
       "    .dataframe thead th {\n",
       "        text-align: right;\n",
       "    }\n",
       "</style>\n",
       "<table border=\"1\" class=\"dataframe\">\n",
       "  <thead>\n",
       "    <tr style=\"text-align: right;\">\n",
       "      <th></th>\n",
       "      <th>x</th>\n",
       "      <th>y</th>\n",
       "      <th>cluster_pca</th>\n",
       "      <th>generos</th>\n",
       "    </tr>\n",
       "  </thead>\n",
       "  <tbody>\n",
       "    <tr>\n",
       "      <th>0</th>\n",
       "      <td>5.910268</td>\n",
       "      <td>-0.011146</td>\n",
       "      <td>4</td>\n",
       "      <td>21st century classical</td>\n",
       "    </tr>\n",
       "    <tr>\n",
       "      <th>1</th>\n",
       "      <td>2.787093</td>\n",
       "      <td>4.498483</td>\n",
       "      <td>4</td>\n",
       "      <td>432hz</td>\n",
       "    </tr>\n",
       "    <tr>\n",
       "      <th>2</th>\n",
       "      <td>-0.757538</td>\n",
       "      <td>-1.258495</td>\n",
       "      <td>2</td>\n",
       "      <td>8-bit</td>\n",
       "    </tr>\n",
       "    <tr>\n",
       "      <th>3</th>\n",
       "      <td>1.020521</td>\n",
       "      <td>-0.931690</td>\n",
       "      <td>3</td>\n",
       "      <td>[]</td>\n",
       "    </tr>\n",
       "    <tr>\n",
       "      <th>4</th>\n",
       "      <td>0.753911</td>\n",
       "      <td>-0.999861</td>\n",
       "      <td>3</td>\n",
       "      <td>a cappella</td>\n",
       "    </tr>\n",
       "    <tr>\n",
       "      <th>...</th>\n",
       "      <td>...</td>\n",
       "      <td>...</td>\n",
       "      <td>...</td>\n",
       "      <td>...</td>\n",
       "    </tr>\n",
       "    <tr>\n",
       "      <th>2968</th>\n",
       "      <td>-0.475136</td>\n",
       "      <td>-0.017126</td>\n",
       "      <td>0</td>\n",
       "      <td>zolo</td>\n",
       "    </tr>\n",
       "    <tr>\n",
       "      <th>2969</th>\n",
       "      <td>-3.026756</td>\n",
       "      <td>-1.304983</td>\n",
       "      <td>2</td>\n",
       "      <td>zouglou</td>\n",
       "    </tr>\n",
       "    <tr>\n",
       "      <th>2970</th>\n",
       "      <td>-0.832511</td>\n",
       "      <td>-1.089726</td>\n",
       "      <td>2</td>\n",
       "      <td>zouk</td>\n",
       "    </tr>\n",
       "    <tr>\n",
       "      <th>2971</th>\n",
       "      <td>1.774790</td>\n",
       "      <td>-3.695233</td>\n",
       "      <td>3</td>\n",
       "      <td>zurich indie</td>\n",
       "    </tr>\n",
       "    <tr>\n",
       "      <th>2972</th>\n",
       "      <td>-1.028069</td>\n",
       "      <td>-1.390709</td>\n",
       "      <td>2</td>\n",
       "      <td>zydeco</td>\n",
       "    </tr>\n",
       "  </tbody>\n",
       "</table>\n",
       "<p>2973 rows × 4 columns</p>\n",
       "</div>"
      ],
      "text/plain": [
       "             x         y  cluster_pca                 generos\n",
       "0     5.910268 -0.011146            4  21st century classical\n",
       "1     2.787093  4.498483            4                   432hz\n",
       "2    -0.757538 -1.258495            2                   8-bit\n",
       "3     1.020521 -0.931690            3                      []\n",
       "4     0.753911 -0.999861            3              a cappella\n",
       "...        ...       ...          ...                     ...\n",
       "2968 -0.475136 -0.017126            0                    zolo\n",
       "2969 -3.026756 -1.304983            2                 zouglou\n",
       "2970 -0.832511 -1.089726            2                    zouk\n",
       "2971  1.774790 -3.695233            3            zurich indie\n",
       "2972 -1.028069 -1.390709            2                  zydeco\n",
       "\n",
       "[2973 rows x 4 columns]"
      ]
     },
     "execution_count": 81,
     "metadata": {},
     "output_type": "execute_result"
    }
   ],
   "source": [
    "projection"
   ]
  },
  {
   "cell_type": "markdown",
   "metadata": {},
   "source": [
    "# plotando o clustering"
   ]
  },
  {
   "cell_type": "code",
   "execution_count": 84,
   "metadata": {},
   "outputs": [
    {
     "data": {
      "application/vnd.plotly.v1+json": {
       "config": {
        "plotlyServerURL": "https://plot.ly"
       },
       "data": [
        {
         "customdata": [
          [
           "21st century classical"
          ],
          [
           "432hz"
          ],
          [
           "8-bit"
          ],
          [
           "[]"
          ],
          [
           "a cappella"
          ],
          [
           "abstract"
          ],
          [
           "abstract beats"
          ],
          [
           "abstract hip hop"
          ],
          [
           "accordeon"
          ],
          [
           "accordion"
          ],
          [
           "acid house"
          ],
          [
           "acid rock"
          ],
          [
           "acid trance"
          ],
          [
           "acousmatic"
          ],
          [
           "acoustic blues"
          ],
          [
           "acoustic pop"
          ],
          [
           "acoustic punk"
          ],
          [
           "acoustic rock"
          ],
          [
           "action rock"
          ],
          [
           "adoracion"
          ],
          [
           "adult standards"
          ],
          [
           "adventista"
          ],
          [
           "afghan pop"
          ],
          [
           "afghan traditional"
          ],
          [
           "african percussion"
          ],
          [
           "african reggae"
          ],
          [
           "african rock"
          ],
          [
           "african-american classical"
          ],
          [
           "afro dancehall"
          ],
          [
           "afro house"
          ],
          [
           "afro psych"
          ],
          [
           "afro soul"
          ],
          [
           "afro-funk"
          ],
          [
           "afrobeat"
          ],
          [
           "afrofuturism"
          ],
          [
           "afrofuturismo brasileiro"
          ],
          [
           "afropop"
          ],
          [
           "afroswing"
          ],
          [
           "aggrotech"
          ],
          [
           "alabama indie"
          ],
          [
           "alabama metal"
          ],
          [
           "alabama rap"
          ],
          [
           "alaska indie"
          ],
          [
           "albanian pop"
          ],
          [
           "albany ny indie"
          ],
          [
           "alberta country"
          ],
          [
           "alberta hip hop"
          ],
          [
           "album rock"
          ],
          [
           "albuquerque indie"
          ],
          [
           "alt-idol"
          ],
          [
           "alte"
          ],
          [
           "alternative americana"
          ],
          [
           "alternative country"
          ],
          [
           "alternative dance"
          ],
          [
           "alternative emo"
          ],
          [
           "alternative hip hop"
          ],
          [
           "alternative metal"
          ],
          [
           "alternative pop"
          ],
          [
           "alternative pop rock"
          ],
          [
           "alternative r&b"
          ],
          [
           "alternative rock"
          ],
          [
           "alternative roots rock"
          ],
          [
           "ambeat"
          ],
          [
           "ambient"
          ],
          [
           "ambient black metal"
          ],
          [
           "ambient folk"
          ],
          [
           "ambient house"
          ],
          [
           "ambient idm"
          ],
          [
           "ambient industrial"
          ],
          [
           "ambient pop"
          ],
          [
           "ambient techno"
          ],
          [
           "ambient worship"
          ],
          [
           "american 21st century classical"
          ],
          [
           "american choir"
          ],
          [
           "american classical piano"
          ],
          [
           "american contemporary classical"
          ],
          [
           "american early music"
          ],
          [
           "american folk revival"
          ],
          [
           "american metalcore"
          ],
          [
           "american modern classical"
          ],
          [
           "american oi"
          ],
          [
           "american orchestra"
          ],
          [
           "american post-rock"
          ],
          [
           "american primitive"
          ],
          [
           "american romanticism"
          ],
          [
           "american shoegaze"
          ],
          [
           "anadolu rock"
          ],
          [
           "anarcho-punk"
          ],
          [
           "anglican liturgy"
          ],
          [
           "animal singing"
          ],
          [
           "anime"
          ],
          [
           "anime latino"
          ],
          [
           "anime rock"
          ],
          [
           "anime score"
          ],
          [
           "ann arbor indie"
          ],
          [
           "anthem emo"
          ],
          [
           "anthem worship"
          ],
          [
           "anti-folk"
          ],
          [
           "antilliaanse folklore"
          ],
          [
           "antiviral pop"
          ],
          [
           "appalachian folk"
          ],
          [
           "arab folk"
          ],
          [
           "arab groove"
          ],
          [
           "arab pop"
          ],
          [
           "arabesk"
          ],
          [
           "arabic hip hop"
          ],
          [
           "arabic jazz"
          ],
          [
           "argentine ambient"
          ],
          [
           "argentine hardcore"
          ],
          [
           "argentine heavy metal"
          ],
          [
           "argentine hip hop"
          ],
          [
           "argentine indie"
          ],
          [
           "argentine metal"
          ],
          [
           "argentine punk"
          ],
          [
           "argentine reggae"
          ],
          [
           "argentine rock"
          ],
          [
           "argentine telepop"
          ],
          [
           "arizona punk"
          ],
          [
           "arkansas country"
          ],
          [
           "arkansas hip hop"
          ],
          [
           "arkansas indie"
          ],
          [
           "armenian folk"
          ],
          [
           "art pop"
          ],
          [
           "art punk"
          ],
          [
           "art rock"
          ],
          [
           "art song"
          ],
          [
           "asbury park indie"
          ],
          [
           "asheville indie"
          ],
          [
           "asian american hip hop"
          ],
          [
           "asmr"
          ],
          [
           "athens indie"
          ],
          [
           "atl hip hop"
          ],
          [
           "atl trap"
          ],
          [
           "atlanta indie"
          ],
          [
           "atlanta metal"
          ],
          [
           "atlanta punk"
          ],
          [
           "atmosphere"
          ],
          [
           "atmospheric black metal"
          ],
          [
           "atmospheric dnb"
          ],
          [
           "atmospheric post-metal"
          ],
          [
           "atmospheric post-rock"
          ],
          [
           "atmospheric sludge"
          ],
          [
           "auckland indie"
          ],
          [
           "audiophile vocal"
          ],
          [
           "aussietronica"
          ],
          [
           "austin americana"
          ],
          [
           "austin singer-songwriter"
          ],
          [
           "austindie"
          ],
          [
           "australian alternative pop"
          ],
          [
           "australian alternative rock"
          ],
          [
           "australian ambient"
          ],
          [
           "australian children's music"
          ],
          [
           "australian choir"
          ],
          [
           "australian classical"
          ],
          [
           "australian classical piano"
          ],
          [
           "australian country"
          ],
          [
           "australian dance"
          ],
          [
           "australian electropop"
          ],
          [
           "australian garage punk"
          ],
          [
           "australian hip hop"
          ],
          [
           "australian house"
          ],
          [
           "australian indie"
          ],
          [
           "australian indie folk"
          ],
          [
           "australian indie rock"
          ],
          [
           "australian indigenous"
          ],
          [
           "australian metal"
          ],
          [
           "australian metalcore"
          ],
          [
           "australian pop"
          ],
          [
           "australian post-hardcore"
          ],
          [
           "australian post-punk"
          ],
          [
           "australian psych"
          ],
          [
           "australian r&b"
          ],
          [
           "australian reggae fusion"
          ],
          [
           "australian rock"
          ],
          [
           "australian singer-songwriter"
          ],
          [
           "australian ska"
          ],
          [
           "australian talent show"
          ],
          [
           "australian trap"
          ],
          [
           "australian underground hip hop"
          ],
          [
           "austrian choir"
          ],
          [
           "austrian classical piano"
          ],
          [
           "austrian orchestra"
          ],
          [
           "austrian pop"
          ],
          [
           "austro-german modernism"
          ],
          [
           "austropop"
          ],
          [
           "autoharp"
          ],
          [
           "autonomous black metal"
          ],
          [
           "avant-garde"
          ],
          [
           "avant-garde jazz"
          ],
          [
           "avant-garde metal"
          ],
          [
           "axe"
          ],
          [
           "azeri traditional"
          ],
          [
           "azonto"
          ],
          [
           "azontobeats"
          ],
          [
           "bachata"
          ],
          [
           "bachata dominicana"
          ],
          [
           "background music"
          ],
          [
           "background piano"
          ],
          [
           "baglama"
          ],
          [
           "bahai"
          ],
          [
           "bahamian folk"
          ],
          [
           "bahamian pop"
          ],
          [
           "baiao"
          ],
          [
           "bajki"
          ],
          [
           "bakersfield sound"
          ],
          [
           "balearic"
          ],
          [
           "balkan brass"
          ],
          [
           "balkan classical piano"
          ],
          [
           "ballet class"
          ],
          [
           "ballroom"
          ],
          [
           "baltic classical"
          ],
          [
           "baltimore hip hop"
          ],
          [
           "baltimore indie"
          ],
          [
           "banda"
          ],
          [
           "banda caliente"
          ],
          [
           "banda carnavalera"
          ],
          [
           "bandinhas"
          ],
          [
           "bandolim"
          ],
          [
           "bandoneon"
          ],
          [
           "bangla"
          ],
          [
           "banjo"
          ],
          [
           "bansuri"
          ],
          [
           "barbadian pop"
          ],
          [
           "barbershop"
          ],
          [
           "bard"
          ],
          [
           "barnmusik"
          ],
          [
           "barockinterpreten"
          ],
          [
           "baroque"
          ],
          [
           "baroque brass"
          ],
          [
           "baroque ensemble"
          ],
          [
           "baroque pop"
          ],
          [
           "baroque singing"
          ],
          [
           "baroque violin"
          ],
          [
           "baroque woodwind"
          ],
          [
           "bass house"
          ],
          [
           "bass music"
          ],
          [
           "bass trap"
          ],
          [
           "basshall"
          ],
          [
           "bassline"
          ],
          [
           "bath indie"
          ],
          [
           "baton rouge indie"
          ],
          [
           "baton rouge rap"
          ],
          [
           "battle rap"
          ],
          [
           "bay area hip hop"
          ],
          [
           "bay area indie"
          ],
          [
           "bboy"
          ],
          [
           "bc underground hip hop"
          ],
          [
           "beach music"
          ],
          [
           "beat italiano"
          ],
          [
           "beat poetry"
          ],
          [
           "beatboxing"
          ],
          [
           "beatlesque"
          ],
          [
           "bebop"
          ],
          [
           "bedroom pop"
          ],
          [
           "bedroom soul"
          ],
          [
           "belarusian indie"
          ],
          [
           "belarusian pop"
          ],
          [
           "belarusian rock"
          ],
          [
           "belgian classical piano"
          ],
          [
           "belgian contemporary classical"
          ],
          [
           "belgian dance"
          ],
          [
           "belgian edm"
          ],
          [
           "belgian hardcore"
          ],
          [
           "belgian indie"
          ],
          [
           "belgian indie rock"
          ],
          [
           "belgian jazz"
          ],
          [
           "belgian new wave"
          ],
          [
           "belgian pop"
          ],
          [
           "belgian rock"
          ],
          [
           "belgian singer-songwriter"
          ],
          [
           "belgian techno"
          ],
          [
           "belly dance"
          ],
          [
           "bengali folk"
          ],
          [
           "beninese pop"
          ],
          [
           "bergen indie"
          ],
          [
           "berlin minimal techno"
          ],
          [
           "berlin school"
          ],
          [
           "bhajan"
          ],
          [
           "bhangra"
          ],
          [
           "bible"
          ],
          [
           "big band"
          ],
          [
           "big beat"
          ],
          [
           "big room"
          ],
          [
           "binaural"
          ],
          [
           "birdsong"
          ],
          [
           "birmingham grime"
          ],
          [
           "birmingham hip hop"
          ],
          [
           "birmingham metal"
          ],
          [
           "bitpop"
          ],
          [
           "black 'n' roll"
          ],
          [
           "black comedy"
          ],
          [
           "black metal"
          ],
          [
           "black punk"
          ],
          [
           "black thrash"
          ],
          [
           "blackened crust"
          ],
          [
           "blackgaze"
          ],
          [
           "bleep techno"
          ],
          [
           "bluegrass"
          ],
          [
           "bluegrass fiddle"
          ],
          [
           "bluegrass gospel"
          ],
          [
           "blues"
          ],
          [
           "blues latinoamericano"
          ],
          [
           "blues mexicano"
          ],
          [
           "blues rock"
          ],
          [
           "bmore"
          ],
          [
           "bolero"
          ],
          [
           "bolero cubano"
          ],
          [
           "boogaloo"
          ],
          [
           "boogie"
          ],
          [
           "boogie-woogie"
          ],
          [
           "boom bap"
          ],
          [
           "boom bap brasileiro"
          ],
          [
           "bossa nova"
          ],
          [
           "bossa nova jazz"
          ],
          [
           "boston folk"
          ],
          [
           "boston hardcore"
          ],
          [
           "boston hip hop"
          ],
          [
           "boston indie"
          ],
          [
           "boston metal"
          ],
          [
           "boston punk"
          ],
          [
           "boston rock"
          ],
          [
           "bounce"
          ],
          [
           "bouncy house"
          ],
          [
           "bouzouki"
          ],
          [
           "bow pop"
          ],
          [
           "boy band"
          ],
          [
           "boy pop"
          ],
          [
           "boy soprano"
          ],
          [
           "brain waves"
          ],
          [
           "braindance"
          ],
          [
           "brass band"
          ],
          [
           "brass ensemble"
          ],
          [
           "brass quintet"
          ],
          [
           "brazilian boogie"
          ],
          [
           "brazilian classical"
          ],
          [
           "brazilian classical piano"
          ],
          [
           "brazilian contemporary classical"
          ],
          [
           "brazilian edm"
          ],
          [
           "brazilian groove metal"
          ],
          [
           "brazilian hip hop"
          ],
          [
           "brazilian indie"
          ],
          [
           "brazilian jazz"
          ],
          [
           "brazilian metal"
          ],
          [
           "brazilian modern jazz"
          ],
          [
           "brazilian percussion"
          ],
          [
           "brazilian punk"
          ],
          [
           "brazilian reggae"
          ],
          [
           "brazilian rock"
          ],
          [
           "brazilian ska"
          ],
          [
           "brazilian soul"
          ],
          [
           "brazilian thrash metal"
          ],
          [
           "breakbeat"
          ],
          [
           "breakcore"
          ],
          [
           "brega"
          ],
          [
           "breton folk"
          ],
          [
           "brighton indie"
          ],
          [
           "brill building pop"
          ],
          [
           "brisbane indie"
          ],
          [
           "bristol electronic"
          ],
          [
           "bristol indie"
          ],
          [
           "brit funk"
          ],
          [
           "british alternative rock"
          ],
          [
           "british black metal"
          ],
          [
           "british blues"
          ],
          [
           "british children's music"
          ],
          [
           "british choir"
          ],
          [
           "british classical piano"
          ],
          [
           "british comedy"
          ],
          [
           "british contemporary classical"
          ],
          [
           "british dance band"
          ],
          [
           "british death metal"
          ],
          [
           "british experimental"
          ],
          [
           "british folk"
          ],
          [
           "british grindcore"
          ],
          [
           "british indie rock"
          ],
          [
           "british industrial"
          ],
          [
           "british invasion"
          ],
          [
           "british jazz"
          ],
          [
           "british modern classical"
          ],
          [
           "british orchestra"
          ],
          [
           "british post-rock"
          ],
          [
           "british power metal"
          ],
          [
           "british singer-songwriter"
          ],
          [
           "british soul"
          ],
          [
           "british soundtrack"
          ],
          [
           "britpop"
          ],
          [
           "broadway"
          ],
          [
           "broken beat"
          ],
          [
           "bronx hip hop"
          ],
          [
           "brooklyn drill"
          ],
          [
           "brooklyn indie"
          ],
          [
           "brostep"
          ],
          [
           "brutal death metal"
          ],
          [
           "brutal deathcore"
          ],
          [
           "bubble trance"
          ],
          [
           "bubblegrunge"
          ],
          [
           "bubblegum dance"
          ],
          [
           "bubblegum pop"
          ],
          [
           "buffalo hip hop"
          ],
          [
           "buffalo ny indie"
          ],
          [
           "buffalo ny metal"
          ],
          [
           "bulgarian experimental"
          ],
          [
           "burmese traditional"
          ],
          [
           "bush ballad"
          ],
          [
           "c-pop"
          ],
          [
           "c86"
          ],
          [
           "cabaret"
          ],
          [
           "cajun"
          ],
          [
           "calgary indie"
          ],
          [
           "cali rap"
          ],
          [
           "calming instrumental"
          ],
          [
           "calypso"
          ],
          [
           "cambodian rock"
          ],
          [
           "cambridge choir"
          ],
          [
           "cambridgeshire indie"
          ],
          [
           "cameroonian pop"
          ],
          [
           "canadian americana"
          ],
          [
           "canadian blues"
          ],
          [
           "canadian ccm"
          ],
          [
           "canadian celtic"
          ],
          [
           "canadian children's music"
          ],
          [
           "canadian choir"
          ],
          [
           "canadian classical"
          ],
          [
           "canadian classical piano"
          ],
          [
           "canadian comedy"
          ],
          [
           "canadian contemporary country"
          ],
          [
           "canadian contemporary r&b"
          ],
          [
           "canadian country"
          ],
          [
           "canadian electronic"
          ],
          [
           "canadian electropop"
          ],
          [
           "canadian experimental"
          ],
          [
           "canadian folk"
          ],
          [
           "canadian hardcore"
          ],
          [
           "canadian hip hop"
          ],
          [
           "canadian house"
          ],
          [
           "canadian indie"
          ],
          [
           "canadian indie folk"
          ],
          [
           "canadian indigenous"
          ],
          [
           "canadian indigenous hip hop"
          ],
          [
           "canadian latin"
          ],
          [
           "canadian metal"
          ],
          [
           "canadian metalcore"
          ],
          [
           "canadian modern jazz"
          ],
          [
           "canadian pop"
          ],
          [
           "canadian pop punk"
          ],
          [
           "canadian post-hardcore"
          ],
          [
           "canadian post-rock"
          ],
          [
           "canadian psychedelic"
          ],
          [
           "canadian punk"
          ],
          [
           "canadian rock"
          ],
          [
           "canadian rockabilly"
          ],
          [
           "canadian singer-songwriter"
          ],
          [
           "canadian soundtrack"
          ],
          [
           "cancion melodica"
          ],
          [
           "candy pop"
          ],
          [
           "cantautor"
          ],
          [
           "cante flamenco"
          ],
          [
           "canterbury scene"
          ],
          [
           "canto popular uruguayo"
          ],
          [
           "cantopop"
          ],
          [
           "canzone d'autore"
          ],
          [
           "canzone genovese"
          ],
          [
           "canzone napoletana"
          ],
          [
           "cape town indie"
          ],
          [
           "cape verdean folk"
          ],
          [
           "capoeira"
          ],
          [
           "caracas indie"
          ],
          [
           "carnatic"
          ],
          [
           "carnatic instrumental"
          ],
          [
           "carnatic vocal"
          ],
          [
           "cartoon"
          ],
          [
           "cathedral choir"
          ],
          [
           "caucasian classical"
          ],
          [
           "caucasian classical piano"
          ],
          [
           "ccm"
          ],
          [
           "cedm"
          ],
          [
           "cello"
          ],
          [
           "celtic"
          ],
          [
           "celtic harp"
          ],
          [
           "celtic metal"
          ],
          [
           "celtic punk"
          ],
          [
           "celtic rock"
          ],
          [
           "cha-cha-cha"
          ],
          [
           "chakra"
          ],
          [
           "chamame"
          ],
          [
           "chamber choir"
          ],
          [
           "chamber ensemble"
          ],
          [
           "chamber folk"
          ],
          [
           "chamber orchestra"
          ],
          [
           "chamber pop"
          ],
          [
           "chamber psych"
          ],
          [
           "champeta"
          ],
          [
           "channel islands indie"
          ],
          [
           "channel pop"
          ],
          [
           "chanson"
          ],
          [
           "chanson paillarde"
          ],
          [
           "chaotic hardcore"
          ],
          [
           "charanga"
          ],
          [
           "charango"
          ],
          [
           "charlotte nc indie"
          ],
          [
           "charlottesville indie"
          ],
          [
           "chattanooga indie"
          ],
          [
           "chicago blues"
          ],
          [
           "chicago drill"
          ],
          [
           "chicago hardcore"
          ],
          [
           "chicago house"
          ],
          [
           "chicago indie"
          ],
          [
           "chicago pop punk"
          ],
          [
           "chicago punk"
          ],
          [
           "chicago rap"
          ],
          [
           "chicago soul"
          ],
          [
           "chicano punk"
          ],
          [
           "chicano rap"
          ],
          [
           "chicha"
          ],
          [
           "chihuahua indie"
          ],
          [
           "children's choir"
          ],
          [
           "children's folk"
          ],
          [
           "children's music"
          ],
          [
           "children's story"
          ],
          [
           "chilean hardcore"
          ],
          [
           "chilean indie"
          ],
          [
           "chilean rock"
          ],
          [
           "chilena"
          ],
          [
           "chill beats"
          ],
          [
           "chill guitar"
          ],
          [
           "chill lounge"
          ],
          [
           "chill out"
          ],
          [
           "chill pop"
          ],
          [
           "chill r&b"
          ],
          [
           "chillhop"
          ],
          [
           "chillstep"
          ],
          [
           "chillwave"
          ],
          [
           "chinese audiophile"
          ],
          [
           "chinese classical"
          ],
          [
           "chinese classical performance"
          ],
          [
           "chinese classical piano"
          ],
          [
           "chinese electropop"
          ],
          [
           "chinese hip hop"
          ],
          [
           "chinese idol pop"
          ],
          [
           "chinese indie"
          ],
          [
           "chinese indie rock"
          ],
          [
           "chinese instrumental"
          ],
          [
           "chinese jazz"
          ],
          [
           "chinese r&b"
          ],
          [
           "chinese soundtrack"
          ],
          [
           "chinese traditional"
          ],
          [
           "chiptune"
          ],
          [
           "chopped and screwed"
          ],
          [
           "choral"
          ],
          [
           "choro"
          ],
          [
           "christchurch indie"
          ],
          [
           "christelijk"
          ],
          [
           "christian a cappella"
          ],
          [
           "christian alternative rock"
          ],
          [
           "christian dance"
          ],
          [
           "christian hard rock"
          ],
          [
           "christian hardcore"
          ],
          [
           "christian hip hop"
          ],
          [
           "christian indie"
          ],
          [
           "christian metal"
          ],
          [
           "christian metalcore"
          ],
          [
           "christian music"
          ],
          [
           "christian pop"
          ],
          [
           "christian power metal"
          ],
          [
           "christian punk"
          ],
          [
           "christian relaxative"
          ],
          [
           "christian rock"
          ],
          [
           "christian trap"
          ],
          [
           "christian uplift"
          ],
          [
           "christmas instrumental"
          ],
          [
           "christmas product"
          ],
          [
           "chunchaca"
          ],
          [
           "chutney"
          ],
          [
           "cincinnati rap"
          ],
          [
           "cinematic post-rock"
          ],
          [
           "circuit"
          ],
          [
           "circus"
          ],
          [
           "classic afrobeat"
          ],
          [
           "classic arab pop"
          ],
          [
           "classic australian country"
          ],
          [
           "classic belgian pop"
          ],
          [
           "classic bhangra"
          ],
          [
           "classic bollywood"
          ],
          [
           "classic canadian rock"
          ],
          [
           "classic cantopop"
          ],
          [
           "classic colombian pop"
          ],
          [
           "classic country pop"
          ],
          [
           "classic czech pop"
          ],
          [
           "classic danish pop"
          ],
          [
           "classic dubstep"
          ],
          [
           "classic eurovision"
          ],
          [
           "classic finnish pop"
          ],
          [
           "classic french pop"
          ],
          [
           "classic garage rock"
          ],
          [
           "classic girl group"
          ],
          [
           "classic greek pop"
          ],
          [
           "classic hardstyle"
          ],
          [
           "classic icelandic pop"
          ],
          [
           "classic indo pop"
          ],
          [
           "classic iskelma"
          ],
          [
           "classic israeli pop"
          ],
          [
           "classic italian folk pop"
          ],
          [
           "classic italian pop"
          ],
          [
           "classic j-rock"
          ],
          [
           "classic japanese jazz"
          ],
          [
           "classic korean pop"
          ],
          [
           "classic latvian pop"
          ],
          [
           "classic mandopop"
          ],
          [
           "classic norwegian pop"
          ],
          [
           "classic opm"
          ],
          [
           "classic pakistani pop"
          ],
          [
           "classic persian pop"
          ],
          [
           "classic peruvian pop"
          ],
          [
           "classic polish pop"
          ],
          [
           "classic praise"
          ],
          [
           "classic psychedelic rock"
          ],
          [
           "classic punjabi pop"
          ],
          [
           "classic rock"
          ],
          [
           "classic russian pop"
          ],
          [
           "classic russian rock"
          ],
          [
           "classic schlager"
          ],
          [
           "classic soul"
          ],
          [
           "classic soundtrack"
          ],
          [
           "classic swedish pop"
          ],
          [
           "classic thai pop"
          ],
          [
           "classic tunisian pop"
          ],
          [
           "classic turkish pop"
          ],
          [
           "classic uk pop"
          ],
          [
           "classic venezuelan pop"
          ],
          [
           "classical"
          ],
          [
           "classical accordion"
          ],
          [
           "classical baritone"
          ],
          [
           "classical bass"
          ],
          [
           "classical cello"
          ],
          [
           "classical clarinet"
          ],
          [
           "classical contralto"
          ],
          [
           "classical countertenor"
          ],
          [
           "classical era"
          ],
          [
           "classical flute"
          ],
          [
           "classical guitar"
          ],
          [
           "classical harp"
          ],
          [
           "classical horn"
          ],
          [
           "classical mandolin"
          ],
          [
           "classical mezzo-soprano"
          ],
          [
           "classical oboe"
          ],
          [
           "classical organ"
          ],
          [
           "classical performance"
          ],
          [
           "classical piano"
          ],
          [
           "classical piano duo"
          ],
          [
           "classical piano trio"
          ],
          [
           "classical saxophone"
          ],
          [
           "classical soprano"
          ],
          [
           "classical tenor"
          ],
          [
           "classical trumpet"
          ],
          [
           "classify"
          ],
          [
           "clawhammer banjo"
          ],
          [
           "clean comedy"
          ],
          [
           "cleveland metal"
          ],
          [
           "coco"
          ],
          [
           "collage pop"
          ],
          [
           "college a cappella"
          ],
          [
           "colombian hip hop"
          ],
          [
           "colombian pop"
          ],
          [
           "colombian rock"
          ],
          [
           "columbus ohio indie"
          ],
          [
           "comedy"
          ],
          [
           "comedy rap"
          ],
          [
           "comedy rock"
          ],
          [
           "comic"
          ],
          [
           "comic metal"
          ],
          [
           "commons"
          ],
          [
           "complextro"
          ],
          [
           "compositional ambient"
          ],
          [
           "concepcion indie"
          ],
          [
           "concert band"
          ],
          [
           "connecticut hardcore"
          ],
          [
           "connecticut indie"
          ],
          [
           "conscious hip hop"
          ],
          [
           "contemporary choir"
          ],
          [
           "contemporary classical"
          ],
          [
           "contemporary classical piano"
          ],
          [
           "contemporary country"
          ],
          [
           "contemporary folk"
          ],
          [
           "contemporary gospel"
          ],
          [
           "contemporary jazz"
          ],
          [
           "contemporary post-bop"
          ],
          [
           "contemporary vocal jazz"
          ],
          [
           "contrabass"
          ],
          [
           "cool jazz"
          ],
          [
           "copla"
          ],
          [
           "cornish folk"
          ],
          [
           "cornwall indie"
          ],
          [
           "corrido"
          ],
          [
           "corridos cristianos"
          ],
          [
           "corridos tumbados"
          ],
          [
           "corrosion"
          ],
          [
           "cosmic american"
          ],
          [
           "cosmic post-rock"
          ],
          [
           "country"
          ],
          [
           "country blues"
          ],
          [
           "country boogie"
          ],
          [
           "country dawn"
          ],
          [
           "country gospel"
          ],
          [
           "country pop"
          ],
          [
           "country rap"
          ],
          [
           "country road"
          ],
          [
           "country rock"
          ],
          [
           "coverchill"
          ],
          [
           "cowboy western"
          ],
          [
           "cowpunk"
          ],
          [
           "crack rock steady"
          ],
          [
           "croatian folk"
          ],
          [
           "croatian pop"
          ],
          [
           "croatian rock"
          ],
          [
           "crossover thrash"
          ],
          [
           "crunk"
          ],
          [
           "crust punk"
          ],
          [
           "cuarteto"
          ],
          [
           "cuatro venezolano"
          ],
          [
           "cuban alternative"
          ],
          [
           "cuban rumba"
          ],
          [
           "cubaton"
          ],
          [
           "cumbia"
          ],
          [
           "cumbia andina mexicana"
          ],
          [
           "cumbia chilena"
          ],
          [
           "cumbia colombiana regia"
          ],
          [
           "cumbia ecuatoriana"
          ],
          [
           "cumbia funk"
          ],
          [
           "cumbia lagunera"
          ],
          [
           "cumbia paraguaya"
          ],
          [
           "cumbia peruana"
          ],
          [
           "cumbia pop"
          ],
          [
           "cumbia ranchera"
          ],
          [
           "cumbia salvadorena"
          ],
          [
           "cumbia santafesina"
          ],
          [
           "cumbia sonidera"
          ],
          [
           "cumbia villera"
          ],
          [
           "cyberpunk"
          ],
          [
           "cymraeg"
          ],
          [
           "cypriot pop"
          ],
          [
           "czech classical"
          ],
          [
           "czech classical piano"
          ],
          [
           "czech contemporary classical"
          ],
          [
           "d-beat"
          ],
          [
           "dabke"
          ],
          [
           "dakke dak"
          ],
          [
           "dallas indie"
          ],
          [
           "dance pop"
          ],
          [
           "dance rock"
          ],
          [
           "dance-punk"
          ],
          [
           "dancehall"
          ],
          [
           "dangdut"
          ],
          [
           "danish alternative rock"
          ],
          [
           "danish classical"
          ],
          [
           "danish electronic"
          ],
          [
           "danish electropop"
          ],
          [
           "danish hip hop"
          ],
          [
           "danish jazz"
          ],
          [
           "danish metal"
          ],
          [
           "danish pop"
          ],
          [
           "danish pop rock"
          ],
          [
           "danish post-punk"
          ],
          [
           "danish punk"
          ],
          [
           "danish rock"
          ],
          [
           "danish singer-songwriter"
          ],
          [
           "dansband"
          ],
          [
           "danseband"
          ],
          [
           "dansktop"
          ],
          [
           "danspunk"
          ],
          [
           "dark cabaret"
          ],
          [
           "dark clubbing"
          ],
          [
           "dark disco"
          ],
          [
           "dark hardcore"
          ],
          [
           "dark jazz"
          ],
          [
           "dark minimal techno"
          ],
          [
           "dark post-punk"
          ],
          [
           "dark techno"
          ],
          [
           "dark trap"
          ],
          [
           "dark wave"
          ],
          [
           "darksynth"
          ],
          [
           "dayton indie"
          ],
          [
           "dc hardcore"
          ],
          [
           "dc indie"
          ],
          [
           "death 'n' roll"
          ],
          [
           "death metal"
          ],
          [
           "deathcore"
          ],
          [
           "deathgrass"
          ],
          [
           "deathgrind"
          ],
          [
           "deathrash"
          ],
          [
           "deathrock"
          ],
          [
           "deathstep"
          ],
          [
           "deep acoustic pop"
          ],
          [
           "deep adult standards"
          ],
          [
           "deep big room"
          ],
          [
           "deep ccm"
          ],
          [
           "deep christian rock"
          ],
          [
           "deep classic garage rock"
          ],
          [
           "deep comedy"
          ],
          [
           "deep contemporary country"
          ],
          [
           "deep dance pop"
          ],
          [
           "deep delta blues"
          ],
          [
           "deep disco"
          ],
          [
           "deep disco house"
          ],
          [
           "deep dnb"
          ],
          [
           "deep east coast hip hop"
          ],
          [
           "deep euro house"
          ],
          [
           "deep flow"
          ],
          [
           "deep free jazz"
          ],
          [
           "deep freestyle"
          ],
          [
           "deep full on"
          ],
          [
           "deep funk"
          ],
          [
           "deep g funk"
          ],
          [
           "deep gothic post-punk"
          ],
          [
           "deep groove house"
          ],
          [
           "deep house"
          ],
          [
           "deep idm"
          ],
          [
           "deep indian pop"
          ],
          [
           "deep indie singer-songwriter"
          ],
          [
           "deep latin alternative"
          ],
          [
           "deep latin christian"
          ],
          [
           "deep melodic metalcore"
          ],
          [
           "deep minimal techno"
          ],
          [
           "deep motown"
          ],
          [
           "deep new americana"
          ],
          [
           "deep new wave"
          ],
          [
           "deep norteno"
          ],
          [
           "deep northern soul"
          ],
          [
           "deep pop edm"
          ],
          [
           "deep progressive house"
          ],
          [
           "deep psychobilly"
          ],
          [
           "deep punk rock"
          ],
          [
           "deep r&b"
          ],
          [
           "deep ragga"
          ],
          [
           "deep regional mexican"
          ],
          [
           "deep smooth jazz"
          ],
          [
           "deep soft rock"
          ],
          [
           "deep soul house"
          ],
          [
           "deep soundtrack"
          ],
          [
           "deep southern soul"
          ],
          [
           "deep southern trap"
          ],
          [
           "deep space rock"
          ],
          [
           "deep talent show"
          ],
          [
           "deep tech house"
          ],
          [
           "deep techno"
          ],
          [
           "deep tropical house"
          ],
          [
           "deep underground hip hop"
          ],
          [
           "deep uplifting trance"
          ],
          [
           "delta blues"
          ],
          [
           "dembow"
          ],
          [
           "denpa-kei"
          ],
          [
           "denton tx indie"
          ],
          [
           "denver indie"
          ],
          [
           "depressive black metal"
          ],
          [
           "derby indie"
          ],
          [
           "desert blues"
          ],
          [
           "desi hip hop"
          ],
          [
           "desi pop"
          ],
          [
           "destroy techno"
          ],
          [
           "detroit hip hop"
          ],
          [
           "detroit house"
          ],
          [
           "detroit techno"
          ],
          [
           "detroit trap"
          ],
          [
           "detske pisnicky"
          ],
          [
           "detskie pesni"
          ],
          [
           "devon indie"
          ],
          [
           "dfw rap"
          ],
          [
           "dhrupad"
          ],
          [
           "digital hardcore"
          ],
          [
           "dinner jazz"
          ],
          [
           "dirty south rap"
          ],
          [
           "dirty texas rap"
          ],
          [
           "disco"
          ],
          [
           "disco house"
          ],
          [
           "disney"
          ],
          [
           "diva house"
          ],
          [
           "dixieland"
          ],
          [
           "diy emo"
          ],
          [
           "djent"
          ],
          [
           "dmv rap"
          ],
          [
           "dominican pop"
          ],
          [
           "dong-yo"
          ],
          [
           "doo-wop"
          ],
          [
           "doom metal"
          ],
          [
           "double drumming"
          ],
          [
           "downtempo"
          ],
          [
           "drama"
          ],
          [
           "dream pop"
          ],
          [
           "dream trance"
          ],
          [
           "dreamgaze"
          ],
          [
           "dreamo"
          ],
          [
           "drift"
          ],
          [
           "drill"
          ],
          [
           "drill and bass"
          ],
          [
           "drone"
          ],
          [
           "drone folk"
          ],
          [
           "drone metal"
          ],
          [
           "drum and bass"
          ],
          [
           "dub"
          ],
          [
           "dub metal"
          ],
          [
           "dub poetry"
          ],
          [
           "dub techno"
          ],
          [
           "dubstep"
          ],
          [
           "dubsteppe"
          ],
          [
           "duduk"
          ],
          [
           "duluth indie"
          ],
          [
           "dunedin indie"
          ],
          [
           "dunedin sound"
          ],
          [
           "dungeon synth"
          ],
          [
           "duranguense"
          ],
          [
           "dusseldorf electronic"
          ],
          [
           "dutch blues"
          ],
          [
           "dutch cabaret"
          ],
          [
           "dutch classical piano"
          ],
          [
           "dutch death metal"
          ],
          [
           "dutch dnb"
          ],
          [
           "dutch edm"
          ],
          [
           "dutch folk"
          ],
          [
           "dutch hip hop"
          ],
          [
           "dutch house"
          ],
          [
           "dutch indie"
          ],
          [
           "dutch jazz"
          ],
          [
           "dutch metal"
          ],
          [
           "dutch pop"
          ],
          [
           "dutch prog"
          ],
          [
           "dutch rap pop"
          ],
          [
           "dutch rock"
          ],
          [
           "dutch trance"
          ],
          [
           "e6fi"
          ],
          [
           "early american folk"
          ],
          [
           "early avant garde"
          ],
          [
           "early modern classical"
          ],
          [
           "early music"
          ],
          [
           "early music choir"
          ],
          [
           "early music ensemble"
          ],
          [
           "early reggae"
          ],
          [
           "early romantic era"
          ],
          [
           "early synthpop"
          ],
          [
           "early us punk"
          ],
          [
           "east coast hip hop"
          ],
          [
           "east coast reggae"
          ],
          [
           "eastern bloc groove"
          ],
          [
           "easy listening"
          ],
          [
           "easycore"
          ],
          [
           "eau claire indie"
          ],
          [
           "ebm"
          ],
          [
           "ecm-style jazz"
          ],
          [
           "ectofolk"
          ],
          [
           "ecuadorian pop"
          ],
          [
           "edm"
          ],
          [
           "edmonton indie"
          ],
          [
           "egyptian pop"
          ],
          [
           "egyptian traditional"
          ],
          [
           "el paso indie"
          ],
          [
           "electra"
          ],
          [
           "electric bass"
          ],
          [
           "electric blues"
          ],
          [
           "electro"
          ],
          [
           "electro house"
          ],
          [
           "electro jazz"
          ],
          [
           "electro latino"
          ],
          [
           "electro swing"
          ],
          [
           "electro-industrial"
          ],
          [
           "electro-pop francais"
          ],
          [
           "electroclash"
          ],
          [
           "electrofox"
          ],
          [
           "electronic djent"
          ],
          [
           "electronic rock"
          ],
          [
           "electronic trap"
          ],
          [
           "electronica"
          ],
          [
           "electronica argentina"
          ],
          [
           "electropop"
          ],
          [
           "electropowerpop"
          ],
          [
           "emo"
          ],
          [
           "emo mexicano"
          ],
          [
           "emo punk"
          ],
          [
           "emo rap"
          ],
          [
           "emocore"
          ],
          [
           "english baroque"
          ],
          [
           "english indie rock"
          ],
          [
           "english renaissance"
          ],
          [
           "enka"
          ],
          [
           "entehno"
          ],
          [
           "environmental"
          ],
          [
           "epic doom"
          ],
          [
           "epicore"
          ],
          [
           "erhu"
          ],
          [
           "escape room"
          ],
          [
           "esperanto"
          ],
          [
           "essex indie"
          ],
          [
           "estonian hip hop"
          ],
          [
           "estonian pop"
          ],
          [
           "ethereal wave"
          ],
          [
           "etherpop"
          ],
          [
           "ethio-jazz"
          ],
          [
           "ethiopian pop"
          ],
          [
           "ethnomusicology"
          ],
          [
           "ethnotronica"
          ],
          [
           "eugene indie"
          ],
          [
           "euphoric hardstyle"
          ],
          [
           "eurobeat"
          ],
          [
           "eurodance"
          ],
          [
           "europop"
          ],
          [
           "euroska"
          ],
          [
           "eurovision"
          ],
          [
           "exotica"
          ],
          [
           "experimental"
          ],
          [
           "experimental ambient"
          ],
          [
           "experimental big band"
          ],
          [
           "experimental dub"
          ],
          [
           "experimental folk"
          ],
          [
           "experimental guitar"
          ],
          [
           "experimental hip hop"
          ],
          [
           "experimental house"
          ],
          [
           "experimental indie"
          ],
          [
           "experimental jazz"
          ],
          [
           "experimental pop"
          ],
          [
           "experimental rock"
          ],
          [
           "experimental vocal"
          ],
          [
           "fado"
          ],
          [
           "family gospel"
          ],
          [
           "faroese pop"
          ],
          [
           "fast melodic punk"
          ],
          [
           "fidget house"
          ],
          [
           "filmi"
          ],
          [
           "filter house"
          ],
          [
           "filthstep"
          ],
          [
           "final fantasy"
          ],
          [
           "fingerstyle"
          ],
          [
           "finnish alternative rock"
          ],
          [
           "finnish classical"
          ],
          [
           "finnish contemporary classical"
          ],
          [
           "finnish death metal"
          ],
          [
           "finnish edm"
          ],
          [
           "finnish hard rock"
          ],
          [
           "finnish heavy metal"
          ],
          [
           "finnish metal"
          ],
          [
           "finnish power metal"
          ],
          [
           "finnish soul"
          ],
          [
           "flamenco"
          ],
          [
           "flamenco guitar"
          ],
          [
           "flick hop"
          ],
          [
           "flint hip hop"
          ],
          [
           "float house"
          ],
          [
           "florida death metal"
          ],
          [
           "florida rap"
          ],
          [
           "fluxwork"
          ],
          [
           "fo jing"
          ],
          [
           "focus"
          ],
          [
           "focus beats"
          ],
          [
           "focus trance"
          ],
          [
           "folclor afrocolombiano"
          ],
          [
           "folclor colombiano"
          ],
          [
           "folclore extremeno"
          ],
          [
           "folclore jujeno"
          ],
          [
           "folclore navarra"
          ],
          [
           "folclore salteno"
          ],
          [
           "folclore tucumano"
          ],
          [
           "folk"
          ],
          [
           "folk metal"
          ],
          [
           "folk punk"
          ],
          [
           "folk rock"
          ],
          [
           "folk rock italiano"
          ],
          [
           "folk-pop"
          ],
          [
           "folklore argentino"
          ],
          [
           "folklore boliviano"
          ],
          [
           "folklore chileno"
          ],
          [
           "folklore ecuatoriano"
          ],
          [
           "folklore peruano"
          ],
          [
           "folklore venezolano"
          ],
          [
           "folklore veracruzano"
          ],
          [
           "folkmusik"
          ],
          [
           "folktronica"
          ],
          [
           "footwork"
          ],
          [
           "forro"
          ],
          [
           "forro tradicional"
          ],
          [
           "fort worth indie"
          ],
          [
           "fourth world"
          ],
          [
           "francoton"
          ],
          [
           "freak folk"
          ],
          [
           "freakbeat"
          ],
          [
           "free folk"
          ],
          [
           "free improvisation"
          ],
          [
           "free jazz"
          ],
          [
           "freestyle"
          ],
          [
           "french baroque"
          ],
          [
           "french classical piano"
          ],
          [
           "french contemporary classical"
          ],
          [
           "french death metal"
          ],
          [
           "french dnb"
          ],
          [
           "french hip hop"
          ],
          [
           "french indie folk"
          ],
          [
           "french indie pop"
          ],
          [
           "french indietronica"
          ],
          [
           "french jazz"
          ],
          [
           "french metal"
          ],
          [
           "french movie tunes"
          ],
          [
           "french opera"
          ],
          [
           "french orchestra"
          ],
          [
           "french pop"
          ],
          [
           "french post-punk"
          ],
          [
           "french psychedelic"
          ],
          [
           "french reggae"
          ],
          [
           "french rock"
          ],
          [
           "french romanticism"
          ],
          [
           "french shoegaze"
          ],
          [
           "french soundtrack"
          ],
          [
           "french synthpop"
          ],
          [
           "french techno"
          ],
          [
           "frenchcore"
          ],
          [
           "full on"
          ],
          [
           "funana"
          ],
          [
           "funeral doom"
          ],
          [
           "funk"
          ],
          [
           "funk 150 bpm"
          ],
          [
           "funk carioca"
          ],
          [
           "funk das antigas"
          ],
          [
           "funk metal"
          ],
          [
           "funk mexicano"
          ],
          [
           "funk ostentacao"
          ],
          [
           "funk paulista"
          ],
          [
           "funk pop"
          ],
          [
           "funk rock"
          ],
          [
           "funky breaks"
          ],
          [
           "funky tech house"
          ],
          [
           "future bass"
          ],
          [
           "future funk"
          ],
          [
           "future garage"
          ],
          [
           "future house"
          ],
          [
           "future rock"
          ],
          [
           "futurepop"
          ],
          [
           "g funk"
          ],
          [
           "gabba"
          ],
          [
           "gabonese pop"
          ],
          [
           "gaian doom"
          ],
          [
           "gainesville indie"
          ],
          [
           "gaita zuliana"
          ],
          [
           "galante era"
          ],
          [
           "gamelan"
          ],
          [
           "gaming dubstep"
          ],
          [
           "gaming edm"
          ],
          [
           "gangster rap"
          ],
          [
           "garage house"
          ],
          [
           "garage pop"
          ],
          [
           "garage psych"
          ],
          [
           "garage punk"
          ],
          [
           "garage punk blues"
          ],
          [
           "garage rock"
          ],
          [
           "garage rock revival"
          ],
          [
           "gauze pop"
          ],
          [
           "gbvfi"
          ],
          [
           "geek folk"
          ],
          [
           "geek rock"
          ],
          [
           "georgian folk"
          ],
          [
           "german alternative rock"
          ],
          [
           "german baroque"
          ],
          [
           "german choir"
          ],
          [
           "german classical piano"
          ],
          [
           "german country"
          ],
          [
           "german dance"
          ],
          [
           "german hard rock"
          ],
          [
           "german heavy metal"
          ],
          [
           "german house"
          ],
          [
           "german indie"
          ],
          [
           "german jazz"
          ],
          [
           "german literature"
          ],
          [
           "german metal"
          ],
          [
           "german oi"
          ],
          [
           "german opera"
          ],
          [
           "german orchestra"
          ],
          [
           "german pop"
          ],
          [
           "german pop rock"
          ],
          [
           "german post-hardcore"
          ],
          [
           "german power metal"
          ],
          [
           "german punk"
          ],
          [
           "german renaissance"
          ],
          [
           "german rock"
          ],
          [
           "german romanticism"
          ],
          [
           "german show tunes"
          ],
          [
           "german soundtrack"
          ],
          [
           "german techno"
          ],
          [
           "german thrash metal"
          ],
          [
           "german trance"
          ],
          [
           "german underground rap"
          ],
          [
           "ghanaian hip hop"
          ],
          [
           "ghanaian traditional"
          ],
          [
           "ghazal"
          ],
          [
           "ghent indie"
          ],
          [
           "girl group"
          ],
          [
           "glam metal"
          ],
          [
           "glam punk"
          ],
          [
           "glam rock"
          ],
          [
           "glee club"
          ],
          [
           "glitch"
          ],
          [
           "glitch hop"
          ],
          [
           "glitch pop"
          ],
          [
           "glitchcore"
          ],
          [
           "go-go"
          ],
          [
           "goregrind"
          ],
          [
           "gospel"
          ],
          [
           "gospel antigas"
          ],
          [
           "gospel blues"
          ],
          [
           "gospel italiano"
          ],
          [
           "gospel r&b"
          ],
          [
           "gospel rap"
          ],
          [
           "gospel singers"
          ],
          [
           "gospel soul"
          ],
          [
           "gothabilly"
          ],
          [
           "gothenburg indie"
          ],
          [
           "gothenburg metal"
          ],
          [
           "gothic alternative"
          ],
          [
           "gothic americana"
          ],
          [
           "gothic black metal"
          ],
          [
           "gothic metal"
          ],
          [
           "gothic post-punk"
          ],
          [
           "gothic rock"
          ],
          [
           "gothic symphonic metal"
          ],
          [
           "gqom"
          ],
          [
           "grand rapids indie"
          ],
          [
           "grave wave"
          ],
          [
           "greek clarinet"
          ],
          [
           "greek contemporary classical"
          ],
          [
           "greek folk"
          ],
          [
           "greek guitar"
          ],
          [
           "greek house"
          ],
          [
           "greek jazz"
          ],
          [
           "greek pop"
          ],
          [
           "greek swing"
          ],
          [
           "gregorian chant"
          ],
          [
           "grime"
          ],
          [
           "grindcore"
          ],
          [
           "griot"
          ],
          [
           "groove metal"
          ],
          [
           "groove room"
          ],
          [
           "grunge"
          ],
          [
           "grunge pop"
          ],
          [
           "grupera"
          ],
          [
           "gruperas inmortales"
          ],
          [
           "guadalajara indie"
          ],
          [
           "guam indie"
          ],
          [
           "guaracha"
          ],
          [
           "guatemalan pop"
          ],
          [
           "guidance"
          ],
          [
           "guinean pop"
          ],
          [
           "guitarra argentina"
          ],
          [
           "guitarra clasica"
          ],
          [
           "guitarra portuguesa"
          ],
          [
           "gujarati garba"
          ],
          [
           "gujarati pop"
          ],
          [
           "guzheng"
          ],
          [
           "gymcore"
          ],
          [
           "gypsy"
          ],
          [
           "gypsy jazz"
          ],
          [
           "gypsy punk"
          ],
          [
           "haitian traditional"
          ],
          [
           "halifax indie"
          ],
          [
           "halloween"
          ],
          [
           "hamburg electronic"
          ],
          [
           "hammered dulcimer"
          ],
          [
           "hammond organ"
          ],
          [
           "hands up"
          ],
          [
           "hangpan"
          ],
          [
           "happy hardcore"
          ],
          [
           "hard alternative"
          ],
          [
           "hard bop"
          ],
          [
           "hard minimal techno"
          ],
          [
           "hard rock"
          ],
          [
           "hard rock brasileiro"
          ],
          [
           "hardcore"
          ],
          [
           "hardcore hip hop"
          ],
          [
           "hardcore punk"
          ],
          [
           "hardcore techno"
          ],
          [
           "hardstyle"
          ],
          [
           "harlem hip hop"
          ],
          [
           "harlem renaissance"
          ],
          [
           "harmonica blues"
          ],
          [
           "harmonica jazz"
          ],
          [
           "harp"
          ],
          [
           "harpsichord"
          ],
          [
           "haryanvi pop"
          ],
          [
           "hauntology"
          ],
          [
           "hawaiian"
          ],
          [
           "hawaiian hip hop"
          ],
          [
           "hawaiian indie"
          ],
          [
           "healing"
          ],
          [
           "heartland rock"
          ],
          [
           "hi-nrg"
          ],
          [
           "highlife"
          ],
          [
           "hindi hip hop"
          ],
          [
           "hindi indie"
          ],
          [
           "hindustani classical"
          ],
          [
           "hindustani instrumental"
          ],
          [
           "hindustani vocal"
          ],
          [
           "hip hop"
          ],
          [
           "hip hop cubano"
          ],
          [
           "hip house"
          ],
          [
           "hip pop"
          ],
          [
           "hiplife"
          ],
          [
           "histoire pour enfants"
          ],
          [
           "historic classical performance"
          ],
          [
           "historic orchestral performance"
          ],
          [
           "historic piano performance"
          ],
          [
           "historic string quartet"
          ],
          [
           "historical keyboard"
          ],
          [
           "historically informed performance"
          ],
          [
           "hoerspiel"
          ],
          [
           "hokkien pop"
          ],
          [
           "hollywood"
          ],
          [
           "hong kong hip hop"
          ],
          [
           "hong kong indie"
          ],
          [
           "hong kong rock"
          ],
          [
           "honky tonk"
          ],
          [
           "honky-tonk piano"
          ],
          [
           "hopebeat"
          ],
          [
           "horror punk"
          ],
          [
           "horror synth"
          ],
          [
           "horrorcore"
          ],
          [
           "house"
          ],
          [
           "houston rap"
          ],
          [
           "huapango"
          ],
          [
           "huayno"
          ],
          [
           "hula"
          ],
          [
           "humppa"
          ],
          [
           "hungarian choir"
          ],
          [
           "hungarian classical performance"
          ],
          [
           "hungarian classical piano"
          ],
          [
           "hungarian contemporary classical"
          ],
          [
           "hungarian edm"
          ],
          [
           "hungarian folk"
          ],
          [
           "hungarian pop"
          ],
          [
           "hungarian rock"
          ],
          [
           "hungarian techno"
          ],
          [
           "hurdy-gurdy"
          ],
          [
           "hyperpop"
          ],
          [
           "hyphy"
          ],
          [
           "icelandic classical"
          ],
          [
           "icelandic electronic"
          ],
          [
           "icelandic experimental"
          ],
          [
           "icelandic folk"
          ],
          [
           "icelandic indie"
          ],
          [
           "icelandic jazz"
          ],
          [
           "icelandic pop"
          ],
          [
           "icelandic rock"
          ],
          [
           "idaho indie"
          ],
          [
           "idol"
          ],
          [
           "idol rock"
          ],
          [
           "ilahiler"
          ],
          [
           "ilocano pop"
          ],
          [
           "impressionism"
          ],
          [
           "indian classical"
          ],
          [
           "indian edm"
          ],
          [
           "indian folk"
          ],
          [
           "indian fusion"
          ],
          [
           "indian indie"
          ],
          [
           "indian instrumental"
          ],
          [
           "indian jazz"
          ],
          [
           "indiana hip hop"
          ],
          [
           "indie anthem-folk"
          ],
          [
           "indie cafe pop"
          ],
          [
           "indie deutschrap"
          ],
          [
           "indie dream pop"
          ],
          [
           "indie electronica"
          ],
          [
           "indie electropop"
          ],
          [
           "indie folk"
          ],
          [
           "indie game soundtrack"
          ],
          [
           "indie garage rock"
          ],
          [
           "indie hip hop"
          ],
          [
           "indie jazz"
          ],
          [
           "indie pop"
          ],
          [
           "indie pop rap"
          ],
          [
           "indie poptimism"
          ],
          [
           "indie psych-pop"
          ],
          [
           "indie punk"
          ],
          [
           "indie quebecois"
          ],
          [
           "indie r&b"
          ],
          [
           "indie rock"
          ],
          [
           "indie rock mexicano"
          ],
          [
           "indie rockism"
          ],
          [
           "indie shoegaze"
          ],
          [
           "indie singer-songwriter"
          ],
          [
           "indie soul"
          ],
          [
           "indie surf"
          ],
          [
           "indie triste"
          ],
          [
           "indiecoustica"
          ],
          [
           "indietronica"
          ],
          [
           "indonesian hip hop"
          ],
          [
           "indonesian indie"
          ],
          [
           "indonesian pop"
          ],
          [
           "indonesian r&b"
          ],
          [
           "indonesian worship"
          ],
          [
           "industrial"
          ],
          [
           "industrial hardcore"
          ],
          [
           "industrial hip hop"
          ],
          [
           "industrial metal"
          ],
          [
           "industrial rock"
          ],
          [
           "indy indie"
          ],
          [
           "instrumental acoustic guitar"
          ],
          [
           "instrumental bluegrass"
          ],
          [
           "instrumental funk"
          ],
          [
           "instrumental grime"
          ],
          [
           "instrumental math rock"
          ],
          [
           "instrumental post-rock"
          ],
          [
           "instrumental progressive metal"
          ],
          [
           "instrumental rock"
          ],
          [
           "instrumental soul"
          ],
          [
           "instrumental stoner rock"
          ],
          [
           "instrumental surf"
          ],
          [
           "intelligent dance music"
          ],
          [
           "iowa hip hop"
          ],
          [
           "irish accordion"
          ],
          [
           "irish ballad"
          ],
          [
           "irish banjo"
          ],
          [
           "irish classical"
          ],
          [
           "irish country"
          ],
          [
           "irish dance"
          ],
          [
           "irish fiddle"
          ],
          [
           "irish folk"
          ],
          [
           "irish hip hop"
          ],
          [
           "irish indie"
          ],
          [
           "irish metal"
          ],
          [
           "irish pop"
          ],
          [
           "irish pub song"
          ],
          [
           "irish rock"
          ],
          [
           "irish singer-songwriter"
          ],
          [
           "iskelma"
          ],
          [
           "islamic recitation"
          ],
          [
           "isle of wight indie"
          ],
          [
           "israeli classical"
          ],
          [
           "israeli classical piano"
          ],
          [
           "israeli folk"
          ],
          [
           "israeli hip hop"
          ],
          [
           "israeli mediterranean"
          ],
          [
           "israeli pop"
          ],
          [
           "israeli rock"
          ],
          [
           "israeli singer-songwriter"
          ],
          [
           "israeli techno"
          ],
          [
           "italian adult pop"
          ],
          [
           "italian baritone"
          ],
          [
           "italian baroque"
          ],
          [
           "italian baroque ensemble"
          ],
          [
           "italian bass"
          ],
          [
           "italian blues"
          ],
          [
           "italian classical guitar"
          ],
          [
           "italian classical piano"
          ],
          [
           "italian contemporary jazz"
          ],
          [
           "italian disco"
          ],
          [
           "italian gothic"
          ],
          [
           "italian gothic metal"
          ],
          [
           "italian indie pop"
          ],
          [
           "italian jazz"
          ],
          [
           "italian library music"
          ],
          [
           "italian mandolin"
          ],
          [
           "italian metal"
          ],
          [
           "italian mezzo-soprano"
          ],
          [
           "italian modern prog"
          ],
          [
           "italian opera"
          ],
          [
           "italian orchestra"
          ],
          [
           "italian pop rock"
          ],
          [
           "italian power metal"
          ],
          [
           "italian progressive metal"
          ],
          [
           "italian progressive rock"
          ],
          [
           "italian renaissance"
          ],
          [
           "italian romanticism"
          ],
          [
           "italian soprano"
          ],
          [
           "italian soundtrack"
          ],
          [
           "italian techno"
          ],
          [
           "italian tenor"
          ],
          [
           "italian violin"
          ],
          [
           "italo dance"
          ],
          [
           "italo house"
          ],
          [
           "j-acoustic"
          ],
          [
           "j-ambient"
          ],
          [
           "j-dance"
          ],
          [
           "j-division"
          ],
          [
           "j-idol"
          ],
          [
           "j-metal"
          ],
          [
           "j-pixie"
          ],
          [
           "j-pop"
          ],
          [
           "j-pop girl group"
          ],
          [
           "j-poprock"
          ],
          [
           "j-punk"
          ],
          [
           "j-reggae"
          ],
          [
           "j-rock"
          ],
          [
           "jacksonville indie"
          ],
          [
           "jam band"
          ],
          [
           "jamgrass"
          ],
          [
           "jamtronica"
          ],
          [
           "jangle pop"
          ],
          [
           "japanese alternative rock"
          ],
          [
           "japanese chillhop"
          ],
          [
           "japanese city pop"
          ],
          [
           "japanese classical"
          ],
          [
           "japanese classical performance"
          ],
          [
           "japanese classical piano"
          ],
          [
           "japanese concert band"
          ],
          [
           "japanese dream pop"
          ],
          [
           "japanese electronic"
          ],
          [
           "japanese electropop"
          ],
          [
           "japanese emo"
          ],
          [
           "japanese experimental"
          ],
          [
           "japanese folk"
          ],
          [
           "japanese garage rock"
          ],
          [
           "japanese girl punk"
          ],
          [
           "japanese heavy metal"
          ],
          [
           "japanese idm"
          ],
          [
           "japanese indie folk"
          ],
          [
           "japanese indie rock"
          ],
          [
           "japanese instrumental"
          ],
          [
           "japanese jazz"
          ],
          [
           "japanese jazz fusion"
          ],
          [
           "japanese jazztronica"
          ],
          [
           "japanese metalcore"
          ],
          [
           "japanese new wave"
          ],
          [
           "japanese piano"
          ],
          [
           "japanese pop punk"
          ],
          [
           "japanese post-hardcore"
          ],
          [
           "japanese power metal"
          ],
          [
           "japanese prog"
          ],
          [
           "japanese psychedelic"
          ],
          [
           "japanese punk rock"
          ],
          [
           "japanese r&b"
          ],
          [
           "japanese rockabilly"
          ],
          [
           "japanese singer-songwriter"
          ],
          [
           "japanese soundtrack"
          ],
          [
           "japanese traditional"
          ],
          [
           "japanese vgm"
          ],
          [
           "japanese vocal jazz"
          ],
          [
           "jawaiian"
          ],
          [
           "jazz"
          ],
          [
           "jazz accordion"
          ],
          [
           "jazz blues"
          ],
          [
           "jazz boom bap"
          ],
          [
           "jazz brass"
          ],
          [
           "jazz chileno"
          ],
          [
           "jazz clarinet"
          ],
          [
           "jazz colombiano"
          ],
          [
           "jazz cubano"
          ],
          [
           "jazz double bass"
          ],
          [
           "jazz drums"
          ],
          [
           "jazz flute"
          ],
          [
           "jazz funk"
          ],
          [
           "jazz fusion"
          ],
          [
           "jazz guitar"
          ],
          [
           "jazz harp"
          ],
          [
           "jazz metal"
          ],
          [
           "jazz mexicano"
          ],
          [
           "jazz orchestra"
          ],
          [
           "jazz organ"
          ],
          [
           "jazz piano"
          ],
          [
           "jazz pop"
          ],
          [
           "jazz quartet"
          ],
          [
           "jazz rap"
          ],
          [
           "jazz rock"
          ],
          [
           "jazz saxophone"
          ],
          [
           "jazz trio"
          ],
          [
           "jazz trombone"
          ],
          [
           "jazz trumpet"
          ],
          [
           "jazz tuba"
          ],
          [
           "jazz venezolano"
          ],
          [
           "jazz vibraphone"
          ],
          [
           "jazz violin"
          ],
          [
           "jazztronica"
          ],
          [
           "jewish cantorial"
          ],
          [
           "jewish hip hop"
          ],
          [
           "jig and reel"
          ],
          [
           "jordanian pop"
          ],
          [
           "joropo"
          ],
          [
           "jovem guarda"
          ],
          [
           "jug band"
          ],
          [
           "juju"
          ],
          [
           "jump blues"
          ],
          [
           "jump up"
          ],
          [
           "k-indie"
          ],
          [
           "k-pop"
          ],
          [
           "k-pop boy group"
          ],
          [
           "k-pop girl group"
          ],
          [
           "k-rap"
          ],
          [
           "kabarett"
          ],
          [
           "kabyle"
          ],
          [
           "kaneka"
          ],
          [
           "kannada bhava geethe"
          ],
          [
           "kansas city hip hop"
          ],
          [
           "kashmiri pop"
          ],
          [
           "kawaii future bass"
          ],
          [
           "kawaii metal"
          ],
          [
           "kayokyoku"
          ],
          [
           "kc indie"
          ],
          [
           "kent indie"
          ],
          [
           "kentucky hip hop"
          ],
          [
           "kentucky indie"
          ],
          [
           "kentucky metal"
          ],
          [
           "kentucky mountain folk"
          ],
          [
           "kentucky punk"
          ],
          [
           "kentucky roots"
          ],
          [
           "keroncong"
          ],
          [
           "khaleeji iraqi"
          ],
          [
           "khmer"
          ],
          [
           "kids dance party"
          ],
          [
           "kindie rock"
          ],
          [
           "kingston on indie"
          ],
          [
           "kirtan"
          ],
          [
           "kiwi rock"
          ],
          [
           "kizomba antigas"
          ],
          [
           "kleine hoerspiel"
          ],
          [
           "klezmer"
          ],
          [
           "knoxville indie"
          ],
          [
           "kodomo no ongaku"
          ],
          [
           "kolsche karneval"
          ],
          [
           "komedi"
          ],
          [
           "kompa"
          ],
          [
           "kora"
          ],
          [
           "korean classical performance"
          ],
          [
           "korean classical piano"
          ],
          [
           "korean indie rock"
          ],
          [
           "korean mask singer"
          ],
          [
           "korean pop"
          ],
          [
           "korean r&b"
          ],
          [
           "korean trap"
          ],
          [
           "koto"
          ],
          [
           "krautrock"
          ],
          [
           "kundiman"
          ],
          [
           "la indie"
          ],
          [
           "la pop"
          ],
          [
           "laboratorio"
          ],
          [
           "lafayette indie"
          ],
          [
           "laiko"
          ],
          [
           "lancashire indie"
          ],
          [
           "lancaster pa indie"
          ],
          [
           "late romantic era"
          ],
          [
           "latin"
          ],
          [
           "latin afrobeat"
          ],
          [
           "latin alternative"
          ],
          [
           "latin american classical piano"
          ],
          [
           "latin arena pop"
          ],
          [
           "latin christian"
          ],
          [
           "latin classical"
          ],
          [
           "latin funk"
          ],
          [
           "latin hip hop"
          ],
          [
           "latin house"
          ],
          [
           "latin jazz"
          ],
          [
           "latin metal"
          ],
          [
           "latin pop"
          ],
          [
           "latin rock"
          ],
          [
           "latin ska"
          ],
          [
           "latin soundtrack"
          ],
          [
           "latin talent show"
          ],
          [
           "latin tech house"
          ],
          [
           "latin viral pop"
          ],
          [
           "latin worship"
          ],
          [
           "latincore"
          ],
          [
           "latino comedy"
          ],
          [
           "latintronica"
          ],
          [
           "latinx alternative"
          ],
          [
           "latvian pop"
          ],
          [
           "lds"
          ],
          [
           "lds youth"
          ],
          [
           "lebanese pop"
          ],
          [
           "leicester indie"
          ],
          [
           "lexington ky indie"
          ],
          [
           "lgbtq+ hip hop"
          ],
          [
           "library music"
          ],
          [
           "liedermacher"
          ],
          [
           "light music"
          ],
          [
           "lilith"
          ],
          [
           "liquid funk"
          ],
          [
           "lithuanian electronic"
          ],
          [
           "liverpool indie"
          ],
          [
           "livetronica"
          ],
          [
           "lldm"
          ],
          [
           "lo star"
          ],
          [
           "lo-fi"
          ],
          [
           "lo-fi beats"
          ],
          [
           "lo-fi brasileiro"
          ],
          [
           "lo-fi chill"
          ],
          [
           "lo-fi cover"
          ],
          [
           "lo-fi emo"
          ],
          [
           "lo-fi house"
          ],
          [
           "lo-fi indie"
          ],
          [
           "lo-fi vgm"
          ],
          [
           "london rap"
          ],
          [
           "louisiana blues"
          ],
          [
           "louisiana metal"
          ],
          [
           "louisville indie"
          ],
          [
           "louisville underground"
          ],
          [
           "lounge"
          ],
          [
           "louvor"
          ],
          [
           "lovers rock"
          ],
          [
           "lullaby"
          ],
          [
           "lund indie"
          ],
          [
           "lute"
          ],
          [
           "macedonian folk"
          ],
          [
           "madchester"
          ],
          [
           "madrigal"
          ],
          [
           "magyar alternative"
          ],
          [
           "maine hip hop"
          ],
          [
           "maine indie"
          ],
          [
           "mainland chinese pop"
          ],
          [
           "makossa"
          ],
          [
           "malaysian mandopop"
          ],
          [
           "malaysian pop"
          ],
          [
           "malian blues"
          ],
          [
           "mallet"
          ],
          [
           "malmo indie"
          ],
          [
           "mambo"
          ],
          [
           "manchester hip hop"
          ],
          [
           "manchester indie"
          ],
          [
           "mande pop"
          ],
          [
           "mandolin"
          ],
          [
           "mandopop"
          ],
          [
           "manguebeat"
          ],
          [
           "manila sound"
          ],
          [
           "manitoba indie"
          ],
          [
           "mantra"
          ],
          [
           "marathi pop"
          ],
          [
           "marathi traditional"
          ],
          [
           "marching band"
          ],
          [
           "mariachi"
          ],
          [
           "mariachi cristiano"
          ],
          [
           "marimba orquesta"
          ],
          [
           "martial industrial"
          ],
          [
           "mashup"
          ],
          [
           "math rock"
          ],
          [
           "mathcore"
          ],
          [
           "mbalax"
          ],
          [
           "medieval"
          ],
          [
           "medieval folk"
          ],
          [
           "medieval rock"
          ],
          [
           "meditation"
          ],
          [
           "melancholia"
          ],
          [
           "melbourne bounce"
          ],
          [
           "melbourne bounce international"
          ],
          [
           "melbourne indie"
          ],
          [
           "mellow gold"
          ],
          [
           "melodic death metal"
          ],
          [
           "melodic deathcore"
          ],
          [
           "melodic dubstep"
          ],
          [
           "melodic groove metal"
          ],
          [
           "melodic hard rock"
          ],
          [
           "melodic hardcore"
          ],
          [
           "melodic metal"
          ],
          [
           "melodic metalcore"
          ],
          [
           "melodic power metal"
          ],
          [
           "melodic rap"
          ],
          [
           "melodic thrash"
          ],
          [
           "meme rap"
          ],
          [
           "memphis americana"
          ],
          [
           "memphis blues"
          ],
          [
           "memphis hip hop"
          ],
          [
           "memphis indie"
          ],
          [
           "memphis soul"
          ],
          [
           "mento"
          ],
          [
           "merengue"
          ],
          [
           "merengue tipico"
          ],
          [
           "merseybeat"
          ],
          [
           "messianic praise"
          ],
          [
           "metal"
          ],
          [
           "metal guitar"
          ],
          [
           "metal mineiro"
          ],
          [
           "metalcore"
          ],
          [
           "metropopolis"
          ],
          [
           "mexican classic rock"
          ],
          [
           "mexican classical"
          ],
          [
           "mexican hip hop"
          ],
          [
           "mexican indie"
          ],
          [
           "mexican pop"
          ],
          [
           "mexican pop punk"
          ],
          [
           "mexican rock"
          ],
          [
           "mexican rock-and-roll"
          ],
          [
           "mexican son"
          ],
          [
           "mexican traditional"
          ],
          [
           "miami bass"
          ],
          [
           "miami hip hop"
          ],
          [
           "miami indie"
          ],
          [
           "miami metal"
          ],
          [
           "michigan indie"
          ],
          [
           "microhouse"
          ],
          [
           "microtonal"
          ],
          [
           "middle earth"
          ],
          [
           "middle east hip hop"
          ],
          [
           "middle eastern traditional"
          ],
          [
           "midwest americana"
          ],
          [
           "midwest emo"
          ],
          [
           "military cadence"
          ],
          [
           "military rap"
          ],
          [
           "milwaukee indie"
          ],
          [
           "mindfulness"
          ],
          [
           "minecraft"
          ],
          [
           "minimal melodic techno"
          ],
          [
           "minimal tech house"
          ],
          [
           "minimal techno"
          ],
          [
           "minimal wave"
          ],
          [
           "minimalism"
          ],
          [
           "minneapolis indie"
          ],
          [
           "minneapolis metal"
          ],
          [
           "minneapolis punk"
          ],
          [
           "minneapolis sound"
          ],
          [
           "minnesota hip hop"
          ],
          [
           "mississippi hip hop"
          ],
          [
           "mississippi indie"
          ],
          [
           "mizrahi"
          ],
          [
           "mod revival"
          ],
          [
           "modern alternative pop"
          ],
          [
           "modern alternative rock"
          ],
          [
           "modern big band"
          ],
          [
           "modern blues"
          ],
          [
           "modern blues rock"
          ],
          [
           "modern bollywood"
          ],
          [
           "modern country rock"
          ],
          [
           "modern dream pop"
          ],
          [
           "modern folk rock"
          ],
          [
           "modern funk"
          ],
          [
           "modern hard rock"
          ],
          [
           "modern indie pop"
          ],
          [
           "modern jazz piano"
          ],
          [
           "modern jazz trio"
          ],
          [
           "modern old-time"
          ],
          [
           "modern performance"
          ],
          [
           "modern power pop"
          ],
          [
           "modern psychedelic folk"
          ],
          [
           "modern reggae"
          ],
          [
           "modern rock"
          ],
          [
           "modern salsa"
          ],
          [
           "modern ska punk"
          ],
          [
           "modern southern rock"
          ],
          [
           "modern string quartet"
          ],
          [
           "modern swing"
          ],
          [
           "modern uplift"
          ],
          [
           "modular synth"
          ],
          [
           "moldovan pop"
          ],
          [
           "mollywood"
          ],
          [
           "mongolian hip hop"
          ],
          [
           "mongolian pop"
          ],
          [
           "monterrey indie"
          ],
          [
           "montreal indie"
          ],
          [
           "moog"
          ],
          [
           "moombahton"
          ],
          [
           "morna"
          ],
          [
           "motivation"
          ],
          [
           "motown"
          ],
          [
           "mountain dulcimer"
          ],
          [
           "movie tunes"
          ],
          [
           "mpb"
          ],
          [
           "music box"
          ],
          [
           "music hall"
          ],
          [
           "musica afroperuana"
          ],
          [
           "musica alagoana"
          ],
          [
           "musica andina"
          ],
          [
           "musica andina colombiana"
          ],
          [
           "musica antigua"
          ],
          [
           "musica aragonesa"
          ],
          [
           "musica ayacuchana"
          ],
          [
           "musica canaria"
          ],
          [
           "musica costarricense"
          ],
          [
           "musica costena"
          ],
          [
           "musica cristiana guatemalteca"
          ],
          [
           "musica de fondo"
          ],
          [
           "musica gaucha tradicionalista"
          ],
          [
           "musica hondurena"
          ],
          [
           "musica infantil"
          ],
          [
           "musica jibara"
          ],
          [
           "musica juiz-forana"
          ],
          [
           "musica llanera"
          ],
          [
           "musica nicaraguense"
          ],
          [
           "musica para criancas"
          ],
          [
           "musica para ninos"
          ],
          [
           "musica paraibana"
          ],
          [
           "musica piemonteisa"
          ],
          [
           "musica popular colombiana"
          ],
          [
           "musica popular mineira"
          ],
          [
           "musica popular paraense"
          ],
          [
           "musica potosina"
          ],
          [
           "musica prehispanica"
          ],
          [
           "musica sarda"
          ],
          [
           "musica tradicional cubana"
          ],
          [
           "musica tropical guatemalteca"
          ],
          [
           "musical advocacy"
          ],
          [
           "musikkorps"
          ],
          [
           "musique concrete"
          ],
          [
           "musique peule"
          ],
          [
           "musique pour enfant quebecois"
          ],
          [
           "musique pour enfants"
          ],
          [
           "musique touareg"
          ],
          [
           "muzica populara"
          ],
          [
           "muzika l'yeladim"
          ],
          [
           "naija worship"
          ],
          [
           "nantes indie"
          ],
          [
           "narodna muzika"
          ],
          [
           "nashville americana"
          ],
          [
           "nashville hip hop"
          ],
          [
           "nashville indie"
          ],
          [
           "nashville singer-songwriter"
          ],
          [
           "nashville sound"
          ],
          [
           "native american"
          ],
          [
           "native american contemporary"
          ],
          [
           "native american flute"
          ],
          [
           "native american hip hop"
          ],
          [
           "native american spiritual"
          ],
          [
           "navajo"
          ],
          [
           "nederlandse hardstyle"
          ],
          [
           "nederpop"
          ],
          [
           "neo classical metal"
          ],
          [
           "neo kyma"
          ],
          [
           "neo mellow"
          ],
          [
           "neo r&b"
          ],
          [
           "neo soul"
          ],
          [
           "neo-classical"
          ],
          [
           "neo-kraut"
          ],
          [
           "neo-pagan"
          ],
          [
           "neo-progressive"
          ],
          [
           "neo-psychedelic"
          ],
          [
           "neo-rockabilly"
          ],
          [
           "neo-singer-songwriter"
          ],
          [
           "neo-synthpop"
          ],
          [
           "neo-trad metal"
          ],
          [
           "neo-traditional bluegrass"
          ],
          [
           "neo-traditional country"
          ],
          [
           "neoclassical darkwave"
          ],
          [
           "neoclassicism"
          ],
          [
           "neofolk"
          ],
          [
           "neon pop punk"
          ],
          [
           "neotango"
          ],
          [
           "nepali indie"
          ],
          [
           "nepali pop"
          ],
          [
           "nerdcore"
          ],
          [
           "neue deutsche harte"
          ],
          [
           "neue deutsche todeskunst"
          ],
          [
           "neue deutsche welle"
          ],
          [
           "neurofunk"
          ],
          [
           "new age"
          ],
          [
           "new age piano"
          ],
          [
           "new americana"
          ],
          [
           "new beat"
          ],
          [
           "new comedy"
          ],
          [
           "new england americana"
          ],
          [
           "new england emo"
          ],
          [
           "new french touch"
          ],
          [
           "new isolationism"
          ],
          [
           "new jack swing"
          ],
          [
           "new jersey hardcore"
          ],
          [
           "new jersey indie"
          ],
          [
           "new jersey punk"
          ],
          [
           "new jersey rap"
          ],
          [
           "new mexico music"
          ],
          [
           "new orleans blues"
          ],
          [
           "new orleans funk"
          ],
          [
           "new orleans indie"
          ],
          [
           "new orleans jazz"
          ],
          [
           "new orleans rap"
          ],
          [
           "new rave"
          ],
          [
           "new romantic"
          ],
          [
           "new tribe"
          ],
          [
           "new wave"
          ],
          [
           "new wave of thrash metal"
          ],
          [
           "new wave pop"
          ],
          [
           "new weird america"
          ],
          [
           "new york death metal"
          ],
          [
           "new york drill"
          ],
          [
           "new zealand classical"
          ],
          [
           "newcastle indie"
          ],
          [
           "newcastle nsw indie"
          ],
          [
           "nigerian hip hop"
          ],
          [
           "nigerian pop"
          ],
          [
           "nightcore"
          ],
          [
           "nightrun"
          ],
          [
           "ninja"
          ],
          [
           "nintendocore"
          ],
          [
           "nisiotika"
          ],
          [
           "nl folk"
          ],
          [
           "no wave"
          ],
          [
           "noise pop"
          ],
          [
           "noise punk"
          ],
          [
           "noise rock"
          ],
          [
           "nordic classical piano"
          ],
          [
           "nordic contemporary classical"
          ],
          [
           "nordic folk"
          ],
          [
           "nordic house"
          ],
          [
           "nordic orchestra"
          ],
          [
           "nordic post-rock"
          ],
          [
           "nordic soundtrack"
          ],
          [
           "norman ok indie"
          ],
          [
           "norsk lovsang"
          ],
          [
           "norteno"
          ],
          [
           "norteno-sax"
          ],
          [
           "north carolina emo"
          ],
          [
           "north carolina hip hop"
          ],
          [
           "north carolina indie"
          ],
          [
           "north carolina metal"
          ],
          [
           "north carolina roots"
          ],
          [
           "north east england indie"
          ],
          [
           "northern irish indie"
          ],
          [
           "northern irish punk"
          ],
          [
           "northern soul"
          ],
          [
           "norwegian black metal"
          ],
          [
           "norwegian choir"
          ],
          [
           "norwegian classical"
          ],
          [
           "norwegian contemporary jazz"
          ],
          [
           "norwegian death metal"
          ],
          [
           "norwegian experimental"
          ],
          [
           "norwegian hip hop"
          ],
          [
           "norwegian indie"
          ],
          [
           "norwegian jazz"
          ],
          [
           "norwegian metal"
          ],
          [
           "norwegian pop"
          ],
          [
           "norwegian pop rap"
          ],
          [
           "norwegian punk rock"
          ],
          [
           "norwegian rock"
          ],
          [
           "norwegian singer-songwriter"
          ],
          [
           "norwegian space disco"
          ],
          [
           "nottingham indie"
          ],
          [
           "nouvelle chanson francaise"
          ],
          [
           "nova canco"
          ],
          [
           "nova mpb"
          ],
          [
           "nova musica pernambucana"
          ],
          [
           "novelty"
          ],
          [
           "nu age"
          ],
          [
           "nu disco"
          ],
          [
           "nu gaze"
          ],
          [
           "nu jazz"
          ],
          [
           "nu metal"
          ],
          [
           "nu skool breaks"
          ],
          [
           "nu-cumbia"
          ],
          [
           "nu-metalcore"
          ],
          [
           "nubian traditional"
          ],
          [
           "nueva cancion"
          ],
          [
           "nueva ola chilena"
          ],
          [
           "nueva ola peruana"
          ],
          [
           "nuevo flamenco"
          ],
          [
           "nuevo folklore mexicano"
          ],
          [
           "nuevo regional mexicano"
          ],
          [
           "nuevo tango"
          ],
          [
           "nursery"
          ],
          [
           "nwobhm"
          ],
          [
           "nwothm"
          ],
          [
           "ny roots"
          ],
          [
           "nyc pop"
          ],
          [
           "nyc rap"
          ],
          [
           "nyhc"
          ],
          [
           "nz christian"
          ],
          [
           "nz folk"
          ],
          [
           "nz hardcore"
          ],
          [
           "nz indie"
          ],
          [
           "nz pop"
          ],
          [
           "nz punk"
          ],
          [
           "nz reggae"
          ],
          [
           "nz singer-songwriter"
          ],
          [
           "oakland hip hop"
          ],
          [
           "oakland indie"
          ],
          [
           "oc indie"
          ],
          [
           "oc rap"
          ],
          [
           "oceania soundtrack"
          ],
          [
           "ohio hip hop"
          ],
          [
           "ohio indie"
          ],
          [
           "oi"
          ],
          [
           "ok indie"
          ],
          [
           "okc indie"
          ],
          [
           "okinawan pop"
          ],
          [
           "oklahoma country"
          ],
          [
           "old school dancehall"
          ],
          [
           "old school hip hop"
          ],
          [
           "old school rap francais"
          ],
          [
           "old school thrash"
          ],
          [
           "old school uk hip hop"
          ],
          [
           "old west"
          ],
          [
           "old-time"
          ],
          [
           "old-time fiddle"
          ],
          [
           "olympia wa indie"
          ],
          [
           "omaha indie"
          ],
          [
           "one-person band"
          ],
          [
           "ontario indie"
          ],
          [
           "opera"
          ],
          [
           "opera chorus"
          ],
          [
           "opera metal"
          ],
          [
           "operatic pop"
          ],
          [
           "operetta"
          ],
          [
           "opm"
          ],
          [
           "oratory"
          ],
          [
           "orchestra"
          ],
          [
           "orchestral performance"
          ],
          [
           "orebro indie"
          ],
          [
           "organic ambient"
          ],
          [
           "organic electronic"
          ],
          [
           "organic house"
          ],
          [
           "orgcore"
          ],
          [
           "oriental classical"
          ],
          [
           "orkney and shetland folk"
          ],
          [
           "orlando indie"
          ],
          [
           "orquesta tipica"
          ],
          [
           "orthodox chant"
          ],
          [
           "oshare kei"
          ],
          [
           "otacore"
          ],
          [
           "oth indie"
          ],
          [
           "ottawa indie"
          ],
          [
           "ottawa rap"
          ],
          [
           "oud"
          ],
          [
           "outer hip hop"
          ],
          [
           "outlaw country"
          ],
          [
           "outsider"
          ],
          [
           "outsider house"
          ],
          [
           "oxford choir"
          ],
          [
           "oxford indie"
          ],
          [
           "p funk"
          ],
          [
           "pagan black metal"
          ],
          [
           "pagode"
          ],
          [
           "pagode baiano"
          ],
          [
           "paisley underground"
          ],
          [
           "pakistani folk"
          ],
          [
           "pakistani hip hop"
          ],
          [
           "pakistani pop"
          ],
          [
           "palestinian pop"
          ],
          [
           "palm desert scene"
          ],
          [
           "panamanian pop"
          ],
          [
           "panamanian rock"
          ],
          [
           "panpipe"
          ],
          [
           "papuri"
          ],
          [
           "parody"
          ],
          [
           "partido alto"
          ],
          [
           "partyschlager"
          ],
          [
           "pei indie"
          ],
          [
           "permanent wave"
          ],
          [
           "perreo"
          ],
          [
           "persian pop"
          ],
          [
           "persian traditional"
          ],
          [
           "perth indie"
          ],
          [
           "peruvian hip hop"
          ],
          [
           "peruvian rock"
          ],
          [
           "pet calming"
          ],
          [
           "philly indie"
          ],
          [
           "philly rap"
          ],
          [
           "philly soul"
          ],
          [
           "phoenix indie"
          ],
          [
           "phonk"
          ],
          [
           "pianissimo"
          ],
          [
           "piano blues"
          ],
          [
           "piano cover"
          ],
          [
           "piano mpb"
          ],
          [
           "piano rock"
          ],
          [
           "pibroch"
          ],
          [
           "piedmont blues"
          ],
          [
           "pinoy hip hop"
          ],
          [
           "pinoy indie"
          ],
          [
           "pinoy pop punk"
          ],
          [
           "pinoy praise"
          ],
          [
           "pinoy r&b"
          ],
          [
           "pinoy reggae"
          ],
          [
           "pinoy rock"
          ],
          [
           "pinoy traditional"
          ],
          [
           "pinoy trap"
          ],
          [
           "pirate"
          ],
          [
           "pittsburgh indie"
          ],
          [
           "pittsburgh rap"
          ],
          [
           "pittsburgh rock"
          ],
          [
           "pixie"
          ],
          [
           "plunderphonics"
          ],
          [
           "poetry"
          ],
          [
           "polca paraguaya"
          ],
          [
           "polish blues"
          ],
          [
           "polish classical"
          ],
          [
           "polish classical piano"
          ],
          [
           "polish contemporary classical"
          ],
          [
           "polish jazz"
          ],
          [
           "polish modern jazz"
          ],
          [
           "polish pop"
          ],
          [
           "polish post-rock"
          ],
          [
           "polish reggae"
          ],
          [
           "polish rock"
          ],
          [
           "political hip hop"
          ],
          [
           "polka"
          ],
          [
           "polynesian hip hop"
          ],
          [
           "polynesian pop"
          ],
          [
           "polyphony"
          ],
          [
           "pony"
          ],
          [
           "pop"
          ],
          [
           "pop argentino"
          ],
          [
           "pop chileno"
          ],
          [
           "pop dance"
          ],
          [
           "pop edm"
          ],
          [
           "pop electronico"
          ],
          [
           "pop emo"
          ],
          [
           "pop flamenco"
          ],
          [
           "pop folk"
          ],
          [
           "pop house"
          ],
          [
           "pop nacional"
          ],
          [
           "pop nacional antigas"
          ],
          [
           "pop peruano"
          ],
          [
           "pop punk"
          ],
          [
           "pop quebecois"
          ],
          [
           "pop r&b"
          ],
          [
           "pop rap"
          ],
          [
           "pop reggaeton"
          ],
          [
           "pop rock"
          ],
          [
           "pop rock brasileiro"
          ],
          [
           "pop romantico"
          ],
          [
           "pop soul"
          ],
          [
           "pop venezolano"
          ],
          [
           "pop violin"
          ],
          [
           "popgaze"
          ],
          [
           "popping"
          ],
          [
           "pops orchestra"
          ],
          [
           "popwave"
          ],
          [
           "pornogrind"
          ],
          [
           "porro"
          ],
          [
           "portland hip hop"
          ],
          [
           "portland indie"
          ],
          [
           "portland metal"
          ],
          [
           "portland punk"
          ],
          [
           "portuguese early music"
          ],
          [
           "post-disco"
          ],
          [
           "post-disco soul"
          ],
          [
           "post-doom metal"
          ],
          [
           "post-grunge"
          ],
          [
           "post-hardcore"
          ],
          [
           "post-metal"
          ],
          [
           "post-minimalism"
          ],
          [
           "post-post-hardcore"
          ],
          [
           "post-punk"
          ],
          [
           "post-punk argentina"
          ],
          [
           "post-rock"
          ],
          [
           "post-romantic era"
          ],
          [
           "post-screamo"
          ],
          [
           "post-teen pop"
          ],
          [
           "power metal"
          ],
          [
           "power pop"
          ],
          [
           "power thrash"
          ],
          [
           "power-pop punk"
          ],
          [
           "praise"
          ],
          [
           "prepared piano"
          ],
          [
           "preschool children's music"
          ],
          [
           "prog quebec"
          ],
          [
           "progressive alternative"
          ],
          [
           "progressive bluegrass"
          ],
          [
           "progressive deathcore"
          ],
          [
           "progressive electro house"
          ],
          [
           "progressive groove metal"
          ],
          [
           "progressive house"
          ],
          [
           "progressive jazz fusion"
          ],
          [
           "progressive metal"
          ],
          [
           "progressive metalcore"
          ],
          [
           "progressive post-hardcore"
          ],
          [
           "progressive power metal"
          ],
          [
           "progressive psytrance"
          ],
          [
           "progressive rock"
          ],
          [
           "progressive sludge"
          ],
          [
           "progressive trance"
          ],
          [
           "progressive trance house"
          ],
          [
           "progressive uplifting trance"
          ],
          [
           "proto-rap"
          ],
          [
           "proto-techno"
          ],
          [
           "protopunk"
          ],
          [
           "psalmen"
          ],
          [
           "psicodelia brasileira"
          ],
          [
           "psybass"
          ],
          [
           "psychedelic blues-rock"
          ],
          [
           "psychedelic doom"
          ],
          [
           "psychedelic folk"
          ],
          [
           "psychedelic folk rock"
          ],
          [
           "psychedelic hip hop"
          ],
          [
           "psychedelic pop"
          ],
          [
           "psychedelic punk"
          ],
          [
           "psychedelic rock"
          ],
          [
           "psychedelic soul"
          ],
          [
           "psychedelic trance"
          ],
          [
           "psychill"
          ],
          [
           "psychobilly"
          ],
          [
           "pub rock"
          ],
          [
           "puerto rican folk"
          ],
          [
           "puerto rican pop"
          ],
          [
           "puerto rican rock"
          ],
          [
           "punjabi folk"
          ],
          [
           "punjabi hip hop"
          ],
          [
           "punjabi pop"
          ],
          [
           "punk"
          ],
          [
           "punk 'n' roll"
          ],
          [
           "punk blues"
          ],
          [
           "punk rock italiano"
          ],
          [
           "punk rock mexicano"
          ],
          [
           "punta"
          ],
          [
           "purple sound"
          ],
          [
           "qawwali"
          ],
          [
           "quartetto d'archi"
          ],
          [
           "quatuor a cordes"
          ],
          [
           "quebec death metal"
          ],
          [
           "quebec indie"
          ],
          [
           "queens hip hop"
          ],
          [
           "queer country"
          ],
          [
           "queercore"
          ],
          [
           "quiet storm"
          ],
          [
           "quran"
          ],
          [
           "r&b"
          ],
          [
           "r&b en espanol"
          ],
          [
           "rabindra sangeet"
          ],
          [
           "radio symphony"
          ],
          [
           "ragtime"
          ],
          [
           "rai"
          ],
          [
           "ranchera"
          ],
          [
           "rap"
          ],
          [
           "rap chileno"
          ],
          [
           "rap conciencia"
          ],
          [
           "rap conscient"
          ],
          [
           "rap cristiano"
          ],
          [
           "rap dominicano"
          ],
          [
           "rap kreyol"
          ],
          [
           "rap latina"
          ],
          [
           "rap metal"
          ],
          [
           "rap nacional antigo"
          ],
          [
           "rap napoletano"
          ],
          [
           "rap rock"
          ],
          [
           "rap underground mexicano"
          ],
          [
           "rare groove"
          ],
          [
           "rave"
          ],
          [
           "rawstyle"
          ],
          [
           "reading"
          ],
          [
           "reading indie"
          ],
          [
           "rebel blues"
          ],
          [
           "rebetiko"
          ],
          [
           "recorder"
          ],
          [
           "red dirt"
          ],
          [
           "redneck"
          ],
          [
           "reggae"
          ],
          [
           "reggae en espanol"
          ],
          [
           "reggae fusion"
          ],
          [
           "reggae rock"
          ],
          [
           "reggaeton"
          ],
          [
           "reggaeton colombiano"
          ],
          [
           "reggaeton cristiano"
          ],
          [
           "reggaeton flow"
          ],
          [
           "reggaeton mexicano"
          ],
          [
           "regional mexican"
          ],
          [
           "relaxative"
          ],
          [
           "renaissance"
          ],
          [
           "rennes indie"
          ],
          [
           "retro metal"
          ],
          [
           "retro soul"
          ],
          [
           "rhode island indie"
          ],
          [
           "rhode island rap"
          ],
          [
           "rhythm and blues"
          ],
          [
           "riddim"
          ],
          [
           "rif"
          ],
          [
           "riot grrrl"
          ],
          [
           "ritmo kombina"
          ],
          [
           "rochester mn indie"
          ],
          [
           "rochester ny indie"
          ],
          [
           "rock"
          ],
          [
           "rock alternatif francais"
          ],
          [
           "rock alternativo brasileiro"
          ],
          [
           "rock andaluz"
          ],
          [
           "rock baiano"
          ],
          [
           "rock brasiliense"
          ],
          [
           "rock chapin"
          ],
          [
           "rock cristiano"
          ],
          [
           "rock drums"
          ],
          [
           "rock en espanol"
          ],
          [
           "rock gaucho"
          ],
          [
           "rock independant francais"
          ],
          [
           "rock kapak"
          ],
          [
           "rock keyboard"
          ],
          [
           "rock nacional"
          ],
          [
           "rock nacional brasileiro"
          ],
          [
           "rock pernambucano"
          ],
          [
           "rock progressif francais"
          ],
          [
           "rock steady"
          ],
          [
           "rock urbano mexicano"
          ],
          [
           "rock-and-roll"
          ],
          [
           "rockabilly"
          ],
          [
           "rockabilly en espanol"
          ],
          [
           "roda de samba"
          ],
          [
           "romanian classical piano"
          ],
          [
           "romanian electronic"
          ],
          [
           "romanian folk"
          ],
          [
           "romanian pop"
          ],
          [
           "romanian rock"
          ],
          [
           "romantico"
          ],
          [
           "roots americana"
          ],
          [
           "roots reggae"
          ],
          [
           "roots rock"
          ],
          [
           "roots worship"
          ],
          [
           "rosary"
          ],
          [
           "rumba"
          ],
          [
           "rumba congolaise"
          ],
          [
           "rune folk"
          ],
          [
           "russian alternative rock"
          ],
          [
           "russian ccm"
          ],
          [
           "russian chanson"
          ],
          [
           "russian choir"
          ],
          [
           "russian classical piano"
          ],
          [
           "russian dance"
          ],
          [
           "russian edm"
          ],
          [
           "russian folk"
          ],
          [
           "russian folk rock"
          ],
          [
           "russian jazz"
          ],
          [
           "russian metal"
          ],
          [
           "russian metalcore"
          ],
          [
           "russian modern classical"
          ],
          [
           "russian orchestra"
          ],
          [
           "russian pop"
          ],
          [
           "russian post-punk"
          ],
          [
           "russian punk"
          ],
          [
           "russian rock"
          ],
          [
           "russian romanticism"
          ],
          [
           "russian shoegaze"
          ],
          [
           "russian trance"
          ],
          [
           "rva indie"
          ],
          [
           "rwandan traditional"
          ],
          [
           "ryukyu ongaku"
          ],
          [
           "sacramento hip hop"
          ],
          [
           "sacramento indie"
          ],
          [
           "sacred steel"
          ],
          [
           "sad rap"
          ],
          [
           "salsa"
          ],
          [
           "salsa choke"
          ],
          [
           "salsa colombiana"
          ],
          [
           "salsa cubana"
          ],
          [
           "salsa international"
          ],
          [
           "salsa peruana"
          ],
          [
           "salsa puertorriquena"
          ],
          [
           "salsa venezolana"
          ],
          [
           "samba"
          ],
          [
           "samba de roda"
          ],
          [
           "samba moderno"
          ],
          [
           "samba-enredo"
          ],
          [
           "samba-jazz"
          ],
          [
           "samba-rock"
          ],
          [
           "san antonio rap"
          ],
          [
           "san diego indie"
          ],
          [
           "san diego rap"
          ],
          [
           "san marcos tx indie"
          ],
          [
           "sandalwood"
          ],
          [
           "sarod"
          ],
          [
           "saskatchewan indie"
          ],
          [
           "scam rap"
          ],
          [
           "scandinavian r&b"
          ],
          [
           "scandipop"
          ],
          [
           "schlager"
          ],
          [
           "scorecore"
          ],
          [
           "scottish electronic"
          ],
          [
           "scottish fiddle"
          ],
          [
           "scottish folk"
          ],
          [
           "scottish hip hop"
          ],
          [
           "scottish indie"
          ],
          [
           "scottish jazz"
          ],
          [
           "scottish metal"
          ],
          [
           "scottish new wave"
          ],
          [
           "scottish rock"
          ],
          [
           "scottish singer-songwriter"
          ],
          [
           "scratch"
          ],
          [
           "scream rap"
          ],
          [
           "screamo"
          ],
          [
           "seattle hip hop"
          ],
          [
           "seattle indie"
          ],
          [
           "second line"
          ],
          [
           "sefardi"
          ],
          [
           "serbian electronic"
          ],
          [
           "serialism"
          ],
          [
           "sertanejo"
          ],
          [
           "sertanejo pop"
          ],
          [
           "sertanejo tradicional"
          ],
          [
           "sertanejo universitario"
          ],
          [
           "sevdah"
          ],
          [
           "sevillanas"
          ],
          [
           "shaabi"
          ],
          [
           "shabad"
          ],
          [
           "shakuhachi"
          ],
          [
           "shamanic"
          ],
          [
           "shanty"
          ],
          [
           "sheffield indie"
          ],
          [
           "shibuya-kei"
          ],
          [
           "shimmer pop"
          ],
          [
           "shimmer psych"
          ],
          [
           "shiver pop"
          ],
          [
           "shoegaze"
          ],
          [
           "show tunes"
          ],
          [
           "shred"
          ],
          [
           "shush"
          ],
          [
           "sierreno"
          ],
          [
           "singaporean mandopop"
          ],
          [
           "singaporean pop"
          ],
          [
           "singaporean singer-songwriter"
          ],
          [
           "singer-songwriter"
          ],
          [
           "singing bowl"
          ],
          [
           "sitar"
          ],
          [
           "ska"
          ],
          [
           "ska argentino"
          ],
          [
           "ska chileno"
          ],
          [
           "ska jazz"
          ],
          [
           "ska mexicano"
          ],
          [
           "ska punk"
          ],
          [
           "ska revival"
          ],
          [
           "skate punk"
          ],
          [
           "skiffle"
          ],
          [
           "skramz"
          ],
          [
           "sky room"
          ],
          [
           "slack-key guitar"
          ],
          [
           "slam poetry"
          ],
          [
           "slamming deathcore"
          ],
          [
           "slavic folk metal"
          ],
          [
           "slayer"
          ],
          [
           "slc indie"
          ],
          [
           "sleaze rock"
          ],
          [
           "sleep"
          ],
          [
           "slovak electronic"
          ],
          [
           "slovenian electronic"
          ],
          [
           "slovenian metal"
          ],
          [
           "slow game"
          ],
          [
           "slowcore"
          ],
          [
           "sludge metal"
          ],
          [
           "small room"
          ],
          [
           "smooth jazz"
          ],
          [
           "smooth saxophone"
          ],
          [
           "smooth soul"
          ],
          [
           "soca"
          ],
          [
           "socal pop punk"
          ],
          [
           "social media pop"
          ],
          [
           "soda pop"
          ],
          [
           "soft rock"
          ],
          [
           "solipsynthm"
          ],
          [
           "son cubano"
          ],
          [
           "son cubano clasico"
          ],
          [
           "son jarocho"
          ],
          [
           "sophisti-pop"
          ],
          [
           "sotalaulut"
          ],
          [
           "soukous"
          ],
          [
           "soul"
          ],
          [
           "soul blues"
          ],
          [
           "soul flow"
          ],
          [
           "soul jazz"
          ],
          [
           "souldies"
          ],
          [
           "sound"
          ],
          [
           "sound art"
          ],
          [
           "sound effects"
          ],
          [
           "sound team"
          ],
          [
           "soundtrack"
          ],
          [
           "south african alternative"
          ],
          [
           "south african choral"
          ],
          [
           "south african country"
          ],
          [
           "south african hip hop"
          ],
          [
           "south african house"
          ],
          [
           "south african jazz"
          ],
          [
           "south african pop"
          ],
          [
           "south african pop dance"
          ],
          [
           "south african rock"
          ],
          [
           "south carolina hip hop"
          ],
          [
           "south carolina indie"
          ],
          [
           "south carolina metal"
          ],
          [
           "south dakota indie"
          ],
          [
           "southampton indie"
          ],
          [
           "southern americana"
          ],
          [
           "southern gospel"
          ],
          [
           "southern hip hop"
          ],
          [
           "southern metal"
          ],
          [
           "southern rock"
          ],
          [
           "southern soul"
          ],
          [
           "southern soul blues"
          ],
          [
           "soviet synthpop"
          ],
          [
           "sovietwave"
          ],
          [
           "spa"
          ],
          [
           "space age pop"
          ],
          [
           "space ambient"
          ],
          [
           "space rock"
          ],
          [
           "spanish baroque"
          ],
          [
           "spanish classical"
          ],
          [
           "spanish classical piano"
          ],
          [
           "spanish folk metal"
          ],
          [
           "spanish hip hop"
          ],
          [
           "spanish indie pop"
          ],
          [
           "spanish invasion"
          ],
          [
           "spanish metal"
          ],
          [
           "spanish modern rock"
          ],
          [
           "spanish new wave"
          ],
          [
           "spanish noise pop"
          ],
          [
           "spanish pop"
          ],
          [
           "spanish pop rock"
          ],
          [
           "spanish renaissance"
          ],
          [
           "spanish rock"
          ],
          [
           "spanish synthpop"
          ],
          [
           "spanish techno"
          ],
          [
           "speed garage"
          ],
          [
           "speed metal"
          ],
          [
           "speedcore"
          ],
          [
           "spiritual hip hop"
          ],
          [
           "spiritual jazz"
          ],
          [
           "spirituals"
          ],
          [
           "springfield mo indie"
          ],
          [
           "spytrack"
          ],
          [
           "st louis rap"
          ],
          [
           "steampunk"
          ],
          [
           "steel guitar"
          ],
          [
           "steelpan"
          ],
          [
           "stl indie"
          ],
          [
           "stomp and flutter"
          ],
          [
           "stomp and holler"
          ],
          [
           "stomp and whittle"
          ],
          [
           "stomp pop"
          ],
          [
           "stoner metal"
          ],
          [
           "stoner rock"
          ],
          [
           "straight edge"
          ],
          [
           "straight-ahead jazz"
          ],
          [
           "street band"
          ],
          [
           "street punk"
          ],
          [
           "streichquartett"
          ],
          [
           "stride"
          ],
          [
           "string band"
          ],
          [
           "string folk"
          ],
          [
           "string orchestra"
          ],
          [
           "string quartet"
          ],
          [
           "strut"
          ],
          [
           "substep"
          ],
          [
           "sudanese pop"
          ],
          [
           "sufi"
          ],
          [
           "sufi chant"
          ],
          [
           "sunshine pop"
          ],
          [
           "supergroup"
          ],
          [
           "surf music"
          ],
          [
           "surf punk"
          ],
          [
           "svensk progg"
          ],
          [
           "swamp blues"
          ],
          [
           "swamp pop"
          ],
          [
           "swamp rock"
          ],
          [
           "swancore"
          ],
          [
           "swedish alternative rock"
          ],
          [
           "swedish americana"
          ],
          [
           "swedish black metal"
          ],
          [
           "swedish choir"
          ],
          [
           "swedish country"
          ],
          [
           "swedish dancehall"
          ],
          [
           "swedish death metal"
          ],
          [
           "swedish doom metal"
          ],
          [
           "swedish electronic"
          ],
          [
           "swedish electropop"
          ],
          [
           "swedish eurodance"
          ],
          [
           "swedish garage rock"
          ],
          [
           "swedish hard rock"
          ],
          [
           "swedish hardcore"
          ],
          [
           "swedish heavy metal"
          ],
          [
           "swedish house"
          ],
          [
           "swedish idol pop"
          ],
          [
           "swedish indie folk"
          ],
          [
           "swedish indie pop"
          ],
          [
           "swedish indie rock"
          ],
          [
           "swedish jazz"
          ],
          [
           "swedish jazz orkester"
          ],
          [
           "swedish melodic rock"
          ],
          [
           "swedish metal"
          ],
          [
           "swedish metalcore"
          ],
          [
           "swedish pop"
          ],
          [
           "swedish post-hardcore"
          ],
          [
           "swedish power metal"
          ],
          [
           "swedish prog"
          ],
          [
           "swedish progressive metal"
          ],
          [
           "swedish rock-and-roll"
          ],
          [
           "swedish singer-songwriter"
          ],
          [
           "swedish soul"
          ],
          [
           "swedish stoner rock"
          ],
          [
           "swedish synth"
          ],
          [
           "swedish synthpop"
          ],
          [
           "swedish tropical house"
          ],
          [
           "swedish underground rap"
          ],
          [
           "swing"
          ],
          [
           "swing italiano"
          ],
          [
           "swing revival"
          ],
          [
           "swiss black metal"
          ],
          [
           "swiss classical piano"
          ],
          [
           "swiss country"
          ],
          [
           "swiss metal"
          ],
          [
           "swiss pop"
          ],
          [
           "swiss rock"
          ],
          [
           "swiss worship"
          ],
          [
           "sydney indie"
          ],
          [
           "symphonic black metal"
          ],
          [
           "symphonic metal"
          ],
          [
           "symphonic rock"
          ],
          [
           "synth funk"
          ],
          [
           "synthpop"
          ],
          [
           "synthwave"
          ],
          [
           "syrian pop"
          ],
          [
           "tabla"
          ],
          [
           "tagalog rap"
          ],
          [
           "tagalog worship"
          ],
          [
           "taiwan campus folk"
          ],
          [
           "taiwan classical performance"
          ],
          [
           "taiwan hip hop"
          ],
          [
           "taiwan indie"
          ],
          [
           "taiwan pop"
          ],
          [
           "taiwan singer-songwriter"
          ],
          [
           "tajik pop"
          ],
          [
           "talent show"
          ],
          [
           "tamaulipas indie"
          ],
          [
           "tamaulipas rap"
          ],
          [
           "tamborazo"
          ],
          [
           "tamil hip hop"
          ],
          [
           "tamil pop"
          ],
          [
           "tamil worship"
          ],
          [
           "tampa indie"
          ],
          [
           "tango"
          ],
          [
           "tango cancion"
          ],
          [
           "tape club"
          ],
          [
           "tech house"
          ],
          [
           "technical death metal"
          ],
          [
           "technical deathcore"
          ],
          [
           "technical groove metal"
          ],
          [
           "technical melodic death metal"
          ],
          [
           "technical thrash"
          ],
          [
           "techno"
          ],
          [
           "techno kayo"
          ],
          [
           "tecnobanda"
          ],
          [
           "teen pop"
          ],
          [
           "tejano"
          ],
          [
           "tempe indie"
          ],
          [
           "tennessee hip hop"
          ],
          [
           "tennessee metal"
          ],
          [
           "tex-mex"
          ],
          [
           "texas blues"
          ],
          [
           "texas country"
          ],
          [
           "texas latin rap"
          ],
          [
           "texas pop punk"
          ],
          [
           "texas punk"
          ],
          [
           "thai folk"
          ],
          [
           "thai folk rock"
          ],
          [
           "thai idol"
          ],
          [
           "thai indie rock"
          ],
          [
           "thai pop"
          ],
          [
           "thall"
          ],
          [
           "theme"
          ],
          [
           "theremin"
          ],
          [
           "thrash core"
          ],
          [
           "thrash metal"
          ],
          [
           "timba"
          ],
          [
           "tin pan alley"
          ],
          [
           "tipico"
          ],
          [
           "tolkien metal"
          ],
          [
           "tollywood"
          ],
          [
           "tone"
          ],
          [
           "torch song"
          ],
          [
           "toronto indie"
          ],
          [
           "toronto rap"
          ],
          [
           "trad jazz catala"
          ],
          [
           "traditional bluegrass"
          ],
          [
           "traditional blues"
          ],
          [
           "traditional british folk"
          ],
          [
           "traditional country"
          ],
          [
           "traditional folk"
          ],
          [
           "traditional funk"
          ],
          [
           "traditional rockabilly"
          ],
          [
           "traditional ska"
          ],
          [
           "traditional soul"
          ],
          [
           "trance"
          ],
          [
           "trance mexicano"
          ],
          [
           "trancecore"
          ],
          [
           "transpop"
          ],
          [
           "trap"
          ],
          [
           "trap argentino"
          ],
          [
           "trap chileno"
          ],
          [
           "trap dominicano"
          ],
          [
           "trap latino"
          ],
          [
           "trap mexicano"
          ],
          [
           "trap queen"
          ],
          [
           "trap soul"
          ],
          [
           "trap triste"
          ],
          [
           "trap venezolano"
          ],
          [
           "traprun"
          ],
          [
           "trash rock"
          ],
          [
           "triangle indie"
          ],
          [
           "tribal house"
          ],
          [
           "trinidadian reggae"
          ],
          [
           "trio cubano"
          ],
          [
           "trip hop"
          ],
          [
           "trival"
          ],
          [
           "tropical"
          ],
          [
           "tropical house"
          ],
          [
           "tropicalia"
          ],
          [
           "trova"
          ],
          [
           "trova mexicana"
          ],
          [
           "truck-driving country"
          ],
          [
           "tuareg guitar"
          ],
          [
           "tucson indie"
          ],
          [
           "tulsa indie"
          ],
          [
           "tuna estudiantil"
          ],
          [
           "tunisian pop"
          ],
          [
           "turbo folk"
          ],
          [
           "turkish classical"
          ],
          [
           "turkish classical performance"
          ],
          [
           "turkish edm"
          ],
          [
           "turkish experimental"
          ],
          [
           "turkish folk"
          ],
          [
           "turkish jazz"
          ],
          [
           "turkish modern jazz"
          ],
          [
           "turkish pop"
          ],
          [
           "turkish psych"
          ],
          [
           "turkish trap"
          ],
          [
           "turkish trap pop"
          ],
          [
           "turntablism"
          ],
          [
           "twee pop"
          ],
          [
           "twoubadou"
          ],
          [
           "tzadik"
          ],
          [
           "ugandan pop"
          ],
          [
           "uilleann pipes"
          ],
          [
           "uk alternative hip hop"
          ],
          [
           "uk alternative pop"
          ],
          [
           "uk americana"
          ],
          [
           "uk contemporary jazz"
          ],
          [
           "uk contemporary r&b"
          ],
          [
           "uk dance"
          ],
          [
           "uk dancehall"
          ],
          [
           "uk diy punk"
          ],
          [
           "uk dnb"
          ],
          [
           "uk doom metal"
          ],
          [
           "uk dub"
          ],
          [
           "uk experimental electronic"
          ],
          [
           "uk funky"
          ],
          [
           "uk garage"
          ],
          [
           "uk hip hop"
          ],
          [
           "uk house"
          ],
          [
           "uk metalcore"
          ],
          [
           "uk noise rock"
          ],
          [
           "uk pop"
          ],
          [
           "uk pop punk"
          ],
          [
           "uk post-hardcore"
          ],
          [
           "uk post-punk"
          ],
          [
           "uk reggae"
          ],
          [
           "uk rockabilly"
          ],
          [
           "uk stoner rock"
          ],
          [
           "uk worship"
          ],
          [
           "uk82"
          ],
          [
           "ukrainian choir"
          ],
          [
           "ukrainian classical"
          ],
          [
           "ukrainian classical piano"
          ],
          [
           "ukrainian electronic"
          ],
          [
           "ukrainian pop"
          ],
          [
           "ukulele"
          ],
          [
           "umbanda"
          ],
          [
           "underground hip hop"
          ],
          [
           "underground power pop"
          ],
          [
           "underground rap"
          ],
          [
           "university choir"
          ],
          [
           "uplifting trance"
          ],
          [
           "uptempo hardcore"
          ],
          [
           "urban contemporary"
          ],
          [
           "urbano espanol"
          ],
          [
           "us power metal"
          ],
          [
           "utah indie"
          ],
          [
           "uzbek pop"
          ],
          [
           "uzbek traditional"
          ],
          [
           "v-pop"
          ],
          [
           "vallenato"
          ],
          [
           "vallenato moderno"
          ],
          [
           "vancouver indie"
          ],
          [
           "vancouver metal"
          ],
          [
           "vancouver punk"
          ],
          [
           "vapor pop"
          ],
          [
           "vapor soul"
          ],
          [
           "vapor trap"
          ],
          [
           "vapor twitch"
          ],
          [
           "vaporwave"
          ],
          [
           "variete francaise"
          ],
          [
           "vaudeville"
          ],
          [
           "vbs"
          ],
          [
           "veena"
          ],
          [
           "vegan straight edge"
          ],
          [
           "vegas indie"
          ],
          [
           "velha guarda"
          ],
          [
           "venezuelan hip hop"
          ],
          [
           "venezuelan indie"
          ],
          [
           "venezuelan rock"
          ],
          [
           "veracruz indie"
          ],
          [
           "vermont indie"
          ],
          [
           "vgm instrumental"
          ],
          [
           "vgm remix"
          ],
          [
           "victoria bc indie"
          ],
          [
           "victorian britain"
          ],
          [
           "video game music"
          ],
          [
           "vienna indie"
          ],
          [
           "vietnamese bolero"
          ],
          [
           "vietnamese pop"
          ],
          [
           "viking black metal"
          ],
          [
           "viking folk"
          ],
          [
           "viking metal"
          ],
          [
           "villancicos"
          ],
          [
           "vintage chanson"
          ],
          [
           "vintage chinese pop"
          ],
          [
           "vintage classical singing"
          ],
          [
           "vintage country folk"
          ],
          [
           "vintage dutch pop"
          ],
          [
           "vintage french electronic"
          ],
          [
           "vintage gospel"
          ],
          [
           "vintage hollywood"
          ],
          [
           "vintage italian pop"
          ],
          [
           "vintage italian soundtrack"
          ],
          [
           "vintage jazz"
          ],
          [
           "vintage old-time"
          ],
          [
           "vintage rockabilly"
          ],
          [
           "vintage schlager"
          ],
          [
           "vintage spanish pop"
          ],
          [
           "vintage swedish pop"
          ],
          [
           "vintage swing"
          ],
          [
           "vintage tango"
          ],
          [
           "viola"
          ],
          [
           "violao"
          ],
          [
           "violao classico"
          ],
          [
           "violin"
          ],
          [
           "viral pop"
          ],
          [
           "viral rap"
          ],
          [
           "viral trap"
          ],
          [
           "virgin islands reggae"
          ],
          [
           "virginia hip hop"
          ],
          [
           "virginia metal"
          ],
          [
           "virginia punk"
          ],
          [
           "visor"
          ],
          [
           "visual kei"
          ],
          [
           "vocal ensemble"
          ],
          [
           "vocal harmony group"
          ],
          [
           "vocal house"
          ],
          [
           "vocal jazz"
          ],
          [
           "vocal trance"
          ],
          [
           "vocaloid"
          ],
          [
           "vogue"
          ],
          [
           "volksmusik"
          ],
          [
           "warm drone"
          ],
          [
           "washboard"
          ],
          [
           "washington indie"
          ],
          [
           "wassoulou"
          ],
          [
           "water"
          ],
          [
           "wave"
          ],
          [
           "welsh folk"
          ],
          [
           "welsh indie"
          ],
          [
           "welsh metal"
          ],
          [
           "welsh rock"
          ],
          [
           "west african jazz"
          ],
          [
           "west australian hip hop"
          ],
          [
           "west coast rap"
          ],
          [
           "west coast reggae"
          ],
          [
           "west coast trap"
          ],
          [
           "west end"
          ],
          [
           "west virginia indie"
          ],
          [
           "western americana"
          ],
          [
           "western mass indie"
          ],
          [
           "western saharan folk"
          ],
          [
           "western swing"
          ],
          [
           "white noise"
          ],
          [
           "wind ensemble"
          ],
          [
           "wind quintet"
          ],
          [
           "wisconsin indie"
          ],
          [
           "witch house"
          ],
          [
           "women's choir"
          ],
          [
           "women's music"
          ],
          [
           "wonky"
          ],
          [
           "worcester ma indie"
          ],
          [
           "world"
          ],
          [
           "world fusion"
          ],
          [
           "world meditation"
          ],
          [
           "world worship"
          ],
          [
           "worship"
          ],
          [
           "wrestling"
          ],
          [
           "wu fam"
          ],
          [
           "wyoming indie"
          ],
          [
           "wyoming roots"
          ],
          [
           "xhosa"
          ],
          [
           "xtra raw"
          ],
          [
           "yacht rock"
          ],
          [
           "ye ye"
          ],
          [
           "yiddish folk"
          ],
          [
           "yodeling"
          ],
          [
           "yoga"
          ],
          [
           "yoik"
          ],
          [
           "york indie"
          ],
          [
           "yorkshire folk"
          ],
          [
           "yugoslav new wave"
          ],
          [
           "yugoslav rock"
          ],
          [
           "zambian pop"
          ],
          [
           "zeuhl"
          ],
          [
           "zhongguo feng"
          ],
          [
           "zimdancehall"
          ],
          [
           "zolo"
          ],
          [
           "zouglou"
          ],
          [
           "zouk"
          ],
          [
           "zurich indie"
          ],
          [
           "zydeco"
          ]
         ],
         "hovertemplate": "x=%{x}<br>y=%{y}<br>generos=%{customdata[0]}<br>cluster_pca=%{marker.color}<extra></extra>",
         "legendgroup": "",
         "marker": {
          "color": [
           4,
           4,
           2,
           3,
           3,
           0,
           0,
           2,
           3,
           3,
           1,
           0,
           1,
           4,
           3,
           0,
           2,
           0,
           1,
           0,
           3,
           3,
           2,
           3,
           0,
           2,
           2,
           4,
           2,
           2,
           2,
           2,
           2,
           0,
           0,
           1,
           0,
           2,
           1,
           0,
           1,
           2,
           2,
           2,
           0,
           2,
           2,
           0,
           2,
           1,
           2,
           0,
           0,
           1,
           1,
           2,
           1,
           1,
           2,
           2,
           1,
           0,
           2,
           4,
           1,
           0,
           1,
           1,
           2,
           4,
           2,
           0,
           4,
           4,
           4,
           4,
           4,
           3,
           1,
           4,
           0,
           4,
           0,
           4,
           4,
           0,
           3,
           1,
           4,
           2,
           1,
           1,
           1,
           0,
           0,
           1,
           1,
           0,
           3,
           2,
           3,
           4,
           0,
           0,
           0,
           0,
           4,
           0,
           2,
           1,
           2,
           0,
           2,
           2,
           2,
           2,
           2,
           1,
           0,
           2,
           0,
           4,
           0,
           2,
           0,
           4,
           2,
           0,
           2,
           4,
           0,
           2,
           2,
           2,
           1,
           2,
           4,
           1,
           2,
           1,
           2,
           1,
           1,
           3,
           1,
           0,
           0,
           2,
           0,
           2,
           4,
           2,
           4,
           4,
           4,
           0,
           1,
           1,
           2,
           2,
           1,
           1,
           0,
           1,
           2,
           1,
           1,
           2,
           2,
           0,
           1,
           0,
           0,
           2,
           2,
           1,
           2,
           2,
           2,
           4,
           4,
           4,
           0,
           4,
           2,
           3,
           1,
           4,
           4,
           1,
           2,
           3,
           2,
           2,
           2,
           2,
           4,
           4,
           3,
           0,
           3,
           2,
           3,
           3,
           3,
           1,
           0,
           4,
           4,
           3,
           4,
           2,
           1,
           2,
           2,
           2,
           3,
           3,
           3,
           3,
           3,
           4,
           2,
           3,
           3,
           3,
           4,
           4,
           4,
           4,
           0,
           4,
           4,
           3,
           2,
           0,
           1,
           2,
           2,
           1,
           2,
           2,
           2,
           2,
           1,
           2,
           2,
           3,
           0,
           3,
           2,
           2,
           3,
           0,
           2,
           1,
           1,
           1,
           4,
           4,
           1,
           1,
           2,
           0,
           1,
           3,
           1,
           2,
           0,
           0,
           0,
           0,
           3,
           2,
           2,
           0,
           4,
           3,
           2,
           4,
           3,
           1,
           1,
           4,
           4,
           2,
           2,
           1,
           1,
           1,
           2,
           1,
           1,
           1,
           1,
           0,
           1,
           3,
           3,
           3,
           3,
           1,
           1,
           0,
           1,
           3,
           3,
           2,
           2,
           3,
           2,
           2,
           3,
           3,
           3,
           2,
           2,
           2,
           1,
           1,
           0,
           2,
           1,
           3,
           0,
           2,
           2,
           4,
           4,
           0,
           0,
           4,
           4,
           2,
           4,
           4,
           4,
           2,
           1,
           2,
           3,
           3,
           1,
           3,
           3,
           2,
           2,
           2,
           1,
           2,
           1,
           1,
           2,
           3,
           4,
           0,
           3,
           1,
           0,
           1,
           2,
           1,
           1,
           0,
           2,
           4,
           4,
           2,
           4,
           3,
           1,
           0,
           3,
           1,
           1,
           0,
           2,
           0,
           4,
           4,
           0,
           1,
           0,
           2,
           4,
           1,
           3,
           0,
           2,
           2,
           2,
           1,
           1,
           2,
           1,
           0,
           2,
           2,
           2,
           0,
           1,
           4,
           3,
           3,
           0,
           0,
           3,
           2,
           2,
           2,
           4,
           3,
           2,
           4,
           0,
           2,
           3,
           2,
           1,
           2,
           3,
           4,
           4,
           4,
           3,
           2,
           0,
           0,
           1,
           2,
           4,
           3,
           1,
           2,
           1,
           0,
           3,
           0,
           2,
           2,
           1,
           1,
           0,
           2,
           1,
           1,
           4,
           0,
           1,
           1,
           2,
           0,
           4,
           0,
           1,
           0,
           3,
           0,
           3,
           0,
           0,
           3,
           3,
           1,
           3,
           3,
           2,
           3,
           3,
           3,
           2,
           4,
           4,
           4,
           1,
           1,
           4,
           3,
           4,
           1,
           2,
           2,
           3,
           4,
           3,
           4,
           4,
           0,
           4,
           0,
           0,
           1,
           2,
           0,
           0,
           2,
           1,
           3,
           2,
           2,
           1,
           3,
           3,
           2,
           1,
           2,
           1,
           1,
           1,
           2,
           3,
           1,
           2,
           2,
           2,
           3,
           3,
           2,
           3,
           2,
           0,
           0,
           2,
           1,
           4,
           3,
           0,
           3,
           2,
           3,
           1,
           0,
           3,
           4,
           4,
           4,
           1,
           0,
           2,
           0,
           1,
           4,
           3,
           0,
           4,
           4,
           0,
           2,
           4,
           3,
           0,
           3,
           0,
           1,
           2,
           1,
           2,
           2,
           0,
           1,
           1,
           0,
           1,
           1,
           2,
           4,
           1,
           2,
           0,
           4,
           0,
           2,
           2,
           2,
           1,
           1,
           0,
           2,
           3,
           3,
           2,
           2,
           3,
           2,
           0,
           3,
           3,
           3,
           3,
           1,
           3,
           2,
           2,
           2,
           2,
           3,
           1,
           0,
           1,
           3,
           0,
           3,
           3,
           1,
           3,
           3,
           3,
           0,
           2,
           0,
           3,
           0,
           2,
           3,
           0,
           0,
           2,
           0,
           3,
           1,
           3,
           0,
           4,
           2,
           2,
           2,
           0,
           0,
           2,
           4,
           0,
           4,
           4,
           4,
           4,
           4,
           4,
           4,
           4,
           4,
           4,
           4,
           3,
           4,
           4,
           4,
           4,
           4,
           4,
           4,
           0,
           4,
           4,
           4,
           3,
           3,
           2,
           1,
           2,
           2,
           2,
           2,
           2,
           2,
           2,
           2,
           2,
           3,
           2,
           1,
           3,
           1,
           4,
           2,
           4,
           1,
           1,
           2,
           4,
           4,
           4,
           2,
           0,
           0,
           4,
           3,
           3,
           4,
           3,
           3,
           3,
           1,
           2,
           2,
           2,
           1,
           3,
           0,
           2,
           3,
           3,
           2,
           3,
           2,
           2,
           2,
           0,
           3,
           3,
           2,
           2,
           0,
           2,
           2,
           1,
           2,
           1,
           2,
           2,
           2,
           3,
           2,
           2,
           2,
           2,
           2,
           2,
           2,
           2,
           2,
           3,
           2,
           3,
           2,
           2,
           2,
           2,
           1,
           1,
           3,
           4,
           4,
           3,
           1,
           3,
           1,
           2,
           2,
           2,
           1,
           2,
           1,
           1,
           4,
           1,
           4,
           2,
           4,
           1,
           2,
           0,
           1,
           2,
           1,
           1,
           3,
           2,
           3,
           2,
           2,
           1,
           2,
           1,
           4,
           0,
           1,
           0,
           2,
           0,
           1,
           1,
           1,
           0,
           1,
           1,
           1,
           2,
           1,
           1,
           1,
           1,
           2,
           3,
           1,
           1,
           0,
           2,
           3,
           2,
           2,
           3,
           2,
           2,
           1,
           2,
           2,
           2,
           3,
           2,
           1,
           2,
           2,
           1,
           2,
           2,
           4,
           3,
           1,
           3,
           0,
           1,
           0,
           3,
           0,
           2,
           2,
           4,
           1,
           1,
           1,
           2,
           1,
           2,
           2,
           0,
           2,
           0,
           4,
           3,
           2,
           0,
           2,
           0,
           0,
           2,
           2,
           1,
           3,
           2,
           2,
           2,
           2,
           0,
           2,
           0,
           2,
           2,
           1,
           2,
           0,
           1,
           2,
           0,
           3,
           0,
           2,
           3,
           1,
           4,
           2,
           2,
           2,
           2,
           3,
           2,
           3,
           1,
           1,
           2,
           2,
           2,
           3,
           1,
           1,
           0,
           3,
           0,
           1,
           1,
           1,
           4,
           2,
           0,
           4,
           4,
           1,
           1,
           2,
           1,
           2,
           4,
           1,
           0,
           4,
           2,
           3,
           3,
           1,
           2,
           0,
           1,
           3,
           4,
           1,
           1,
           1,
           3,
           2,
           1,
           3,
           4,
           1,
           2,
           1,
           2,
           3,
           1,
           0,
           3,
           3,
           4,
           4,
           4,
           4,
           2,
           4,
           2,
           1,
           2,
           2,
           0,
           3,
           2,
           0,
           1,
           4,
           0,
           2,
           1,
           2,
           2,
           3,
           1,
           1,
           3,
           0,
           2,
           1,
           0,
           2,
           2,
           1,
           0,
           1,
           2,
           1,
           1,
           1,
           0,
           2,
           2,
           2,
           1,
           1,
           1,
           2,
           1,
           4,
           1,
           4,
           0,
           3,
           4,
           1,
           0,
           3,
           2,
           4,
           1,
           3,
           2,
           0,
           0,
           0,
           4,
           3,
           0,
           2,
           1,
           1,
           2,
           2,
           2,
           2,
           3,
           0,
           4,
           4,
           2,
           2,
           4,
           0,
           2,
           0,
           0,
           0,
           0,
           3,
           3,
           0,
           3,
           1,
           2,
           3,
           2,
           1,
           0,
           4,
           1,
           4,
           4,
           1,
           1,
           1,
           1,
           1,
           1,
           2,
           0,
           0,
           4,
           2,
           0,
           1,
           2,
           0,
           0,
           4,
           2,
           0,
           2,
           2,
           3,
           3,
           3,
           3,
           0,
           0,
           1,
           2,
           0,
           3,
           0,
           0,
           2,
           3,
           3,
           2,
           2,
           2,
           3,
           0,
           2,
           2,
           2,
           1,
           4,
           2,
           0,
           2,
           0,
           4,
           4,
           2,
           4,
           4,
           3,
           1,
           1,
           2,
           0,
           0,
           1,
           3,
           1,
           3,
           4,
           4,
           0,
           2,
           1,
           2,
           2,
           4,
           1,
           3,
           2,
           1,
           1,
           1,
           2,
           1,
           2,
           3,
           2,
           2,
           1,
           1,
           3,
           2,
           2,
           2,
           2,
           1,
           1,
           2,
           0,
           2,
           1,
           2,
           2,
           1,
           0,
           1,
           1,
           2,
           3,
           4,
           1,
           1,
           2,
           2,
           1,
           0,
           1,
           0,
           1,
           2,
           1,
           0,
           0,
           2,
           0,
           1,
           4,
           4,
           4,
           0,
           2,
           1,
           1,
           2,
           2,
           4,
           3,
           1,
           1,
           4,
           4,
           2,
           2,
           2,
           1,
           2,
           4,
           1,
           4,
           4,
           4,
           1,
           1,
           1,
           2,
           2,
           3,
           3,
           1,
           2,
           1,
           1,
           0,
           2,
           0,
           1,
           1,
           2,
           2,
           1,
           0,
           3,
           3,
           3,
           0,
           2,
           3,
           2,
           1,
           0,
           1,
           2,
           2,
           1,
           1,
           0,
           1,
           1,
           2,
           2,
           1,
           3,
           4,
           3,
           3,
           1,
           4,
           3,
           3,
           4,
           2,
           1,
           0,
           1,
           2,
           1,
           1,
           2,
           2,
           2,
           2,
           1,
           1,
           3,
           0,
           3,
           4,
           3,
           3,
           3,
           4,
           1,
           3,
           3,
           2,
           3,
           2,
           2,
           2,
           4,
           0,
           1,
           4,
           1,
           1,
           3,
           0,
           1,
           2,
           1,
           2,
           1,
           1,
           1,
           2,
           3,
           3,
           3,
           4,
           4,
           4,
           4,
           3,
           2,
           2,
           4,
           2,
           2,
           2,
           0,
           2,
           4,
           4,
           3,
           2,
           2,
           2,
           2,
           2,
           4,
           4,
           4,
           4,
           4,
           4,
           4,
           3,
           0,
           0,
           2,
           0,
           0,
           3,
           3,
           2,
           1,
           0,
           2,
           2,
           2,
           2,
           2,
           3,
           2,
           4,
           4,
           4,
           4,
           0,
           3,
           3,
           3,
           0,
           0,
           2,
           2,
           4,
           0,
           4,
           0,
           0,
           0,
           0,
           0,
           0,
           0,
           1,
           3,
           3,
           4,
           3,
           2,
           2,
           4,
           2,
           3,
           3,
           2,
           0,
           0,
           3,
           0,
           0,
           2,
           0,
           0,
           0,
           2,
           0,
           0,
           2,
           2,
           0,
           1,
           0,
           2,
           0,
           1,
           2,
           1,
           0,
           2,
           1,
           3,
           0,
           1,
           2,
           1,
           0,
           2,
           4,
           0,
           3,
           2,
           1,
           1,
           0,
           3,
           3,
           0,
           2,
           1,
           0,
           1,
           1,
           0,
           1,
           2,
           0,
           2,
           2,
           3,
           0,
           4,
           0,
           0,
           3,
           3,
           2,
           4,
           1,
           0,
           3,
           0,
           3,
           2,
           3,
           3,
           4,
           4,
           3,
           2,
           1,
           2,
           3,
           3,
           2,
           0,
           4,
           4,
           4,
           4,
           1,
           4,
           4,
           0,
           2,
           1,
           1,
           2,
           4,
           0,
           4,
           1,
           4,
           1,
           4,
           4,
           0,
           1,
           0,
           0,
           4,
           4,
           4,
           4,
           0,
           3,
           3,
           2,
           2,
           1,
           4,
           0,
           1,
           2,
           1,
           1,
           1,
           2,
           1,
           1,
           2,
           1,
           1,
           0,
           0,
           2,
           2,
           1,
           3,
           2,
           4,
           4,
           4,
           4,
           0,
           4,
           2,
           1,
           0,
           2,
           2,
           1,
           1,
           4,
           3,
           1,
           0,
           3,
           0,
           1,
           1,
           0,
           1,
           1,
           1,
           1,
           0,
           1,
           1,
           2,
           2,
           1,
           0,
           4,
           0,
           0,
           2,
           3,
           3,
           3,
           2,
           3,
           3,
           3,
           0,
           3,
           4,
           3,
           3,
           0,
           0,
           3,
           3,
           1,
           4,
           3,
           0,
           3,
           3,
           3,
           2,
           0,
           3,
           4,
           3,
           3,
           3,
           3,
           3,
           3,
           0,
           4,
           2,
           0,
           2,
           2,
           0,
           3,
           2,
           3,
           1,
           2,
           2,
           2,
           2,
           2,
           3,
           3,
           2,
           3,
           2,
           3,
           1,
           1,
           0,
           0,
           0,
           2,
           0,
           2,
           3,
           2,
           2,
           3,
           0,
           2,
           2,
           3,
           2,
           4,
           0,
           0,
           3,
           3,
           2,
           4,
           4,
           4,
           3,
           3,
           4,
           4,
           1,
           2,
           2,
           2,
           2,
           4,
           4,
           3,
           2,
           1,
           4,
           2,
           3,
           0,
           0,
           4,
           2,
           2,
           2,
           4,
           2,
           0,
           3,
           2,
           2,
           2,
           2,
           1,
           2,
           2,
           2,
           3,
           2,
           2,
           2,
           0,
           2,
           2,
           2,
           2,
           3,
           4,
           0,
           0,
           1,
           2,
           2,
           3,
           0,
           4,
           0,
           1,
           0,
           0,
           1,
           3,
           2,
           0,
           3,
           2,
           3,
           0,
           0,
           3,
           0,
           0,
           2,
           3,
           1,
           1,
           0,
           3,
           0,
           2,
           4,
           0,
           3,
           0,
           1,
           4,
           3,
           2,
           0,
           0,
           2,
           0,
           1,
           0,
           4,
           1,
           3,
           2,
           1,
           0,
           0,
           0,
           2,
           3,
           0,
           3,
           2,
           3,
           3,
           3,
           0,
           2,
           0,
           2,
           0,
           1,
           0,
           4,
           0,
           1,
           4,
           0,
           2,
           2,
           1,
           0,
           1,
           1,
           1,
           1,
           1,
           1,
           1,
           1,
           1,
           2,
           1,
           2,
           0,
           3,
           2,
           1,
           3,
           3,
           2,
           2,
           2,
           0,
           1,
           1,
           1,
           1,
           1,
           0,
           4,
           2,
           1,
           2,
           1,
           2,
           3,
           2,
           2,
           2,
           2,
           2,
           1,
           2,
           0,
           4,
           4,
           0,
           0,
           0,
           1,
           3,
           2,
           0,
           4,
           0,
           0,
           2,
           0,
           1,
           4,
           2,
           1,
           1,
           2,
           2,
           2,
           0,
           4,
           1,
           2,
           1,
           0,
           0,
           1,
           2,
           2,
           1,
           0,
           0,
           2,
           0,
           4,
           4,
           2,
           4,
           1,
           2,
           2,
           1,
           2,
           2,
           2,
           4,
           1,
           1,
           4,
           2,
           3,
           3,
           3,
           0,
           2,
           4,
           1,
           3,
           3,
           2,
           3,
           3,
           0,
           3,
           3,
           2,
           2,
           0,
           2,
           4,
           1,
           2,
           2,
           0,
           2,
           0,
           4,
           3,
           2,
           3,
           3,
           2,
           2,
           3,
           2,
           3,
           3,
           3,
           2,
           0,
           2,
           2,
           3,
           3,
           3,
           2,
           0,
           3,
           1,
           1,
           2,
           4,
           0,
           3,
           3,
           1,
           1,
           2,
           0,
           2,
           1,
           0,
           3,
           4,
           2,
           4,
           2,
           4,
           3,
           1,
           2,
           1,
           3,
           0,
           2,
           2,
           4,
           0,
           3,
           0,
           1,
           2,
           0,
           1,
           1,
           0,
           0,
           0,
           4,
           0,
           2,
           2,
           3,
           3,
           0,
           1,
           1,
           2,
           1,
           4,
           4,
           0,
           2,
           2,
           0,
           1,
           2,
           4,
           2,
           1,
           0,
           1,
           2,
           3,
           3,
           2,
           2,
           3,
           2,
           1,
           2,
           0,
           2,
           1,
           2,
           0,
           1,
           2,
           4,
           1,
           1,
           2,
           2,
           1,
           1,
           0,
           1,
           3,
           2,
           0,
           1,
           1,
           1,
           4,
           4,
           0,
           2,
           4,
           0,
           4,
           3,
           1,
           2,
           2,
           1,
           2,
           0,
           1,
           0,
           1,
           1,
           1,
           2,
           1,
           4,
           4,
           4,
           1,
           4,
           2,
           2,
           4,
           1,
           1,
           1,
           1,
           1,
           0,
           1,
           0,
           2,
           0,
           0,
           2,
           2,
           4,
           2,
           1,
           0,
           1,
           1,
           2,
           1,
           3,
           3,
           3,
           0,
           0,
           3,
           2,
           3,
           3,
           1,
           1,
           2,
           2,
           2,
           1,
           4,
           0,
           2,
           0,
           2,
           2,
           1,
           0,
           2,
           2,
           1,
           2,
           4,
           2,
           0,
           1,
           2,
           0,
           2,
           0,
           2,
           2,
           2,
           1,
           2,
           0,
           3,
           3,
           0,
           1,
           2,
           2,
           4,
           4,
           1,
           4,
           4,
           0,
           0,
           4,
           4,
           1,
           4,
           1,
           0,
           1,
           4,
           4,
           3,
           3,
           4,
           2,
           1,
           2,
           2,
           2,
           3,
           2,
           0,
           0,
           4,
           4,
           1,
           2,
           1,
           2,
           2,
           1,
           3,
           2,
           3,
           0,
           0,
           2,
           2,
           4,
           0,
           2,
           2,
           2,
           3,
           0,
           2,
           2,
           3,
           1,
           2,
           2,
           3,
           1,
           2,
           2,
           2,
           2,
           2,
           3,
           4,
           0,
           0,
           4,
           3,
           2,
           1,
           1,
           1,
           3,
           0,
           0,
           0,
           2,
           2,
           2,
           2,
           2,
           1,
           1,
           3,
           4,
           2,
           4,
           4,
           4,
           4,
           4,
           3,
           1,
           3,
           2,
           2,
           3,
           2,
           2,
           4,
           2,
           2,
           2,
           0,
           2,
           1,
           2,
           1,
           2,
           0,
           2,
           2,
           0,
           2,
           1,
           0,
           2,
           2,
           2,
           2,
           1,
           0,
           2,
           2,
           0,
           2,
           2,
           4,
           1,
           3,
           2,
           0,
           0,
           1,
           0,
           4,
           2,
           2,
           1,
           1,
           1,
           1,
           4,
           1,
           0,
           0,
           4,
           4,
           1,
           2,
           1,
           2,
           1,
           1,
           0,
           4,
           2,
           0,
           0,
           0,
           1,
           1,
           1,
           1,
           1,
           1,
           1,
           1,
           1,
           1,
           0,
           1,
           1,
           0,
           1,
           3,
           1,
           2,
           3,
           0,
           1,
           0,
           1,
           3,
           0,
           2,
           0,
           1,
           0,
           0,
           1,
           1,
           1,
           2,
           3,
           0,
           2,
           3,
           2,
           2,
           1,
           1,
           1,
           2,
           1,
           2,
           2,
           0,
           4,
           4,
           1,
           0,
           2,
           2,
           2,
           2,
           3,
           2,
           2,
           3,
           4,
           3,
           0,
           3,
           2,
           2,
           2,
           2,
           0,
           2,
           2,
           2,
           1,
           2,
           4,
           1,
           2,
           0,
           1,
           1,
           3,
           0,
           2,
           3,
           3,
           2,
           2,
           2,
           2,
           2,
           2,
           2,
           2,
           1,
           2,
           2,
           2,
           3,
           4,
           2,
           1,
           2,
           0,
           2,
           3,
           2,
           0,
           1,
           2,
           1,
           2,
           1,
           2,
           2,
           2,
           2,
           0,
           1,
           1,
           0,
           2,
           1,
           1,
           2,
           0,
           0,
           2,
           3,
           0,
           2,
           1,
           2,
           2,
           2,
           3,
           4,
           2,
           4,
           2,
           3,
           3,
           0,
           2,
           0,
           0,
           3,
           0,
           0,
           0,
           1,
           1,
           3,
           4,
           4,
           1,
           1,
           3,
           0,
           3,
           1,
           1,
           4,
           4,
           2,
           1,
           3,
           0,
           4,
           0,
           1,
           2,
           4,
           3,
           2,
           1,
           2,
           2,
           2,
           2,
           2,
           2,
           2,
           2,
           2,
           0,
           3,
           3,
           2,
           2,
           3,
           2,
           2,
           1,
           2,
           0,
           3,
           4,
           3,
           2,
           0,
           2,
           0,
           4,
           2,
           4,
           0,
           2,
           0,
           3,
           2,
           2,
           2,
           2,
           2,
           2,
           1,
           2,
           0,
           2,
           2,
           0,
           4,
           2,
           3,
           3,
           2,
           0,
           2,
           2,
           3,
           4,
           4,
           3,
           1,
           0,
           1,
           0,
           0,
           0,
           0,
           1,
           4,
           2,
           0,
           0,
           1,
           0,
           4,
           4,
           2,
           2,
           2,
           2,
           2,
           2,
           2,
           1,
           3,
           3,
           1,
           3,
           1,
           1,
           1,
           1,
           0,
           1,
           4,
           0,
           2,
           1,
           2,
           0,
           1,
           0,
           0,
           0,
           0,
           2,
           1,
           2,
           3,
           0,
           2,
           3,
           3,
           2,
           2,
           2,
           3,
           0,
           0,
           2,
           3,
           3,
           4,
           4,
           4,
           2,
           4,
           2,
           3,
           2,
           2,
           2,
           3,
           2,
           2,
           1,
           2,
           0,
           1,
           1,
           0,
           2,
           0,
           2,
           1,
           2,
           2,
           2,
           2,
           1,
           4,
           3,
           4,
           0,
           4,
           4,
           4,
           1,
           2,
           0,
           2,
           1,
           0,
           2,
           0,
           2,
           2,
           4,
           2,
           2,
           0,
           2,
           1,
           3,
           2,
           0,
           3,
           0,
           3,
           2,
           2,
           3,
           3,
           2,
           3,
           0,
           3,
           2,
           1,
           1,
           1,
           4,
           2,
           1,
           4,
           3,
           3,
           4,
           4,
           4,
           2,
           1,
           0,
           0,
           3,
           0,
           0,
           0,
           1,
           1,
           2,
           2,
           2,
           1,
           1,
           0,
           1,
           4,
           2,
           2,
           1,
           1,
           0,
           1,
           1,
           2,
           1,
           1,
           0,
           0,
           1,
           0,
           1,
           1,
           4,
           3,
           0,
           1,
           1,
           2,
           1,
           1,
           1,
           1,
           2,
           0,
           0,
           0,
           0,
           0,
           1,
           2,
           3,
           3,
           2,
           1,
           4,
           4,
           1,
           2,
           0,
           4,
           3,
           1,
           1,
           0,
           2,
           2,
           1,
           3,
           3,
           2,
           0,
           3,
           4,
           3,
           0,
           0,
           0,
           3,
           2,
           2,
           2,
           2,
           3,
           3,
           3,
           1,
           3,
           3,
           0,
           0,
           1,
           0,
           1,
           1,
           1,
           0,
           0,
           2,
           2,
           2,
           2,
           2,
           1,
           2,
           0,
           2,
           2,
           2,
           2,
           2,
           2,
           0,
           3,
           2,
           1,
           3,
           4,
           1,
           1,
           2,
           3,
           2,
           0,
           3,
           4,
           3,
           0,
           2,
           3,
           3,
           3,
           0,
           3,
           3,
           0,
           2,
           2,
           2,
           1,
           1,
           1,
           2,
           2,
           2,
           1,
           0,
           2,
           2,
           2,
           2,
           2,
           2,
           1,
           1,
           1,
           2,
           3,
           3,
           0,
           2,
           2,
           2,
           2,
           0,
           3,
           3,
           0,
           2,
           2,
           2,
           2,
           2,
           3,
           4,
           1,
           1,
           3,
           3,
           3,
           0,
           3,
           1,
           0,
           2,
           0,
           3,
           4,
           0,
           3,
           2,
           2,
           0,
           0,
           2,
           2,
           2,
           1,
           1,
           1,
           2,
           0,
           2,
           2,
           2,
           2,
           1,
           2,
           2,
           2,
           1,
           0,
           2,
           1,
           1,
           0,
           1,
           4,
           4,
           4,
           0,
           2,
           3,
           3,
           2,
           2,
           2,
           4,
           1,
           1,
           2,
           2,
           1,
           0,
           3,
           3,
           2,
           2,
           2,
           0,
           1,
           1,
           0,
           0,
           2,
           0,
           1,
           0,
           3,
           2,
           3,
           1,
           1,
           3,
           2,
           2,
           2,
           2,
           0,
           4,
           1,
           2,
           4,
           0,
           0,
           2,
           2,
           1,
           0,
           1,
           3,
           3,
           3,
           4,
           3,
           3,
           0,
           3,
           3,
           3,
           4,
           3,
           3,
           2,
           3,
           3,
           3,
           3,
           3,
           4,
           3,
           3,
           4,
           0,
           2,
           2,
           2,
           2,
           1,
           1,
           3,
           1,
           4,
           3,
           2,
           3,
           1,
           1,
           2,
           3,
           4,
           3,
           2,
           3,
           4,
           2,
           4,
           1,
           1,
           1,
           0,
           2,
           2,
           2,
           2,
           3,
           2,
           0,
           2,
           0,
           3,
           4,
           4,
           4,
           0,
           0,
           1,
           0,
           0,
           2,
           0,
           0,
           4,
           0,
           0,
           1,
           2,
           1,
           0,
           3,
           1,
           2,
           0,
           4,
           3,
           4,
           4,
           3,
           0,
           2,
           2,
           2,
           1,
           2,
           2,
           0,
           2,
           2,
           3,
           2
          ],
          "coloraxis": "coloraxis",
          "symbol": "circle"
         },
         "mode": "markers",
         "name": "",
         "showlegend": false,
         "type": "scattergl",
         "x": [
          5.910268108221799,
          2.787093152808594,
          -0.7575375383744628,
          1.0205214866168164,
          0.753910514279143,
          1.797106265241943,
          -0.4620496054489363,
          -1.3116722595637271,
          0.5984179553898578,
          0.5982012013950396,
          -1.1656525385277152,
          -0.0711812465569602,
          -2.1717115858284024,
          3.673296663029772,
          0.8327855889826044,
          0.0014059392111353602,
          -0.9273057420077752,
          0.6796203745139371,
          -1.4878005371777203,
          -0.25016976307256616,
          0.9541894103960771,
          0.8894938464845362,
          -0.9349244756981556,
          2.435242216702913,
          -0.5794096848078713,
          -1.6872704870086683,
          -1.066529075903029,
          3.743308758581934,
          -2.1543016574456963,
          -1.0808503055522525,
          -0.9549632645218933,
          -3.235872651592802,
          -1.7119755341735576,
          -0.4336563737020195,
          -0.6062336832001028,
          -0.9441629326199645,
          -0.21897352791236915,
          -1.561766720905515,
          -1.3458348880477145,
          -0.6937048482628614,
          -1.6190405446647016,
          -1.5333276858350353,
          -1.6988335792571156,
          -1.8093965083506103,
          1.0018621405554713,
          -1.5505557919539061,
          -2.6162017995351032,
          -0.721856126570674,
          -0.9358284356998535,
          -2.3217190043773925,
          -2.169859771706419,
          -0.11704076484140126,
          -0.17798254163413793,
          -1.377097862788498,
          -1.2775706484489124,
          -1.6689082229336611,
          -1.4330066722916903,
          -0.8812940272849351,
          -1.9337278510850249,
          -0.9919561769523917,
          -0.8554408012501141,
          -0.4500486285925352,
          -1.0642892702634437,
          3.4626062715850763,
          0.6998427652454073,
          1.02469792293124,
          -0.853551391960864,
          0.6504792609298516,
          -0.47748776932747,
          3.6547368585169058,
          -0.5680284493815133,
          1.2275685578826754,
          6.308184544302047,
          3.394757217806676,
          4.909954292792233,
          4.5214973111116725,
          3.4368402266794456,
          1.706511121266309,
          -1.9949213104070953,
          2.8835226719022264,
          -0.0492404157636942,
          4.251881907817703,
          1.5205339090003147,
          2.757827476352553,
          3.8188688418188876,
          0.5222233385124359,
          0.6640664570007125,
          -1.8377265384972337,
          4.3073699327256145,
          -0.9793272008623087,
          -1.753254673290716,
          -2.2551791905614693,
          -2.2904415664218307,
          -0.2800789416316546,
          0.22291185347269354,
          -1.5101821955287542,
          -0.6192845089796352,
          -0.07420986987072378,
          1.6728243374303782,
          -1.9433530146570506,
          1.0149766128732869,
          2.719557668645425,
          0.9057166961074983,
          -0.21837300691801062,
          -0.2625665565621547,
          0.8449080453819632,
          2.8327794759317704,
          1.4614957709996292,
          -1.5842602988284016,
          -1.8856176787118508,
          -2.393866425909586,
          -0.008422928392725444,
          -3.0786420856227754,
          -1.6438199733026306,
          -2.0393729844155715,
          -0.9968674357840717,
          -1.9809887425444184,
          -1.9736099706764763,
          -0.2142603008217091,
          -2.3201588880940083,
          0.6288114935083472,
          5.2627185446411175,
          -0.12166536408823816,
          -1.0121054754613963,
          0.035260963005684674,
          3.4926105143427897,
          -1.2753710449014177,
          0.3282646881366835,
          -1.695178911986083,
          3.728617793312957,
          -0.6107015592017128,
          -1.9032893260849417,
          -1.8874273931826753,
          -1.4787588103471287,
          -1.6879273436441136,
          -2.16066594159121,
          4.65808820750692,
          0.6998427652454073,
          -1.8094474553131532,
          0.6443884999442726,
          -2.8182814169138872,
          0.6443884999442726,
          -1.4716926838801567,
          1.8781753016297542,
          -1.1338434847768155,
          -0.7702516670886769,
          -0.5221138504004779,
          -0.9270989547196352,
          0.5931378934821799,
          -1.3843251626688355,
          5.271177784407822,
          -0.9642170705834133,
          3.754319584280468,
          2.9926527080734298,
          4.167831601809077,
          -0.3896280793317455,
          -1.6424751435576155,
          -1.1675433931298087,
          -1.7381524969306459,
          -1.9383384408051343,
          -1.6757529454902511,
          -1.1873372651487164,
          -0.3541927469754769,
          -1.9748930162104519,
          -1.433216664042793,
          -1.8599621279939238,
          -1.6285081252103328,
          -1.261627542204429,
          -1.2397362810749406,
          0.18868288124372692,
          -1.20180297916883,
          0.07754390698956971,
          -0.43606997058020863,
          -1.2727953385235418,
          -1.0274090397486302,
          -1.8617821657705782,
          -0.8788683358223205,
          -2.6221998744781323,
          -1.6576596345415082,
          4.0755630994760965,
          4.894322340584225,
          4.15885471267468,
          0.34415585652526853,
          3.2529655317034614,
          -2.0146663246069756,
          0.1933516169142165,
          0.5398747178532805,
          4.407656001383201,
          2.3595535652176176,
          -1.0134812826832054,
          -1.477559825349805,
          1.751655098733296,
          -1.981320440120776,
          -1.592114847773863,
          -1.860354398632211,
          -1.6438683942628736,
          4.743511527342343,
          2.164611199122907,
          1.9271058748133272,
          0.24867553257171096,
          0.26404958881534535,
          -3.106214577644639,
          1.0069292318079608,
          0.7363487998666435,
          0.01377039393303026,
          -0.9862592055897742,
          -0.01075892524400553,
          5.3812499370950615,
          3.031134078256741,
          2.1219579799750288,
          5.37682505488502,
          -1.8715344938197171,
          -0.8257044500186874,
          -1.8050999520940776,
          -1.59657470631714,
          -1.3903620518490418,
          2.38178498823393,
          0.3267105421940261,
          1.185544836543208,
          2.23079523330735,
          0.18273407852012685,
          4.819813386113593,
          -1.8931190472758395,
          1.0877277036361295,
          1.2390028548321215,
          2.394036667746407,
          2.5765941967237227,
          3.7581250644676394,
          3.603387921723093,
          3.0892966317647033,
          -0.29784148837110075,
          4.138457045658253,
          2.683964955737931,
          0.9951124914788231,
          -1.64092692281903,
          -0.10733653159368317,
          -1.7242942774158065,
          -2.2972037194660824,
          -2.151173770862403,
          -1.5759181415763412,
          -1.3487051914956143,
          -2.02654848208046,
          -2.120690474768991,
          -1.9307654535976821,
          -0.9234066530601985,
          -1.2516471860681757,
          -1.9113516620063327,
          0.781255091989099,
          -0.5237497338668536,
          1.5258122967139593,
          -1.4815229037775166,
          -0.8608015003990189,
          2.0664450888696653,
          -0.39181100273553765,
          -0.8627420859305033,
          -1.7244851503949103,
          -2.451976422151482,
          -2.451976422151482,
          4.911094086350668,
          2.1284228776298377,
          -2.026227680053006,
          -1.7259688400927675,
          -1.7612462995881786,
          -0.3294248445373818,
          -0.7167812722224338,
          2.359912655797253,
          -0.4109516244751079,
          -2.0724990678317305,
          0.4941512548817771,
          0.3947367578461059,
          0.5011147455994402,
          -0.15019477310741133,
          2.2643665658299246,
          -1.3540154536804454,
          -1.4700532554453163,
          -0.39148658961175137,
          2.9286868308441965,
          1.562734494181793,
          -1.804653395322846,
          4.421919934709001,
          1.6666341252458157,
          -0.8630069468661099,
          -1.8240161816083966,
          6.202329832453554,
          2.7007297571142215,
          -1.9219988731601125,
          -3.8853351569825394,
          -0.32373523372279256,
          -1.4830437992216368,
          -0.666158130586659,
          -0.8975313027897484,
          -0.2715001095859906,
          -2.02600749641184,
          0.03066854822532472,
          -0.666158130586659,
          1.6679376175634009,
          -0.9628431990032477,
          0.05229047058608305,
          1.4342428370670823,
          -0.07440927214208751,
          0.3161956897243036,
          -1.6854348307187548,
          -1.3783735498215977,
          -0.5302811239602094,
          -1.9482834157370157,
          0.4376816653802445,
          0.46116511270965044,
          -0.6169217471719326,
          -1.140025637705938,
          1.253322043592563,
          -1.8065011423621302,
          -2.1058975606514703,
          0.5834156893519932,
          0.6150431813346564,
          0.8314068380244777,
          -1.1677498330947198,
          -1.879745158025087,
          -1.5737313828666786,
          -1.7148709729100622,
          -1.2187163240425565,
          -0.9081075934919388,
          -2.407638506198657,
          -2.631247737130893,
          1.5673168136376303,
          1.260676137476439,
          -1.2731362784415339,
          -1.993389745172063,
          6.078392568331348,
          6.202329832453554,
          1.8806471974660992,
          0.4855038489729519,
          3.724786874647467,
          4.999022851023021,
          -0.6507019188068314,
          2.831754032108112,
          5.157224121091324,
          3.8192902746508097,
          -1.8812815325483487,
          -1.0170415780895812,
          -2.3431142778733145,
          -0.06139419459486082,
          1.1244973226335107,
          -1.0170415780895812,
          1.5499874451851456,
          -0.23880439879088872,
          -2.05489488332625,
          -1.4608536919332904,
          -1.2511268482027644,
          -1.4326231369090219,
          -0.8322050040893004,
          -1.0170415780895812,
          -1.4771002595731544,
          -2.6286065993341605,
          -0.21035255659038948,
          3.7220411064919325,
          -0.660193772766153,
          -0.088980812770704,
          -1.3796424287630304,
          0.8934594009314063,
          -0.6029963198787514,
          -0.7120551860400106,
          -0.7769839379468488,
          -0.6805758573158162,
          -0.24279844901403583,
          -1.956231538351015,
          4.118042026063585,
          5.71374103184416,
          -0.7417411626392634,
          4.424095099147775,
          2.32731824062954,
          0.017763471206447647,
          0.30149399308499747,
          0.9650215283895125,
          0.022468392622496548,
          -1.2199650459691425,
          0.3417751159053107,
          -0.5378912868672481,
          0.8644678960471943,
          4.004696577326856,
          4.008320181774836,
          1.3829663131262562,
          -2.0574297891427644,
          1.3094774137593317,
          -1.2244223547667645,
          3.301387747874775,
          -1.1107604184765902,
          0.5360702750732714,
          -0.24744053697254728,
          -1.9441899850782949,
          -2.1330576537603547,
          -1.0891187918604013,
          -1.8302469752259656,
          -0.155164164493442,
          -0.9951653539849207,
          -1.3596060537015469,
          -0.6110809564064194,
          -2.5498154982660926,
          -0.6067753052647099,
          -0.728887274846931,
          -0.6427561202341461,
          -0.8384661829154194,
          7.048160534198852,
          3.0862995100788653,
          1.6499160539143836,
          0.5039626516959589,
          -0.7628234779254304,
          1.9098861430974066,
          -0.7381554703584146,
          -1.2105050375339605,
          -1.6165006411449983,
          2.915285284524166,
          0.7875315395435434,
          -1.4713066508652939,
          3.840536654487982,
          0.818010580992293,
          -1.5363920461225529,
          1.5017010248753813,
          -0.8269573928584232,
          -1.2365537984863504,
          -1.1213910396496645,
          0.3532535757130952,
          4.1569886724704626,
          4.181143915852829,
          5.874241617946341,
          0.7726737970500183,
          -1.238465158422996,
          0.17391144426442534,
          -0.29101915682132573,
          -1.3643289196729802,
          -1.0013576229512056,
          2.8143610849320844,
          1.0152267748235697,
          -0.8997096472317095,
          -1.8161225830951813,
          -0.4069198563664317,
          -0.6222506022041558,
          0.9298554236724583,
          -0.03115887481414314,
          -1.8953253854100012,
          -2.086459473772658,
          -1.033074036500286,
          -1.64847883533443,
          -0.07688967377256108,
          -0.9626729037514544,
          -2.0140350530214666,
          -1.329341300564142,
          2.960200102558325,
          0.3366612973343735,
          -1.713615022176361,
          -1.4322797629514947,
          -0.992972414669233,
          0.37104684811124206,
          2.638713405966959,
          -0.02807780164997935,
          -1.6676648655046546,
          -0.6079060289417965,
          0.022377474382160537,
          0.9645203776907142,
          1.2387761280336038,
          0.32115465675815763,
          0.3993101634015991,
          1.4480493860298347,
          2.2798976418949346,
          -0.22663402010361927,
          0.25316511117440404,
          -0.21480126217786244,
          -2.4628532337473232,
          1.369780176535799,
          1.7508953452310552,
          1.3863298495833427,
          -1.2538737101450232,
          5.1330501699713285,
          3.5265151258837,
          6.3460332022222286,
          -0.6161373499207319,
          -2.37482894725252,
          2.253307814780364,
          0.8167571253489773,
          3.653765378813388,
          -1.8047421918261313,
          -1.8627951125034807,
          -0.9242152643491609,
          0.7066524688936533,
          4.942598053975868,
          1.125233612783273,
          4.795289250255229,
          2.4635678490115014,
          -0.0944624723100155,
          4.247306482872688,
          0.24903576136687056,
          -0.11019294017436519,
          -1.8060319312706903,
          -1.4690797127486255,
          -0.02542594636096597,
          0.3370037422179011,
          -1.0272113725970837,
          -1.1806601610443501,
          -0.08462383414741022,
          -1.2131974145350364,
          -1.528977431905268,
          -1.3378086857797185,
          0.9015460755941928,
          0.3470413035334131,
          -1.8391030814300067,
          -1.210592631037002,
          -1.384304632240193,
          -1.1745523891881093,
          -0.8900534710795278,
          -1.7792525918076774,
          -1.7629015313750145,
          -0.22626369877920544,
          -1.3596743740108534,
          -1.4373298042223681,
          -1.0505476390009723,
          -1.2326907154182063,
          1.3565283499092393,
          -0.3174215584679013,
          -0.8073456954282042,
          0.6294753135461069,
          -2.017437359162994,
          -0.11454795107118912,
          -0.5797367236830109,
          -1.8188905101656403,
          -0.21705098951570181,
          4.5294302605170165,
          0.3331897153750474,
          0.9708797436014681,
          -0.17127054263204128,
          -0.7941852500264389,
          0.15892132499726638,
          -1.1876432241511592,
          -0.640285880684085,
          0.8750838457096456,
          3.608731581729161,
          5.022988638057475,
          5.805832447701816,
          -2.48458558695459,
          -0.06723872685756654,
          -1.819945680286819,
          -0.16463751050254646,
          -0.9373426065815245,
          3.695987464448698,
          -0.11499063549310228,
          -0.31191194974263736,
          3.608731581729161,
          2.962821117328597,
          1.9745255543280629,
          -1.8693347569376921,
          3.9265835294224676,
          0.8514655969973891,
          0.2516548733824606,
          1.5069037952476543,
          0.8765073635953352,
          -0.8493286256975383,
          -2.767042218285058,
          -1.9426782361716526,
          -1.9404583741889683,
          -2.3277141531057524,
          -0.4893008855169195,
          -1.244808553462057,
          -1.468188796976154,
          -0.4197705078970214,
          -1.1794041820554684,
          -0.7316519448921269,
          -1.9934477924940717,
          2.6589574687484157,
          -1.8424902425655332,
          -1.9752037541359404,
          0.497382134534537,
          2.8030142480459297,
          0.8898853897758201,
          -1.6997216230484247,
          -1.1189657700263966,
          -2.2297276153308556,
          -0.7369155743144538,
          -2.8860579727672406,
          -0.047731207982746264,
          -1.2455077589325843,
          1.5812933821637338,
          0.38624025734861084,
          -1.3826420603119784,
          -2.477582977687051,
          1.1497627661579253,
          -1.0859697564578679,
          0.6207099620941167,
          -0.07313623450418955,
          0.002695886147724708,
          2.170027229768548,
          0.36718627717097774,
          -0.9314426872002084,
          2.3532485455974834,
          -1.0597890934720604,
          -2.2761098556941257,
          -0.7031780913867124,
          -0.2926633824128871,
          1.0280402330301837,
          -1.164822137677721,
          0.4511604577525469,
          -0.549117259918565,
          -0.6751459147216354,
          0.29979688154291095,
          2.683412912626816,
          0.5984074638508646,
          -0.5498879058004909,
          1.5305789710549684,
          1.6719273733102396,
          2.3650341880945858,
          0.5073760258805264,
          -1.3539098259275268,
          0.5151319213344542,
          1.0608289232294805,
          0.572978967219286,
          -0.7152407495550086,
          -0.04317819295220986,
          1.6217258746453858,
          0.36751585684045074,
          -0.7640261804664323,
          -0.5419837729171584,
          1.0156004276682968,
          -1.0104901039718697,
          0.34745430653825105,
          -0.2807461940428687,
          3.187703134852316,
          -0.5452603790317764,
          -1.632620562430047,
          -1.1815682360615907,
          0.48316178858881287,
          -0.46624827532572416,
          -0.646174839100194,
          4.245475571774247,
          -0.17032794041760127,
          3.479867491808316,
          3.8409758809403707,
          4.963938781947001,
          4.408080150824803,
          4.139496296933866,
          4.031285308102279,
          3.936321424219398,
          4.187078489713528,
          4.9178081636010225,
          4.9595316070320346,
          5.491363812178905,
          1.5324624690552513,
          3.7860049701944325,
          4.224405197605615,
          3.8134457247031834,
          4.269047290947432,
          5.355886276386329,
          5.634525317250321,
          5.131366024213476,
          1.5778734844665674,
          3.6283998048063006,
          3.374867958400429,
          3.1366409364731798,
          1.5464616640991653,
          1.7734555001668157,
          -0.5736981384083475,
          -1.3474769379185079,
          -1.4095676969430233,
          -1.7902349574504635,
          -0.9599392716314988,
          -2.3378502090707287,
          -1.921923256338631,
          -1.4554683365959464,
          -1.9072262876723367,
          -0.6716795002770644,
          -2.0046562231551017,
          0.32515666255138154,
          -1.152386072071765,
          -1.4557044571067257,
          0.1805907136268424,
          -1.907935059514842,
          3.523659061137906,
          -2.049118693479205,
          3.618083406229153,
          -1.737484514657713,
          -1.439294851657238,
          -1.5714083380161568,
          6.308184544302047,
          5.008294840003465,
          5.403265664257092,
          -1.4853710029965541,
          0.3311437672951784,
          -0.464199513172781,
          2.7937786280697052,
          2.2293271459533788,
          1.3893334009215692,
          4.269223510110594,
          2.1474447251427846,
          0.7629686163768572,
          0.5313880649539606,
          -1.1115207404332916,
          -1.8204209333872412,
          -2.1921376455691473,
          -1.6730626775637114,
          -0.5625611286937766,
          0.4519180457487408,
          1.9195738575431929,
          -0.8702170708257276,
          1.0741748437686007,
          -0.2271813656959773,
          -0.8526204872249917,
          0.4309833958102207,
          -1.5594414900233997,
          -1.7883857649490373,
          -1.2843690828034706,
          -0.3289293614603016,
          1.051814375580959,
          0.5340816012176948,
          -1.109715194934536,
          -1.968574122871343,
          1.3526971314440261,
          -1.1080951590932837,
          -1.1080951590932837,
          -0.7862581323449497,
          -2.186656988218458,
          -0.7966028054395364,
          -1.8418411545862134,
          -0.7800250543797572,
          -2.478483820128177,
          0.2597603556403648,
          -1.355029769381704,
          -1.6177557993272023,
          -1.8260772103567116,
          -2.3046905029491955,
          -1.7235553968485764,
          -1.3761949647926448,
          -1.0218757432852503,
          -1.7791379054828047,
          -2.656622572909875,
          1.0291146255100552,
          -3.094666351260062,
          0.2724699225082956,
          -1.7900071853916144,
          -2.479383087771242,
          -1.8871690235505914,
          -2.6430738121785358,
          -0.3573801366614933,
          -2.5671936495562435,
          1.3794835128663614,
          4.525123553936601,
          4.7168851866997485,
          2.5950255919710727,
          -1.1366165372990922,
          1.9842254319975154,
          -2.4281391425039116,
          -1.3561754011404556,
          -1.650755700271235,
          -0.9916773688297721,
          -1.461483843233099,
          -2.1097261247542543,
          -0.549117259918565,
          -1.9852742550337783,
          4.386572613899496,
          -1.1101722919442207,
          3.3776002947938046,
          -2.434424783398597,
          3.5934938671033767,
          -0.4964313208292138,
          -2.442010816809562,
          1.0393967728352185,
          0.02417263635028073,
          -2.5360436014647663,
          -1.422496176121461,
          0.02417263635028073,
          -0.26129956152696926,
          -0.9108428135470137,
          2.0940424856091573,
          -2.5645649137076534,
          -1.2386221853149901,
          -0.30842192358759635,
          -1.5155895125722447,
          -2.0312986146780396,
          3.8631048897343323,
          -0.10838299594407873,
          -0.6022552644160738,
          0.5177509655213353,
          -1.7090697231493612,
          -0.2761452223050109,
          -0.7551372548019916,
          -1.376306476042358,
          -0.5312260392016588,
          0.2371719517248241,
          -0.30260817294212267,
          -0.5065280021147467,
          -1.2055895512885548,
          -0.8204348260187275,
          0.2660650637100615,
          -0.29884421461537725,
          -0.872801255403478,
          -1.717566729264642,
          -1.5155528888804226,
          0.8864093485671768,
          -1.6766468747459686,
          -0.469434596614234,
          0.8710775895722577,
          -0.8644705676615122,
          -0.7144561741353864,
          -0.44068855694914766,
          -2.7902709009224287,
          2.89041461765467,
          -1.1507276718314714,
          -0.8031773216690995,
          -1.9473824019540267,
          -2.162963617094737,
          -1.4723654985500974,
          -2.6893121402844162,
          0.9240011933509135,
          -1.7474528809598429,
          -0.145766533686499,
          -1.898358690244528,
          -2.669347847935738,
          -0.5221693744493339,
          -1.4548434949416968,
          -1.0283096381666232,
          2.3622397711804504,
          0.5436395862813677,
          -1.8689304368530812,
          1.171003621255904,
          0.6999040042938873,
          -1.7044471429551553,
          -0.5920546990026888,
          0.44986497282074334,
          -0.3295745148089146,
          -1.6376693914418619,
          -1.4572609901665468,
          2.46607086961782,
          -1.209595367594975,
          0.5254555899481601,
          0.07547147484810543,
          -1.5847134393643683,
          -2.908061928223543,
          -1.1765084408048716,
          -1.9119343526634263,
          0.9356036829290557,
          -0.3608660025696723,
          0.9679635861196797,
          4.699816675368838,
          -0.4723314055617324,
          -2.005630532214279,
          1.572747239850044,
          -0.9464089318334716,
          1.4686267276229203,
          0.5011147455994402,
          -1.3537495043623877,
          -1.8434120476123395,
          -0.6537657414667516,
          0.8902655962892363,
          -2.8162591250589313,
          -1.223509588635169,
          -1.5127849605175308,
          -0.9684779368006287,
          1.148705858265195,
          -1.0984469249325655,
          0.5022377972137844,
          -1.481254399986299,
          -0.5435665341609943,
          -1.2909649366086224,
          -2.1628333074786097,
          -0.8354743294354066,
          -0.03314856246124745,
          -2.0149265692493197,
          1.796033242084347,
          0.784616346011825,
          0.3211437615970805,
          -2.1901371392226094,
          2.5971373640647006,
          -1.6127967117375044,
          3.0260530289477514,
          -2.065705645766963,
          -1.5210993374175883,
          -0.9258655178346512,
          -2.074379532320173,
          0.7511849781136252,
          -1.7164833605229037,
          1.319945573060844,
          -0.2996749088548964,
          -1.0601592783170957,
          -1.57938616321675,
          -1.692465651475792,
          -3.1331777327955392,
          -0.0372462328629703,
          -0.08421121464130131,
          -0.7467746719958062,
          -0.1647082456687922,
          1.402248220174108,
          0.46779897642367285,
          -1.337321684088965,
          0.0811027884544852,
          -1.377926545841369,
          5.031107844903644,
          -1.8983922147789354,
          0.5995552083481097,
          3.5252046394474554,
          2.268319149636233,
          0.9096299592015571,
          -1.026418914347899,
          -1.069090462708078,
          0.6556631320797367,
          -2.0237690194122595,
          2.1959209999050593,
          -1.9202674340983559,
          0.6521268829335783,
          5.2627185446411175,
          -0.6974112188432157,
          0.7820338260369197,
          -0.2090432327886089,
          0.6998427652454073,
          -2.0224335239758715,
          0.47120716399528295,
          -1.2604802866831242,
          1.8271454550885444,
          6.083318328609312,
          -0.8508696332442808,
          -2.0825048372647585,
          -2.2243366255023735,
          1.4014298850676425,
          -2.7228295299586804,
          -1.608541766441803,
          1.60130543904967,
          3.3170485154906757,
          -0.8936287712527999,
          -1.0459539727090394,
          -0.7263218841933002,
          -2.9436481698922807,
          0.062214037564452145,
          -1.1663865563967568,
          -0.5132483562854899,
          0.652517874046074,
          2.2136234284814877,
          4.157689233042857,
          3.9952644486572764,
          3.744144134343592,
          3.3340361292652165,
          -0.6706922862361595,
          3.7210836024692724,
          -0.7220199150774411,
          -1.5037488884709556,
          -1.8208063443174327,
          -1.3092499530556856,
          -0.5828274996029218,
          1.8767430181001155,
          -2.3135721971896452,
          0.7099128201293106,
          -0.7812682277707919,
          3.3949279818682636,
          0.903288027373049,
          -1.5365804542172712,
          -1.6283452043117546,
          -1.7022684814942095,
          -2.4352854352283106,
          2.0186542826167484,
          -0.31661555156393595,
          -0.8941954290264572,
          1.1047609784727366,
          -0.19612740703368442,
          -1.3280200419065078,
          -1.8704463127127662,
          -0.7325588346573655,
          -2.432210455632508,
          -1.0631051517428247,
          -0.9018458559798237,
          -0.5690495861384952,
          -1.7303866732825892,
          -2.100771809255366,
          0.12062405251041534,
          -1.5280973319537652,
          -1.9108022973619916,
          -0.2103108960990884,
          -1.794354812733885,
          -1.5361213058279386,
          -2.2160001367279683,
          -1.4955985695299732,
          -2.550058975169803,
          -1.0982262167206462,
          -1.2393277340386923,
          -0.8577092210584613,
          3.6603956645131954,
          -2.660151441663605,
          4.22504304139731,
          0.41508078148570915,
          1.1880597387996015,
          2.7531891075881925,
          -0.29049845972909133,
          0.5136929486351997,
          1.8792188806685464,
          -1.6657745499794456,
          4.16629363480601,
          -0.5221693744493339,
          1.04343371046622,
          -1.8730996534974451,
          0.8500285353730022,
          -0.3318503843828148,
          0.27442997513218764,
          3.481276240454131,
          2.3317755006466863,
          -0.07084590733890579,
          -1.20928374340631,
          -1.3631427295039165,
          -2.450222781385806,
          -2.088476993478859,
          -1.8057549808143691,
          -3.399583731082442,
          -1.6998225891375291,
          1.5209018222443884,
          0.7646308800896887,
          4.478609512834525,
          2.466113319803972,
          -2.235490459928445,
          -0.8246614851720219,
          3.4324506450763277,
          -0.48823623226826873,
          -2.081322355130963,
          0.14989400405551662,
          1.8973889528910963,
          -0.13683775308019494,
          0.45025923423541847,
          2.0957686662777886,
          0.9153914685653916,
          0.5857264273779647,
          2.23335953330614,
          -3.045076587771545,
          -2.3291508714311795,
          0.45432202704512575,
          -1.630120735089729,
          -1.4143229884606356,
          0.24435456870028244,
          3.2107996485644117,
          -0.930453295454428,
          5.150035753984848,
          5.004281707388853,
          -1.3148675759101849,
          -0.7597385878813315,
          -1.6628375487419675,
          -1.8902303297831153,
          -1.5328467352522699,
          -1.2536233695640095,
          -1.2302352255235955,
          0.1046116258134566,
          0.5222047642496489,
          4.431045401922307,
          -1.1896884868417064,
          0.38265151072862436,
          -0.7773625634585395,
          -1.4952959189875168,
          1.6675267223983994,
          1.4852428780681366,
          4.356729544123442,
          -0.9108592533331851,
          0.18164272293418485,
          -1.8732582454237803,
          -1.6946786996734688,
          0.43583143175887595,
          0.48799101985832466,
          2.7658581502204442,
          1.9540876681797315,
          -0.1761359959909167,
          0.42279312293853305,
          -1.6117359369821924,
          -1.0419915528465544,
          -0.12021237473150569,
          -0.11140233801850526,
          -0.34434278626743653,
          0.6672750904822247,
          -1.2131974145350364,
          2.5136903101093657,
          1.1845545043666206,
          -1.7553890311473126,
          -0.69924183062105,
          -1.0580195579562366,
          2.3119403786115758,
          -0.13688948178293037,
          -0.8741749815567262,
          -0.9304422088236268,
          -0.9840382097343718,
          -1.35643056307856,
          3.396628728792949,
          -1.7688160662074714,
          0.2532494653975697,
          -0.5625432966733261,
          0.1389498083800933,
          2.9951823246963136,
          2.32192969477963,
          -1.496489526363348,
          3.274369314931622,
          5.335536638163787,
          1.197094866717351,
          -0.9325106706495242,
          -1.0348098358027833,
          -2.025148199151575,
          1.0657747825801036,
          -0.3857410564931707,
          -0.6253799907794828,
          1.547990068286159,
          -0.9325106706495242,
          1.1810200528402164,
          3.680927642400891,
          3.757014733272658,
          0.012415187357944248,
          -3.030569719031829,
          -0.9098410453161855,
          -1.5191912139342894,
          -0.9195814288618509,
          3.8284561838288966,
          -1.1117133103932157,
          2.2673373620579835,
          -1.5150721309734037,
          -1.3925033257613089,
          -1.2995846666732869,
          -0.12266151502753808,
          -1.8668753039071238,
          -1.5018729408205722,
          -0.5700160017381581,
          3.0398822705104624,
          -1.8005405433301183,
          -3.6632315599681733,
          -1.467945509235146,
          -1.080061469630361,
          0.8055109936842505,
          -2.8202672391359043,
          -3.4529710337762136,
          -1.1110635172556058,
          -2.7918970904646643,
          -0.6542529218710773,
          -1.2316328350265473,
          -1.3092383176769786,
          -0.446994103201411,
          -2.1147938594355313,
          -0.8486770478305631,
          -0.9409778444685293,
          -1.8320832439959562,
          -1.4789288509342513,
          -0.26031174767671916,
          0.7062856706652352,
          -0.9472312383775647,
          -1.8280677033103927,
          2.896886985755476,
          4.20959320166084,
          -2.754870819905935,
          -1.5459459240384141,
          -1.8925052109960365,
          -1.7067784255245104,
          -1.6774539508660653,
          -0.4563518583717419,
          -1.3346043453735326,
          -0.3216295003543698,
          -1.500647593596194,
          -1.4595938170239813,
          -0.8243341544860173,
          -0.658087590327675,
          0.2864270143471931,
          -1.2796134458978503,
          -0.37049705875550115,
          -1.2343513887207482,
          3.996300547145879,
          3.339577915855537,
          5.384016484346956,
          0.21837706806185922,
          -2.3067688482910245,
          -0.5021981388206954,
          -1.0068978534182296,
          -2.1476944439402628,
          -2.3968637435576947,
          2.7096069646934566,
          1.7560435745437537,
          -0.9443973872998489,
          -1.1396430988151285,
          3.5578638142965184,
          3.853519820121417,
          -0.8855858941782223,
          -0.9829651653205764,
          -2.320125421270591,
          -1.2569492976214995,
          -1.7231498462043984,
          5.961074281238082,
          -0.930430681783759,
          3.7923096640832363,
          2.533893924578384,
          2.4003469329064773,
          -1.7878372257776929,
          -0.23352895324163767,
          -1.8863702813551415,
          -3.0007847223145743,
          -2.0888534256576943,
          1.043063999486239,
          1.4753691607777775,
          -0.7167812722224338,
          -1.8241639760866641,
          -1.0939818264875396,
          -1.4173759806756032,
          -0.9227672156589174,
          -1.104428046412082,
          0.06735268474735834,
          -0.7895365930463453,
          -0.07072149456798829,
          -1.851763021318621,
          -1.8601271467736304,
          -0.08828355973957777,
          -0.25544103116343214,
          1.8793807339843205,
          0.9116853878805063,
          0.10012379315177593,
          -0.60394397797254,
          -2.929817585496707,
          0.1983971409227764,
          -0.44918673033604145,
          -0.7937960986538571,
          -0.6206510300666298,
          -1.4459240490094987,
          -2.336906125358006,
          -1.463382068040218,
          -1.220884751098554,
          -1.1296546207459432,
          -0.17787330371714702,
          -0.6960752028433906,
          -1.3678339527436498,
          -2.344688244689031,
          -1.5994355501742894,
          -0.6953135901672175,
          1.622938852032898,
          2.7823998445336766,
          2.2858744287363875,
          2.155550798796949,
          -0.26478294441047234,
          2.8276062488980167,
          0.6100656850450625,
          1.317480504278314,
          2.7468007751696364,
          -2.2523754075787235,
          0.7036343124900772,
          -0.0011837602491463124,
          -1.4829619080699743,
          -1.107523205851832,
          -0.6971997960267926,
          -1.95686202087356,
          -1.1054970278095253,
          -1.3264831935701498,
          -1.7849025600389326,
          -1.2811371791205028,
          -2.8860579727672406,
          -1.2418348568152904,
          -0.15427203546753807,
          0.5668302283795732,
          3.1638738295315703,
          5.047031224564762,
          1.248707545291637,
          0.6273736799906432,
          0.07539853780510636,
          4.046423353988648,
          -2.0948414895359457,
          1.7704705061504296,
          1.3428053485486457,
          -0.6281159028604064,
          2.700757100788002,
          -2.8964595824616737,
          -0.48907148657955885,
          -2.4153603716354715,
          3.350597068739797,
          0.11785838188577183,
          -2.0818315040779085,
          3.3833813768610868,
          -2.0288683703444153,
          -1.929689586442024,
          1.9624352875108138,
          -0.11473781767402502,
          -0.8976185323361083,
          -0.6162589382614421,
          -1.339850634422029,
          -1.860509458192561,
          -1.1256165151572661,
          -1.347190512721417,
          -1.663466730138918,
          -1.7937172212243653,
          1.7116070792188434,
          0.6875307868210211,
          2.359912655797253,
          3.4077455863709987,
          3.4201634173555133,
          3.1704080433561845,
          4.189709436743141,
          0.8861883023723556,
          -1.204133680640151,
          -2.433266038421999,
          4.396257729264009,
          -0.9943458450544889,
          -1.6640786009656179,
          -0.653012073299251,
          -0.7024160963306579,
          -1.616272197540599,
          2.7000671233999944,
          3.1332303142138067,
          2.6230336450209117,
          -1.723406422691792,
          -2.8800245580393953,
          -1.8011679111545569,
          -1.6369871043498485,
          -1.8914809660644984,
          4.618935780161164,
          4.050843042184684,
          4.352663051268991,
          5.122067061563875,
          3.9068164100335823,
          3.9866789809149905,
          2.7852234093895105,
          0.9999800069643573,
          0.6799719491218108,
          0.014298306941483733,
          -3.1561527611479905,
          0.022755347441269953,
          0.022755347441269953,
          0.1621552183504664,
          1.8848249364406575,
          -1.6357883699260114,
          -1.4405368092396218,
          1.9595862552593752,
          -1.9643963626404668,
          -1.597373864650286,
          -2.0894463149704263,
          -1.8026658189060807,
          -1.2917710621025629,
          1.6122957977964263,
          -1.0597890934720604,
          4.601631831528849,
          4.4505681765590515,
          5.210196579660407,
          5.77739976990329,
          0.20076562572775616,
          2.132612098958042,
          1.7459968094343283,
          1.7459968094343283,
          0.20076562572775616,
          0.3454668439277414,
          -1.5154226810918994,
          -1.692237859724103,
          4.310681878249162,
          0.4692689472391078,
          2.3242082313809873,
          0.9381121233998028,
          1.1841252442734744,
          -0.3743066976564617,
          1.0133098935057994,
          1.0103085340590088,
          0.7875315203113391,
          -0.5858043284252906,
          -2.6432273139517304,
          0.7454678649645955,
          1.04374389613843,
          4.839564142521276,
          2.2896581436048007,
          -1.3025333410462432,
          -1.32124993874134,
          4.033258007856051,
          -0.9054653279761934,
          1.4077154542863604,
          1.8197767618637957,
          -2.0266801412988693,
          0.40697399193667616,
          -0.17898853073046192,
          0.4847618118735967,
          0.263737807866012,
          1.9490472897705737,
          -1.2617841821502729,
          0.14921514800553626,
          -0.21755040086465105,
          -0.7624724066787735,
          -0.9387029953969077,
          0.27949977926882497,
          -0.7588630483770618,
          -2.152795985798638,
          -1.5357814618078702,
          0.8290154285889065,
          -0.981713705629862,
          0.0007320463538195258,
          -1.059070178230983,
          -0.7529011708788532,
          -2.517514521755166,
          -2.3199405171221916,
          -0.23471491664775224,
          -0.22120729624415456,
          -0.6810305719934207,
          -1.3423911334200629,
          0.9329099433229766,
          -0.3313859860091322,
          -1.366341923568506,
          -1.0192775239661642,
          -0.549117259918565,
          0.05306629499184337,
          -1.2567107324055813,
          5.259661506974291,
          -0.29656343051103373,
          -0.2019259178707012,
          -2.024602339850487,
          -1.4443686593542013,
          -0.9751839182365105,
          0.0545271464081196,
          1.4523524534217267,
          0.8192739231873557,
          0.07698261684037543,
          -2.4241133476805636,
          -1.0499396836036365,
          1.3593481661758227,
          -0.84370182480357,
          -0.40543864743120517,
          0.6101227140817008,
          0.12017397103911905,
          -1.008409709766837,
          1.2229974720456425,
          -1.1031682937994698,
          -1.4083418571679749,
          2.5756303060219774,
          -0.15864834545483605,
          2.9154589235875883,
          0.014968192928109856,
          1.4088806725999032,
          0.8082967149746672,
          0.4464945802762568,
          -1.2795600059785794,
          2.8272600811544875,
          -0.42771336379759983,
          -0.8837451046928396,
          -0.2309309414336457,
          -0.5371447045574776,
          1.3880784370526709,
          -1.0597890934720604,
          0.8795324448096475,
          1.4764147298242973,
          2.7650016272370346,
          5.637075618753224,
          3.5002357640189063,
          -1.5104184002125935,
          -1.2334843591545115,
          -0.7529405029218755,
          0.0851118732430917,
          0.3205109851451517,
          -0.9120762581936736,
          -0.27858070029414095,
          3.088433624767481,
          4.143247777999697,
          2.399716316397864,
          3.1769579298469006,
          -0.6044283440694087,
          5.574219688203978,
          5.333727896640731,
          -0.17032794041760127,
          -1.4427210612478671,
          -1.33998793702149,
          -1.33998793702149,
          -1.0802458985701935,
          3.9166593931872025,
          1.1333539879918564,
          3.131924063360545,
          -1.33998793702149,
          3.1351717246654647,
          0.05296106361416792,
          3.824228685300257,
          3.313960361031421,
          0.6376433975357719,
          -1.367827649451649,
          1.4795949689527141,
          0.5075398114106467,
          4.0251637638930315,
          3.3976341754496975,
          3.3025291157013457,
          2.8311288224741102,
          0.4298703987209257,
          2.6526038200999005,
          1.9894395187425362,
          -2.4451348377062505,
          -1.9828992824413234,
          -2.908813880378372,
          4.9107130097470995,
          -0.6498036654322964,
          -1.5303444494937994,
          -2.715389745415451,
          -2.0687544157967652,
          -2.2542542997003845,
          -2.0100526796115554,
          -2.109909957315345,
          -2.2236326075156025,
          -2.313210306482979,
          -0.950234681424934,
          -2.1364027095393254,
          -1.0065335489460205,
          -0.5635117535932602,
          -0.5452437114590934,
          -2.2698090988609714,
          -1.2016336137926902,
          -1.3117714960738545,
          0.11607867116484676,
          -1.1573319711835894,
          2.84426120846864,
          4.816971047050104,
          5.388502137886455,
          4.902234021478257,
          0.178040079741108,
          3.1296296239009416,
          -2.6715653444756353,
          -1.4732881003033538,
          1.210945654717014,
          -0.6283268472049909,
          -1.8232159852586605,
          -2.761626719266497,
          -0.8038412941572961,
          3.1296296239009416,
          1.277535589956934,
          -3.499987153766302,
          1.3589483043899588,
          1.7385554462803217,
          -0.22573449118776875,
          -2.274067346388716,
          -2.722292027168742,
          -0.5665714728194746,
          -0.7245547433332956,
          -1.899241989411069,
          -2.8397395979008904,
          -2.077917337088171,
          -0.8771721526876287,
          -0.4066838677898672,
          -2.4626824440774846,
          -0.950234681424934,
          -0.8848052512508228,
          -1.4759715630515946,
          1.0340563390737696,
          3.9266530882283894,
          1.35041894916264,
          0.40228114438331486,
          -0.788343321756894,
          2.027965414020066,
          2.0402179546875288,
          0.8979910073856024,
          -1.370362281983276,
          2.1959478767859344,
          -0.3257151107438944,
          2.1667905160060243,
          -0.1084996387962506,
          0.5555801926793548,
          2.685527235091845,
          2.0629718502740526,
          1.932778973012089,
          0.5823874663723925,
          1.4280076694700543,
          2.2279502077988353,
          2.014111723724463,
          -1.754826047247282,
          3.1452711577365062,
          1.8851878311394765,
          0.5461741363291338,
          2.356396628203321,
          0.8590333940405686,
          1.5750036225782404,
          -1.4254079176047514,
          0.1322950570473492,
          1.6585341861753566,
          2.633080100731387,
          1.2919858967101814,
          1.5307731412375463,
          1.8030112846657085,
          0.06706942676046018,
          1.8045403505981708,
          1.3745874347744316,
          -0.08395614302769236,
          4.049749172711461,
          -2.1275500290304175,
          0.527352337518705,
          -3.091473789327693,
          -0.9291176379098586,
          -0.401554895710234,
          1.1987811941730064,
          -1.4489486989802904,
          0.4216419583783457,
          -1.0348098358027833,
          -0.6337420572126482,
          -2.183496509851047,
          -2.175867295210503,
          -2.8243568560471233,
          -1.5657851439064705,
          2.4888524869873834,
          1.7069952938522648,
          -1.769952541362465,
          2.0944287535894546,
          -2.5389405610748903,
          1.7757562576013013,
          -1.3673813815784812,
          -2.3217190043773925,
          -0.07145510003716113,
          -0.12953515656082024,
          0.017056520577367618,
          -1.691861566206563,
          0.24788898634042011,
          -3.3719490056920614,
          1.8109439725347147,
          -2.9563167102804084,
          -0.9326576513945368,
          1.5453563721904247,
          2.0175676302543026,
          -0.9777384825203539,
          -1.8088045851480503,
          -0.19764938933701498,
          -1.7360045350795759,
          3.6842201989297223,
          -0.6847094485509619,
          -0.26031174767671916,
          1.5422988888047615,
          0.5930026646121636,
          -1.791295967013679,
          3.118021498922633,
          3.3580144918752337,
          3.509930965088285,
          -0.1946192401616188,
          2.4805279637902276,
          4.5177768109140075,
          6.0918671373371795,
          -1.3864258127587985,
          -1.65908942919348,
          -0.8451615089399577,
          -1.0417192548785013,
          -2.212632844114008,
          3.904762418566285,
          2.35765829715202,
          0.03992601661587364,
          -1.1004953247578722,
          -1.3293394373721155,
          2.417923441713889,
          -1.8494158071698898,
          0.619458989438916,
          0.7007141496868072,
          -0.22131099576619373,
          4.069805840259911,
          -1.6915198589429605,
          -1.648032670134251,
          -1.6266757262409488,
          5.07059849010972,
          -1.2012069430765233,
          -0.2016148315962884,
          2.2123779499001275,
          -2.4649248397008883,
          -1.9249814682117181,
          -2.4080164096721757,
          -0.39816065469448947,
          -1.148112784395048,
          -1.2373304643909684,
          -1.4628181365509452,
          -2.642991534637256,
          1.9533017033003977,
          -2.119572558061232,
          -1.0140421857817665,
          -1.843089415576859,
          -0.1743434158047833,
          -1.8079063743752273,
          -1.0770098667738903,
          -1.4905481769240274,
          -1.2980784897176667,
          2.3650341880945858,
          2.805690268078532,
          0.4847235106188629,
          0.8549288236322989,
          -1.5013922149508796,
          -1.3673565615888015,
          -1.5786623309290861,
          1.9460913874910202,
          0.031744030736049034,
          3.518987096487811,
          -0.12194207361813139,
          -0.8643826427197125,
          -0.3431640158084621,
          0.14879956982851594,
          -0.7021345155769471,
          2.5268907301930494,
          -1.5907428957012455,
          -0.04081922184563183,
          0.7899298288307441,
          -0.9108592533331851,
          0.534549296006676,
          1.711864051424776,
          0.32913723878694917,
          1.1931202253106965,
          1.0958689907088617,
          1.2545681987114252,
          -1.645491242171435,
          0.069983033231605,
          -0.6562708849308369,
          -0.8025844842561629,
          1.0288670632622698,
          1.5503148149597898,
          0.7522544149888791,
          -1.3594752795046874,
          3.018000391387948,
          1.0712957412947137,
          3.2217287372984598,
          -0.09309152149855264,
          -1.298577997346759,
          3.218628062553706,
          2.132612098958042,
          -2.3446730016825597,
          0.4052933124022667,
          -0.5726023021440041,
          -0.8831651240421448,
          0.28649928790183943,
          -1.1602891468274366,
          0.7158496154657079,
          3.510753435620002,
          -0.20646597214665643,
          0.13893639159218607,
          -1.8058188159171584,
          -1.7690512660095583,
          0.8116576480875336,
          0.33752469190627343,
          -0.01039477591061321,
          -0.8944573785036678,
          0.21387473617623176,
          0.23100452434814034,
          2.0308782271879835,
          -2.2995204704233028,
          2.4641111195466676,
          2.1192178617213586,
          0.03900046465196515,
          -0.6538759240822304,
          -2.508627218880721,
          0.812356547263445,
          -1.5787530557618963,
          0.21465726009403827,
          -1.8370165087569923,
          0.9229565319598538,
          5.656350818133164,
          1.2758796109944481,
          -0.508797701075043,
          4.278428722085264,
          0.6992100078765247,
          -2.3841364242986853,
          -1.7777308426945033,
          -1.7803898860126564,
          -0.4167539682681075,
          -1.189441828975478,
          -1.3168814365839554,
          -1.3415980593024468,
          -1.905707607756692,
          -0.9399967293329504,
          -1.6808685152004805,
          -1.1904065555535002,
          -1.4119055620195096,
          -1.9190223555873636,
          -1.6818203902001196,
          -1.4359027004171452,
          -2.011230902479246,
          0.09121406890156454,
          0.5055869622129671,
          -2.3991249477716163,
          -1.4878005371777203,
          0.09012877718788277,
          0.3101465274982136,
          -1.4468211063157415,
          -1.8879364766330249,
          -0.43080997590404696,
          1.9127398992549018,
          -0.9340739420096698,
          -0.09245424702743076,
          -1.0170415780895812,
          -1.4337106390703673,
          -1.1513085587600578,
          -0.35053272601344215,
          4.891728612485046,
          -2.2620354657009685,
          -1.1646239535239467,
          -1.4194876518446775,
          -2.1789826747725147,
          -1.7048467653411061,
          0.08723516303489817,
          -1.551371397189594,
          -1.1305919329747023,
          -2.008601460302475,
          -1.9719849087291321,
          -0.7603552441700423,
          -1.708184593620551,
          -1.4526447883764573,
          1.0936536290838423,
          4.70729731693538,
          4.06641655166185,
          0.8449080453819632,
          2.0175676302543026,
          -0.5221029502555896,
          -1.0819030183511793,
          0.9363603495410887,
          -1.6901930633720723,
          -0.067344377553773,
          3.1284096100847676,
          -0.013372924890362074,
          0.9315488370480687,
          -1.1078988413689925,
          0.9836845171357765,
          -0.6216384167307976,
          4.176384153224836,
          -0.8174650647916113,
          -0.9844049327521112,
          -1.9340208521383095,
          -0.9150586306583641,
          -1.9024375077661249,
          -1.5991191899978703,
          -0.39791226734428153,
          3.189010773438728,
          -1.3604505665769029,
          -0.7141034047337275,
          -1.5914938986038456,
          -0.2698179011474341,
          -0.32057160195909246,
          -0.9748467556979404,
          -0.634611242395277,
          -1.4852467869909067,
          -0.6488361413093121,
          -0.687520897298204,
          -0.5235210522524469,
          -1.2997644179330259,
          -0.39374742517973865,
          3.492407798994575,
          2.5763577232711783,
          -1.2550502056471335,
          3.8527580670263855,
          -1.3963654042352844,
          -1.5970419948490955,
          -1.6886328758157643,
          -1.3774550293604106,
          -1.3690729524620977,
          -2.082618199581341,
          -1.1954018276570268,
          3.402751152566497,
          -1.9587229941745268,
          -2.646314841291694,
          2.335312795097438,
          -2.345824751081746,
          1.3957426239486532,
          0.3091765784289798,
          0.3091765784289798,
          0.04825874689567856,
          -1.0823520722647504,
          3.049088181041765,
          -2.0975769095841943,
          0.25316511117440404,
          -0.15427203546753807,
          -0.4124018197799247,
          2.8948856676427686,
          0.9925700176837305,
          -0.10380387445274421,
          1.8938195243268823,
          0.9398182903443831,
          -2.2190070001920597,
          -0.40289995088326463,
          0.4855598419464209,
          -1.6946786996734688,
          4.453263833371459,
          -1.7698042251005,
          -1.2917710621025629,
          -1.8456441547473579,
          0.09262464006245315,
          -1.853771804976349,
          -0.324124062217461,
          5.699030304877431,
          2.38178498823393,
          -1.5609102360473242,
          -0.27991740748156335,
          -0.5542550572699018,
          -0.6637454999146557,
          -0.3292698306096516,
          0.6663435469489162,
          -0.814572054315036,
          0.6939265197491395,
          1.416207588595245,
          0.5778186477553658,
          -1.2584741789017164,
          -0.18772365879072309,
          -0.8836013757068096,
          -1.6875506785986953,
          1.5211340327985512,
          0.21959081948294987,
          0.2885020536256107,
          -1.492621767180282,
          -0.21175692447557953,
          -0.17581020496163288,
          -0.8875625801717644,
          -1.2556219866206986,
          -1.2269361604283733,
          4.618935780161164,
          1.3552239026426238,
          1.933616409353559,
          0.34368407284732605,
          -0.5690376399407605,
          -1.8919920103002272,
          -0.5841890549176634,
          0.3327699618999969,
          -1.9175550818936067,
          -1.2392356281844936,
          -0.09546520325791752,
          0.5577786585832492,
          3.0028015739045237,
          -0.5753522125886529,
          4.161022525837938,
          -1.9988770057703384,
          3.7468909865289723,
          2.2244782603334095,
          -2.060176960058504,
          -0.7651747940113188,
          -0.8818233752987569,
          2.2008285870324484,
          -0.5335105742105524,
          -0.591376541706871,
          -0.868612136538625,
          3.126929191169631,
          1.572747239850044,
          1.824178863093158,
          0.9487631695800595,
          -0.7979632686424227,
          -1.5274385093734064,
          -0.04031006817489311,
          -1.4688940844932512,
          -1.5189484652220926,
          -0.33363903038412474,
          -0.28741846532537524,
          1.917391486091967,
          4.2177932577548924,
          0.812356547263445,
          -2.0268228760359754,
          -0.9888603025879962,
          1.350597817544659,
          1.350597817544659,
          -0.22448253695649253,
          -1.5599823753878854,
          -0.9445110188851535,
          -0.9687374941369981,
          -1.9473824019540267,
          3.26261958089601,
          3.335750201236277,
          -0.08400104548676984,
          -1.8353016618474365,
          -1.014776886033096,
          0.6805879787852325,
          -0.9288952404986113,
          -0.9673631567290881,
          4.168363339147136,
          -0.8950461905575406,
          -1.6554978350332157,
          -0.6736705457075541,
          -1.569479403445228,
          -1.6619836307825167,
          -0.15889958107504132,
          0.6637508483382968,
          -0.8307561706234646,
          -2.2833156359466384,
          0.8752453390642233,
          -2.427740105884188,
          -1.4224065981480558,
          -1.103766214033281,
          1.5650671095135886,
          -1.0895612371376298,
          -1.168714792577955,
          -0.994697472084174,
          0.7352426388393165,
          0.05685055929293592,
          -2.364909879579424,
          4.90475113087814,
          -2.803040390957149,
          -2.2525620808187834,
          -1.8959245730757293,
          -2.0917516052011504,
          -2.508317131163249,
          -1.0932669094952767,
          0.23002712834864797,
          -1.7664024000158325,
          0.6845546448708263,
          -0.9024606571237704,
          -0.47940453613652867,
          -0.7455458630228247,
          -0.9013326790547922,
          -0.7150579071819965,
          5.521484025398488,
          4.330780758381719,
          1.05075177723107,
          -1.6734809168327212,
          4.236594177348256,
          -0.27450214919145854,
          4.055818049656478,
          2.1357669132817203,
          -0.8330021081673925,
          -1.8279298926842618,
          -1.7462095781463163,
          -1.4292748016739312,
          -1.8043356480433592,
          -0.03892607223898076,
          -1.360949264209696,
          0.4479854069546513,
          -1.6881966197421558,
          -2.260555498082259,
          -1.6032958665289645,
          -0.5719868279724859,
          0.22680621843925566,
          3.000746418246713,
          5.262058618140634,
          2.8858699481600545,
          -0.666158130586659,
          4.647416850813504,
          -2.3259805083008875,
          -0.874941835106935,
          3.4358447536432464,
          -0.18592056996048295,
          -1.3252577961419494,
          -1.645482650470817,
          -2.2743637727692696,
          -1.1375489854458396,
          -0.3059464908211036,
          -0.26321036146483767,
          0.3682343908784768,
          -0.7749919598416064,
          -0.17119199961990778,
          -0.06981557094042457,
          -1.207258832602026,
          -0.6241021127308286,
          5.419874741023524,
          -1.5972222455784255,
          -0.36389517538093735,
          -0.34450217250929577,
          -1.616569713163503,
          -1.1021594097961762,
          -1.2273516660222623,
          -2.0452140986874654,
          2.0186542826167484,
          0.42982899271672614,
          0.6052682794470806,
          -0.44235378658709706,
          0.02294714194443746,
          0.001594477147352836,
          -1.8238846076569717,
          2.23175416819827,
          0.7642748141635722,
          -0.8433282919666303,
          -1.3230875790813417,
          -1.3298929349932962,
          -1.2267220894847892,
          -2.1499949310856787,
          -1.2163920877132464,
          3.4634847114667857,
          0.4539412166357161,
          -3.0613383031984163,
          0.22729614518138563,
          -1.1344768325631742,
          -3.0613383031984163,
          -0.7072963438992375,
          0.34184338041430545,
          -1.5671182591234913,
          -0.8696666900612366,
          -1.5795590761486484,
          -0.8772502462786,
          3.58250068345712,
          -2.2268342780614727,
          -0.20126115331103783,
          -1.6675215191123862,
          -1.1676869386410895,
          -0.09594405636152759,
          -2.382066424984603,
          -0.12872264422547466,
          -1.5822498519629944,
          -1.638743461776029,
          -2.025148199151575,
          -0.6993509873932007,
          -1.8764670933076555,
          0.354432560896811,
          0.5717167306430498,
          3.1019647144481826,
          -0.5188294035461434,
          -1.012674121933813,
          -0.7097641046725915,
          -0.7276269751785631,
          3.3634624924175167,
          2.9752226817107954,
          -0.8219366599034388,
          2.208962871622312,
          2.785064005343367,
          0.2981463520357147,
          1.8664884741638645,
          4.140411488353791,
          4.133048817017733,
          0.5282838272987541,
          2.6055721017645643,
          -0.26478294441047234,
          -0.1783242076444088,
          -1.9380303715726266,
          2.9039050390292225,
          3.6496770215064647,
          -0.012929923744352752,
          0.9703843368446685,
          4.840030364876465,
          -2.3821204287662283,
          -1.5441689772345781,
          -1.3888697809804083,
          -1.9542613765865005,
          -1.5849819030822283,
          2.4466955357895848,
          -1.366648048374639,
          -0.2676245317046494,
          0.40230341805213843,
          2.374570566204159,
          5.050054496026233,
          -0.9053180429942438,
          -1.269841984644333,
          0.5398747178532805,
          -0.9479576954954877,
          -3.032449981392287,
          -1.112151754758309,
          1.0543642222548277,
          -2.174826059050462,
          0.8783391882405464,
          0.8449080453819632,
          -0.283804275105689,
          -1.8083647450254492,
          -3.2024704591966757,
          3.3215521054488226,
          0.8539122759964449,
          -1.0527079835431905,
          -1.6233526075106717,
          -1.4951842716237846,
          1.7519453777759326,
          -0.8298967446281692,
          -2.187333543701749,
          -0.24944080664634796,
          1.1074723601112297,
          -2.085935541408213,
          -2.412511518031864,
          -1.2499990583699132,
          1.2918669581773634,
          -1.4808604861756582,
          -2.0144429700235014,
          -0.5413481296670034,
          -1.6534058002388416,
          -1.431791700304573,
          -0.9871359024336283,
          1.1655411567729195,
          3.0002356858668815,
          0.1500087255874906,
          -0.5219177664341919,
          3.0474287586662054,
          0.8524577565344764,
          -1.8419708771379102,
          -1.4212505387436192,
          -1.5990912760966653,
          -0.0924523170292842,
          0.7589239174389395,
          -0.3886175367629262,
          -0.4886912992334435,
          0.186017446523918,
          -0.5767423202391134,
          -1.0445259856521212,
          -1.4103425017750717,
          -0.9467174638564448,
          -1.5570907577492832,
          -2.031656522376276,
          -1.5050207141774008,
          2.0330414338414102,
          2.9972411903138947,
          -1.1131903712057165,
          3.4143457476927663,
          5.320867729182731,
          4.085991435509487,
          2.127442535834886,
          4.947269754284725,
          0.4726197924305077,
          -2.2016868255719335,
          0.4316718530586425,
          -1.1131903712057165,
          -1.6057702396471834,
          0.8312197050104075,
          -1.7642479233188504,
          -1.1590732070276342,
          4.081447099437763,
          -1.1266837590924164,
          -1.2919547680535053,
          -1.772331172307609,
          0.021900563903480264,
          -1.833336844358953,
          -1.7602758888628423,
          -1.8693460615922182,
          -2.0465422770963446,
          -1.0561390468606318,
          1.177051678970373,
          -1.8762990960288108,
          -2.4252240322564087,
          -0.12210277573933528,
          -1.6260066325782985,
          -1.844549491208008,
          -0.303308297103034,
          -1.2048764587975174,
          -1.8182765975060045,
          -1.4422094887527543,
          -1.0947009976647617,
          -1.9236465210710891,
          0.0634921575022972,
          -0.796764303237476,
          -1.3089600393569714,
          0.5354649061742403,
          -1.1538421770428797,
          -1.1326586912829235,
          3.1056989824074224,
          -0.5655314564562381,
          1.6711847582607375,
          -1.69035928089656,
          -0.17282411226062427,
          -0.15342344242621764,
          -1.1213935734132492,
          -0.3560114892032393,
          4.264393263445871,
          -0.9702087331231122,
          -1.4795207011403098,
          -0.01916393802213829,
          -1.6262673095858835,
          -1.0729349066364686,
          0.6594213427915576,
          4.066995385985659,
          -1.7593947139165325,
          -0.614863177454312,
          -0.532844373318665,
          2.1951310166489777,
          4.2110733842281505,
          -2.0951936831935876,
          -1.712677312219174,
          -1.3176226052793831,
          -1.2398389440352928,
          -0.6365159443123255,
          -1.8680718365870304,
          -0.20774898984439685,
          4.663158190213199,
          -0.7172902492876047,
          1.4126375362115107,
          -0.053481596291650814,
          0.12258449104649316,
          -0.69300827476307,
          -1.6842462616801221,
          -0.9997143462304272,
          -0.9925277416519365,
          -0.4055455246851513,
          -0.7943307030855643,
          -1.4179766882023705,
          -1.5077618691738792,
          -0.11864752625194099,
          0.0651325151432988,
          0.4479061806002192,
          -0.590535269829556,
          -0.6656940772015794,
          -0.12568353651020692,
          -0.29682397832757956,
          -0.3020850369503301,
          -0.4431538767660777,
          -0.8497568273164453,
          1.5069037952476543,
          0.48036613331287925,
          -0.6970804646138778,
          -0.10347402499997198,
          0.426118441182912,
          1.7181988956708993,
          -0.1488087242056272,
          -0.8608961760184051,
          -0.2118665594898955,
          -1.207440562477617,
          -0.2444728652772307,
          -0.11108361445809366,
          0.4331828913071621,
          -0.46666599304565837,
          -1.8413507629642512,
          -1.0214066744382941,
          -0.4975884880865196,
          -0.6844849178178243,
          -1.6697028500088262,
          1.9435278334052593,
          -2.5904012105039667,
          -0.9832888022778706,
          -1.5102450456487517,
          -1.5772672834448844,
          -1.3747547479445208,
          -1.2001953198664062,
          -2.550058975169803,
          -1.5609102360473242,
          -1.8902776392732568,
          1.6587543910014182,
          2.7931435870373362,
          3.393669730358818,
          -0.30781971693868365,
          -0.5170085720229923,
          -1.9380674914976461,
          -0.8915763547993782,
          -0.9886668262046704,
          -0.5696178874425257,
          0.8795324448096475,
          -1.144733415870366,
          -2.006545406729143,
          2.8205742097621758,
          4.028986191210216,
          1.7372253796499781,
          1.5655853810053775,
          0.07802122878737014,
          -1.8274876886852274,
          -1.9502075389529858,
          -1.735406529644579,
          -1.8699631356031987,
          -0.5644354650111926,
          -2.006112138560553,
          -1.7634140784138812,
          -1.872300894132352,
          -1.8639932204222447,
          -2.1058975606514703,
          2.9575397143169213,
          -1.923281220062649,
          -1.729194502848707,
          -0.33946039336051004,
          -1.481794743405715,
          -1.3648272900680107,
          1.6184380633196074,
          0.6731669759445235,
          -1.3981525797114398,
          1.4897707598582155,
          1.0157432689846022,
          -1.056850952974356,
          -1.7518249634932712,
          -1.2421958404602662,
          -1.9336938727708388,
          -1.759821704033375,
          -1.455552348294333,
          -2.108294479868846,
          -2.060666043906394,
          -1.4904194189397033,
          -2.073494506413842,
          -3.99375471846285,
          -1.7804503009224806,
          0.4188013767860377,
          4.0742528668893545,
          -1.654099602100135,
          -0.8706935586305736,
          -1.231104530128857,
          -0.07788453537429908,
          -2.4434013956713962,
          -0.07625660353628194,
          -2.1318590249117157,
          -0.16461671372417533,
          -1.7771222855258444,
          -2.2929023354570375,
          -1.2277075421191315,
          -2.427003125157998,
          -1.0198781946837492,
          -0.6385744256983847,
          -0.6162589382614421,
          -1.5903114999670271,
          -1.1226867924008352,
          -0.7780117610925477,
          -1.2418348568152904,
          -0.4187722487021991,
          -0.5887610453578069,
          -1.4255157505699627,
          -1.9236465210710891,
          -0.8321122702871248,
          -0.7103155395647759,
          -0.4545789745055097,
          -0.5006469673618126,
          -1.3433860165170095,
          -0.558688173507235,
          0.7183670596719588,
          -0.8757146430848186,
          -1.0684891129569074,
          -0.3791907206345882,
          -0.5255270518176559,
          -0.4899308370179321,
          -0.15972671026188417,
          4.813777021504078,
          -0.8690009426865858,
          3.3215521054488226,
          -2.579204212530708,
          1.5603981597326742,
          0.8888968989143615,
          -0.47690770582583414,
          -1.3173980164012016,
          -0.49625704700887874,
          0.3375764127658354,
          2.148755017920208,
          0.5205896223390922,
          0.0023903786712650464,
          1.4438543702229798,
          -1.7722920756714389,
          -0.21138765775075474,
          0.9097158032319783,
          4.844601565033676,
          5.6663841566613184,
          -1.9417108967056647,
          -2.1065509824092183,
          1.1407962580835325,
          0.23103463786948594,
          0.42561757819746565,
          -1.565711492393083,
          -1.565711492393083,
          4.244480994355996,
          5.176708744973619,
          -0.8596027093370087,
          -1.0270738870476315,
          0.37512427692022643,
          0.05181137151232473,
          4.582553845204489,
          0.5168944033678441,
          0.06057426972990363,
          -1.77849272556942,
          5.408174041012422,
          2.5327757019918757,
          -1.5302866131478012,
          -1.0610339222842122,
          -1.0947736380529198,
          -0.9227741339323364,
          -0.9605533109182783,
          -2.132240077056638,
          -1.6689001793002778,
          -1.4351673016485853,
          -0.7169772246162461,
          -0.9568264963416648,
          -0.9416875707314984,
          -0.4133385047052836,
          0.16883070258110147,
          1.43224934201698,
          -0.7813213297476456,
          -1.1271281147595331,
          0.6524595908390054,
          -0.6927403014042189,
          -0.6732878229230738,
          -1.141479992617013,
          -1.4892770702646914,
          -0.35535854852106735,
          1.8294487165805167,
          3.6560772718222276,
          0.7261799401622587,
          -1.8969714198549836,
          -0.4193939514430088,
          -1.2730663318838362,
          0.10397499296520978,
          2.096483641589663,
          -0.8776788935290596,
          2.529909789362585,
          1.0082003519061757,
          -1.8902776392732568,
          -0.4220782534476121,
          2.109005714349952,
          -2.3715612187519315,
          -1.044438834763485,
          -1.2311316155798786,
          -1.1776970800546378,
          -1.0345327312064307,
          -2.723466640316103,
          -1.7104420113557306,
          -1.9914059300228177,
          -0.6226927475906401,
          -1.0468527623234294,
          -1.2900248382332737,
          0.12309112973266062,
          4.652403689691263,
          -0.4046236413406729,
          0.44300179735362194,
          0.7869224265474071,
          -0.5605651851159845,
          -0.12843809243295384,
          -0.5314028806277058,
          -1.0238290888621415,
          3.174879734132036,
          3.8595387667647443,
          2.602623133165775,
          0.15833263461928232,
          -0.7710403655798271,
          -0.4995419530279291,
          -1.2938074605601015,
          -0.3580542688912635,
          -0.8371847600040486,
          0.23327622655162267,
          -0.08852138585591855,
          -0.6084691009396407,
          3.8798628593031754,
          -1.6480835900823714,
          -0.07920628817761156,
          0.18122554674263547,
          -0.7235894288501389,
          0.38067681393629876,
          7.226544609014927,
          3.4015397135220815,
          -1.4159279091453276,
          -1.9127960305645073,
          -2.017437359162994,
          -0.8956325749527951,
          -2.2603496043111893,
          -1.9407337361195276,
          -1.453939530842022,
          -1.9899331345222517,
          0.5563608894958333,
          1.3655741274589213,
          -0.6778354788931403,
          1.4872586279570368,
          -1.4237008451336228,
          -1.2748104198497454,
          -2.5524611671940156,
          -1.737566270810137,
          0.8903585804759294,
          -1.3514066895790273,
          3.6734951616390203,
          0.2389397954855053,
          -1.800938059715406,
          -0.69300827476307,
          -1.1302346153383855,
          1.0424609969554544,
          -0.3854930285215798,
          0.4808026898470225,
          0.36960151506622435,
          -0.24312431299061132,
          -0.3142989666133028,
          -2.122990542540929,
          -1.7729246995643377,
          -1.617369675471301,
          0.23810845387496857,
          -0.4833916699937414,
          -1.7273711551849713,
          -0.10198804553304673,
          0.5055144803084037,
          -0.7131430817527227,
          -0.8951228201123645,
          -1.0597890934720604,
          0.3674321547116676,
          -0.3275524799958203,
          -0.15392290335129066,
          -1.007975195906829,
          1.331226750839262,
          0.14879178398842177,
          2.59375764939242,
          5.280198100270838,
          2.612540123623396,
          -1.242918729466783,
          2.8834607480253336,
          -0.8454958932986624,
          2.1255631796368926,
          -1.2848447129982974,
          -2.3335290439494867,
          -2.3874608455512782,
          0.47081022186238536,
          -1.8703654091300093,
          -2.6048645631439262,
          -1.5249585479981822,
          -1.9311352130461594,
          0.15925914311312847,
          -0.3368542746747291,
          -1.723813220650062,
          -0.14523173932935973,
          -1.1513324744387907,
          0.5329054203221858,
          -1.961224910202728,
          -1.239929216376103,
          -0.921352042534898,
          -0.29344934812890344,
          -0.7878251517408997,
          -1.9817641589623995,
          -1.7244851503949101,
          3.925517286069737,
          1.5942931299634604,
          3.1863353179970506,
          0.9775969311537844,
          3.5867432508255237,
          2.6477450497993633,
          5.270217759644974,
          -1.7082485977385522,
          -2.199803980460221,
          -0.06578081779005278,
          -0.8368706284559649,
          -0.7854677175050856,
          -0.20916402742117815,
          -1.7085754585994828,
          -0.20916402742117815,
          -1.3997320777127067,
          -1.090959055413606,
          4.169466471505722,
          -1.3684630603624213,
          -1.932428367187304,
          0.11061706995923408,
          -1.8318071541194518,
          -0.959857138764153,
          -0.2019259178707012,
          -2.322482104084648,
          1.2956242638589623,
          2.4399389680424703,
          -0.003429977050850841,
          1.9689878707923276,
          -1.811039455868161,
          -1.2760228016973993,
          1.7512646091908481,
          0.04735484250802975,
          -1.4262864308855532,
          0.8119245867926487,
          -0.3351614731377255,
          -0.2885419144058592,
          -1.9135217129716566,
          -0.4450657468956569,
          -0.3898013592395599,
          -1.096560494649064,
          2.863244558695548,
          -1.0064366536641478,
          -1.6679956265557836,
          5.03707209719379,
          2.307251668789422,
          0.9817234747421222,
          3.0232908871047828,
          4.117010734472986,
          4.113361444554917,
          -1.7640887933065448,
          0.15200397301154597,
          1.010057474777607,
          -0.09826825918659698,
          0.7454678649645955,
          -0.07912913968776583,
          -0.5869929672815054,
          0.06137656758641613,
          -1.2493185544417882,
          -1.1625329569665992,
          -0.5446464357178704,
          -0.5257359411169926,
          -0.6973969041449737,
          -0.9719600477668996,
          -1.711392433741772,
          0.6626099536052527,
          0.3799066704611534,
          4.353172762386836,
          -1.7505111883218227,
          -2.6082819147952376,
          -0.7744430956484731,
          -0.29049845972909133,
          0.19347918400083938,
          -1.5005648417719326,
          -1.3802231760043528,
          -2.520149113309611,
          -0.674259069769008,
          -1.2280633296074597,
          0.42297421259544354,
          0.19347918400083938,
          -1.6139893679672448,
          0.24592070134157148,
          -0.9320241203449575,
          -2.0291882153646816,
          3.0861648235299484,
          3.289630235628951,
          -0.8430280926050712,
          -1.0191080260121523,
          -1.258131171944334,
          -1.4293847145323804,
          -1.2280633296074597,
          -0.8918518314853041,
          -1.1625329569665992,
          0.3320094024663939,
          -1.400615775117921,
          0.47495516260105486,
          -0.3285383111216559,
          1.2317234135229205,
          1.8982351464781353,
          -0.8272044736771341,
          -1.1182953375910354,
          -1.2140979999974268,
          1.410280915572893,
          1.1162558244140937,
          -0.9625261685035069,
          -0.22774342883917417,
          4.820483671447008,
          2.8066726781677933,
          -0.8910597762575799,
          -1.4197100225439543,
          -0.6373053624231059,
          2.667811075962948,
          1.3709647550842832,
          -0.8509927620370439,
          -1.1349369532310436,
          0.3083139857621747,
          -1.41832217564096,
          -1.1093252736015085,
          -0.7858824490959342,
          2.1433565649047126,
          1.6998034813955674,
          -0.5767423202391133,
          1.1753290502836984,
          0.7683249437917394,
          3.0672479686245686,
          2.1713827731880726,
          0.09109228763953203,
          0.1742419604951199,
          0.3190799364008105,
          0.5277083757468625,
          -1.5891418340117445,
          -1.8079063743752273,
          -3.0009494117128006,
          -1.5683430554100022,
          1.2531320966526063,
          0.48007880695773464,
          1.1470176346512195,
          -1.3095170917389256,
          1.5929388159834164,
          1.071042013249129,
          -0.6277790692076225,
          -0.7049891902633265,
          -0.36609949043409434,
          -0.48717640946067164,
          -0.7621598571323525,
          -0.09005428008473233,
          -0.14868520555969084,
          -0.2507783494082107,
          -0.7043224955062207,
          -2.109018269583258,
          -1.8793340708111221,
          -1.448327310431452,
          -1.6855200932596464,
          -1.8814813682552236,
          -1.4090316369170148,
          -1.8761815210993233,
          -0.411353476714059,
          -0.866203259858258,
          -1.584362410576006,
          -2.442834751812608,
          -1.002418949395755,
          -0.7470110613107912,
          -1.2099907754251207,
          0.8179688501593761,
          -0.32126428074581054,
          -1.1398522347318447,
          -0.84370182480357,
          2.0422528852061292,
          4.763938610263662,
          -0.8284168584098445,
          -0.6352570447275041,
          -0.8515059856345194,
          2.24617673416468,
          -0.398239292656828,
          0.6404987805565756,
          1.2643075804942294,
          5.199354627810799,
          1.8583829004360763,
          0.7197917125418752,
          -1.810091848086665,
          -0.051435894770323856,
          0.3738921019551174,
          0.761172710935076,
          0.8241113127768865,
          0.555084456587074,
          0.7400410988074475,
          0.43047588600987796,
          -1.1913376013534482,
          -2.0196290838920725,
          -1.0362298519507231,
          -0.626685897596573,
          -1.7617435578112315,
          -1.9484506333422866,
          -1.0008080358122444,
          -1.9465609399407129,
          -2.4761756352926865,
          -2.6575800924276187,
          -0.7988177186083172,
          -2.132364305711081,
          -2.5641686556704397,
          -2.1305638358695553,
          -1.0271095058981732,
          -2.271182762073556,
          -2.9955679707193235,
          -2.0137771473781396,
          -1.543760062900463,
          -0.5641657478210659,
          -1.9539615900671436,
          0.1353117746209408,
          1.524083050884102,
          -0.38979132753570006,
          -2.147249054111007,
          -1.7165767230653308,
          -1.710241656778247,
          -0.2945681091475025,
          0.6183200167275011,
          1.1050523168212685,
          0.013477089149457087,
          1.3552239026426238,
          -1.4987842085344658,
          -0.8367365709615106,
          -1.0892869241339989,
          -1.1815682360615907,
          -0.8359986265401645,
          1.8064229455207188,
          4.573522285535853,
          -2.389547203958502,
          -0.8875625801717644,
          1.5623932472527684,
          1.6129921406346892,
          2.3782870107067735,
          0.24814725641207505,
          0.8731453432239896,
          -1.7647645267425467,
          -0.13139150759423482,
          -1.612977308128734,
          -0.5758965096135341,
          0.07342012773008773,
          5.948310252700199,
          -0.26031174767671916,
          2.3439529774231604,
          -2.031774874687598,
          -1.3422308343188223,
          0.5257049943117356,
          0.2204243997714506,
          -1.4231533307505313,
          -1.9680325183749652,
          -2.4900041877896313,
          -3.6403170139945327,
          -0.7100689834528813,
          0.18037744575466463,
          -2.730779239010131,
          0.6051493269356292,
          -2.0122268085743857,
          -2.988237786590675,
          -1.9881226567087895,
          -1.1001811056752315,
          -1.6322560102481396,
          -1.5585212785368747,
          -1.2003769056176086,
          -1.1518035655172463,
          -1.5626575408762549,
          -0.7030185679656779,
          -1.510987856425023,
          -2.09497625640537,
          0.21820803727111934,
          0.28102092564734626,
          -1.5999015985109137,
          3.6364376718953966,
          4.377634569812745,
          5.517832620777448,
          -0.15593220469833363,
          -2.782354500681216,
          1.7058186045512953,
          -0.33256344644116154,
          -1.5606335978828194,
          -1.4666166729454664,
          -1.6720377493956835,
          5.050054496026233,
          -0.42113023519587095,
          -1.4156805781784714,
          -1.031017531753144,
          -2.059461933825433,
          -1.19931210025136,
          0.8418391167498285,
          0.5277083757468625,
          3.20005406046645,
          -1.0918956593169191,
          -1.6640321370290696,
          -1.7940379519331604,
          0.2675915444468304,
          -1.1761461616742355,
          -0.9236608800933439,
          -0.7383878592737926,
          -0.7370115676562269,
          -1.7260061487881728,
          -0.8276749826467558,
          -1.0981889258275142,
          -0.06860373314219148,
          -0.1984230049980884,
          -1.7252882884251943,
          1.9027041250642691,
          -1.2041377469320003,
          -2.146761574037715,
          0.5675226390225954,
          -2.737860585635957,
          -2.3646735229993037,
          -1.515905185254407,
          -1.1991820155424167,
          -0.23901879110390253,
          3.7555101009976433,
          -0.9172187524603747,
          -0.6027578678703437,
          4.365128553031849,
          1.3570526592632626,
          1.0610805001881745,
          -1.0918956593169191,
          -1.0918956593169191,
          0.3799066704611534,
          1.0507517772310693,
          -0.834722206299801,
          -0.4362902449973927,
          1.8393460147500833,
          0.9749323262388521,
          3.5998474603595287,
          1.3878500421641164,
          1.880899893264135,
          -0.24102161445379286,
          2.5242881418413687,
          1.8226454879784868,
          2.3824054687967267,
          2.7160711465674656,
          1.3400521098127443,
          2.067508571190601,
          -1.3774147805614496,
          2.1169017128094123,
          0.4725370812856806,
          1.7005090330279216,
          1.012413873477642,
          1.4638489861406858,
          4.517415285770569,
          1.6062390664664292,
          1.5090985483914174,
          3.328173071321646,
          -0.7586867391814031,
          -1.9710893785207468,
          -2.6279453478185077,
          -1.0959217221133755,
          -1.733034039336158,
          -1.5509421569582773,
          -1.9153264230825702,
          3.2865430676300704,
          -1.88530125983665,
          4.031929446383436,
          1.0917032949632046,
          -2.0995891751226234,
          1.6077515138179561,
          -0.7338996331495045,
          -2.3299231668522884,
          -1.6714994013804185,
          1.3227936929233723,
          3.224578804871138,
          0.8493078136160148,
          -0.8991050041159996,
          -0.2596369783110545,
          2.487845989688521,
          -1.0057381074581442,
          3.782652702099691,
          -1.9157679231230467,
          -2.0026233957398767,
          -1.6696448272331212,
          0.3515054625690083,
          -2.446048369204401,
          -1.7619019356353518,
          -1.6517774567678387,
          -1.623754762123405,
          0.8957766323986629,
          -1.86422867432706,
          0.05337344824099919,
          -1.64253446184114,
          1.3552239026426238,
          0.14624608874565317,
          5.858209721616872,
          3.7180312609607915,
          4.993793590175096,
          1.899945553962168,
          -0.8127854597663113,
          -0.9882751706880375,
          0.6321516301100985,
          0.013416667960795313,
          -1.2772504087424386,
          0.5751095293838532,
          1.8650579113698988,
          4.510568593122149,
          -0.08449905553375579,
          -0.24164638031297864,
          -1.9830682310610883,
          -1.8494850568377141,
          -2.507249276942518,
          -0.31208753852228266,
          -0.1979951627638798,
          -1.9132406824951997,
          -0.4667570855707586,
          0.5301321114835893,
          2.805989237136698,
          0.6503978876248571,
          4.008015267389638,
          3.000746418246713,
          0.30328525020158587,
          0.7826398955578464,
          -1.4792219052824107,
          -1.3563827742337013,
          -0.9660709260830584,
          -0.052599324175079294,
          -1.3776523091749273,
          -3.07252566359912,
          -0.47513563176003176,
          -3.026756059954506,
          -0.8325111872744707,
          1.7747900310136349,
          -1.028069158806706
         ],
         "xaxis": "x",
         "y": [
          -0.011146290126797173,
          4.498483040491565,
          -1.2584950530912478,
          -0.9316902391794372,
          -0.9998605575699315,
          1.4491987952161332,
          -0.1534910566635186,
          -1.0976948285917076,
          -1.2029511963611879,
          -1.6720710185825907,
          0.6245816077119476,
          0.35427951833409554,
          0.6218862595041167,
          -0.7257260770647126,
          -1.7533744258913726,
          0.0945600226465769,
          -0.7607765416859092,
          0.09023324070522962,
          0.6354891072036851,
          0.95492472994828,
          -0.8173396601849977,
          -1.2470979651002105,
          -1.0384504583107166,
          -1.8477530524364005,
          0.36640565879192877,
          -1.0939423326821636,
          -0.5130725914703957,
          0.19285191038163596,
          -0.408505834789024,
          -0.4019127768691342,
          -0.539036086835645,
          -0.5093297116411061,
          -1.5551823065201935,
          -0.3275202482615793,
          -0.11881659332814505,
          0.635908530078465,
          -0.5876810821821714,
          -1.6234813101233743,
          0.9261554472362558,
          -0.0025837146344429187,
          0.9482384115361031,
          -0.4325272360306119,
          -1.047723454678987,
          -0.588412794916777,
          0.10962376719394927,
          -0.17631562638303347,
          -2.2313108525205156,
          0.3421759568804064,
          -0.13393724871445573,
          1.8282937839211029,
          -1.5586608599510305,
          0.394137707022946,
          -0.16899555980659206,
          0.64028708481316,
          0.7535261568595851,
          -1.0071979202008552,
          1.2513815447321526,
          0.7283795254050479,
          -0.3155870920706922,
          -0.3743084277381318,
          0.6971582660739029,
          0.49078150228465434,
          -1.4496313293936156,
          1.402223715478256,
          3.1825154078065774,
          -0.13343620635138206,
          0.7231412843907878,
          2.43567323241277,
          -0.6624452959667965,
          0.8828610649268518,
          -0.45399742433685175,
          1.2895652026945403,
          0.702156950008604,
          -0.03212034941795556,
          0.15589311833335176,
          0.04483740558801906,
          0.7644853720457695,
          -1.870083008671787,
          1.9424014130733942,
          -0.5355532328520187,
          -0.710191652249406,
          0.6821340814378529,
          1.5096042889137335,
          1.0677125248492456,
          -0.20319345565050254,
          1.900070375991713,
          -0.9569272319374197,
          1.7957948181498593,
          -0.5045512816835335,
          -3.0351142354928866,
          1.1858743295178062,
          0.8760206158908872,
          1.065871083144339,
          0.8982598530428662,
          -0.10984688935739641,
          0.7719022721632358,
          1.1990816803218631,
          -0.05275616015040347,
          -1.8569894900465944,
          -0.3264355253289223,
          -1.6939481840668296,
          -0.1043879637646187,
          -0.14531043781235334,
          -0.49969689446459403,
          0.3260647888357172,
          0.5077876996618953,
          -0.050481471812170144,
          0.4746966598255543,
          -0.38797355248059956,
          0.9981145621078835,
          -0.06458868577411529,
          -0.1668060796051393,
          0.6183612930258753,
          0.34667897728901254,
          -0.8498816694047541,
          0.028285354530940412,
          -0.4309880876226707,
          0.9716433758065653,
          -1.0005494442087886,
          0.5665290125385658,
          1.1465811195268016,
          1.3964744337563033,
          0.43319264302379556,
          0.09286868670805365,
          0.2827170296635818,
          -0.4675119546435408,
          0.3005906656279894,
          -0.2568312192639151,
          -0.7082299299146104,
          1.9653556872423252,
          0.5402660920588396,
          -0.47330522451280777,
          -0.45905707493854064,
          0.1771284073532368,
          1.3226057430132443,
          -0.1836457211918563,
          0.5715418725763874,
          3.1825154078065774,
          -0.22520769265871168,
          3.3372777729058667,
          -1.178701656053363,
          3.3372777729058667,
          0.8919286352285128,
          -1.662122934101517,
          0.912651891687272,
          0.04544220504715594,
          0.15799090914534802,
          -0.3881116746652951,
          0.76938410678623,
          0.31652003537511103,
          1.5899977353431354,
          -1.9047868000468384,
          -0.9570850389300131,
          0.22303451284726264,
          2.105384987244776,
          -0.6995465461225084,
          0.7111076327776102,
          1.009240171419462,
          0.32381188266964567,
          -0.1631943487323809,
          1.040437590492314,
          0.6564793989659158,
          0.3951741514894218,
          1.2410104338213055,
          0.37695909322640636,
          2.4618886452370736,
          1.2357005578886235,
          0.26347434069351006,
          -0.31498030623084244,
          0.5105081730241835,
          1.159787695039183,
          -0.15864705407278767,
          0.2960584459910366,
          0.08484118937578759,
          -0.7467089182464847,
          2.211413217937467,
          0.08320541248182223,
          -1.0443441784920717,
          0.19123446817488532,
          0.6089226265344307,
          0.7789952619638951,
          0.9523723915944748,
          1.029639140542469,
          -0.3626701596053856,
          -0.9711390263760882,
          -2.642486423345226,
          3.103331962225936,
          0.21619308773179627,
          0.014957619740982043,
          3.9190384728573644,
          -0.5723148273970239,
          -0.9986452552999855,
          -0.9516486023188426,
          -0.6906988660514813,
          -1.1840841818426262,
          -1.3006189908905754,
          0.5947979963623247,
          0.08054162638613725,
          -1.8790387512323197,
          -0.33885212574193085,
          -1.6309491743985556,
          -1.094171516568639,
          -2.446461747927904,
          -1.1407059930266386,
          -1.8453286786660485,
          0.6507379346285544,
          -0.4711808757008188,
          1.0197325913084703,
          -0.27336515637365194,
          0.01736778019528466,
          0.7744178910726982,
          -1.1653490752846136,
          1.582927537076041,
          -1.2845530401926466,
          -1.3462327707720674,
          -1.1924586912170814,
          -2.355220982919509,
          -1.6350920282524655,
          -0.7943134394819921,
          -1.594801518791131,
          -1.0367744163767698,
          0.23834202586569464,
          -0.9150329918104071,
          -1.6791143643828972,
          -1.1140081837787799,
          -0.42641535088457755,
          0.19720315170070218,
          -0.7675781583836265,
          -0.6634064026910831,
          0.018494863427140303,
          0.03239395742923453,
          0.5429849610833277,
          -0.5502293308844957,
          -2.5877559470825333,
          0.07003755588593069,
          0.7387646468178284,
          0.8517448089595101,
          -1.0045392123559682,
          0.022744918930617093,
          1.1028840070236046,
          -0.9711482695074373,
          -0.5747759434969211,
          -0.7041665708533775,
          -1.259029077696485,
          0.5110837248386942,
          -0.4473929302746726,
          -0.7770987572885044,
          -1.512809806131731,
          -0.010119072281300684,
          -2.6565170442836554,
          -1.8578537653499587,
          0.029678348751541093,
          -0.4881176600840491,
          -0.46263501008077207,
          -0.6323213193002089,
          0.8689648267049019,
          3.240477508030485,
          3.240477508030485,
          0.02389228731725173,
          0.6703963948146906,
          0.799662743159946,
          0.5833737164149397,
          -0.11689578549234761,
          0.7123683209024178,
          1.531094807331235,
          -1.6069800221607178,
          1.855994257066207,
          0.044375399803954725,
          1.2105451052359506,
          -0.6133121765032449,
          1.0809283795560027,
          -0.21205336988886153,
          -1.181891002333824,
          -0.7775444494726191,
          -0.623408822738387,
          0.5694778943370098,
          1.717518937021364,
          -1.0189490622171717,
          -1.118097633957594,
          0.5457794249420214,
          -1.2203204394225369,
          0.8906898331423558,
          0.9608276029309002,
          -1.2672613034227602,
          1.6835784222939036,
          -0.7047166607825172,
          -0.6445389710374191,
          1.7118067203121343,
          2.070033591790965,
          3.774095350032427,
          -2.526402043882354,
          3.027705154585712,
          0.7863022708009527,
          2.853662751981009,
          3.774095350032427,
          2.0513570557630856,
          1.4012277428553168,
          -0.9266969511957184,
          -0.6326476919953281,
          -1.1279563071617367,
          -1.1810383810275704,
          1.9575377687744175,
          1.997968362379851,
          0.06784792539787135,
          0.5362425827548236,
          -1.4777415250203854,
          -1.9777901671231999,
          -1.1096645491064119,
          -0.7895282956595097,
          -1.4068333771286483,
          -0.8359585182991249,
          -1.5475653090429051,
          -1.204676248070082,
          -1.6143833336086209,
          -0.5314998546403836,
          0.18027712010472163,
          -0.7320794166920258,
          -0.03506686939659839,
          1.9807742361710294,
          0.42232942329204265,
          0.28360676072867214,
          -0.6255932639365441,
          0.7112353207108733,
          -1.1077101885611715,
          0.48824908011310647,
          -0.2279573044765768,
          0.19717824977674192,
          0.31503199804627113,
          -1.2672613034227602,
          1.1177165541627057,
          -0.4457172777483628,
          -0.8138693535483432,
          0.3178642790899862,
          -1.1464663024558044,
          -0.1771416100932782,
          0.34844421110532126,
          2.4064049724463237,
          -0.0003525217776443877,
          1.8873203415832405,
          -1.3725204164548321,
          -1.2657688377536704,
          -0.6949733179444149,
          1.8873203415832405,
          -0.8101213187323114,
          -2.918341516468286,
          -0.915140257671538,
          -0.9894869373615416,
          -0.29923272082723973,
          0.47601987186311073,
          -1.5094498562717868,
          1.8873203415832405,
          1.1113603909961727,
          -0.3749760147515901,
          -1.2545771481814074,
          0.9048464943469018,
          0.1449198321361031,
          -1.0798413560153641,
          0.8958070512138084,
          2.060755763387276,
          1.338069490666645,
          -0.7927850799344968,
          0.7801239402947849,
          2.389002631678658,
          0.010923878415341912,
          -2.7011628810914075,
          0.3071600666562877,
          0.4060177721073572,
          -1.7931461706698162,
          0.6582528726690459,
          -1.5634644260717665,
          2.4150542414887286,
          0.5843336029259844,
          -0.6038418556220863,
          2.282537677712433,
          0.534822832872083,
          0.4434997849539599,
          -0.651511808935785,
          1.053350465893429,
          -0.05684593511018126,
          0.766707236906701,
          1.9924299245585106,
          1.6650019235103017,
          0.09891338575271896,
          -0.2103044597197806,
          1.4049591878689247,
          0.657298713180155,
          -0.7572609888099865,
          -0.4289788550163659,
          -1.166382725543877,
          -1.0375737857811516,
          0.3177602599695211,
          1.1770272825990244,
          2.522013302298845,
          -0.35565697175471594,
          1.2739159471111898,
          0.12552664107296144,
          -0.044436888535213534,
          -0.9598826795695862,
          -0.999461769410369,
          -0.17192238560156653,
          2.0825047669647545,
          9.808615665275756,
          -1.910999536388004,
          -1.5953448853504644,
          -0.20772046078352624,
          0.38379843657746565,
          -1.6622338726879475,
          -0.5449138158015002,
          0.392604211401561,
          -1.0816366373679906,
          0.25331032353654354,
          -2.3938747210539626,
          -0.4715012759360976,
          -0.1756116728172233,
          0.7451440430086272,
          -1.6873495018786022,
          -0.20380451675243186,
          -0.6772495315786101,
          0.451544115902795,
          -0.4727486064660549,
          -2.61247889452299,
          -0.5263262266185553,
          0.8079535533547791,
          0.11383168486562976,
          -0.8406691236039714,
          -0.07662975110137563,
          -0.5132639481080143,
          -0.5820581328286757,
          1.4966189151479754,
          0.21591294181917262,
          0.8749333087385145,
          -0.4958347243325944,
          1.2667969389178961,
          -0.6352214968617711,
          1.7116862484490931,
          -0.059813117058138715,
          -0.6497724736162314,
          -0.6584021042342942,
          -0.11984531532774528,
          -0.64989272169387,
          1.6583247694069474,
          2.0021393264062293,
          0.10467094944933172,
          0.12593071239530537,
          0.9211842808505293,
          1.1566985880876242,
          4.137971827721912,
          0.4510339910091278,
          0.7392753979079736,
          0.7802223761612859,
          -2.00101153009077,
          -0.5462424385825616,
          1.2886913072683874,
          -0.41389348527970843,
          0.5142060333389609,
          -0.19834002790450117,
          -1.1325191168425939,
          1.088833514659237,
          -0.8852774981108719,
          -0.2595736667103267,
          -0.3365596012460394,
          -1.4383020605948778,
          -0.8553689297851278,
          2.037415663490338,
          -1.0849805099308236,
          -2.6249725104295543,
          -0.2911849371881071,
          -0.9406771827196861,
          -0.8619638727305524,
          -0.7446552433346819,
          -1.5806404300447323,
          -0.2454019965262026,
          0.16613234798095416,
          0.2552234665149251,
          0.8974807722274418,
          0.6208671719375576,
          0.2805925306926612,
          -0.6340873085014078,
          1.06618517628319,
          1.5503964871266398,
          -0.7612398420860184,
          -0.06922749235527297,
          -2.1577156365998027,
          2.1872713095154,
          -1.3215548520622258,
          0.7356238326523751,
          0.7673642510824725,
          -0.06979929244776001,
          0.48866766504332393,
          0.26698121988756757,
          0.7328123563979604,
          0.5861214875061438,
          -0.9953858151396159,
          -0.17759522520563922,
          -0.676411689375335,
          -1.2989213224117384,
          0.8921496309187883,
          -2.2675364797362874,
          -0.6406026434243622,
          0.08160718107044312,
          0.7976536903440758,
          -2.5319163057702347,
          -1.0799014176355546,
          -0.1961558696932143,
          1.1384170320766434,
          0.28707549080251443,
          0.4226851034531926,
          1.5804058973004491,
          0.7663364597659541,
          -0.6146786963745652,
          -1.1175193421862726,
          0.6785761172927768,
          -1.1806363394390704,
          -1.2359788765089321,
          -0.3195532424962468,
          -0.3744071069079035,
          -1.8640708749147719,
          -1.7773287436540248,
          -1.9813608548146229,
          0.2570733598340717,
          -0.6155426574374895,
          0.2429255993826803,
          -1.1616324224085028,
          1.895862279855882,
          -0.33566063651685685,
          -1.0694624857178243,
          1.751315852076819,
          -2.436794523799688,
          -0.7722764505011078,
          -1.181098950044977,
          1.931705228903824,
          0.5716358610330148,
          -0.4666957497791028,
          0.7085487574433719,
          0.28161800267876,
          0.3907796891399573,
          1.866457264485949,
          1.2570515395744692,
          -0.0259899277972713,
          0.0829236931600092,
          2.2125582507039696,
          0.3250617645608749,
          -1.170308711210886,
          0.27426832099095055,
          0.7085487574433719,
          1.1437392895821457,
          1.3752645944313229,
          -0.5836498678916453,
          0.19823214236746242,
          -1.6148947810199707,
          1.0620864810567907,
          -0.9361637998069979,
          -0.022866776118987072,
          0.661353791307604,
          0.3853063184308256,
          1.2299781646381975,
          -0.07782348751577094,
          -0.15923645755136498,
          0.462791310291956,
          0.8672704536836471,
          1.5854835718191602,
          0.7367549070529658,
          0.714068273912595,
          0.9688369678118371,
          0.25126802391534414,
          0.5132039117659942,
          0.8372222203501731,
          -0.35736707481577673,
          0.7717816493277028,
          -0.6074502986415973,
          -0.2694611797895195,
          -0.8556227790287778,
          -1.1068158657389353,
          0.18685711887944514,
          0.6816277954199113,
          0.9788842536594291,
          0.4520838728502247,
          -0.7983021441809098,
          -0.13385525664812825,
          -1.3796314186286869,
          -0.21078138640284194,
          -0.9811799170595041,
          -1.331994816318074,
          -0.19328093980775135,
          -0.27708365578956207,
          -1.9783775271564628,
          -1.373892753389269,
          -1.2024447361796216,
          -1.308069457661719,
          1.7650475397544325,
          -1.1229156368814162,
          -2.7309258321583556,
          -0.8706224842112565,
          -0.5243173469086181,
          -1.109747986361623,
          -1.230803983194946,
          1.1494624022273854,
          1.964197765747777,
          2.178529382318973,
          -2.813561060773164,
          -0.4446860762774546,
          -1.3634716348410438,
          -0.6220149462494262,
          1.0416800370699897,
          -0.39521771665801936,
          -0.1944946955358388,
          -0.3852608354914716,
          -0.06318642030526916,
          -0.06793988912861057,
          0.047525272443751494,
          -1.2880149374051069,
          -0.47422450868317256,
          -1.38153115997217,
          -1.499128273457779,
          0.10597497457687956,
          1.2977230389711811,
          -1.4864565185645977,
          -0.04309271241806836,
          -2.3328311797700803,
          0.9425352116267058,
          -0.9782852103707468,
          -0.8375933378434276,
          0.24182119457517592,
          -0.8490077081291284,
          0.0673753083103227,
          -1.1745357862551733,
          -0.6271315392818463,
          -0.5770669957486689,
          -1.3448712697469216,
          0.2319654410246683,
          0.8445197390903216,
          -0.402900989787209,
          -0.0057362143611147,
          0.4499143340358749,
          0.6750056141422746,
          0.28269214284247407,
          1.2696072180370295,
          -0.48718018052216006,
          0.6108104896236398,
          -0.49485873149140974,
          0.11817817238234611,
          0.7334875142917925,
          -0.5180917961506758,
          0.18106416040857937,
          0.7146230917208742,
          0.7428997971628294,
          0.5593656303835174,
          0.48490533108278494,
          -1.0171259983707666,
          0.3878104905547127,
          1.6226377843395527,
          -0.178097047943349,
          -0.1247650364677415,
          -0.2961779604109379,
          -0.2737989226362735,
          -0.926884148071308,
          -2.03801011223044,
          1.4506337137912282,
          -2.057908520167523,
          0.03302731056233793,
          -0.688735696252969,
          -0.5190815328898664,
          -0.7472663186110942,
          -0.8682390206907902,
          -0.23433916561783433,
          -1.4053392824479507,
          -1.2981861098400014,
          -1.112746750628704,
          -0.9768526143068144,
          0.6741636247927272,
          -0.9814765781246869,
          1.093412714895332,
          1.1383910108144235,
          0.06965396958828225,
          1.9959801067556247,
          0.9755122541602327,
          0.6623848700199332,
          -0.8861233320777789,
          0.702156950008604,
          0.7363870858767181,
          0.23300896490671968,
          0.15532837478584421,
          -0.7151335683911901,
          0.45346230447626024,
          0.5953873912830439,
          -0.12083862405770027,
          -0.790467753210399,
          0.7442943549477136,
          -0.5173945461923823,
          -1.3671815537397145,
          -2.164760686281042,
          2.4065757701891557,
          -1.2491142295755044,
          -1.7138057454863629,
          -1.1199854719256765,
          1.601971055773225,
          -0.7298052345060039,
          2.6962725990358916,
          -0.35149643953172766,
          -1.7024709074298858,
          -2.6028083441033263,
          -0.0018618573810404123,
          -1.6785787472575258,
          0.17100843015583927,
          -0.26644865112001126,
          0.07288441826828242,
          -0.5148061391081222,
          -3.652147331222935,
          -1.5229955970088482,
          -0.3615044442366959,
          0.33209914601970064,
          0.06386128061297898,
          -0.06798773550581418,
          -0.06798773550581418,
          1.6600878927881164,
          -0.549923070913889,
          1.1657589760111908,
          -0.5731714708818121,
          -1.6661836834923502,
          -1.4165624627850504,
          -1.4308328180936034,
          -1.1943971753589024,
          -1.427409520873935,
          -1.151120997077036,
          -1.486919097107158,
          -1.5228713473950592,
          -1.4516382091534203,
          0.17590165038654879,
          -1.2007541057312023,
          -1.1574513304114853,
          -0.8775905383634279,
          -0.5753777267466679,
          -2.0477466943732643,
          -1.2612019677118798,
          -1.6578915972040715,
          -0.9738377876979705,
          -1.3021828325620162,
          2.030428652041029,
          0.7354293886633664,
          -1.4150905188260006,
          0.554564488319793,
          0.4961085640844223,
          -1.43056396379872,
          1.6075802808416404,
          -0.801228479828744,
          0.6747351899313608,
          0.1219465488588975,
          -0.09902124256603802,
          -0.06924925887923117,
          0.671553659668955,
          -1.1968649079150155,
          2.178529382318973,
          0.7120396547541842,
          1.0719117293829017,
          1.1478520740596847,
          0.6481283190597532,
          -0.596096602505418,
          0.2210938757975782,
          1.9766866328626063,
          0.06676449711305232,
          0.9143713972798152,
          2.846770826534305,
          0.1470187709122605,
          1.2816469698098112,
          2.846770826534305,
          -1.940794020637526,
          0.04594027856043174,
          -2.106243615014696,
          -0.747307781849699,
          0.3813305370708722,
          1.1563480223931888,
          0.09832857235024049,
          1.3195450645550806,
          0.6838502211062971,
          0.9286327150239234,
          1.2197449477602853,
          1.1812618877138932,
          -0.24626779839357088,
          1.0543507232367988,
          1.6346249482684623,
          1.1208526375187806,
          1.1665004006106938,
          0.35920488968032666,
          2.9368444395740787,
          2.3594110153431482,
          1.5909270645632696,
          -0.21910571865285208,
          2.2780569687552235,
          2.6215188359867794,
          1.514944642186652,
          2.1521154668475497,
          0.3527371550411666,
          -1.5239595469806988,
          0.8283125934152248,
          1.4516358923430022,
          -0.07205021415422837,
          -1.1760735761202983,
          -3.198217865125086,
          -0.8201818438122835,
          0.6486029919662065,
          -1.8391905524002907,
          -0.29583327844079427,
          -0.08593625358313053,
          2.1616477161589396,
          -1.5566511731330432,
          -0.19148102107685794,
          -0.7299870431004443,
          -0.7726676252422112,
          -0.8789815373159128,
          2.5965949403301276,
          -0.9684721849669095,
          -0.01241592277376757,
          2.777631799250744,
          0.008146240049375782,
          -0.12915323542917898,
          0.6678652880289543,
          -1.5107021703796666,
          3.0731493555380647,
          -1.4438610416065303,
          -0.5025097048772126,
          1.3242077355585735,
          0.5827095805282642,
          -2.1973568753736137,
          -0.14753873569748557,
          -0.48809535255463815,
          -1.3450083943612772,
          0.32685326130838577,
          0.8459249238174441,
          2.2524644820304025,
          3.3049931546089653,
          0.03839524739570366,
          0.9816545686601071,
          -1.7461053753967257,
          -1.4139744288995435,
          0.105986703227363,
          -1.1229631780375926,
          1.3844106892201404,
          -0.1616719729889377,
          -2.254469623879281,
          -0.6869253409334312,
          0.7902407593582295,
          -0.14973732308850887,
          2.0284456703648424,
          1.0809283795560027,
          0.2532824348560142,
          -0.1398698040763773,
          1.5193532518080073,
          -1.550757623570253,
          -0.8088935101256457,
          0.15044670458467294,
          -0.0450023401891383,
          0.18720132576081025,
          1.2968594264079607,
          -0.46262401581710355,
          1.098818071185377,
          -0.4246271861727907,
          -0.8185606053174715,
          1.1197926281004658,
          -0.6119842950529564,
          0.2947456189667932,
          1.4551038711161866,
          -0.41001794748550274,
          0.5691942254362469,
          -2.5905991500480128,
          -0.18202951374809329,
          -0.8607013036745832,
          -2.2960756072603266,
          1.316707646587883,
          -0.27251690398117384,
          -0.5566738862996007,
          -0.7152170885868814,
          -0.7028362760612346,
          0.06303033231618417,
          -0.9902208730061534,
          0.019724106704529825,
          -1.5601392302159744,
          1.2645522348952962,
          1.7383022229355838,
          -0.2495732285193383,
          -1.0702528843505672,
          -1.2844295150086966,
          -1.2464356433071089,
          2.299329986298233,
          1.164124599275633,
          0.7015448503931612,
          -1.5291054878331383,
          1.2451125043197098,
          1.2631399169680353,
          2.210371436006021,
          0.8690317957680911,
          1.795329532167906,
          -0.22799795098332157,
          1.035496693630143,
          1.747185016862292,
          0.6393512413680993,
          2.732274605758199,
          1.938569561698777,
          -1.4797811365083349,
          2.626893231713908,
          -0.9871339708869414,
          1.5030130287038044,
          1.0529794513877142,
          1.2377964378668704,
          1.3964744337563033,
          -0.4050203930043903,
          -0.9982484808587208,
          -1.5468837439767482,
          3.1825154078065774,
          -1.5412634785360075,
          0.8001407315361073,
          1.6262958353849495,
          -3.438988591761617,
          0.575393862189473,
          2.2122163894790035,
          2.4836772733523014,
          0.5885938945441708,
          -4.121183392702431,
          -1.3940325838598715,
          0.7540240214844227,
          -0.932172544535235,
          3.028110069143331,
          2.2881131630279694,
          -0.40786311925112767,
          1.1182369660441585,
          -1.3045923139922604,
          -1.0114715054304504,
          1.4550998217037512,
          -0.11640318223676024,
          -2.4161106590600308,
          -1.979628892770845,
          0.16213361299954085,
          -0.468287527262569,
          0.5913167294180844,
          -0.3108898220591151,
          -2.520090736976857,
          -0.09431542449179633,
          -0.13783072116580322,
          0.6444051988424113,
          -1.1620644660524457,
          -0.5610637779327748,
          0.23168889026857917,
          -0.5581193468046418,
          0.21538909230151376,
          0.3865471295851929,
          0.9889416595795397,
          0.7515095953074565,
          -0.23329405373395604,
          -1.2297478871028986,
          0.8201643769410957,
          -0.1588204344203928,
          -0.7565388853115691,
          -2.1120286151716208,
          1.8405369669807907,
          0.5764743024800892,
          -0.691496947799172,
          -0.31577070586742345,
          -0.8810996699177834,
          0.8021470798848581,
          0.19347997695700755,
          -0.4260196653524402,
          -0.5943416563048247,
          1.429187287610042,
          -0.16409245911004566,
          0.8120993643015327,
          -1.5026498422538623,
          2.5987795097546713,
          0.5293587436794348,
          0.7783608326259301,
          0.6238136690580943,
          -0.12191949193504525,
          0.26791616106380733,
          0.4237906487477497,
          1.068640816938226,
          1.4026574288018099,
          1.3879816561431055,
          -0.21462188479536567,
          1.5320826718596159,
          -0.6503647631977201,
          1.302203303034631,
          -1.3393116405859733,
          0.09681015173227737,
          -1.3155880062177105,
          3.283644768299003,
          2.799421051795825,
          1.3470804164822874,
          -0.1810184569086152,
          -0.17543690178552085,
          0.6064345226532627,
          2.777631799250744,
          -1.8230617493286432,
          0.1305772910259894,
          1.231384500869601,
          0.34660452160358945,
          -0.09832938999495917,
          -0.09436777659232526,
          -1.841897072198435,
          0.557026561236067,
          0.33874116018653844,
          1.0151455031556116,
          0.7643506416929162,
          0.08291424450270425,
          -0.10603512351487257,
          -0.04999871550889691,
          -0.8471965335775009,
          -0.7625426989529588,
          0.44949717893278457,
          1.1125741175253265,
          0.6084618967296089,
          -1.254127843863857,
          -0.6314035129261321,
          1.2962849057650532,
          0.24621207217738117,
          0.05394140392632455,
          1.495655414498419,
          1.78999100193421,
          0.47066581613318137,
          0.519657362120604,
          -0.09702344877198418,
          -1.6289827036759463,
          -0.1476210353558328,
          -1.0538483392871953,
          2.5754738973101445,
          0.3269827008452058,
          -1.0584835530918615,
          0.281029214686492,
          1.479534626380903,
          0.8726252657977538,
          0.019121467791144917,
          0.8287698711128355,
          1.13783680961757,
          0.2635445790927009,
          2.2707965426279655,
          1.3077206199092628,
          0.8185767880870031,
          0.6650768549335058,
          1.7874380723812975,
          2.0664051307236853,
          -0.3463926836305305,
          -0.8577415633782175,
          -0.3466429693933364,
          -1.092281704365108,
          -1.3118166173906045,
          0.8976326080505257,
          2.5385277673135582,
          -1.187038771794918,
          2.786982618493673,
          0.25451437231873375,
          0.3893614766752027,
          -1.1071412055199372,
          1.6107705074878267,
          -1.1739525088554212,
          -2.061682013256684,
          -2.805394596387118,
          -0.8831663371685486,
          -2.063367899423589,
          -1.798761671719024,
          -0.420731475326982,
          -0.614802421329078,
          2.2743934499220626,
          0.1859934865096018,
          -0.5898593904191541,
          -1.20181994659627,
          -0.11050871698376961,
          -0.5749320975573823,
          -0.6406026434243622,
          -1.3543005202399963,
          -1.5725660924038996,
          -0.6421207488010787,
          -1.7657936503406604,
          -1.4009596285162949,
          -0.5103533356941555,
          0.3136669597306115,
          0.1014872054628046,
          -2.2277616611461646,
          -2.166398930590745,
          0.9798370766144208,
          1.293339715641768,
          -0.18737478514681205,
          0.35437199497886945,
          -0.49404574101390536,
          0.40820241461265644,
          0.07545889725108104,
          -0.020097489442544456,
          -0.523275508107559,
          -1.1151845701111438,
          -0.035245472188085485,
          -1.7256356053318536,
          2.5653555509713493,
          3.7855980781445613,
          -0.5196969124319148,
          2.022522949103085,
          -0.3273361120999738,
          0.9020944113643291,
          -0.9310219539819888,
          2.5653555509713493,
          -0.9971014093097113,
          -0.2976292993379711,
          0.3241034095638732,
          -0.39729658274353225,
          -0.2918528030421977,
          1.2589704060075453,
          -1.1152716845022297,
          -0.606832770998988,
          -0.019608718525090336,
          1.8576890270533728,
          -0.44601320040822673,
          -0.08888667464901458,
          1.2226267391788161,
          1.3180419447934686,
          2.834779660631981,
          -1.6881739103057385,
          0.8702582499121669,
          -0.601632959087163,
          -1.652021668228838,
          -0.6742172913753641,
          -0.16801077379186827,
          0.6829368856863997,
          1.0166141420885233,
          -1.1573513700831808,
          -0.9920311725425541,
          -0.30940759541017615,
          0.27314354771894644,
          0.01583870155865941,
          0.7240235934694043,
          0.870708059204128,
          0.21601977979558182,
          0.4183086601789258,
          -0.7748456390260202,
          1.6700907754335637,
          0.2147123427348231,
          -1.173344783806561,
          1.0707460862605025,
          -0.5757347764161665,
          2.7914806372152157,
          0.8073484220482431,
          -1.0511858033336996,
          -1.1638906002201044,
          -0.9323783000383244,
          1.4338452229528564,
          1.5482517667523985,
          -0.8243053696849123,
          -0.21727761748933275,
          0.7408819707686032,
          0.7766444874755661,
          1.2466074522256256,
          0.7996077501042808,
          0.7098984500909348,
          0.15738238233608817,
          0.8291981600164927,
          0.41152118484001027,
          0.18507012194701344,
          -1.069988920233642,
          0.5477835991559195,
          1.06679266797011,
          -0.8775491680441367,
          -0.4112771774398263,
          0.09562702241928724,
          0.07627133581846425,
          -0.4121154042046895,
          1.2651376595429609,
          1.1350518360935875,
          -0.06337771493283624,
          -0.43546201406257273,
          0.7196787549342666,
          -4.402578912524456,
          1.9687208683682593,
          0.6555126013851383,
          -0.05604008805531346,
          0.36014843924403606,
          -0.3393310530515708,
          -0.05618864061894622,
          -0.7620360756541428,
          2.2765844364760226,
          -0.18097852487375118,
          0.04741030706685273,
          0.997778186213903,
          -0.10368604875802616,
          0.08477651925558406,
          0.8612425944740149,
          0.7906107892066139,
          2.2221531688980294,
          0.9271137572827842,
          -0.933076573827795,
          -0.8988029806520111,
          -2.3137946958989066,
          -1.2620312997889218,
          1.531094807331235,
          -0.46980024727535485,
          0.821528685207602,
          0.7262953082237068,
          0.3474608869182141,
          0.19331601407251908,
          1.403020925701328,
          1.4136472750859461,
          1.4846899884981624,
          -0.31071788634396014,
          -0.10512270723039183,
          2.7885881960637877,
          0.6942665279067882,
          -1.62212051681967,
          -1.535889125896973,
          -5.390230091324026,
          -0.05382714583808624,
          -0.2898665417593305,
          -1.2603822989769273,
          -0.7803224545641397,
          1.5051495770311576,
          0.580311250117596,
          2.086664936649371,
          -0.18161001740644378,
          -0.6501600677716765,
          2.8005081295505803,
          2.010684631814508,
          1.0261929757046147,
          0.8826209995591437,
          1.4018861885732563,
          -0.16219622891775745,
          0.25599546097227616,
          0.8691497060902618,
          -1.5011848488732105,
          -0.3200597277327525,
          -1.2944994042026114,
          -0.5456178840144872,
          1.8888243208696942,
          -0.572939617888905,
          -1.4908371626662966,
          -2.189821710772722,
          -0.697981637865361,
          -0.23905295474811653,
          2.409294352998539,
          0.9257675849876761,
          1.5566745603483771,
          -1.0069374967242817,
          1.0084966732206206,
          0.9323963957092452,
          -1.0527303276752806,
          -1.237306474288757,
          -1.061956511129073,
          -0.5555449222733311,
          0.9788842536594291,
          1.0408259298766698,
          -2.842826397149761,
          0.518048852961128,
          -1.6905110652741515,
          -0.326288511141701,
          -2.130031613612812,
          -1.127816890727585,
          -1.281563485961725,
          2.4684970360729053,
          1.0838583358054026,
          -3.134978290334297,
          -1.6413306810627124,
          -0.4525027847066123,
          -1.9522743211029703,
          0.4836229107519151,
          -1.4563425687414298,
          -0.10987314385041631,
          0.615857613709946,
          -0.5868950184257312,
          0.5769079407121155,
          0.9088328834540121,
          0.9740543609654353,
          1.4055402227803455,
          -0.45150411441299704,
          0.8918181728173368,
          0.8975360796648457,
          -0.6621999979037606,
          0.9635875557455962,
          -1.225200516924063,
          0.8707039875644622,
          0.8253771930222114,
          1.0561426926150888,
          -0.9405407931339566,
          -1.82878283868425,
          -1.354012449305034,
          -1.6069800221607178,
          0.3460117677467249,
          -0.482243700361702,
          -1.0797421576520245,
          2.049442378801734,
          -0.6863589864441048,
          -1.2312058155561383,
          -0.4408077734631767,
          1.9103928827399066,
          0.032705837403535054,
          -0.20996796039133564,
          -0.628958076477487,
          0.51053594409058,
          -0.9591936739663619,
          -0.6258817633061418,
          0.06520142346467717,
          -1.7822998845983415,
          -0.8405755615134092,
          -0.6824369774306217,
          -0.30506673575070503,
          -0.6683855409374193,
          -1.2952094103434582,
          4.8265599313504195,
          -0.3360372733285933,
          0.5404265351754707,
          -0.12259444631687204,
          0.4040503109581138,
          -0.43068633033444936,
          -0.24231908854981182,
          -3.746303915498802,
          0.39035402921086204,
          -0.3559583563930901,
          0.060018862612227254,
          -0.8933600247286158,
          -0.8933600247286158,
          -2.0865163953577044,
          -1.7010795872307352,
          0.26067694030080074,
          1.0922593933929892,
          1.234550675135648,
          -0.48824078778517016,
          0.4524186313225967,
          -0.839972136355236,
          -1.5610763688475249,
          -0.5750562636036334,
          -0.838130173182861,
          -2.7309258321583556,
          0.787493975628426,
          0.4911950927440087,
          0.3774487375210174,
          -0.9967827441174423,
          1.2010413815187748,
          -1.6818591537753704,
          -1.4601155094272065,
          -1.4601155094272065,
          1.2010413815187748,
          1.0670428479199021,
          -0.45679465998486146,
          -1.224537885100138,
          0.6475400473459336,
          1.7194337387580423,
          0.4721520501796555,
          0.13514671558855165,
          -0.2806337788637906,
          -0.3541260846265739,
          1.031857393080046,
          1.7208456743530536,
          1.3009344093014217,
          0.47899759126323566,
          1.869734898114157,
          -0.591482861428704,
          -2.0590376645165507,
          0.2675743062137776,
          -0.9853266239471626,
          -0.4604816004754519,
          -0.5391510807840081,
          0.9443175429761832,
          -0.25995302986961444,
          -1.0649853089126,
          -0.23905742054502416,
          -0.7345811253619418,
          -0.08720400421957779,
          -0.04894204937688668,
          -2.865759634712717,
          0.6414594616910246,
          0.6520037893508133,
          0.27478687873120405,
          -0.08784013708631067,
          0.6768356895737325,
          0.359206748585269,
          -1.3101377947307855,
          -0.0695641011868136,
          0.2187562703895296,
          -0.1065864426828133,
          0.3257683708684398,
          -0.29243541414912,
          0.6336547576565371,
          0.3133456930887139,
          -0.5032505939465273,
          0.5371220456325411,
          2.3743377142720057,
          0.279042993571744,
          3.1922750681240486,
          0.08380126477325642,
          -0.34517502480052137,
          0.616709899310488,
          -1.0792900548148574,
          0.14936143468670177,
          0.4447099327029953,
          -0.5114790901334068,
          2.178529382318973,
          0.45722060207315035,
          -0.2555612326053272,
          -0.8074208670098897,
          0.9472386308757957,
          -1.2426905814373954,
          -0.33641761852626373,
          1.0736651373184176,
          1.1904782212570602,
          0.7623681292410855,
          -0.6732696472195173,
          -0.6440393410699301,
          -0.4569795729109608,
          -0.9355214742832675,
          2.9929437226692404,
          2.7260040104125687,
          0.5718932501658412,
          1.5889260213849852,
          -0.20647348498482923,
          2.50383474895769,
          0.2961501475715471,
          1.0846189796399637,
          -2.2022095311350505,
          -1.4404515406505773,
          -1.282157258364376,
          -1.039264505002788,
          -0.8359784282430531,
          -0.304798715600601,
          2.0729705769748668,
          -1.8586859035534302,
          -1.2049475634533093,
          -0.5032153485091923,
          0.3362431205690474,
          2.5649619811228264,
          0.30175743185269926,
          -1.7667927291437828,
          0.823543541008873,
          -0.22551329798238864,
          -2.7309258321583556,
          -1.6613392304245806,
          -0.5014512201902217,
          -0.6092820716180184,
          0.8458223801724154,
          -1.977398517839233,
          -1.0538519726242694,
          1.8607976208546793,
          -0.3395686494139339,
          -0.917498483470469,
          -0.8125754547368466,
          0.14301701527301477,
          -0.4362737933068569,
          -0.9044991715514368,
          -0.2767892181150546,
          -0.24579307422650828,
          -0.8244011946355028,
          0.9298124473763029,
          -0.5950664354754049,
          0.44125070418633267,
          0.8445197390903216,
          -0.4650701320324802,
          2.1319338498127394,
          2.1319338498127394,
          -0.33139835788935995,
          0.44153230211221717,
          0.07998978375631982,
          -0.3963211426076419,
          2.1319338498127394,
          -0.8155413081291479,
          3.171873475784776,
          -0.5190281872867494,
          -0.04992336453818245,
          -0.5719527809990355,
          1.4382986039502847,
          1.090066968473882,
          1.7843626906751469,
          0.10095590734268055,
          -0.6444052078607339,
          -0.606184398429129,
          0.5550883374467273,
          1.5481209530840536,
          -0.7817051706674067,
          -0.6388486423779034,
          -0.17090223401107624,
          -0.3261121819132928,
          2.301222596672424,
          1.7357442769118547,
          0.04692563163928802,
          1.3344903152923,
          -0.31151254721625726,
          1.5407603460529933,
          1.5085799273169218,
          0.8075604130275317,
          -0.44106858959039,
          1.1461892091104087,
          1.0750781640158042,
          -0.02528769687673445,
          1.0359956773490933,
          0.7940371917879286,
          0.010298079972030841,
          -0.2313666444622222,
          -1.1263578380899082,
          0.34827356830738626,
          0.7188007759804208,
          -1.2006685866016809,
          -0.4887491938537939,
          1.0511329441517383,
          0.7337050641208379,
          0.580134020777022,
          1.7465185489496928,
          1.5845399675575025,
          1.2293627570567187,
          -0.06943785397606787,
          1.314224599079933,
          0.3466877992177164,
          -0.3224727914058873,
          0.29009240219454485,
          1.2744631039301577,
          1.9501468899176162,
          1.2293627570567187,
          -2.37420081510565,
          0.8097924046763018,
          0.32574938288038,
          -0.1136722977489431,
          0.5239443339764676,
          1.6637469576513069,
          1.7453471747826566,
          0.1983225982378696,
          1.7258681710226262,
          1.4745753880275583,
          1.6228113586987147,
          2.126492838412718,
          0.30837059075439405,
          1.1642030880653806,
          1.1415398106539227,
          -0.02528769687673445,
          -0.6942782995410686,
          0.6062441505324666,
          0.8056575915427346,
          -0.9718696038331117,
          1.1846475025888175,
          0.22260393120987906,
          -1.1380333885721856,
          -0.4229417107027691,
          -0.9603842841299475,
          -1.2655864882815995,
          -1.6743094682762165,
          -0.9592325696676592,
          -2.2082757823500128,
          -0.7614311127461278,
          -0.9283602915772431,
          -1.0003872778034184,
          0.33305942804359706,
          -0.199786614793371,
          -0.09779050727088488,
          -0.32732316638661824,
          0.32999149224548036,
          -0.173287873151542,
          -0.21810390747021302,
          2.0778770647655027,
          0.025489112912357146,
          -0.9418507803283731,
          -0.48049402993066886,
          -0.4777960559294715,
          -0.5236326235491897,
          -0.9163671842424633,
          -1.288412638700219,
          0.725675505998127,
          -0.5361754770471576,
          -0.20004831834695133,
          -1.5613522001109876,
          -0.6142121203837292,
          -1.1941311908090257,
          -2.112375819129676,
          -0.7475462109839724,
          -1.086255009417536,
          0.6072921779752928,
          -0.3597777472887262,
          -1.5821085055818658,
          -0.13876869479146392,
          -0.003982163539606959,
          -1.7721004542251835,
          -0.10800633824616004,
          -1.7184551482442965,
          -0.7220600773571352,
          -2.0084981311726886,
          3.7855980781445613,
          -0.624532315397706,
          -0.18114110937883438,
          -0.02280029214200361,
          -0.15263025560776444,
          -0.1887950055902843,
          -2.3234479758534654,
          -1.6129585756299751,
          -1.925973818653643,
          -1.4099877285403835,
          0.10661860207796567,
          -3.205538486710097,
          0.5323072652927335,
          1.8282937839211029,
          -0.6155007542491484,
          1.3122550950150023,
          0.6822192108782629,
          -1.0354897180880493,
          -0.4567652894288645,
          -0.8453131010072423,
          -1.9210975153315732,
          -0.6527180829080171,
          0.024262505451437204,
          -1.124755304395193,
          0.40145569484540544,
          0.05346625837849056,
          -1.7065805207387774,
          -1.9235702921852242,
          -0.6810658577223936,
          1.6164448236652205,
          0.0944169078011868,
          -0.5757347764161665,
          -5.324849710991179,
          -1.8070057827169659,
          -0.021224692335781305,
          -0.8179812815431727,
          -1.3805997531516438,
          -0.4252552251575272,
          -1.1523424561828002,
          -0.6194712237286695,
          0.2735411475255219,
          -1.275616264042173,
          1.7770619659271756,
          -0.45488241736513446,
          -0.4217610806862249,
          -0.6384313705147711,
          0.3983427053701464,
          -0.18775644327673263,
          1.6973069926470368,
          -1.5495981205691756,
          0.19379976247852104,
          0.4813935019603187,
          -0.2051231030281111,
          -1.0982469509351973,
          -1.5081390298152697,
          1.4235176038388113,
          0.884184706818185,
          0.20932951138073785,
          -0.519799068697007,
          -0.7780011535498256,
          -0.0847733901420281,
          0.71433939830159,
          0.13736835214689758,
          0.7007718477066583,
          -1.0091976515141248,
          -1.0020222624106265,
          -0.7434581785609021,
          -0.7805593020332086,
          -1.3122341658827248,
          1.0170344495471024,
          -0.3040733125345655,
          0.0894631503005447,
          -0.312306812701715,
          -0.16456801441915797,
          -0.20494956985883206,
          -0.07991557811552492,
          -0.48004023356821107,
          1.0418746296709651,
          0.41832376286280515,
          -1.0277443701394167,
          -0.6611049658549449,
          -0.6489680497255792,
          -0.3852608354914717,
          0.17448410537177936,
          0.5248339009637628,
          -0.4352913993616472,
          1.1609463777718716,
          0.25898520090417476,
          -0.4269145394355856,
          -0.6464046362867742,
          0.42815031752521215,
          0.4327388460338234,
          -0.10281476747520149,
          1.7409198864727384,
          0.53897201848156,
          0.2021375589873236,
          0.7995084254451721,
          -2.223335855145657,
          -0.298184169885929,
          0.4103470932355617,
          -1.1839367028471577,
          -1.1071412055199372,
          -1.1559737393615044,
          0.44715157638806996,
          0.7108677100843084,
          -0.487334281966003,
          0.6078594827312352,
          0.1493626086872381,
          -0.5306247834551351,
          -1.460098652532919,
          2.1588799721449314,
          1.4175724059415635,
          2.323474646233735,
          -0.7264340924704064,
          0.5380051620704812,
          -1.555140179519787,
          -0.23681909680485644,
          0.4830988146821106,
          -1.665405322126904,
          -0.7714833608045444,
          0.43587842058410836,
          -0.9528768477392694,
          -1.6818591537753704,
          -1.1853532984892814,
          0.03981564058481262,
          0.42768027326641106,
          -1.1439320101672585,
          0.48812003926868347,
          1.0666625856504646,
          0.011626124047280322,
          0.5060631780243218,
          1.4863001605179254,
          -1.2844967685177469,
          -0.371338904880711,
          1.964001700166654,
          -0.16778180715886998,
          -0.6040355782456603,
          0.29178307745410004,
          -1.4741218575235382,
          -1.112022211570131,
          0.3059623637210843,
          -0.437936540390999,
          -0.5672204471636572,
          -1.4898328117949917,
          -0.436773171536551,
          -0.9923148417845826,
          -0.20902437743052346,
          -1.0654567706274047,
          0.7770097252992115,
          0.33401701714382825,
          0.5252445248516959,
          1.8155609678787477,
          0.5081082583965741,
          -1.7117626410225588,
          0.4959448449737475,
          1.7418772023653086,
          1.4017740558582392,
          0.28192218743011627,
          0.1353671250446761,
          0.07841349962985535,
          0.6245229490939136,
          -0.3594263708981443,
          1.7406762762745642,
          1.7810790132391263,
          1.6140113589621856,
          1.6826908295445562,
          1.2215784649122419,
          0.9220277790772218,
          1.7617395286963506,
          1.569076746725289,
          2.723356457630175,
          -0.47763708031993846,
          2.1233022870016107,
          -1.1063612328205017,
          0.10993501322158088,
          -1.6569223971159341,
          -0.7710263136821074,
          0.6354891072036851,
          -0.9350760961442325,
          -3.1540523613575266,
          -1.2137938729879851,
          -0.8438981481839077,
          -0.9125375098004525,
          0.2368117634646999,
          1.7845842030479482,
          1.987928065450011,
          1.8873203415832405,
          1.389082085230538,
          0.5250577760428058,
          -0.6949754865209055,
          -1.6187760969086629,
          -1.0019065974555326,
          0.46327213127598044,
          -0.16280340377950572,
          0.9104905958323074,
          0.4298723392551119,
          -1.1802309291515338,
          -1.1011781151568367,
          -2.409564022889259,
          -1.136790466345071,
          -0.48103855836934023,
          -1.2429177650114913,
          0.6135342320569048,
          0.06955499887095201,
          0.8825057082452502,
          5.6610644697501336,
          -0.1617325261948517,
          0.5077876996618953,
          0.40145569484540544,
          0.6099267306357662,
          0.7221971732916744,
          -1.1482497042279047,
          -0.30695042305714904,
          -0.754549980995693,
          2.3277517381735042,
          0.24686911448379903,
          2.4368300251600608,
          0.34348520895982765,
          0.5893342154021561,
          1.017508286688113,
          0.642823048584525,
          0.08601275154033065,
          1.3216325337985848,
          1.7160008601508672,
          -0.571595689621778,
          -0.8386394424269166,
          -0.37632737319680154,
          -0.00432498710012439,
          0.8203433536037094,
          0.9161667510871484,
          -0.1494127167046749,
          0.6042109943935767,
          1.0137097562146584,
          0.13603763028618604,
          0.5283163487891244,
          -0.7549928952607782,
          0.16600454255353392,
          0.9505098176612302,
          -0.12126743768402065,
          -0.27660102442963796,
          0.28234405241929045,
          -0.6505340216336395,
          0.5842145967287793,
          0.5598043266791904,
          -0.4591874361420239,
          1.1835659275212305,
          0.7476109366159922,
          0.09042435986383705,
          -1.1641913972188547,
          0.5884791515413875,
          -0.9406279038400518,
          0.185249429899975,
          0.19004799950629855,
          0.8947453894033439,
          1.5051506536341865,
          0.8918238940497774,
          2.913545690631478,
          0.1953504054885089,
          -2.134704275267388,
          -1.0963441427170586,
          -1.0963441427170586,
          -0.17984935525889445,
          -0.8950542673028747,
          0.42475557998044977,
          0.5831053065264427,
          -1.0849805099308236,
          -2.842826397149761,
          -0.9306059402806284,
          -1.2361284238426486,
          -0.999436422321496,
          -0.8532624380946273,
          -1.2052063378789566,
          -3.00641378911826,
          -0.7091852339985248,
          -1.0871716684012822,
          -0.5411080761057504,
          -2.061682013256684,
          -1.8606143982219348,
          1.0730684436328801,
          -0.5750562636036334,
          -1.4422160971020848,
          0.18867895860109027,
          -1.375892005964169,
          -0.5901899611195252,
          0.9140536000059571,
          -2.355220982919509,
          -1.1982458217628,
          -1.4354924459885978,
          -2.2823724017631117,
          -1.449541131702211,
          -1.3961646106574357,
          -1.2322459853919867,
          -0.6873446047620458,
          -1.333100330985607,
          -0.3457065151016657,
          -1.651020638964735,
          -1.2550499258583407,
          -0.6079438902660634,
          -1.3761751048259696,
          -1.5947288333897762,
          -2.7568151461037624,
          -2.0975174481531917,
          -1.789045300998634,
          0.2693814055156065,
          0.6810389452681589,
          -1.4846548825159862,
          0.7411803149126419,
          1.9235878436744343,
          -3.1653627866074663,
          4.8265599313504195,
          -0.08741851902060092,
          -2.0674106916733943,
          -2.968734440754031,
          0.9064658020706727,
          0.7987656364710356,
          -0.5571382455449456,
          -0.2985993159826219,
          -1.1430498587646867,
          0.48171047250429594,
          0.24316610774922645,
          -1.2805711408949856,
          -0.5518033813859748,
          -1.140613241176295,
          -0.6281451448687264,
          -1.8650987670142116,
          -0.07153712703737973,
          -1.5947560608544462,
          1.4829391941009862,
          -0.03041744399149802,
          1.9025446924993947,
          -0.6947868184198229,
          0.14542983433201478,
          -0.790242093431936,
          -0.4958217071530846,
          0.4233905789931047,
          0.7902407593582295,
          -0.3263511848736122,
          1.1445857085486666,
          0.8799311581112478,
          -0.9439438340615478,
          -0.4296076407966241,
          0.6670912404694659,
          2.2933766544371115,
          -0.4854428229005891,
          -0.7261160220215062,
          0.6223149471238173,
          0.16143317928932427,
          0.7770097252992115,
          0.4494073239760193,
          0.2917261998932716,
          -2.85596603251148,
          -2.85596603251148,
          0.6559230533819516,
          1.4062937358818355,
          1.014787771663573,
          -0.25782567626502073,
          2.1616477161589396,
          0.9725077360054163,
          0.5566877659983661,
          -0.12451622959309949,
          0.3868410938488668,
          -2.274267147404102,
          -0.5032745309280627,
          0.4632574382839314,
          0.24131108774216178,
          0.43473066937476,
          -0.4860819155388491,
          1.349368492929158,
          0.5291162113167034,
          1.3688832383135663,
          -0.7445120828736274,
          -1.4873373485364956,
          -1.4723501299578936,
          -0.5094951483576845,
          -0.6626360277993757,
          -1.0397485474220631,
          -0.5147913976645266,
          0.6622361023624533,
          -0.12984942660822213,
          2.5095452655965014,
          0.03438825382887614,
          1.6820118145061849,
          -0.22151898410253856,
          -0.4154576536923459,
          1.8643364588341302,
          -0.6931916182715592,
          3.3892843225133262,
          1.6888125651475747,
          0.7724804102748106,
          -0.02711420406282563,
          -0.4415817358862899,
          0.8066569243264345,
          1.300960592576559,
          0.8036905200841328,
          1.455185427801064,
          -0.9668417120819945,
          -1.60112540161448,
          0.42396345440319294,
          0.976869341411481,
          1.6643262992104424,
          0.6616282733623542,
          -0.07493749940942693,
          -0.053419150523246334,
          1.581733168426863,
          0.2508037832268159,
          1.415016755302179,
          0.946462461411538,
          1.7854208091586652,
          -1.8986513450642604,
          1.6602819900696792,
          -1.2797034194713306,
          -1.227869843978144,
          1.5382079251100924,
          -0.9416686159264973,
          0.25954218045523464,
          1.0825135388044305,
          -0.4795650203233547,
          2.5234170447632347,
          0.5799128089869467,
          0.8994140052267782,
          -1.1652508706177411,
          3.541066134530153,
          -0.615160306456332,
          1.2037797236775687,
          -0.19189490558533823,
          3.774095350032427,
          1.4190247050955043,
          0.46052362278154335,
          0.19506465400558048,
          0.8894868952712882,
          3.4923409189643335,
          0.5095306889194513,
          2.5580337274539606,
          2.9413296035633683,
          2.9585376283879428,
          0.6664854167602077,
          1.2751122185381933,
          1.085854990563481,
          -1.0223874893828682,
          -0.4896122311522367,
          -0.8883453305418867,
          -1.052714642681393,
          -1.5979672130884714,
          2.4205435798085655,
          -0.0184098086944629,
          1.3150039075834297,
          0.050344281538859614,
          1.2175238766675396,
          1.4513188974470843,
          -0.776438450096817,
          1.498983150219843,
          -2.1120286151716208,
          -0.8242950319505024,
          -0.7193176773642309,
          -0.5324102979469508,
          -0.7377570441587142,
          -1.7549264883420448,
          -1.1175832891565347,
          -0.8167610018597059,
          -1.4246076648562236,
          1.9210094918522973,
          2.510789089861231,
          -1.0983810149208875,
          -0.319078242413078,
          -0.7018982279762442,
          1.1118432949722425,
          -0.4392512404293219,
          0.22403578221356618,
          0.6909457256744198,
          0.13117975779423136,
          0.17250022808780618,
          0.6909457256744198,
          0.8801445212944219,
          -0.17264943240538316,
          -0.9571843923901073,
          -0.34187442727366313,
          1.2354223195199185,
          -0.47727735997843246,
          0.6744175097128854,
          -0.40133533548180683,
          0.02450269516566733,
          1.011488834505255,
          -0.8582289768525598,
          0.9394174796720556,
          0.41812138172327284,
          -0.8914675871467133,
          -1.5430309314244646,
          -1.0478864536138892,
          -0.5196969124319148,
          2.0933789127353655,
          0.04095302452669415,
          0.954387677024763,
          -1.2613527108263551,
          -1.3497698875032398,
          0.10155215220948927,
          1.139522497877636,
          -0.6224926824437792,
          -0.29961093997959853,
          -0.03876120335108581,
          -0.33284134816921346,
          2.19487104626854,
          0.39266547523340917,
          -0.7082917138338348,
          0.29023198327406813,
          1.3922680305446047,
          0.6626605141152963,
          0.6693446790274986,
          3.8268321408784556,
          1.0358556804491124,
          1.8888243208696942,
          0.9430672461585771,
          1.2597163972076513,
          -0.8635581785887438,
          -1.6236929721271744,
          -1.2939500198084306,
          -1.6971954084152088,
          1.9663728384182122,
          0.5163649992284985,
          0.5004206553924493,
          0.14092098116822407,
          -1.3864965358510832,
          -0.02516930509482916,
          -1.1102871922238355,
          -0.7901974202446449,
          -0.8316780531167167,
          -0.6670526559898645,
          1.4554367646834037,
          0.9890710951795667,
          0.9287715899499602,
          -0.581958286484334,
          3.103331962225936,
          -1.2547084597372213,
          -0.5922012386467972,
          0.4435955306112868,
          -1.1720025427993501,
          0.13010784025672492,
          -0.8263097141400587,
          0.5077876996618953,
          0.9391439233166051,
          -0.836120236946266,
          -0.4171044591698233,
          0.7424716521704859,
          0.613393500674937,
          -0.6458383516302354,
          -1.75102011572103,
          -0.3198383314567157,
          -1.4596407954660346,
          0.32456410733230073,
          -0.4305756298043269,
          -1.1280657628897401,
          -0.465635767448975,
          1.2702245745656162,
          -0.21965273572098068,
          -0.6328920510936786,
          -0.6988975412607014,
          0.7686819591582688,
          -0.8578855206836914,
          -0.6751035437408781,
          -0.48605547778189495,
          -0.6387093576147185,
          -2.3003554276697558,
          -1.4089869637399512,
          0.5329524166170311,
          -0.5503229283988338,
          0.26496692510713793,
          0.1655300511367031,
          -1.7294067262714847,
          -1.5577347517846185,
          0.7672821803529781,
          1.2004658861734103,
          1.4061401453545934,
          -2.350193203598049,
          -0.08627299783939522,
          0.8446557092574354,
          -0.6487851809748316,
          -1.7149594650926814,
          0.0013927407355475829,
          -0.6547324029555976,
          -0.6716498259605355,
          -0.2359762374089439,
          0.9064187971729885,
          0.8189954933017386,
          -3.965753596410923,
          -0.11703497197782571,
          -2.2567515427796603,
          -0.09410452304932376,
          0.3812586717201813,
          2.6976463366124013,
          0.5131120537669268,
          0.995921371130463,
          -1.2402689930457083,
          1.5628972442439997,
          -1.0607416100157323,
          -2.2567515427796603,
          -0.9567877399978043,
          -1.7290648744164654,
          0.20449305184851474,
          -1.423900417611845,
          0.2450571907275336,
          -0.2503357512574874,
          -0.05687280290597414,
          -0.06143591839480718,
          0.7385669494015952,
          0.21719128364850038,
          0.7781800659952599,
          -0.6563513629989092,
          0.6651735153459137,
          -0.8660248605849116,
          0.100231424041196,
          0.43555699753972466,
          -0.20416279444805524,
          -0.23066117701024633,
          -0.8316304566337254,
          0.7676614983898055,
          -0.24079201735998418,
          -0.2615215886055982,
          -0.411223206956761,
          -0.8988800994715386,
          0.33369412234070517,
          0.6860578631441884,
          -0.49512140506259283,
          -0.05956019009530029,
          0.12075812107373553,
          0.4444178437987878,
          -0.6616514069680487,
          -1.4117539522982108,
          0.27815757325230694,
          1.2439293597589176,
          -0.23523107582540578,
          -1.29227676469103,
          0.132481142837979,
          -0.5926544520710934,
          3.1162867697322625,
          0.23782341079723965,
          -0.6096458997580966,
          -0.6930003232439994,
          -1.1323136221586463,
          2.1986968196259022,
          1.1580810480104033,
          1.2457790474239883,
          2.390098384649922,
          0.24373481668966937,
          1.092435047216299,
          0.29035429531492135,
          -0.22221128725045794,
          1.8975682273569177,
          0.02128656045971321,
          1.3744385074292964,
          0.015710810497531317,
          1.929084592899791,
          0.1974189949432009,
          2.3161896559614834,
          0.8430468316977211,
          0.7314162765751044,
          -0.7154802731599024,
          -2.2004649250143307,
          0.792040918702128,
          -0.5335446105803929,
          -0.6116306323663961,
          3.603182112776723,
          1.0162723217827372,
          2.5978306373195372,
          1.0108598689274577,
          1.093851232172893,
          2.2513235929449382,
          1.5770042098068628,
          1.346752702755333,
          4.185024132169872,
          2.0897495005941025,
          1.038383244391957,
          2.3508458837380326,
          1.2583716721302358,
          0.7401609265457784,
          2.1602288633856808,
          -1.7852850671989038,
          1.045639887400703,
          0.0281541772878734,
          -0.9361637998069979,
          -0.5220718237448783,
          3.5139698314658765,
          1.1131804574029116,
          2.5375564571759486,
          -0.2901700140672182,
          -0.5300761897294425,
          -0.25693064754724887,
          -0.31426621774134583,
          2.556676519754191,
          -0.032935202369641925,
          -0.19885795871475212,
          2.4016454281870834,
          1.0351778267918168,
          0.6444849876155496,
          0.028306074933143535,
          -2.116290243984474,
          0.002363599937539778,
          0.11962982789439425,
          -2.3475492425405373,
          -0.9201381858244979,
          -0.9743563680480035,
          0.6855028852755752,
          1.1370901144624255,
          0.557879342789397,
          0.26544876172433174,
          1.4026574288018099,
          -1.1982458217628,
          -0.4598399809985968,
          0.004144946964965138,
          -0.12385926837783134,
          0.90749932703222,
          2.9661176348304297,
          0.23373058553335307,
          -1.0639389150223322,
          -0.4622098125985694,
          -0.2980526711510945,
          -0.5943153326486942,
          -1.6613392304245806,
          -0.3679066722953546,
          -1.0497134604561373,
          -1.3494016832394542,
          0.7991499058784427,
          -1.632591314862933,
          1.6707445011481448,
          -0.966054436218666,
          -0.65565649070665,
          -2.060659345414369,
          -0.9655688502559322,
          -0.6386814446471745,
          0.3922359770881065,
          -0.8850916940287156,
          -0.3744382985187899,
          -0.8776851115060569,
          1.0174448376284781,
          -1.5475653090429051,
          -0.3476754195333719,
          0.7476935362147705,
          -1.715814947348312,
          -0.10726619418296285,
          1.1371005994234742,
          1.1252714892569717,
          -3.393722940762178,
          2.008001960014267,
          0.3406402701807248,
          -1.937835895681664,
          -1.6406240108949206,
          0.3611379628164949,
          -0.11848794556724271,
          -1.3859775972109298,
          -0.8010825313436066,
          -0.6575570841874525,
          -0.8394366975160789,
          -0.5271531372802952,
          -0.611421277488057,
          1.5845151521137217,
          -0.464376053753592,
          -1.3018832532958378,
          -1.1516668256705367,
          -0.8751633821228606,
          -0.8847666158004627,
          -1.1693233863795685,
          1.7741759054637458,
          -0.08797624049417621,
          0.0031216044997836364,
          -0.2194826927177567,
          -1.4655689988816678,
          -1.5463730166337226,
          0.403276176615007,
          0.7755578306120938,
          -0.7059657906162842,
          0.5503898665299509,
          -1.1182317836598268,
          0.5624036751698465,
          -1.4549911125915844,
          -0.6621999979037606,
          -0.4681495641372799,
          -0.48704101382320114,
          0.33010939541902995,
          1.0408259298766698,
          1.4738730430602942,
          0.5156531889061456,
          -0.015715671755879897,
          0.6860578631441884,
          1.2872874286237423,
          -1.7328518095993377,
          0.6959769757292265,
          -0.007669339267966213,
          -0.02627685644732926,
          -2.36396411867327,
          1.1631494108116496,
          -1.963869438165937,
          0.5622885515036904,
          -1.1870319739345858,
          -1.215406142640307,
          -1.456650589812619,
          -2.2659149056848715,
          0.17948450776703773,
          0.09855330331148751,
          0.7424716521704859,
          -0.0821938135215947,
          -0.82363586112147,
          -0.4835296956000887,
          -0.16310794825620112,
          -1.3903335627467297,
          -0.2523900390177828,
          0.4873161663950996,
          -0.47860482608152927,
          -0.31959440173335935,
          -0.42283836051147516,
          0.46157248994392125,
          1.3345949133414936,
          2.1353388542792664,
          -1.260368942063365,
          0.6396464239450965,
          0.7174376136046123,
          2.34527296706373,
          1.3733289406188673,
          -0.5966630580451399,
          -0.8228496570941324,
          -2.4169422454436,
          0.9336350514741268,
          0.9336350514741268,
          0.23664873280865176,
          1.2386911146487705,
          -0.5418841654097433,
          0.8575279188846323,
          -0.7605992017394523,
          -0.23040106781687442,
          0.5411367955330914,
          1.3618413519709776,
          2.457186219925859,
          -1.4898216303774778,
          -1.0689235689502812,
          -2.0465134097188793,
          -0.9547823761436218,
          0.8758128302585266,
          -0.5020453808359167,
          -0.8450034896699776,
          -1.150586605140881,
          -1.0162719172752013,
          -0.6633142881216193,
          -1.6697928510711881,
          -1.353373890288779,
          -0.9919352561058695,
          -1.0803934023175568,
          -0.6401416299877903,
          -1.3024094498395522,
          -1.5274633223822713,
          -1.8816369915962348,
          -0.6241541934765844,
          -1.1087513872616175,
          -1.0937437785451842,
          -0.5769655569107677,
          1.3501165937602122,
          -0.6835707776462003,
          -0.213334958912308,
          -1.7208881667392975,
          0.6069933473401414,
          -0.9485578909088204,
          0.3406380049689807,
          -0.6728024875104716,
          0.009588568549991157,
          -0.33186820729641847,
          1.2099337331859241,
          -0.0435165388901517,
          0.472497308417749,
          0.16670061782510084,
          -0.4598399809985968,
          0.8379678502770371,
          -1.8668083916396288,
          0.3913490107035031,
          0.030032344428861154,
          0.3334601091239052,
          -0.41099462855907715,
          -0.7476281108276704,
          -0.5327999702766623,
          1.416575387702345,
          -0.977875526993149,
          0.5343302360287072,
          -1.1023076661037068,
          -0.8610990263499396,
          -0.7747711983975606,
          -0.14363907758537234,
          -0.9146586648127377,
          -0.9765413938527076,
          -1.7663661393860066,
          -1.130728960818978,
          -0.7087335536763928,
          -0.5947383472184772,
          0.07306755370479702,
          -1.5158796949645639,
          0.6613108686606788,
          1.1286274880828184,
          -2.058197767187701,
          1.0677052103269231,
          -0.3012459235234401,
          0.42578014988780666,
          -0.40263933571266136,
          0.2989675907068807,
          1.6285636697961774,
          -0.6663501829263657,
          1.8664334683739894,
          2.420357930284382,
          -1.1092347492996684,
          0.32008414751743786,
          0.03169189012698164,
          1.1160776457145438,
          -0.4394565205823323,
          2.0898309796232204,
          -0.7570751399473782,
          -0.7746598120563292,
          -0.3865389189137323,
          0.2570733598340717,
          0.06329890129218556,
          0.33736198173459225,
          0.22643180698531007,
          -1.3546107260806561,
          0.8002025039600871,
          -0.8889081107644096,
          -0.7286812887095813,
          1.307869486534647,
          -0.6114302591907717,
          0.5466667600703198,
          1.8234840719083258,
          2.2518211503014927,
          1.532745181088447,
          1.6920378828976923,
          0.7022921431888587,
          1.9109285289174873,
          0.2804484614653239,
          -1.0498417887903448,
          3.603182112776723,
          -0.5242582112536119,
          0.786118265354623,
          2.0403271912218024,
          0.16893016132376446,
          -0.08526345403740461,
          -0.011024140739626933,
          -0.7916755386423816,
          -1.2147270836405073,
          0.7724463413233439,
          -0.3037457413035935,
          -2.3335427199807532,
          -0.3562168495073639,
          0.1243030358694664,
          -1.1706210899866958,
          -2.3606274464677366,
          -1.6367819175495597,
          -0.5023576395671427,
          -2.7309258321583556,
          -1.242344612795518,
          -0.8386470327706335,
          -1.0079198521398582,
          -0.22761893527393087,
          -0.4216055322863326,
          -0.9631389674046101,
          2.4898319782499594,
          0.7343740197596894,
          2.1153640634076125,
          0.13724873880508348,
          1.012521315289641,
          -0.37005291574945476,
          -1.7815300896312842,
          -1.1887304827614906,
          -0.2404274433168964,
          -0.6167239342011983,
          -0.9734476761826595,
          -0.5688906477444716,
          -0.4861672206217926,
          1.007660051451996,
          -0.30150576336683327,
          0.12897294715117938,
          2.5309300185056163,
          0.9337858603263683,
          0.8418091510500214,
          -0.9333434321358224,
          -0.19397496311706605,
          -0.5671126380023044,
          1.5106561492724915,
          0.18074855667507542,
          -1.046362782222971,
          -0.7333067303892984,
          -1.0246191375816258,
          0.8689648267049019,
          2.413138762792472,
          -1.0475814842246285,
          0.973691919297667,
          1.7212392934745604,
          -1.3429003712914225,
          -0.5792383396463378,
          1.3474157429635847,
          1.237826518985617,
          -0.6277344905438664,
          -0.4669374453129724,
          -0.6195438014522859,
          1.424928249001409,
          0.9643381077505949,
          0.1116572745926786,
          0.9643381077505949,
          -0.12094841593244926,
          -0.43451549773971804,
          -0.8717228134320263,
          0.1507974647085971,
          0.27797908953692113,
          1.189489127296593,
          0.13692337593368173,
          2.295129874378307,
          -1.2426905814373954,
          -0.34856941623504256,
          0.3027643122628117,
          -0.9565041870588193,
          -0.034557781152382616,
          -0.2352821550030312,
          -0.2877116065230743,
          0.33490144838208785,
          -0.551980114793052,
          -1.667167516062029,
          0.3483655714328146,
          -0.682932282691261,
          0.10279951612119956,
          -1.9959511402427055,
          0.26851184677195294,
          1.9946169248668215,
          1.8483060822592718,
          1.05549255886762,
          0.2187904044904835,
          -0.13570197581661,
          0.9851968861899999,
          1.0680519747125847,
          -0.9423944222871231,
          -1.3267365895545924,
          0.2379283177597422,
          1.0906730354380956,
          0.8260360840052894,
          -0.11461723951061507,
          1.8404077114195667,
          1.082354091994069,
          -0.8687738626484454,
          -0.591482861428704,
          -0.8089063660175052,
          0.6170449549147403,
          -0.03580072293818778,
          1.591342828103711,
          1.3560670015995682,
          -1.6287481707392577,
          -1.29334904283222,
          -0.6763485851962379,
          1.1830106693009677,
          0.6030493268732672,
          0.38239048371577833,
          3.024148516645297,
          1.4320445004928843,
          0.34228297341502245,
          -1.4187000715910458,
          1.6814999864821372,
          2.799421051795825,
          -0.04549238763922026,
          0.4657414169487376,
          1.4198239456029433,
          0.5888953615807202,
          1.0444386933204304,
          0.5964434905315019,
          0.08844995393029546,
          -0.04549238763922026,
          0.8977977758332216,
          -0.16885058170457806,
          0.5983088128366484,
          0.6667441748139546,
          0.11485247399156169,
          -2.5769252053016802,
          0.2390964075580567,
          2.2487561906623936,
          2.5387340249432415,
          -0.05632591154783163,
          0.5964434905315019,
          1.9783020811682739,
          1.3560670015995682,
          2.916068975918379,
          -0.6225797561996654,
          0.2559420671846045,
          -0.29072442076003463,
          0.3757386950204436,
          1.5556309456722204,
          0.4506309276092259,
          0.7757854374142326,
          0.07431941987263527,
          -1.3080925230982423,
          -1.3524345982935708,
          0.2936091768199948,
          3.309915508156944,
          -0.5551636406866722,
          0.5675987166081083,
          2.6461398776378853,
          0.03399799833089996,
          0.6786040056615537,
          0.14923360423841592,
          -0.4559136008402361,
          2.9465579423623565,
          1.948601535631254,
          0.6937156146030239,
          -0.6479161411275294,
          -0.16832643560406593,
          0.9206331889506512,
          -0.4507613510772825,
          -1.6238548107932484,
          -1.7149594650926816,
          0.8246937348674234,
          -0.604681098319157,
          0.9951455987502079,
          -0.4943961431689729,
          -0.19789301436615128,
          -0.17763361203952596,
          -0.0811359416283303,
          -3.591928184508257,
          0.015192898637177574,
          0.41832376286280515,
          -1.3430396251065242,
          -1.1533387805480786,
          -1.5144988077562604,
          -1.590958155769705,
          -2.345699961945221,
          0.5187929455099781,
          -2.0068878431165396,
          -1.5610744785887518,
          0.4027243215517695,
          0.3885717411713834,
          2.4711907619370566,
          -0.21414035832918288,
          3.0020429581390813,
          2.4311389903409197,
          2.882281167231521,
          0.9642980521378579,
          0.007995287376183359,
          -1.4448575644382047,
          -0.21558652585747426,
          -1.049433743287382,
          -0.16881431329935442,
          -0.7392065333258859,
          2.179099357735234,
          -1.0820263567320563,
          -0.5618613817516007,
          0.059191033675625726,
          -1.0420534653157882,
          0.12324047273321358,
          -0.06624184533439359,
          -1.5632894769170893,
          -0.20455517338153045,
          -0.2825690317516749,
          -1.7373472894249398,
          -1.046587089328853,
          0.5718932501658412,
          0.03184445897223625,
          -0.012659131268620961,
          1.0406554362647755,
          2.080718977326505,
          -2.2215790057935036,
          -1.294230622808837,
          -0.9232671973085131,
          1.6648500226504825,
          -2.251716443317536,
          2.2279199793837807,
          -1.4934305722339847,
          0.06759763053874172,
          -0.42200852490748597,
          -1.6224994565962783,
          -0.8568498421627427,
          -1.7156119083516967,
          -0.4018140005258494,
          -1.9183111465675238,
          -1.0284176661154834,
          0.5662509076481942,
          -1.9360921290485094,
          -1.3661970267771617,
          -0.47905326674772136,
          1.5323961175618472,
          0.6372584903149803,
          1.3733798976383882,
          -0.5126351469976403,
          -0.4706577641761544,
          0.0005851604650570234,
          0.8136001906911957,
          0.38997026358277115,
          -0.39546104811196725,
          -1.5825523645928843,
          -0.9178690058179523,
          -0.3820309089909221,
          0.15708317010829997,
          -0.980660431436617,
          1.2573912397734028,
          0.5631582113333862,
          1.1114556668423154,
          0.1930943075400815,
          -3.0573576367230784,
          -2.7964050900954343,
          0.44419319813299024,
          -0.5425621727635159,
          -0.8201583062849634,
          0.375143194036383,
          -1.0223780840942385,
          -0.6070712876472268,
          -0.962449206877952,
          -2.0237471356014685,
          -0.08741851902060092,
          -0.2046286417953868,
          -0.08910926007142089,
          -2.059162839252312,
          -1.1745357862551733,
          -0.6346088648189894,
          -0.5491745735455995,
          0.5095716897531258,
          0.8065406104992427,
          0.7411803149126419,
          -0.855882162906125,
          -0.3657681542279334,
          -0.5309994855824138,
          -0.5213994519208943,
          -0.8095689157079904,
          1.1265825463110426,
          -0.2098294744407544,
          -1.132394606692691,
          0.2211940171929526,
          -1.1950493627964514,
          1.4025390812695442,
          -0.5757347764161665,
          -0.7264869106374365,
          -0.7415878471844215,
          0.06951336384573416,
          -0.2044656586852075,
          -0.01879031406313646,
          0.03139289071178907,
          0.3506700562360755,
          -1.1128956328696054,
          1.8195868927959082,
          1.8713013951568775,
          1.9181525956534933,
          -1.7186688480437655,
          0.8757893106119173,
          0.1756302705370129,
          -0.6929183840508951,
          -0.2872600209762629,
          0.2080940661331757,
          1.7764954026041295,
          -0.40857318509327895,
          0.02940553512296391,
          0.302890295949664,
          0.9923583707665744,
          0.43377995483685844,
          -1.3564329550862626,
          0.5863758368736275,
          2.9239327364249332,
          1.0230580147774826,
          0.8397768146241347,
          2.5716091789550632,
          -0.39274683629951107,
          0.3103645893388287,
          1.2122221199360637,
          -0.9105271986614422,
          -0.4231354934946316,
          -1.5022933704705288,
          -0.3958114038540062,
          0.11057980583580486,
          -1.1364627595215113,
          0.9890710951795667,
          1.6893322614019675,
          0.9299479085907814,
          -0.4525968776137763,
          -0.7448746955627183,
          1.8574219818393154,
          0.31621132843280936,
          -3.591928184508257,
          -2.7715699519860677,
          -1.093664960860381,
          -0.8987367758535371,
          -0.7144851932041139,
          0.08471793830475427,
          3.402325258536717,
          0.5915376393811418,
          0.19594602619168533,
          0.035965084981219614,
          -0.757278749113474,
          0.48004216049067766,
          0.5277834265150174,
          -0.07029951988053275,
          -2.6459203144839756,
          -1.3983743516341613,
          -1.7875077633778915,
          0.8485646204971737,
          1.2059329792106626,
          -1.7241610708089137,
          -0.47215623617893365,
          -0.8206980878304452,
          -0.9083842640904379,
          -0.7454847813329014,
          -0.7426614340923876,
          -0.5761116798393024,
          1.2630604906993113,
          -0.9648409921390879,
          0.1936862231343996,
          0.9996039142658507,
          1.157524642237806,
          -1.093664960860381,
          -1.093664960860381,
          3.024148516645297,
          1.5817331684268625,
          1.6452582761714458,
          -2.404578838074836,
          -2.4574249906447116,
          -0.5475715725911342,
          -1.3098373709567726,
          -2.012652192581363,
          -2.4620510303808603,
          0.4839182224013321,
          -1.4091483830778608,
          -1.555787843924437,
          -1.7104659017896569,
          -0.14939377576964824,
          -2.0027033980752855,
          -2.220458417816707,
          -0.9119564427723762,
          -2.220903123314179,
          -1.7536558307851136,
          -1.3764437205042688,
          -2.5396808993309956,
          -1.9288195091233993,
          0.4586528028759605,
          -0.7370750659682038,
          -1.4238717798777527,
          0.3131378501572341,
          0.031646261329057235,
          -0.9437787672942017,
          0.4220331476734171,
          -0.1918911909384045,
          -0.5211679048184925,
          1.8836076923570355,
          1.2546259176505083,
          -1.798007110035973,
          1.6046581333958077,
          0.5308244007763782,
          -1.4677050692393339,
          -0.07553356999426449,
          -0.9371300061780331,
          0.9744129361419291,
          1.0808327860734206,
          -1.3498838940521083,
          -2.6382976097380952,
          1.1075741810946944,
          -1.196854463642066,
          -0.04985157001773328,
          -1.3368586236919504,
          3.3802062358742044,
          -0.9362765548657936,
          -0.8512302225203631,
          0.8312994793303589,
          1.147415931777521,
          0.8692814620397286,
          -0.06373150398819519,
          -0.4524259118905834,
          -1.0487895677819907,
          -0.9786629053950838,
          -1.12032195931811,
          -0.600901821381093,
          0.4186241486931181,
          -0.30537603096408084,
          0.18024535423151386,
          -0.08741851902060092,
          -2.1446915046004675,
          0.8614420346143563,
          0.13071407897492615,
          -0.22775045896728235,
          1.1093919174553286,
          0.5061696894655057,
          2.5114509290464624,
          -0.3562583850384998,
          0.2639556727669237,
          0.2716152626191423,
          -0.339623112933726,
          0.813812117006183,
          1.6452114399898947,
          1.2386818562700987,
          0.8050649466533382,
          0.577709746614173,
          -0.7454513238920549,
          0.769146478930025,
          -0.23009953334279729,
          -1.162522550315383,
          1.0967477999866877,
          -0.7762878624655946,
          -0.5844671710446088,
          -0.6061979063641811,
          -1.4869471807666161,
          1.7503448743454817,
          -0.615160306456332,
          -1.653134426340768,
          0.7427151707507388,
          -0.7054157806980501,
          -0.032519123302962555,
          -2.341444922488867,
          1.840847976937172,
          0.4150643762265175,
          -0.5229064046857353,
          -0.017125860721714712,
          -1.3049828462456505,
          -1.0897255704646873,
          -3.695232752777761,
          -1.3907085464763507
         ],
         "yaxis": "y"
        }
       ],
       "layout": {
        "coloraxis": {
         "colorbar": {
          "title": {
           "text": "cluster_pca"
          }
         },
         "colorscale": [
          [
           0,
           "#0d0887"
          ],
          [
           0.1111111111111111,
           "#46039f"
          ],
          [
           0.2222222222222222,
           "#7201a8"
          ],
          [
           0.3333333333333333,
           "#9c179e"
          ],
          [
           0.4444444444444444,
           "#bd3786"
          ],
          [
           0.5555555555555556,
           "#d8576b"
          ],
          [
           0.6666666666666666,
           "#ed7953"
          ],
          [
           0.7777777777777778,
           "#fb9f3a"
          ],
          [
           0.8888888888888888,
           "#fdca26"
          ],
          [
           1,
           "#f0f921"
          ]
         ]
        },
        "font": {
         "color": "White",
         "family": "Arial"
        },
        "legend": {
         "tracegroupgap": 0
        },
        "margin": {
         "t": 60
        },
        "template": {
         "data": {
          "bar": [
           {
            "error_x": {
             "color": "#f2f5fa"
            },
            "error_y": {
             "color": "#f2f5fa"
            },
            "marker": {
             "line": {
              "color": "rgb(17,17,17)",
              "width": 0.5
             },
             "pattern": {
              "fillmode": "overlay",
              "size": 10,
              "solidity": 0.2
             }
            },
            "type": "bar"
           }
          ],
          "barpolar": [
           {
            "marker": {
             "line": {
              "color": "rgb(17,17,17)",
              "width": 0.5
             },
             "pattern": {
              "fillmode": "overlay",
              "size": 10,
              "solidity": 0.2
             }
            },
            "type": "barpolar"
           }
          ],
          "carpet": [
           {
            "aaxis": {
             "endlinecolor": "#A2B1C6",
             "gridcolor": "#506784",
             "linecolor": "#506784",
             "minorgridcolor": "#506784",
             "startlinecolor": "#A2B1C6"
            },
            "baxis": {
             "endlinecolor": "#A2B1C6",
             "gridcolor": "#506784",
             "linecolor": "#506784",
             "minorgridcolor": "#506784",
             "startlinecolor": "#A2B1C6"
            },
            "type": "carpet"
           }
          ],
          "choropleth": [
           {
            "colorbar": {
             "outlinewidth": 0,
             "ticks": ""
            },
            "type": "choropleth"
           }
          ],
          "contour": [
           {
            "colorbar": {
             "outlinewidth": 0,
             "ticks": ""
            },
            "colorscale": [
             [
              0,
              "#0d0887"
             ],
             [
              0.1111111111111111,
              "#46039f"
             ],
             [
              0.2222222222222222,
              "#7201a8"
             ],
             [
              0.3333333333333333,
              "#9c179e"
             ],
             [
              0.4444444444444444,
              "#bd3786"
             ],
             [
              0.5555555555555556,
              "#d8576b"
             ],
             [
              0.6666666666666666,
              "#ed7953"
             ],
             [
              0.7777777777777778,
              "#fb9f3a"
             ],
             [
              0.8888888888888888,
              "#fdca26"
             ],
             [
              1,
              "#f0f921"
             ]
            ],
            "type": "contour"
           }
          ],
          "contourcarpet": [
           {
            "colorbar": {
             "outlinewidth": 0,
             "ticks": ""
            },
            "type": "contourcarpet"
           }
          ],
          "heatmap": [
           {
            "colorbar": {
             "outlinewidth": 0,
             "ticks": ""
            },
            "colorscale": [
             [
              0,
              "#0d0887"
             ],
             [
              0.1111111111111111,
              "#46039f"
             ],
             [
              0.2222222222222222,
              "#7201a8"
             ],
             [
              0.3333333333333333,
              "#9c179e"
             ],
             [
              0.4444444444444444,
              "#bd3786"
             ],
             [
              0.5555555555555556,
              "#d8576b"
             ],
             [
              0.6666666666666666,
              "#ed7953"
             ],
             [
              0.7777777777777778,
              "#fb9f3a"
             ],
             [
              0.8888888888888888,
              "#fdca26"
             ],
             [
              1,
              "#f0f921"
             ]
            ],
            "type": "heatmap"
           }
          ],
          "heatmapgl": [
           {
            "colorbar": {
             "outlinewidth": 0,
             "ticks": ""
            },
            "colorscale": [
             [
              0,
              "#0d0887"
             ],
             [
              0.1111111111111111,
              "#46039f"
             ],
             [
              0.2222222222222222,
              "#7201a8"
             ],
             [
              0.3333333333333333,
              "#9c179e"
             ],
             [
              0.4444444444444444,
              "#bd3786"
             ],
             [
              0.5555555555555556,
              "#d8576b"
             ],
             [
              0.6666666666666666,
              "#ed7953"
             ],
             [
              0.7777777777777778,
              "#fb9f3a"
             ],
             [
              0.8888888888888888,
              "#fdca26"
             ],
             [
              1,
              "#f0f921"
             ]
            ],
            "type": "heatmapgl"
           }
          ],
          "histogram": [
           {
            "marker": {
             "pattern": {
              "fillmode": "overlay",
              "size": 10,
              "solidity": 0.2
             }
            },
            "type": "histogram"
           }
          ],
          "histogram2d": [
           {
            "colorbar": {
             "outlinewidth": 0,
             "ticks": ""
            },
            "colorscale": [
             [
              0,
              "#0d0887"
             ],
             [
              0.1111111111111111,
              "#46039f"
             ],
             [
              0.2222222222222222,
              "#7201a8"
             ],
             [
              0.3333333333333333,
              "#9c179e"
             ],
             [
              0.4444444444444444,
              "#bd3786"
             ],
             [
              0.5555555555555556,
              "#d8576b"
             ],
             [
              0.6666666666666666,
              "#ed7953"
             ],
             [
              0.7777777777777778,
              "#fb9f3a"
             ],
             [
              0.8888888888888888,
              "#fdca26"
             ],
             [
              1,
              "#f0f921"
             ]
            ],
            "type": "histogram2d"
           }
          ],
          "histogram2dcontour": [
           {
            "colorbar": {
             "outlinewidth": 0,
             "ticks": ""
            },
            "colorscale": [
             [
              0,
              "#0d0887"
             ],
             [
              0.1111111111111111,
              "#46039f"
             ],
             [
              0.2222222222222222,
              "#7201a8"
             ],
             [
              0.3333333333333333,
              "#9c179e"
             ],
             [
              0.4444444444444444,
              "#bd3786"
             ],
             [
              0.5555555555555556,
              "#d8576b"
             ],
             [
              0.6666666666666666,
              "#ed7953"
             ],
             [
              0.7777777777777778,
              "#fb9f3a"
             ],
             [
              0.8888888888888888,
              "#fdca26"
             ],
             [
              1,
              "#f0f921"
             ]
            ],
            "type": "histogram2dcontour"
           }
          ],
          "mesh3d": [
           {
            "colorbar": {
             "outlinewidth": 0,
             "ticks": ""
            },
            "type": "mesh3d"
           }
          ],
          "parcoords": [
           {
            "line": {
             "colorbar": {
              "outlinewidth": 0,
              "ticks": ""
             }
            },
            "type": "parcoords"
           }
          ],
          "pie": [
           {
            "automargin": true,
            "type": "pie"
           }
          ],
          "scatter": [
           {
            "marker": {
             "line": {
              "color": "#283442"
             }
            },
            "type": "scatter"
           }
          ],
          "scatter3d": [
           {
            "line": {
             "colorbar": {
              "outlinewidth": 0,
              "ticks": ""
             }
            },
            "marker": {
             "colorbar": {
              "outlinewidth": 0,
              "ticks": ""
             }
            },
            "type": "scatter3d"
           }
          ],
          "scattercarpet": [
           {
            "marker": {
             "colorbar": {
              "outlinewidth": 0,
              "ticks": ""
             }
            },
            "type": "scattercarpet"
           }
          ],
          "scattergeo": [
           {
            "marker": {
             "colorbar": {
              "outlinewidth": 0,
              "ticks": ""
             }
            },
            "type": "scattergeo"
           }
          ],
          "scattergl": [
           {
            "marker": {
             "line": {
              "color": "#283442"
             }
            },
            "type": "scattergl"
           }
          ],
          "scattermapbox": [
           {
            "marker": {
             "colorbar": {
              "outlinewidth": 0,
              "ticks": ""
             }
            },
            "type": "scattermapbox"
           }
          ],
          "scatterpolar": [
           {
            "marker": {
             "colorbar": {
              "outlinewidth": 0,
              "ticks": ""
             }
            },
            "type": "scatterpolar"
           }
          ],
          "scatterpolargl": [
           {
            "marker": {
             "colorbar": {
              "outlinewidth": 0,
              "ticks": ""
             }
            },
            "type": "scatterpolargl"
           }
          ],
          "scatterternary": [
           {
            "marker": {
             "colorbar": {
              "outlinewidth": 0,
              "ticks": ""
             }
            },
            "type": "scatterternary"
           }
          ],
          "surface": [
           {
            "colorbar": {
             "outlinewidth": 0,
             "ticks": ""
            },
            "colorscale": [
             [
              0,
              "#0d0887"
             ],
             [
              0.1111111111111111,
              "#46039f"
             ],
             [
              0.2222222222222222,
              "#7201a8"
             ],
             [
              0.3333333333333333,
              "#9c179e"
             ],
             [
              0.4444444444444444,
              "#bd3786"
             ],
             [
              0.5555555555555556,
              "#d8576b"
             ],
             [
              0.6666666666666666,
              "#ed7953"
             ],
             [
              0.7777777777777778,
              "#fb9f3a"
             ],
             [
              0.8888888888888888,
              "#fdca26"
             ],
             [
              1,
              "#f0f921"
             ]
            ],
            "type": "surface"
           }
          ],
          "table": [
           {
            "cells": {
             "fill": {
              "color": "#506784"
             },
             "line": {
              "color": "rgb(17,17,17)"
             }
            },
            "header": {
             "fill": {
              "color": "#2a3f5f"
             },
             "line": {
              "color": "rgb(17,17,17)"
             }
            },
            "type": "table"
           }
          ]
         },
         "layout": {
          "annotationdefaults": {
           "arrowcolor": "#f2f5fa",
           "arrowhead": 0,
           "arrowwidth": 1
          },
          "autotypenumbers": "strict",
          "coloraxis": {
           "colorbar": {
            "outlinewidth": 0,
            "ticks": ""
           }
          },
          "colorscale": {
           "diverging": [
            [
             0,
             "#8e0152"
            ],
            [
             0.1,
             "#c51b7d"
            ],
            [
             0.2,
             "#de77ae"
            ],
            [
             0.3,
             "#f1b6da"
            ],
            [
             0.4,
             "#fde0ef"
            ],
            [
             0.5,
             "#f7f7f7"
            ],
            [
             0.6,
             "#e6f5d0"
            ],
            [
             0.7,
             "#b8e186"
            ],
            [
             0.8,
             "#7fbc41"
            ],
            [
             0.9,
             "#4d9221"
            ],
            [
             1,
             "#276419"
            ]
           ],
           "sequential": [
            [
             0,
             "#0d0887"
            ],
            [
             0.1111111111111111,
             "#46039f"
            ],
            [
             0.2222222222222222,
             "#7201a8"
            ],
            [
             0.3333333333333333,
             "#9c179e"
            ],
            [
             0.4444444444444444,
             "#bd3786"
            ],
            [
             0.5555555555555556,
             "#d8576b"
            ],
            [
             0.6666666666666666,
             "#ed7953"
            ],
            [
             0.7777777777777778,
             "#fb9f3a"
            ],
            [
             0.8888888888888888,
             "#fdca26"
            ],
            [
             1,
             "#f0f921"
            ]
           ],
           "sequentialminus": [
            [
             0,
             "#0d0887"
            ],
            [
             0.1111111111111111,
             "#46039f"
            ],
            [
             0.2222222222222222,
             "#7201a8"
            ],
            [
             0.3333333333333333,
             "#9c179e"
            ],
            [
             0.4444444444444444,
             "#bd3786"
            ],
            [
             0.5555555555555556,
             "#d8576b"
            ],
            [
             0.6666666666666666,
             "#ed7953"
            ],
            [
             0.7777777777777778,
             "#fb9f3a"
            ],
            [
             0.8888888888888888,
             "#fdca26"
            ],
            [
             1,
             "#f0f921"
            ]
           ]
          },
          "colorway": [
           "#636efa",
           "#EF553B",
           "#00cc96",
           "#ab63fa",
           "#FFA15A",
           "#19d3f3",
           "#FF6692",
           "#B6E880",
           "#FF97FF",
           "#FECB52"
          ],
          "font": {
           "color": "#f2f5fa"
          },
          "geo": {
           "bgcolor": "rgb(17,17,17)",
           "lakecolor": "rgb(17,17,17)",
           "landcolor": "rgb(17,17,17)",
           "showlakes": true,
           "showland": true,
           "subunitcolor": "#506784"
          },
          "hoverlabel": {
           "align": "left"
          },
          "hovermode": "closest",
          "mapbox": {
           "style": "dark"
          },
          "paper_bgcolor": "rgb(17,17,17)",
          "plot_bgcolor": "rgb(17,17,17)",
          "polar": {
           "angularaxis": {
            "gridcolor": "#506784",
            "linecolor": "#506784",
            "ticks": ""
           },
           "bgcolor": "rgb(17,17,17)",
           "radialaxis": {
            "gridcolor": "#506784",
            "linecolor": "#506784",
            "ticks": ""
           }
          },
          "scene": {
           "xaxis": {
            "backgroundcolor": "rgb(17,17,17)",
            "gridcolor": "#506784",
            "gridwidth": 2,
            "linecolor": "#506784",
            "showbackground": true,
            "ticks": "",
            "zerolinecolor": "#C8D4E3"
           },
           "yaxis": {
            "backgroundcolor": "rgb(17,17,17)",
            "gridcolor": "#506784",
            "gridwidth": 2,
            "linecolor": "#506784",
            "showbackground": true,
            "ticks": "",
            "zerolinecolor": "#C8D4E3"
           },
           "zaxis": {
            "backgroundcolor": "rgb(17,17,17)",
            "gridcolor": "#506784",
            "gridwidth": 2,
            "linecolor": "#506784",
            "showbackground": true,
            "ticks": "",
            "zerolinecolor": "#C8D4E3"
           }
          },
          "shapedefaults": {
           "line": {
            "color": "#f2f5fa"
           }
          },
          "sliderdefaults": {
           "bgcolor": "#C8D4E3",
           "bordercolor": "rgb(17,17,17)",
           "borderwidth": 1,
           "tickwidth": 0
          },
          "ternary": {
           "aaxis": {
            "gridcolor": "#506784",
            "linecolor": "#506784",
            "ticks": ""
           },
           "baxis": {
            "gridcolor": "#506784",
            "linecolor": "#506784",
            "ticks": ""
           },
           "bgcolor": "rgb(17,17,17)",
           "caxis": {
            "gridcolor": "#506784",
            "linecolor": "#506784",
            "ticks": ""
           }
          },
          "title": {
           "x": 0.05
          },
          "updatemenudefaults": {
           "bgcolor": "#506784",
           "borderwidth": 0
          },
          "xaxis": {
           "automargin": true,
           "gridcolor": "#283442",
           "linecolor": "#506784",
           "ticks": "",
           "title": {
            "standoff": 15
           },
           "zerolinecolor": "#283442",
           "zerolinewidth": 2
          },
          "yaxis": {
           "automargin": true,
           "gridcolor": "#283442",
           "linecolor": "#506784",
           "ticks": "",
           "title": {
            "standoff": 15
           },
           "zerolinecolor": "#283442",
           "zerolinewidth": 2
          }
         }
        },
        "title": {
         "font": {
          "color": "White",
          "family": "Arial"
         },
         "text": "Clusters"
        },
        "xaxis": {
         "anchor": "y",
         "domain": [
          0,
          1
         ],
         "title": {
          "text": "Y"
         }
        },
        "yaxis": {
         "anchor": "x",
         "domain": [
          0,
          1
         ],
         "title": {
          "text": "X"
         }
        }
       }
      }
     },
     "metadata": {},
     "output_type": "display_data"
    }
   ],
   "source": [
    "fig = px.scatter(data_frame = projection, template = 'plotly_dark', x = 'x', y = 'y', color = 'cluster_pca', hover_data = ['x', 'y', 'generos'])\n",
    "\n",
    "fig.update_layout(\n",
    "    title = {\n",
    "        'text': 'Clusters'},\n",
    "    yaxis_title = 'X',\n",
    "    xaxis_title = 'Y',\n",
    "    font_family = 'Arial',\n",
    "    font_color = 'White',\n",
    "    title_font_family = 'Arial',\n",
    "    title_font_color = 'White')\n",
    "\n",
    "fig.show()"
   ]
  },
  {
   "cell_type": "markdown",
   "metadata": {},
   "source": [
    "Para avaliar os clusters, utilizemos as explained variances."
   ]
  },
  {
   "cell_type": "code",
   "execution_count": 86,
   "metadata": {},
   "outputs": [
    {
     "data": {
      "text/plain": [
       "0.49270669947266443"
      ]
     },
     "execution_count": 86,
     "metadata": {},
     "output_type": "execute_result"
    }
   ],
   "source": [
    "pca_pipeline[1].explained_variance_ratio_.sum()"
   ]
  },
  {
   "cell_type": "code",
   "execution_count": 88,
   "metadata": {},
   "outputs": [
    {
     "data": {
      "text/plain": [
       "5.421597305805701"
      ]
     },
     "execution_count": 88,
     "metadata": {},
     "output_type": "execute_result"
    }
   ],
   "source": [
    "pca_pipeline[1].explained_variance_.sum()"
   ]
  },
  {
   "cell_type": "markdown",
   "metadata": {},
   "source": [
    "# Clusterização por música"
   ]
  },
  {
   "cell_type": "code",
   "execution_count": 89,
   "metadata": {},
   "outputs": [
    {
     "data": {
      "text/html": [
       "<div>\n",
       "<style scoped>\n",
       "    .dataframe tbody tr th:only-of-type {\n",
       "        vertical-align: middle;\n",
       "    }\n",
       "\n",
       "    .dataframe tbody tr th {\n",
       "        vertical-align: top;\n",
       "    }\n",
       "\n",
       "    .dataframe thead th {\n",
       "        text-align: right;\n",
       "    }\n",
       "</style>\n",
       "<table border=\"1\" class=\"dataframe\">\n",
       "  <thead>\n",
       "    <tr style=\"text-align: right;\">\n",
       "      <th></th>\n",
       "      <th>valence</th>\n",
       "      <th>year</th>\n",
       "      <th>acousticness</th>\n",
       "      <th>artists</th>\n",
       "      <th>danceability</th>\n",
       "      <th>duration_ms</th>\n",
       "      <th>energy</th>\n",
       "      <th>id</th>\n",
       "      <th>instrumentalness</th>\n",
       "      <th>liveness</th>\n",
       "      <th>loudness</th>\n",
       "      <th>name</th>\n",
       "      <th>popularity</th>\n",
       "      <th>speechiness</th>\n",
       "      <th>tempo</th>\n",
       "      <th>artists_song</th>\n",
       "    </tr>\n",
       "  </thead>\n",
       "  <tbody>\n",
       "    <tr>\n",
       "      <th>0</th>\n",
       "      <td>0.285</td>\n",
       "      <td>2000</td>\n",
       "      <td>0.00239</td>\n",
       "      <td>Coldplay</td>\n",
       "      <td>0.429</td>\n",
       "      <td>266773</td>\n",
       "      <td>0.661</td>\n",
       "      <td>3AJwUDP919kvQ9QcozQPxg</td>\n",
       "      <td>0.000121</td>\n",
       "      <td>0.2340</td>\n",
       "      <td>-7.227</td>\n",
       "      <td>Yellow</td>\n",
       "      <td>84</td>\n",
       "      <td>0.0281</td>\n",
       "      <td>173.372</td>\n",
       "      <td>Coldplay - Yellow</td>\n",
       "    </tr>\n",
       "    <tr>\n",
       "      <th>1</th>\n",
       "      <td>0.613</td>\n",
       "      <td>2000</td>\n",
       "      <td>0.14300</td>\n",
       "      <td>OutKast</td>\n",
       "      <td>0.843</td>\n",
       "      <td>270507</td>\n",
       "      <td>0.806</td>\n",
       "      <td>0I3q5fE6wg7LIfHGngUTnV</td>\n",
       "      <td>0.000000</td>\n",
       "      <td>0.0771</td>\n",
       "      <td>-5.946</td>\n",
       "      <td>Ms. Jackson</td>\n",
       "      <td>80</td>\n",
       "      <td>0.2690</td>\n",
       "      <td>94.948</td>\n",
       "      <td>OutKast - Ms. Jackson</td>\n",
       "    </tr>\n",
       "    <tr>\n",
       "      <th>2</th>\n",
       "      <td>0.400</td>\n",
       "      <td>2000</td>\n",
       "      <td>0.00958</td>\n",
       "      <td>Linkin Park</td>\n",
       "      <td>0.556</td>\n",
       "      <td>216880</td>\n",
       "      <td>0.864</td>\n",
       "      <td>60a0Rd6pjrkxjPbaKzXjfq</td>\n",
       "      <td>0.000000</td>\n",
       "      <td>0.2090</td>\n",
       "      <td>-5.870</td>\n",
       "      <td>In the End</td>\n",
       "      <td>84</td>\n",
       "      <td>0.0584</td>\n",
       "      <td>105.143</td>\n",
       "      <td>Linkin Park - In the End</td>\n",
       "    </tr>\n",
       "    <tr>\n",
       "      <th>3</th>\n",
       "      <td>0.543</td>\n",
       "      <td>2000</td>\n",
       "      <td>0.00664</td>\n",
       "      <td>3 Doors Down</td>\n",
       "      <td>0.545</td>\n",
       "      <td>233933</td>\n",
       "      <td>0.865</td>\n",
       "      <td>6ZOBP3NvffbU4SZcrnt1k6</td>\n",
       "      <td>0.000011</td>\n",
       "      <td>0.1680</td>\n",
       "      <td>-5.708</td>\n",
       "      <td>Kryptonite</td>\n",
       "      <td>78</td>\n",
       "      <td>0.0286</td>\n",
       "      <td>99.009</td>\n",
       "      <td>3 Doors Down - Kryptonite</td>\n",
       "    </tr>\n",
       "    <tr>\n",
       "      <th>4</th>\n",
       "      <td>0.760</td>\n",
       "      <td>2000</td>\n",
       "      <td>0.03020</td>\n",
       "      <td>Eminem</td>\n",
       "      <td>0.949</td>\n",
       "      <td>284200</td>\n",
       "      <td>0.661</td>\n",
       "      <td>3yfqSUWxFvZELEM4PmlwIR</td>\n",
       "      <td>0.000000</td>\n",
       "      <td>0.0454</td>\n",
       "      <td>-4.244</td>\n",
       "      <td>The Real Slim Shady</td>\n",
       "      <td>80</td>\n",
       "      <td>0.0572</td>\n",
       "      <td>104.504</td>\n",
       "      <td>Eminem - The Real Slim Shady</td>\n",
       "    </tr>\n",
       "  </tbody>\n",
       "</table>\n",
       "</div>"
      ],
      "text/plain": [
       "   valence  year  acousticness       artists  danceability  duration_ms  \\\n",
       "0    0.285  2000       0.00239      Coldplay         0.429       266773   \n",
       "1    0.613  2000       0.14300       OutKast         0.843       270507   \n",
       "2    0.400  2000       0.00958   Linkin Park         0.556       216880   \n",
       "3    0.543  2000       0.00664  3 Doors Down         0.545       233933   \n",
       "4    0.760  2000       0.03020        Eminem         0.949       284200   \n",
       "\n",
       "   energy                      id  instrumentalness  liveness  loudness  \\\n",
       "0   0.661  3AJwUDP919kvQ9QcozQPxg          0.000121    0.2340    -7.227   \n",
       "1   0.806  0I3q5fE6wg7LIfHGngUTnV          0.000000    0.0771    -5.946   \n",
       "2   0.864  60a0Rd6pjrkxjPbaKzXjfq          0.000000    0.2090    -5.870   \n",
       "3   0.865  6ZOBP3NvffbU4SZcrnt1k6          0.000011    0.1680    -5.708   \n",
       "4   0.661  3yfqSUWxFvZELEM4PmlwIR          0.000000    0.0454    -4.244   \n",
       "\n",
       "                  name  popularity  speechiness    tempo  \\\n",
       "0               Yellow          84       0.0281  173.372   \n",
       "1          Ms. Jackson          80       0.2690   94.948   \n",
       "2           In the End          84       0.0584  105.143   \n",
       "3           Kryptonite          78       0.0286   99.009   \n",
       "4  The Real Slim Shady          80       0.0572  104.504   \n",
       "\n",
       "                   artists_song  \n",
       "0             Coldplay - Yellow  \n",
       "1         OutKast - Ms. Jackson  \n",
       "2      Linkin Park - In the End  \n",
       "3     3 Doors Down - Kryptonite  \n",
       "4  Eminem - The Real Slim Shady  "
      ]
     },
     "execution_count": 89,
     "metadata": {},
     "output_type": "execute_result"
    }
   ],
   "source": [
    "dados.head()"
   ]
  },
  {
   "cell_type": "code",
   "execution_count": null,
   "metadata": {},
   "outputs": [],
   "source": []
  }
 ],
 "metadata": {
  "kernelspec": {
   "display_name": "Python 3.10.4 64-bit",
   "language": "python",
   "name": "python3"
  },
  "language_info": {
   "codemirror_mode": {
    "name": "ipython",
    "version": 3
   },
   "file_extension": ".py",
   "mimetype": "text/x-python",
   "name": "python",
   "nbconvert_exporter": "python",
   "pygments_lexer": "ipython3",
   "version": "3.10.4"
  },
  "orig_nbformat": 4,
  "vscode": {
   "interpreter": {
    "hash": "c3503f95e0e8f4afdf6702396a7a2a29cae9f67572acfe092405dcaa2579b817"
   }
  }
 },
 "nbformat": 4,
 "nbformat_minor": 2
}
